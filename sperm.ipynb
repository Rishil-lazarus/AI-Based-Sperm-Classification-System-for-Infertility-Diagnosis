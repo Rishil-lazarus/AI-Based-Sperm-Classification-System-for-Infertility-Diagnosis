{
 "cells": [
  {
   "cell_type": "markdown",
   "metadata": {},
   "source": [
    "**Data Augmentation**"
   ]
  },
  {
   "cell_type": "code",
   "execution_count": null,
   "metadata": {},
   "outputs": [
    {
     "name": "stdout",
     "output_type": "stream",
     "text": [
      "Processing 1005 images in C:\\Users\\User\\Documents\\sperm_project\\SMIDS\\Abnormal_Sperm...\n"
     ]
    },
    {
     "name": "stderr",
     "output_type": "stream",
     "text": [
      "Augmenting Abnormal_Sperm:   0%|          | 0/1005 [00:00<?, ?it/s]"
     ]
    },
    {
     "name": "stderr",
     "output_type": "stream",
     "text": [
      "Augmenting Abnormal_Sperm:   0%|          | 4/1005 [00:00<00:28, 35.22it/s]"
     ]
    },
    {
     "name": "stdout",
     "output_type": "stream",
     "text": [
      "Saved: C:\\Users\\User\\Documents\\sperm_project\\SMIDS\\Abnormal_Sperm\\aug_Abnormal_Sperm (1).bmp\n",
      "Saved: C:\\Users\\User\\Documents\\sperm_project\\SMIDS\\Abnormal_Sperm\\aug_Abnormal_Sperm (10).bmp\n",
      "Saved: C:\\Users\\User\\Documents\\sperm_project\\SMIDS\\Abnormal_Sperm\\aug_Abnormal_Sperm (100).bmp\n",
      "Saved: C:\\Users\\User\\Documents\\sperm_project\\SMIDS\\Abnormal_Sperm\\aug_Abnormal_Sperm (1000).bmp\n",
      "Saved: C:\\Users\\User\\Documents\\sperm_project\\SMIDS\\Abnormal_Sperm\\aug_Abnormal_Sperm (1001).bmp\n",
      "Saved: C:\\Users\\User\\Documents\\sperm_project\\SMIDS\\Abnormal_Sperm\\aug_Abnormal_Sperm (1002).bmp\n",
      "Saved: C:\\Users\\User\\Documents\\sperm_project\\SMIDS\\Abnormal_Sperm\\aug_Abnormal_Sperm (1003).bmp\n"
     ]
    },
    {
     "name": "stderr",
     "output_type": "stream",
     "text": [
      "Augmenting Abnormal_Sperm:   1%|          | 9/1005 [00:00<00:24, 41.06it/s]"
     ]
    },
    {
     "name": "stdout",
     "output_type": "stream",
     "text": [
      "Saved: C:\\Users\\User\\Documents\\sperm_project\\SMIDS\\Abnormal_Sperm\\aug_Abnormal_Sperm (1004).bmp\n",
      "Saved: C:\\Users\\User\\Documents\\sperm_project\\SMIDS\\Abnormal_Sperm\\aug_Abnormal_Sperm (1005).bmp\n",
      "Saved: C:\\Users\\User\\Documents\\sperm_project\\SMIDS\\Abnormal_Sperm\\aug_Abnormal_Sperm (101).bmp\n"
     ]
    },
    {
     "name": "stderr",
     "output_type": "stream",
     "text": [
      "Augmenting Abnormal_Sperm:   1%|▏         | 15/1005 [00:00<00:21, 45.61it/s]"
     ]
    },
    {
     "name": "stdout",
     "output_type": "stream",
     "text": [
      "Saved: C:\\Users\\User\\Documents\\sperm_project\\SMIDS\\Abnormal_Sperm\\aug_Abnormal_Sperm (102).bmp\n",
      "Saved: C:\\Users\\User\\Documents\\sperm_project\\SMIDS\\Abnormal_Sperm\\aug_Abnormal_Sperm (103).bmp\n",
      "Saved: C:\\Users\\User\\Documents\\sperm_project\\SMIDS\\Abnormal_Sperm\\aug_Abnormal_Sperm (104).bmp\n",
      "Saved: C:\\Users\\User\\Documents\\sperm_project\\SMIDS\\Abnormal_Sperm\\aug_Abnormal_Sperm (105).bmp\n",
      "Saved: C:\\Users\\User\\Documents\\sperm_project\\SMIDS\\Abnormal_Sperm\\aug_Abnormal_Sperm (106).bmp\n",
      "Saved: C:\\Users\\User\\Documents\\sperm_project\\SMIDS\\Abnormal_Sperm\\aug_Abnormal_Sperm (107).bmp\n",
      "Saved: C:\\Users\\User\\Documents\\sperm_project\\SMIDS\\Abnormal_Sperm\\aug_Abnormal_Sperm (108).bmp\n"
     ]
    },
    {
     "name": "stderr",
     "output_type": "stream",
     "text": [
      "Augmenting Abnormal_Sperm:   2%|▏         | 20/1005 [00:00<00:22, 43.00it/s]"
     ]
    },
    {
     "name": "stdout",
     "output_type": "stream",
     "text": [
      "Saved: C:\\Users\\User\\Documents\\sperm_project\\SMIDS\\Abnormal_Sperm\\aug_Abnormal_Sperm (109).bmp\n",
      "Saved: C:\\Users\\User\\Documents\\sperm_project\\SMIDS\\Abnormal_Sperm\\aug_Abnormal_Sperm (11).bmp\n",
      "Saved: C:\\Users\\User\\Documents\\sperm_project\\SMIDS\\Abnormal_Sperm\\aug_Abnormal_Sperm (110).bmp\n"
     ]
    },
    {
     "name": "stderr",
     "output_type": "stream",
     "text": [
      "Augmenting Abnormal_Sperm:   3%|▎         | 26/1005 [00:00<00:21, 45.08it/s]"
     ]
    },
    {
     "name": "stdout",
     "output_type": "stream",
     "text": [
      "Saved: C:\\Users\\User\\Documents\\sperm_project\\SMIDS\\Abnormal_Sperm\\aug_Abnormal_Sperm (111).bmp\n",
      "Saved: C:\\Users\\User\\Documents\\sperm_project\\SMIDS\\Abnormal_Sperm\\aug_Abnormal_Sperm (112).bmp\n",
      "Saved: C:\\Users\\User\\Documents\\sperm_project\\SMIDS\\Abnormal_Sperm\\aug_Abnormal_Sperm (113).bmp\n",
      "Saved: C:\\Users\\User\\Documents\\sperm_project\\SMIDS\\Abnormal_Sperm\\aug_Abnormal_Sperm (114).bmp\n",
      "Saved: C:\\Users\\User\\Documents\\sperm_project\\SMIDS\\Abnormal_Sperm\\aug_Abnormal_Sperm (115).bmp\n",
      "Saved: C:\\Users\\User\\Documents\\sperm_project\\SMIDS\\Abnormal_Sperm\\aug_Abnormal_Sperm (116).bmp\n",
      "Saved: C:\\Users\\User\\Documents\\sperm_project\\SMIDS\\Abnormal_Sperm\\aug_Abnormal_Sperm (117).bmp\n",
      "Saved: C:\\Users\\User\\Documents\\sperm_project\\SMIDS\\Abnormal_Sperm\\aug_Abnormal_Sperm (118).bmp\n",
      "Saved: C:\\Users\\User\\Documents\\sperm_project\\SMIDS\\Abnormal_Sperm\\aug_Abnormal_Sperm (119).bmp\n"
     ]
    },
    {
     "name": "stderr",
     "output_type": "stream",
     "text": [
      "Augmenting Abnormal_Sperm:   3%|▎         | 31/1005 [00:00<00:22, 43.27it/s]"
     ]
    },
    {
     "name": "stdout",
     "output_type": "stream",
     "text": [
      "Saved: C:\\Users\\User\\Documents\\sperm_project\\SMIDS\\Abnormal_Sperm\\aug_Abnormal_Sperm (12).bmp\n",
      "Saved: C:\\Users\\User\\Documents\\sperm_project\\SMIDS\\Abnormal_Sperm\\aug_Abnormal_Sperm (120).bmp\n",
      "Saved: C:\\Users\\User\\Documents\\sperm_project\\SMIDS\\Abnormal_Sperm\\aug_Abnormal_Sperm (121).bmp\n",
      "Saved: C:\\Users\\User\\Documents\\sperm_project\\SMIDS\\Abnormal_Sperm\\aug_Abnormal_Sperm (122).bmp\n",
      "Saved: C:\\Users\\User\\Documents\\sperm_project\\SMIDS\\Abnormal_Sperm\\aug_Abnormal_Sperm (123).bmp\n",
      "Saved: C:\\Users\\User\\Documents\\sperm_project\\SMIDS\\Abnormal_Sperm\\aug_Abnormal_Sperm (124).bmp\n",
      "Saved: C:\\Users\\User\\Documents\\sperm_project\\SMIDS\\Abnormal_Sperm\\aug_Abnormal_Sperm (125).bmp\n"
     ]
    },
    {
     "name": "stderr",
     "output_type": "stream",
     "text": [
      "Augmenting Abnormal_Sperm:   4%|▎         | 36/1005 [00:00<00:22, 43.71it/s]"
     ]
    },
    {
     "name": "stdout",
     "output_type": "stream",
     "text": [
      "Saved: C:\\Users\\User\\Documents\\sperm_project\\SMIDS\\Abnormal_Sperm\\aug_Abnormal_Sperm (126).bmp\n",
      "Saved: C:\\Users\\User\\Documents\\sperm_project\\SMIDS\\Abnormal_Sperm\\aug_Abnormal_Sperm (127).bmp\n",
      "Saved: C:\\Users\\User\\Documents\\sperm_project\\SMIDS\\Abnormal_Sperm\\aug_Abnormal_Sperm (128).bmp\n"
     ]
    },
    {
     "name": "stderr",
     "output_type": "stream",
     "text": [
      "Augmenting Abnormal_Sperm:   4%|▍         | 41/1005 [00:00<00:22, 42.53it/s]"
     ]
    },
    {
     "name": "stdout",
     "output_type": "stream",
     "text": [
      "Saved: C:\\Users\\User\\Documents\\sperm_project\\SMIDS\\Abnormal_Sperm\\aug_Abnormal_Sperm (129).bmp\n",
      "Saved: C:\\Users\\User\\Documents\\sperm_project\\SMIDS\\Abnormal_Sperm\\aug_Abnormal_Sperm (13).bmp\n",
      "Saved: C:\\Users\\User\\Documents\\sperm_project\\SMIDS\\Abnormal_Sperm\\aug_Abnormal_Sperm (130).bmp\n",
      "Saved: C:\\Users\\User\\Documents\\sperm_project\\SMIDS\\Abnormal_Sperm\\aug_Abnormal_Sperm (131).bmp\n",
      "Saved: C:\\Users\\User\\Documents\\sperm_project\\SMIDS\\Abnormal_Sperm\\aug_Abnormal_Sperm (132).bmp\n"
     ]
    },
    {
     "name": "stderr",
     "output_type": "stream",
     "text": [
      "Augmenting Abnormal_Sperm:   5%|▍         | 46/1005 [00:01<00:22, 42.64it/s]"
     ]
    },
    {
     "name": "stdout",
     "output_type": "stream",
     "text": [
      "Saved: C:\\Users\\User\\Documents\\sperm_project\\SMIDS\\Abnormal_Sperm\\aug_Abnormal_Sperm (133).bmp\n",
      "Saved: C:\\Users\\User\\Documents\\sperm_project\\SMIDS\\Abnormal_Sperm\\aug_Abnormal_Sperm (134).bmp\n",
      "Saved: C:\\Users\\User\\Documents\\sperm_project\\SMIDS\\Abnormal_Sperm\\aug_Abnormal_Sperm (135).bmp\n",
      "Saved: C:\\Users\\User\\Documents\\sperm_project\\SMIDS\\Abnormal_Sperm\\aug_Abnormal_Sperm (136).bmp\n",
      "Saved: C:\\Users\\User\\Documents\\sperm_project\\SMIDS\\Abnormal_Sperm\\aug_Abnormal_Sperm (137).bmp\n"
     ]
    },
    {
     "name": "stderr",
     "output_type": "stream",
     "text": [
      "Augmenting Abnormal_Sperm:   5%|▌         | 51/1005 [00:01<00:21, 43.51it/s]"
     ]
    },
    {
     "name": "stdout",
     "output_type": "stream",
     "text": [
      "Saved: C:\\Users\\User\\Documents\\sperm_project\\SMIDS\\Abnormal_Sperm\\aug_Abnormal_Sperm (138).bmp\n",
      "Saved: C:\\Users\\User\\Documents\\sperm_project\\SMIDS\\Abnormal_Sperm\\aug_Abnormal_Sperm (139).bmp\n",
      "Saved: C:\\Users\\User\\Documents\\sperm_project\\SMIDS\\Abnormal_Sperm\\aug_Abnormal_Sperm (14).bmp\n",
      "Saved: C:\\Users\\User\\Documents\\sperm_project\\SMIDS\\Abnormal_Sperm\\aug_Abnormal_Sperm (140).bmp\n"
     ]
    },
    {
     "name": "stderr",
     "output_type": "stream",
     "text": [
      "Augmenting Abnormal_Sperm:   6%|▌         | 56/1005 [00:01<00:22, 42.37it/s]"
     ]
    },
    {
     "name": "stdout",
     "output_type": "stream",
     "text": [
      "Saved: C:\\Users\\User\\Documents\\sperm_project\\SMIDS\\Abnormal_Sperm\\aug_Abnormal_Sperm (141).bmp\n",
      "Saved: C:\\Users\\User\\Documents\\sperm_project\\SMIDS\\Abnormal_Sperm\\aug_Abnormal_Sperm (142).bmp\n",
      "Saved: C:\\Users\\User\\Documents\\sperm_project\\SMIDS\\Abnormal_Sperm\\aug_Abnormal_Sperm (143).bmp\n",
      "Saved: C:\\Users\\User\\Documents\\sperm_project\\SMIDS\\Abnormal_Sperm\\aug_Abnormal_Sperm (144).bmp\n",
      "Saved: C:\\Users\\User\\Documents\\sperm_project\\SMIDS\\Abnormal_Sperm\\aug_Abnormal_Sperm (145).bmp\n"
     ]
    },
    {
     "name": "stderr",
     "output_type": "stream",
     "text": [
      "Augmenting Abnormal_Sperm:   6%|▌         | 61/1005 [00:01<00:22, 42.73it/s]"
     ]
    },
    {
     "name": "stdout",
     "output_type": "stream",
     "text": [
      "Saved: C:\\Users\\User\\Documents\\sperm_project\\SMIDS\\Abnormal_Sperm\\aug_Abnormal_Sperm (146).bmp\n",
      "Saved: C:\\Users\\User\\Documents\\sperm_project\\SMIDS\\Abnormal_Sperm\\aug_Abnormal_Sperm (147).bmp\n",
      "Saved: C:\\Users\\User\\Documents\\sperm_project\\SMIDS\\Abnormal_Sperm\\aug_Abnormal_Sperm (148).bmp\n",
      "Saved: C:\\Users\\User\\Documents\\sperm_project\\SMIDS\\Abnormal_Sperm\\aug_Abnormal_Sperm (149).bmp\n"
     ]
    },
    {
     "name": "stderr",
     "output_type": "stream",
     "text": [
      "Augmenting Abnormal_Sperm:   7%|▋         | 66/1005 [00:01<00:21, 42.84it/s]"
     ]
    },
    {
     "name": "stdout",
     "output_type": "stream",
     "text": [
      "Saved: C:\\Users\\User\\Documents\\sperm_project\\SMIDS\\Abnormal_Sperm\\aug_Abnormal_Sperm (15).bmp\n",
      "Saved: C:\\Users\\User\\Documents\\sperm_project\\SMIDS\\Abnormal_Sperm\\aug_Abnormal_Sperm (150).bmp\n",
      "Saved: C:\\Users\\User\\Documents\\sperm_project\\SMIDS\\Abnormal_Sperm\\aug_Abnormal_Sperm (151).bmp\n",
      "Saved: C:\\Users\\User\\Documents\\sperm_project\\SMIDS\\Abnormal_Sperm\\aug_Abnormal_Sperm (152).bmp\n",
      "Saved: C:\\Users\\User\\Documents\\sperm_project\\SMIDS\\Abnormal_Sperm\\aug_Abnormal_Sperm (153).bmp\n",
      "Saved: C:\\Users\\User\\Documents\\sperm_project\\SMIDS\\Abnormal_Sperm\\aug_Abnormal_Sperm (154).bmp\n"
     ]
    },
    {
     "name": "stderr",
     "output_type": "stream",
     "text": [
      "Augmenting Abnormal_Sperm:   7%|▋         | 71/1005 [00:01<00:21, 43.65it/s]"
     ]
    },
    {
     "name": "stdout",
     "output_type": "stream",
     "text": [
      "Saved: C:\\Users\\User\\Documents\\sperm_project\\SMIDS\\Abnormal_Sperm\\aug_Abnormal_Sperm (155).bmp\n",
      "Saved: C:\\Users\\User\\Documents\\sperm_project\\SMIDS\\Abnormal_Sperm\\aug_Abnormal_Sperm (156).bmp\n",
      "Saved: C:\\Users\\User\\Documents\\sperm_project\\SMIDS\\Abnormal_Sperm\\aug_Abnormal_Sperm (157).bmp\n"
     ]
    },
    {
     "name": "stderr",
     "output_type": "stream",
     "text": [
      "Augmenting Abnormal_Sperm:   8%|▊         | 76/1005 [00:01<00:21, 43.80it/s]"
     ]
    },
    {
     "name": "stdout",
     "output_type": "stream",
     "text": [
      "Saved: C:\\Users\\User\\Documents\\sperm_project\\SMIDS\\Abnormal_Sperm\\aug_Abnormal_Sperm (158).bmp\n",
      "Saved: C:\\Users\\User\\Documents\\sperm_project\\SMIDS\\Abnormal_Sperm\\aug_Abnormal_Sperm (159).bmp\n",
      "Saved: C:\\Users\\User\\Documents\\sperm_project\\SMIDS\\Abnormal_Sperm\\aug_Abnormal_Sperm (16).bmp\n",
      "Saved: C:\\Users\\User\\Documents\\sperm_project\\SMIDS\\Abnormal_Sperm\\aug_Abnormal_Sperm (160).bmp\n",
      "Saved: C:\\Users\\User\\Documents\\sperm_project\\SMIDS\\Abnormal_Sperm\\aug_Abnormal_Sperm (161).bmp\n",
      "Saved: C:\\Users\\User\\Documents\\sperm_project\\SMIDS\\Abnormal_Sperm\\aug_Abnormal_Sperm (162).bmp\n",
      "Saved: C:\\Users\\User\\Documents\\sperm_project\\SMIDS\\Abnormal_Sperm\\aug_Abnormal_Sperm (163).bmp\n",
      "Saved: C:\\Users\\User\\Documents\\sperm_project\\SMIDS\\Abnormal_Sperm\\aug_Abnormal_Sperm (164).bmp\n",
      "Saved: C:\\Users\\User\\Documents\\sperm_project\\SMIDS\\Abnormal_Sperm\\aug_Abnormal_Sperm (165).bmp\n"
     ]
    },
    {
     "name": "stderr",
     "output_type": "stream",
     "text": [
      "Augmenting Abnormal_Sperm:   9%|▊         | 87/1005 [00:02<00:20, 44.51it/s]"
     ]
    },
    {
     "name": "stdout",
     "output_type": "stream",
     "text": [
      "Saved: C:\\Users\\User\\Documents\\sperm_project\\SMIDS\\Abnormal_Sperm\\aug_Abnormal_Sperm (166).bmp\n",
      "Saved: C:\\Users\\User\\Documents\\sperm_project\\SMIDS\\Abnormal_Sperm\\aug_Abnormal_Sperm (167).bmp\n",
      "Saved: C:\\Users\\User\\Documents\\sperm_project\\SMIDS\\Abnormal_Sperm\\aug_Abnormal_Sperm (168).bmp\n",
      "Saved: C:\\Users\\User\\Documents\\sperm_project\\SMIDS\\Abnormal_Sperm\\aug_Abnormal_Sperm (169).bmp\n",
      "Saved: C:\\Users\\User\\Documents\\sperm_project\\SMIDS\\Abnormal_Sperm\\aug_Abnormal_Sperm (17).bmp\n",
      "Saved: C:\\Users\\User\\Documents\\sperm_project\\SMIDS\\Abnormal_Sperm\\aug_Abnormal_Sperm (170).bmp\n",
      "Saved: C:\\Users\\User\\Documents\\sperm_project\\SMIDS\\Abnormal_Sperm\\aug_Abnormal_Sperm (171).bmp\n",
      "Saved: C:\\Users\\User\\Documents\\sperm_project\\SMIDS\\Abnormal_Sperm\\aug_Abnormal_Sperm (172).bmp\n",
      "Saved: C:\\Users\\User\\Documents\\sperm_project\\SMIDS\\Abnormal_Sperm\\aug_Abnormal_Sperm (173).bmp\n",
      "Saved: C:\\Users\\User\\Documents\\sperm_project\\SMIDS\\Abnormal_Sperm\\aug_Abnormal_Sperm (174).bmp\n"
     ]
    },
    {
     "name": "stderr",
     "output_type": "stream",
     "text": [
      "Augmenting Abnormal_Sperm:   9%|▉         | 92/1005 [00:02<00:20, 44.19it/s]"
     ]
    },
    {
     "name": "stdout",
     "output_type": "stream",
     "text": [
      "Saved: C:\\Users\\User\\Documents\\sperm_project\\SMIDS\\Abnormal_Sperm\\aug_Abnormal_Sperm (175).bmp\n",
      "Saved: C:\\Users\\User\\Documents\\sperm_project\\SMIDS\\Abnormal_Sperm\\aug_Abnormal_Sperm (176).bmp\n",
      "Saved: C:\\Users\\User\\Documents\\sperm_project\\SMIDS\\Abnormal_Sperm\\aug_Abnormal_Sperm (177).bmp\n",
      "Saved: C:\\Users\\User\\Documents\\sperm_project\\SMIDS\\Abnormal_Sperm\\aug_Abnormal_Sperm (178).bmp\n",
      "Saved: C:\\Users\\User\\Documents\\sperm_project\\SMIDS\\Abnormal_Sperm\\aug_Abnormal_Sperm (179).bmp\n",
      "Saved: C:\\Users\\User\\Documents\\sperm_project\\SMIDS\\Abnormal_Sperm\\aug_Abnormal_Sperm (18).bmp\n",
      "Saved: C:\\Users\\User\\Documents\\sperm_project\\SMIDS\\Abnormal_Sperm\\aug_Abnormal_Sperm (180).bmp\n"
     ]
    },
    {
     "name": "stderr",
     "output_type": "stream",
     "text": [
      "Augmenting Abnormal_Sperm:  10%|▉         | 97/1005 [00:02<00:21, 42.93it/s]"
     ]
    },
    {
     "name": "stdout",
     "output_type": "stream",
     "text": [
      "Saved: C:\\Users\\User\\Documents\\sperm_project\\SMIDS\\Abnormal_Sperm\\aug_Abnormal_Sperm (181).bmp\n"
     ]
    },
    {
     "name": "stderr",
     "output_type": "stream",
     "text": [
      "Augmenting Abnormal_Sperm:  10%|█         | 102/1005 [00:02<00:20, 43.33it/s]"
     ]
    },
    {
     "name": "stdout",
     "output_type": "stream",
     "text": [
      "Saved: C:\\Users\\User\\Documents\\sperm_project\\SMIDS\\Abnormal_Sperm\\aug_Abnormal_Sperm (182).bmp\n",
      "Saved: C:\\Users\\User\\Documents\\sperm_project\\SMIDS\\Abnormal_Sperm\\aug_Abnormal_Sperm (183).bmp\n",
      "Saved: C:\\Users\\User\\Documents\\sperm_project\\SMIDS\\Abnormal_Sperm\\aug_Abnormal_Sperm (184).bmp\n",
      "Saved: C:\\Users\\User\\Documents\\sperm_project\\SMIDS\\Abnormal_Sperm\\aug_Abnormal_Sperm (185).bmp\n",
      "Saved: C:\\Users\\User\\Documents\\sperm_project\\SMIDS\\Abnormal_Sperm\\aug_Abnormal_Sperm (186).bmp\n",
      "Saved: C:\\Users\\User\\Documents\\sperm_project\\SMIDS\\Abnormal_Sperm\\aug_Abnormal_Sperm (187).bmp\n",
      "Saved: C:\\Users\\User\\Documents\\sperm_project\\SMIDS\\Abnormal_Sperm\\aug_Abnormal_Sperm (188).bmp\n",
      "Saved: C:\\Users\\User\\Documents\\sperm_project\\SMIDS\\Abnormal_Sperm\\aug_Abnormal_Sperm (189).bmp\n"
     ]
    },
    {
     "name": "stderr",
     "output_type": "stream",
     "text": [
      "Augmenting Abnormal_Sperm:  11%|█         | 112/1005 [00:02<00:20, 43.82it/s]"
     ]
    },
    {
     "name": "stdout",
     "output_type": "stream",
     "text": [
      "Saved: C:\\Users\\User\\Documents\\sperm_project\\SMIDS\\Abnormal_Sperm\\aug_Abnormal_Sperm (19).bmp\n",
      "Saved: C:\\Users\\User\\Documents\\sperm_project\\SMIDS\\Abnormal_Sperm\\aug_Abnormal_Sperm (190).bmp\n",
      "Saved: C:\\Users\\User\\Documents\\sperm_project\\SMIDS\\Abnormal_Sperm\\aug_Abnormal_Sperm (191).bmp\n",
      "Saved: C:\\Users\\User\\Documents\\sperm_project\\SMIDS\\Abnormal_Sperm\\aug_Abnormal_Sperm (192).bmp\n",
      "Saved: C:\\Users\\User\\Documents\\sperm_project\\SMIDS\\Abnormal_Sperm\\aug_Abnormal_Sperm (193).bmp\n",
      "Saved: C:\\Users\\User\\Documents\\sperm_project\\SMIDS\\Abnormal_Sperm\\aug_Abnormal_Sperm (194).bmp\n",
      "Saved: C:\\Users\\User\\Documents\\sperm_project\\SMIDS\\Abnormal_Sperm\\aug_Abnormal_Sperm (195).bmp\n",
      "Saved: C:\\Users\\User\\Documents\\sperm_project\\SMIDS\\Abnormal_Sperm\\aug_Abnormal_Sperm (196).bmp\n",
      "Saved: C:\\Users\\User\\Documents\\sperm_project\\SMIDS\\Abnormal_Sperm\\aug_Abnormal_Sperm (197).bmp\n",
      "Saved: C:\\Users\\User\\Documents\\sperm_project\\SMIDS\\Abnormal_Sperm\\aug_Abnormal_Sperm (198).bmp\n"
     ]
    },
    {
     "name": "stderr",
     "output_type": "stream",
     "text": [
      "Augmenting Abnormal_Sperm:  12%|█▏        | 122/1005 [00:02<00:20, 43.91it/s]"
     ]
    },
    {
     "name": "stdout",
     "output_type": "stream",
     "text": [
      "Saved: C:\\Users\\User\\Documents\\sperm_project\\SMIDS\\Abnormal_Sperm\\aug_Abnormal_Sperm (199).bmp\n",
      "Saved: C:\\Users\\User\\Documents\\sperm_project\\SMIDS\\Abnormal_Sperm\\aug_Abnormal_Sperm (2).bmp\n",
      "Saved: C:\\Users\\User\\Documents\\sperm_project\\SMIDS\\Abnormal_Sperm\\aug_Abnormal_Sperm (20).bmp\n",
      "Saved: C:\\Users\\User\\Documents\\sperm_project\\SMIDS\\Abnormal_Sperm\\aug_Abnormal_Sperm (200).bmp\n",
      "Saved: C:\\Users\\User\\Documents\\sperm_project\\SMIDS\\Abnormal_Sperm\\aug_Abnormal_Sperm (201).bmp\n",
      "Saved: C:\\Users\\User\\Documents\\sperm_project\\SMIDS\\Abnormal_Sperm\\aug_Abnormal_Sperm (202).bmp\n",
      "Saved: C:\\Users\\User\\Documents\\sperm_project\\SMIDS\\Abnormal_Sperm\\aug_Abnormal_Sperm (203).bmp\n",
      "Saved: C:\\Users\\User\\Documents\\sperm_project\\SMIDS\\Abnormal_Sperm\\aug_Abnormal_Sperm (204).bmp\n",
      "Saved: C:\\Users\\User\\Documents\\sperm_project\\SMIDS\\Abnormal_Sperm\\aug_Abnormal_Sperm (205).bmp\n",
      "Saved: C:\\Users\\User\\Documents\\sperm_project\\SMIDS\\Abnormal_Sperm\\aug_Abnormal_Sperm (206).bmp\n"
     ]
    },
    {
     "name": "stderr",
     "output_type": "stream",
     "text": [
      "Augmenting Abnormal_Sperm:  13%|█▎        | 132/1005 [00:03<00:19, 44.53it/s]"
     ]
    },
    {
     "name": "stdout",
     "output_type": "stream",
     "text": [
      "Saved: C:\\Users\\User\\Documents\\sperm_project\\SMIDS\\Abnormal_Sperm\\aug_Abnormal_Sperm (207).bmp\n",
      "Saved: C:\\Users\\User\\Documents\\sperm_project\\SMIDS\\Abnormal_Sperm\\aug_Abnormal_Sperm (208).bmp\n",
      "Saved: C:\\Users\\User\\Documents\\sperm_project\\SMIDS\\Abnormal_Sperm\\aug_Abnormal_Sperm (209).bmp\n",
      "Saved: C:\\Users\\User\\Documents\\sperm_project\\SMIDS\\Abnormal_Sperm\\aug_Abnormal_Sperm (21).bmp\n",
      "Saved: C:\\Users\\User\\Documents\\sperm_project\\SMIDS\\Abnormal_Sperm\\aug_Abnormal_Sperm (210).bmp\n",
      "Saved: C:\\Users\\User\\Documents\\sperm_project\\SMIDS\\Abnormal_Sperm\\aug_Abnormal_Sperm (211).bmp\n",
      "Saved: C:\\Users\\User\\Documents\\sperm_project\\SMIDS\\Abnormal_Sperm\\aug_Abnormal_Sperm (212).bmp\n",
      "Saved: C:\\Users\\User\\Documents\\sperm_project\\SMIDS\\Abnormal_Sperm\\aug_Abnormal_Sperm (213).bmp\n",
      "Saved: C:\\Users\\User\\Documents\\sperm_project\\SMIDS\\Abnormal_Sperm\\aug_Abnormal_Sperm (214).bmp\n",
      "Saved: C:\\Users\\User\\Documents\\sperm_project\\SMIDS\\Abnormal_Sperm\\aug_Abnormal_Sperm (215).bmp\n"
     ]
    },
    {
     "name": "stderr",
     "output_type": "stream",
     "text": [
      "Augmenting Abnormal_Sperm:  14%|█▍        | 142/1005 [00:03<00:18, 45.58it/s]"
     ]
    },
    {
     "name": "stdout",
     "output_type": "stream",
     "text": [
      "Saved: C:\\Users\\User\\Documents\\sperm_project\\SMIDS\\Abnormal_Sperm\\aug_Abnormal_Sperm (216).bmp\n",
      "Saved: C:\\Users\\User\\Documents\\sperm_project\\SMIDS\\Abnormal_Sperm\\aug_Abnormal_Sperm (217).bmp\n",
      "Saved: C:\\Users\\User\\Documents\\sperm_project\\SMIDS\\Abnormal_Sperm\\aug_Abnormal_Sperm (218).bmp\n",
      "Saved: C:\\Users\\User\\Documents\\sperm_project\\SMIDS\\Abnormal_Sperm\\aug_Abnormal_Sperm (219).bmp\n",
      "Saved: C:\\Users\\User\\Documents\\sperm_project\\SMIDS\\Abnormal_Sperm\\aug_Abnormal_Sperm (22).bmp\n",
      "Saved: C:\\Users\\User\\Documents\\sperm_project\\SMIDS\\Abnormal_Sperm\\aug_Abnormal_Sperm (220).bmp\n",
      "Saved: C:\\Users\\User\\Documents\\sperm_project\\SMIDS\\Abnormal_Sperm\\aug_Abnormal_Sperm (221).bmp\n",
      "Saved: C:\\Users\\User\\Documents\\sperm_project\\SMIDS\\Abnormal_Sperm\\aug_Abnormal_Sperm (222).bmp\n",
      "Saved: C:\\Users\\User\\Documents\\sperm_project\\SMIDS\\Abnormal_Sperm\\aug_Abnormal_Sperm (223).bmp\n",
      "Saved: C:\\Users\\User\\Documents\\sperm_project\\SMIDS\\Abnormal_Sperm\\aug_Abnormal_Sperm (224).bmp\n"
     ]
    },
    {
     "name": "stderr",
     "output_type": "stream",
     "text": [
      "Augmenting Abnormal_Sperm:  15%|█▌        | 152/1005 [00:03<00:18, 46.87it/s]"
     ]
    },
    {
     "name": "stdout",
     "output_type": "stream",
     "text": [
      "Saved: C:\\Users\\User\\Documents\\sperm_project\\SMIDS\\Abnormal_Sperm\\aug_Abnormal_Sperm (225).bmp\n",
      "Saved: C:\\Users\\User\\Documents\\sperm_project\\SMIDS\\Abnormal_Sperm\\aug_Abnormal_Sperm (226).bmp\n",
      "Saved: C:\\Users\\User\\Documents\\sperm_project\\SMIDS\\Abnormal_Sperm\\aug_Abnormal_Sperm (227).bmp\n",
      "Saved: C:\\Users\\User\\Documents\\sperm_project\\SMIDS\\Abnormal_Sperm\\aug_Abnormal_Sperm (228).bmp\n",
      "Saved: C:\\Users\\User\\Documents\\sperm_project\\SMIDS\\Abnormal_Sperm\\aug_Abnormal_Sperm (229).bmp\n",
      "Saved: C:\\Users\\User\\Documents\\sperm_project\\SMIDS\\Abnormal_Sperm\\aug_Abnormal_Sperm (23).bmp\n",
      "Saved: C:\\Users\\User\\Documents\\sperm_project\\SMIDS\\Abnormal_Sperm\\aug_Abnormal_Sperm (230).bmp\n",
      "Saved: C:\\Users\\User\\Documents\\sperm_project\\SMIDS\\Abnormal_Sperm\\aug_Abnormal_Sperm (231).bmp\n",
      "Saved: C:\\Users\\User\\Documents\\sperm_project\\SMIDS\\Abnormal_Sperm\\aug_Abnormal_Sperm (232).bmp\n",
      "Saved: C:\\Users\\User\\Documents\\sperm_project\\SMIDS\\Abnormal_Sperm\\aug_Abnormal_Sperm (233).bmp\n"
     ]
    },
    {
     "name": "stderr",
     "output_type": "stream",
     "text": [
      "Augmenting Abnormal_Sperm:  16%|█▌        | 162/1005 [00:03<00:18, 46.80it/s]"
     ]
    },
    {
     "name": "stdout",
     "output_type": "stream",
     "text": [
      "Saved: C:\\Users\\User\\Documents\\sperm_project\\SMIDS\\Abnormal_Sperm\\aug_Abnormal_Sperm (234).bmp\n",
      "Saved: C:\\Users\\User\\Documents\\sperm_project\\SMIDS\\Abnormal_Sperm\\aug_Abnormal_Sperm (235).bmp\n",
      "Saved: C:\\Users\\User\\Documents\\sperm_project\\SMIDS\\Abnormal_Sperm\\aug_Abnormal_Sperm (236).bmp\n",
      "Saved: C:\\Users\\User\\Documents\\sperm_project\\SMIDS\\Abnormal_Sperm\\aug_Abnormal_Sperm (237).bmp\n",
      "Saved: C:\\Users\\User\\Documents\\sperm_project\\SMIDS\\Abnormal_Sperm\\aug_Abnormal_Sperm (238).bmp\n",
      "Saved: C:\\Users\\User\\Documents\\sperm_project\\SMIDS\\Abnormal_Sperm\\aug_Abnormal_Sperm (239).bmp\n",
      "Saved: C:\\Users\\User\\Documents\\sperm_project\\SMIDS\\Abnormal_Sperm\\aug_Abnormal_Sperm (24).bmp\n",
      "Saved: C:\\Users\\User\\Documents\\sperm_project\\SMIDS\\Abnormal_Sperm\\aug_Abnormal_Sperm (240).bmp\n",
      "Saved: C:\\Users\\User\\Documents\\sperm_project\\SMIDS\\Abnormal_Sperm\\aug_Abnormal_Sperm (241).bmp\n",
      "Saved: C:\\Users\\User\\Documents\\sperm_project\\SMIDS\\Abnormal_Sperm\\aug_Abnormal_Sperm (242).bmp\n"
     ]
    },
    {
     "name": "stderr",
     "output_type": "stream",
     "text": [
      "Augmenting Abnormal_Sperm:  17%|█▋        | 172/1005 [00:03<00:17, 46.47it/s]"
     ]
    },
    {
     "name": "stdout",
     "output_type": "stream",
     "text": [
      "Saved: C:\\Users\\User\\Documents\\sperm_project\\SMIDS\\Abnormal_Sperm\\aug_Abnormal_Sperm (243).bmp\n",
      "Saved: C:\\Users\\User\\Documents\\sperm_project\\SMIDS\\Abnormal_Sperm\\aug_Abnormal_Sperm (244).bmp\n",
      "Saved: C:\\Users\\User\\Documents\\sperm_project\\SMIDS\\Abnormal_Sperm\\aug_Abnormal_Sperm (245).bmp\n",
      "Saved: C:\\Users\\User\\Documents\\sperm_project\\SMIDS\\Abnormal_Sperm\\aug_Abnormal_Sperm (246).bmp\n",
      "Saved: C:\\Users\\User\\Documents\\sperm_project\\SMIDS\\Abnormal_Sperm\\aug_Abnormal_Sperm (247).bmp\n",
      "Saved: C:\\Users\\User\\Documents\\sperm_project\\SMIDS\\Abnormal_Sperm\\aug_Abnormal_Sperm (248).bmp\n",
      "Saved: C:\\Users\\User\\Documents\\sperm_project\\SMIDS\\Abnormal_Sperm\\aug_Abnormal_Sperm (249).bmp\n",
      "Saved: C:\\Users\\User\\Documents\\sperm_project\\SMIDS\\Abnormal_Sperm\\aug_Abnormal_Sperm (25).bmp\n",
      "Saved: C:\\Users\\User\\Documents\\sperm_project\\SMIDS\\Abnormal_Sperm\\aug_Abnormal_Sperm (250).bmp\n",
      "Saved: C:\\Users\\User\\Documents\\sperm_project\\SMIDS\\Abnormal_Sperm\\aug_Abnormal_Sperm (251).bmp\n"
     ]
    },
    {
     "name": "stderr",
     "output_type": "stream",
     "text": [
      "Augmenting Abnormal_Sperm:  18%|█▊        | 182/1005 [00:04<00:17, 45.77it/s]"
     ]
    },
    {
     "name": "stdout",
     "output_type": "stream",
     "text": [
      "Saved: C:\\Users\\User\\Documents\\sperm_project\\SMIDS\\Abnormal_Sperm\\aug_Abnormal_Sperm (252).bmp\n",
      "Saved: C:\\Users\\User\\Documents\\sperm_project\\SMIDS\\Abnormal_Sperm\\aug_Abnormal_Sperm (253).bmp\n",
      "Saved: C:\\Users\\User\\Documents\\sperm_project\\SMIDS\\Abnormal_Sperm\\aug_Abnormal_Sperm (254).bmp\n",
      "Saved: C:\\Users\\User\\Documents\\sperm_project\\SMIDS\\Abnormal_Sperm\\aug_Abnormal_Sperm (255).bmp\n",
      "Saved: C:\\Users\\User\\Documents\\sperm_project\\SMIDS\\Abnormal_Sperm\\aug_Abnormal_Sperm (256).bmp\n",
      "Saved: C:\\Users\\User\\Documents\\sperm_project\\SMIDS\\Abnormal_Sperm\\aug_Abnormal_Sperm (257).bmp\n",
      "Saved: C:\\Users\\User\\Documents\\sperm_project\\SMIDS\\Abnormal_Sperm\\aug_Abnormal_Sperm (258).bmp\n",
      "Saved: C:\\Users\\User\\Documents\\sperm_project\\SMIDS\\Abnormal_Sperm\\aug_Abnormal_Sperm (259).bmp\n",
      "Saved: C:\\Users\\User\\Documents\\sperm_project\\SMIDS\\Abnormal_Sperm\\aug_Abnormal_Sperm (26).bmp\n"
     ]
    },
    {
     "name": "stderr",
     "output_type": "stream",
     "text": [
      "Augmenting Abnormal_Sperm:  19%|█▉        | 193/1005 [00:04<00:18, 44.45it/s]"
     ]
    },
    {
     "name": "stdout",
     "output_type": "stream",
     "text": [
      "Saved: C:\\Users\\User\\Documents\\sperm_project\\SMIDS\\Abnormal_Sperm\\aug_Abnormal_Sperm (260).bmp\n",
      "Saved: C:\\Users\\User\\Documents\\sperm_project\\SMIDS\\Abnormal_Sperm\\aug_Abnormal_Sperm (261).bmp\n",
      "Saved: C:\\Users\\User\\Documents\\sperm_project\\SMIDS\\Abnormal_Sperm\\aug_Abnormal_Sperm (262).bmp\n",
      "Saved: C:\\Users\\User\\Documents\\sperm_project\\SMIDS\\Abnormal_Sperm\\aug_Abnormal_Sperm (263).bmp\n",
      "Saved: C:\\Users\\User\\Documents\\sperm_project\\SMIDS\\Abnormal_Sperm\\aug_Abnormal_Sperm (264).bmp\n",
      "Saved: C:\\Users\\User\\Documents\\sperm_project\\SMIDS\\Abnormal_Sperm\\aug_Abnormal_Sperm (265).bmp\n",
      "Saved: C:\\Users\\User\\Documents\\sperm_project\\SMIDS\\Abnormal_Sperm\\aug_Abnormal_Sperm (266).bmp\n",
      "Saved: C:\\Users\\User\\Documents\\sperm_project\\SMIDS\\Abnormal_Sperm\\aug_Abnormal_Sperm (267).bmp\n",
      "Saved: C:\\Users\\User\\Documents\\sperm_project\\SMIDS\\Abnormal_Sperm\\aug_Abnormal_Sperm (268).bmp\n",
      "Saved: C:\\Users\\User\\Documents\\sperm_project\\SMIDS\\Abnormal_Sperm\\aug_Abnormal_Sperm (269).bmp\n"
     ]
    },
    {
     "name": "stderr",
     "output_type": "stream",
     "text": [
      "Augmenting Abnormal_Sperm:  20%|██        | 203/1005 [00:04<00:17, 44.75it/s]"
     ]
    },
    {
     "name": "stdout",
     "output_type": "stream",
     "text": [
      "Saved: C:\\Users\\User\\Documents\\sperm_project\\SMIDS\\Abnormal_Sperm\\aug_Abnormal_Sperm (27).bmp\n",
      "Saved: C:\\Users\\User\\Documents\\sperm_project\\SMIDS\\Abnormal_Sperm\\aug_Abnormal_Sperm (270).bmp\n",
      "Saved: C:\\Users\\User\\Documents\\sperm_project\\SMIDS\\Abnormal_Sperm\\aug_Abnormal_Sperm (271).bmp\n",
      "Saved: C:\\Users\\User\\Documents\\sperm_project\\SMIDS\\Abnormal_Sperm\\aug_Abnormal_Sperm (272).bmp\n",
      "Saved: C:\\Users\\User\\Documents\\sperm_project\\SMIDS\\Abnormal_Sperm\\aug_Abnormal_Sperm (273).bmp\n",
      "Saved: C:\\Users\\User\\Documents\\sperm_project\\SMIDS\\Abnormal_Sperm\\aug_Abnormal_Sperm (274).bmp\n",
      "Saved: C:\\Users\\User\\Documents\\sperm_project\\SMIDS\\Abnormal_Sperm\\aug_Abnormal_Sperm (275).bmp\n",
      "Saved: C:\\Users\\User\\Documents\\sperm_project\\SMIDS\\Abnormal_Sperm\\aug_Abnormal_Sperm (276).bmp\n",
      "Saved: C:\\Users\\User\\Documents\\sperm_project\\SMIDS\\Abnormal_Sperm\\aug_Abnormal_Sperm (277).bmp\n",
      "Saved: C:\\Users\\User\\Documents\\sperm_project\\SMIDS\\Abnormal_Sperm\\aug_Abnormal_Sperm (278).bmp\n"
     ]
    },
    {
     "name": "stderr",
     "output_type": "stream",
     "text": [
      "Augmenting Abnormal_Sperm:  21%|██        | 213/1005 [00:04<00:17, 46.19it/s]"
     ]
    },
    {
     "name": "stdout",
     "output_type": "stream",
     "text": [
      "Saved: C:\\Users\\User\\Documents\\sperm_project\\SMIDS\\Abnormal_Sperm\\aug_Abnormal_Sperm (279).bmp\n",
      "Saved: C:\\Users\\User\\Documents\\sperm_project\\SMIDS\\Abnormal_Sperm\\aug_Abnormal_Sperm (28).bmp\n",
      "Saved: C:\\Users\\User\\Documents\\sperm_project\\SMIDS\\Abnormal_Sperm\\aug_Abnormal_Sperm (280).bmp\n",
      "Saved: C:\\Users\\User\\Documents\\sperm_project\\SMIDS\\Abnormal_Sperm\\aug_Abnormal_Sperm (281).bmp\n",
      "Saved: C:\\Users\\User\\Documents\\sperm_project\\SMIDS\\Abnormal_Sperm\\aug_Abnormal_Sperm (282).bmp\n",
      "Saved: C:\\Users\\User\\Documents\\sperm_project\\SMIDS\\Abnormal_Sperm\\aug_Abnormal_Sperm (283).bmp\n",
      "Saved: C:\\Users\\User\\Documents\\sperm_project\\SMIDS\\Abnormal_Sperm\\aug_Abnormal_Sperm (284).bmp\n",
      "Saved: C:\\Users\\User\\Documents\\sperm_project\\SMIDS\\Abnormal_Sperm\\aug_Abnormal_Sperm (285).bmp\n",
      "Saved: C:\\Users\\User\\Documents\\sperm_project\\SMIDS\\Abnormal_Sperm\\aug_Abnormal_Sperm (286).bmp\n",
      "Saved: C:\\Users\\User\\Documents\\sperm_project\\SMIDS\\Abnormal_Sperm\\aug_Abnormal_Sperm (287).bmp\n",
      "Saved: C:\\Users\\User\\Documents\\sperm_project\\SMIDS\\Abnormal_Sperm\\aug_Abnormal_Sperm (288).bmp\n"
     ]
    },
    {
     "name": "stderr",
     "output_type": "stream",
     "text": [
      "Augmenting Abnormal_Sperm:  22%|██▏       | 223/1005 [00:05<00:16, 47.68it/s]"
     ]
    },
    {
     "name": "stdout",
     "output_type": "stream",
     "text": [
      "Saved: C:\\Users\\User\\Documents\\sperm_project\\SMIDS\\Abnormal_Sperm\\aug_Abnormal_Sperm (289).bmp\n",
      "Saved: C:\\Users\\User\\Documents\\sperm_project\\SMIDS\\Abnormal_Sperm\\aug_Abnormal_Sperm (29).bmp\n",
      "Saved: C:\\Users\\User\\Documents\\sperm_project\\SMIDS\\Abnormal_Sperm\\aug_Abnormal_Sperm (290).bmp\n",
      "Saved: C:\\Users\\User\\Documents\\sperm_project\\SMIDS\\Abnormal_Sperm\\aug_Abnormal_Sperm (291).bmp\n",
      "Saved: C:\\Users\\User\\Documents\\sperm_project\\SMIDS\\Abnormal_Sperm\\aug_Abnormal_Sperm (292).bmp\n",
      "Saved: C:\\Users\\User\\Documents\\sperm_project\\SMIDS\\Abnormal_Sperm\\aug_Abnormal_Sperm (293).bmp\n",
      "Saved: C:\\Users\\User\\Documents\\sperm_project\\SMIDS\\Abnormal_Sperm\\aug_Abnormal_Sperm (294).bmp\n",
      "Saved: C:\\Users\\User\\Documents\\sperm_project\\SMIDS\\Abnormal_Sperm\\aug_Abnormal_Sperm (295).bmp\n",
      "Saved: C:\\Users\\User\\Documents\\sperm_project\\SMIDS\\Abnormal_Sperm\\aug_Abnormal_Sperm (296).bmp\n",
      "Saved: C:\\Users\\User\\Documents\\sperm_project\\SMIDS\\Abnormal_Sperm\\aug_Abnormal_Sperm (297).bmp\n",
      "Saved: C:\\Users\\User\\Documents\\sperm_project\\SMIDS\\Abnormal_Sperm\\aug_Abnormal_Sperm (298).bmp\n"
     ]
    },
    {
     "name": "stderr",
     "output_type": "stream",
     "text": [
      "Augmenting Abnormal_Sperm:  23%|██▎       | 233/1005 [00:05<00:16, 47.50it/s]"
     ]
    },
    {
     "name": "stdout",
     "output_type": "stream",
     "text": [
      "Saved: C:\\Users\\User\\Documents\\sperm_project\\SMIDS\\Abnormal_Sperm\\aug_Abnormal_Sperm (299).bmp\n",
      "Saved: C:\\Users\\User\\Documents\\sperm_project\\SMIDS\\Abnormal_Sperm\\aug_Abnormal_Sperm (3).bmp\n",
      "Saved: C:\\Users\\User\\Documents\\sperm_project\\SMIDS\\Abnormal_Sperm\\aug_Abnormal_Sperm (30).bmp\n",
      "Saved: C:\\Users\\User\\Documents\\sperm_project\\SMIDS\\Abnormal_Sperm\\aug_Abnormal_Sperm (300).bmp\n",
      "Saved: C:\\Users\\User\\Documents\\sperm_project\\SMIDS\\Abnormal_Sperm\\aug_Abnormal_Sperm (301).bmp\n",
      "Saved: C:\\Users\\User\\Documents\\sperm_project\\SMIDS\\Abnormal_Sperm\\aug_Abnormal_Sperm (302).bmp\n",
      "Saved: C:\\Users\\User\\Documents\\sperm_project\\SMIDS\\Abnormal_Sperm\\aug_Abnormal_Sperm (303).bmp\n",
      "Saved: C:\\Users\\User\\Documents\\sperm_project\\SMIDS\\Abnormal_Sperm\\aug_Abnormal_Sperm (304).bmp\n",
      "Saved: C:\\Users\\User\\Documents\\sperm_project\\SMIDS\\Abnormal_Sperm\\aug_Abnormal_Sperm (305).bmp\n",
      "Saved: C:\\Users\\User\\Documents\\sperm_project\\SMIDS\\Abnormal_Sperm\\aug_Abnormal_Sperm (306).bmp\n"
     ]
    },
    {
     "name": "stderr",
     "output_type": "stream",
     "text": [
      "Augmenting Abnormal_Sperm:  24%|██▍       | 243/1005 [00:05<00:16, 47.44it/s]"
     ]
    },
    {
     "name": "stdout",
     "output_type": "stream",
     "text": [
      "Saved: C:\\Users\\User\\Documents\\sperm_project\\SMIDS\\Abnormal_Sperm\\aug_Abnormal_Sperm (307).bmp\n",
      "Saved: C:\\Users\\User\\Documents\\sperm_project\\SMIDS\\Abnormal_Sperm\\aug_Abnormal_Sperm (308).bmp\n",
      "Saved: C:\\Users\\User\\Documents\\sperm_project\\SMIDS\\Abnormal_Sperm\\aug_Abnormal_Sperm (309).bmp\n",
      "Saved: C:\\Users\\User\\Documents\\sperm_project\\SMIDS\\Abnormal_Sperm\\aug_Abnormal_Sperm (31).bmp\n",
      "Saved: C:\\Users\\User\\Documents\\sperm_project\\SMIDS\\Abnormal_Sperm\\aug_Abnormal_Sperm (310).bmp\n",
      "Saved: C:\\Users\\User\\Documents\\sperm_project\\SMIDS\\Abnormal_Sperm\\aug_Abnormal_Sperm (311).bmp\n",
      "Saved: C:\\Users\\User\\Documents\\sperm_project\\SMIDS\\Abnormal_Sperm\\aug_Abnormal_Sperm (312).bmp\n",
      "Saved: C:\\Users\\User\\Documents\\sperm_project\\SMIDS\\Abnormal_Sperm\\aug_Abnormal_Sperm (313).bmp\n",
      "Saved: C:\\Users\\User\\Documents\\sperm_project\\SMIDS\\Abnormal_Sperm\\aug_Abnormal_Sperm (314).bmp\n",
      "Saved: C:\\Users\\User\\Documents\\sperm_project\\SMIDS\\Abnormal_Sperm\\aug_Abnormal_Sperm (315).bmp\n",
      "Saved: C:\\Users\\User\\Documents\\sperm_project\\SMIDS\\Abnormal_Sperm\\aug_Abnormal_Sperm (316).bmp\n"
     ]
    },
    {
     "name": "stderr",
     "output_type": "stream",
     "text": [
      "Augmenting Abnormal_Sperm:  25%|██▌       | 253/1005 [00:05<00:15, 47.28it/s]"
     ]
    },
    {
     "name": "stdout",
     "output_type": "stream",
     "text": [
      "Saved: C:\\Users\\User\\Documents\\sperm_project\\SMIDS\\Abnormal_Sperm\\aug_Abnormal_Sperm (317).bmp\n",
      "Saved: C:\\Users\\User\\Documents\\sperm_project\\SMIDS\\Abnormal_Sperm\\aug_Abnormal_Sperm (318).bmp\n",
      "Saved: C:\\Users\\User\\Documents\\sperm_project\\SMIDS\\Abnormal_Sperm\\aug_Abnormal_Sperm (319).bmp\n",
      "Saved: C:\\Users\\User\\Documents\\sperm_project\\SMIDS\\Abnormal_Sperm\\aug_Abnormal_Sperm (32).bmp\n",
      "Saved: C:\\Users\\User\\Documents\\sperm_project\\SMIDS\\Abnormal_Sperm\\aug_Abnormal_Sperm (320).bmp\n",
      "Saved: C:\\Users\\User\\Documents\\sperm_project\\SMIDS\\Abnormal_Sperm\\aug_Abnormal_Sperm (321).bmp\n",
      "Saved: C:\\Users\\User\\Documents\\sperm_project\\SMIDS\\Abnormal_Sperm\\aug_Abnormal_Sperm (322).bmp\n",
      "Saved: C:\\Users\\User\\Documents\\sperm_project\\SMIDS\\Abnormal_Sperm\\aug_Abnormal_Sperm (323).bmp\n",
      "Saved: C:\\Users\\User\\Documents\\sperm_project\\SMIDS\\Abnormal_Sperm\\aug_Abnormal_Sperm (324).bmp\n"
     ]
    },
    {
     "name": "stderr",
     "output_type": "stream",
     "text": [
      "Augmenting Abnormal_Sperm:  26%|██▌       | 263/1005 [00:05<00:15, 47.63it/s]"
     ]
    },
    {
     "name": "stdout",
     "output_type": "stream",
     "text": [
      "Saved: C:\\Users\\User\\Documents\\sperm_project\\SMIDS\\Abnormal_Sperm\\aug_Abnormal_Sperm (325).bmp\n",
      "Saved: C:\\Users\\User\\Documents\\sperm_project\\SMIDS\\Abnormal_Sperm\\aug_Abnormal_Sperm (326).bmp\n",
      "Saved: C:\\Users\\User\\Documents\\sperm_project\\SMIDS\\Abnormal_Sperm\\aug_Abnormal_Sperm (327).bmp\n",
      "Saved: C:\\Users\\User\\Documents\\sperm_project\\SMIDS\\Abnormal_Sperm\\aug_Abnormal_Sperm (328).bmp\n",
      "Saved: C:\\Users\\User\\Documents\\sperm_project\\SMIDS\\Abnormal_Sperm\\aug_Abnormal_Sperm (329).bmp\n",
      "Saved: C:\\Users\\User\\Documents\\sperm_project\\SMIDS\\Abnormal_Sperm\\aug_Abnormal_Sperm (33).bmp\n",
      "Saved: C:\\Users\\User\\Documents\\sperm_project\\SMIDS\\Abnormal_Sperm\\aug_Abnormal_Sperm (330).bmp\n",
      "Saved: C:\\Users\\User\\Documents\\sperm_project\\SMIDS\\Abnormal_Sperm\\aug_Abnormal_Sperm (331).bmp\n",
      "Saved: C:\\Users\\User\\Documents\\sperm_project\\SMIDS\\Abnormal_Sperm\\aug_Abnormal_Sperm (332).bmp\n",
      "Saved: C:\\Users\\User\\Documents\\sperm_project\\SMIDS\\Abnormal_Sperm\\aug_Abnormal_Sperm (333).bmp\n",
      "Saved: C:\\Users\\User\\Documents\\sperm_project\\SMIDS\\Abnormal_Sperm\\aug_Abnormal_Sperm (334).bmp\n"
     ]
    },
    {
     "name": "stderr",
     "output_type": "stream",
     "text": [
      "Augmenting Abnormal_Sperm:  27%|██▋       | 273/1005 [00:06<00:15, 46.69it/s]"
     ]
    },
    {
     "name": "stdout",
     "output_type": "stream",
     "text": [
      "Saved: C:\\Users\\User\\Documents\\sperm_project\\SMIDS\\Abnormal_Sperm\\aug_Abnormal_Sperm (335).bmp\n",
      "Saved: C:\\Users\\User\\Documents\\sperm_project\\SMIDS\\Abnormal_Sperm\\aug_Abnormal_Sperm (336).bmp\n",
      "Saved: C:\\Users\\User\\Documents\\sperm_project\\SMIDS\\Abnormal_Sperm\\aug_Abnormal_Sperm (337).bmp\n",
      "Saved: C:\\Users\\User\\Documents\\sperm_project\\SMIDS\\Abnormal_Sperm\\aug_Abnormal_Sperm (338).bmp\n",
      "Saved: C:\\Users\\User\\Documents\\sperm_project\\SMIDS\\Abnormal_Sperm\\aug_Abnormal_Sperm (339).bmp\n",
      "Saved: C:\\Users\\User\\Documents\\sperm_project\\SMIDS\\Abnormal_Sperm\\aug_Abnormal_Sperm (34).bmp\n",
      "Saved: C:\\Users\\User\\Documents\\sperm_project\\SMIDS\\Abnormal_Sperm\\aug_Abnormal_Sperm (340).bmp\n",
      "Saved: C:\\Users\\User\\Documents\\sperm_project\\SMIDS\\Abnormal_Sperm\\aug_Abnormal_Sperm (341).bmp\n",
      "Saved: C:\\Users\\User\\Documents\\sperm_project\\SMIDS\\Abnormal_Sperm\\aug_Abnormal_Sperm (342).bmp\n",
      "Saved: C:\\Users\\User\\Documents\\sperm_project\\SMIDS\\Abnormal_Sperm\\aug_Abnormal_Sperm (343).bmp\n",
      "Saved: C:\\Users\\User\\Documents\\sperm_project\\SMIDS\\Abnormal_Sperm\\aug_Abnormal_Sperm (344).bmp\n"
     ]
    },
    {
     "name": "stderr",
     "output_type": "stream",
     "text": [
      "Augmenting Abnormal_Sperm:  29%|██▉       | 289/1005 [00:06<00:15, 45.41it/s]"
     ]
    },
    {
     "name": "stdout",
     "output_type": "stream",
     "text": [
      "Saved: C:\\Users\\User\\Documents\\sperm_project\\SMIDS\\Abnormal_Sperm\\aug_Abnormal_Sperm (345).bmp\n",
      "Saved: C:\\Users\\User\\Documents\\sperm_project\\SMIDS\\Abnormal_Sperm\\aug_Abnormal_Sperm (346).bmp\n",
      "Saved: C:\\Users\\User\\Documents\\sperm_project\\SMIDS\\Abnormal_Sperm\\aug_Abnormal_Sperm (347).bmp\n",
      "Saved: C:\\Users\\User\\Documents\\sperm_project\\SMIDS\\Abnormal_Sperm\\aug_Abnormal_Sperm (348).bmp\n",
      "Saved: C:\\Users\\User\\Documents\\sperm_project\\SMIDS\\Abnormal_Sperm\\aug_Abnormal_Sperm (349).bmp\n",
      "Saved: C:\\Users\\User\\Documents\\sperm_project\\SMIDS\\Abnormal_Sperm\\aug_Abnormal_Sperm (35).bmp\n",
      "Saved: C:\\Users\\User\\Documents\\sperm_project\\SMIDS\\Abnormal_Sperm\\aug_Abnormal_Sperm (350).bmp\n",
      "Saved: C:\\Users\\User\\Documents\\sperm_project\\SMIDS\\Abnormal_Sperm\\aug_Abnormal_Sperm (351).bmp\n",
      "Saved: C:\\Users\\User\\Documents\\sperm_project\\SMIDS\\Abnormal_Sperm\\aug_Abnormal_Sperm (352).bmp\n",
      "Saved: C:\\Users\\User\\Documents\\sperm_project\\SMIDS\\Abnormal_Sperm\\aug_Abnormal_Sperm (353).bmp\n"
     ]
    },
    {
     "name": "stderr",
     "output_type": "stream",
     "text": [
      "Augmenting Abnormal_Sperm:  29%|██▉       | 294/1005 [00:06<00:15, 45.77it/s]"
     ]
    },
    {
     "name": "stdout",
     "output_type": "stream",
     "text": [
      "Saved: C:\\Users\\User\\Documents\\sperm_project\\SMIDS\\Abnormal_Sperm\\aug_Abnormal_Sperm (354).bmp\n",
      "Saved: C:\\Users\\User\\Documents\\sperm_project\\SMIDS\\Abnormal_Sperm\\aug_Abnormal_Sperm (355).bmp\n",
      "Saved: C:\\Users\\User\\Documents\\sperm_project\\SMIDS\\Abnormal_Sperm\\aug_Abnormal_Sperm (356).bmp\n",
      "Saved: C:\\Users\\User\\Documents\\sperm_project\\SMIDS\\Abnormal_Sperm\\aug_Abnormal_Sperm (357).bmp\n",
      "Saved: C:\\Users\\User\\Documents\\sperm_project\\SMIDS\\Abnormal_Sperm\\aug_Abnormal_Sperm (358).bmp\n",
      "Saved: C:\\Users\\User\\Documents\\sperm_project\\SMIDS\\Abnormal_Sperm\\aug_Abnormal_Sperm (359).bmp\n",
      "Saved: C:\\Users\\User\\Documents\\sperm_project\\SMIDS\\Abnormal_Sperm\\aug_Abnormal_Sperm (36).bmp\n",
      "Saved: C:\\Users\\User\\Documents\\sperm_project\\SMIDS\\Abnormal_Sperm\\aug_Abnormal_Sperm (360).bmp\n",
      "Saved: C:\\Users\\User\\Documents\\sperm_project\\SMIDS\\Abnormal_Sperm\\aug_Abnormal_Sperm (361).bmp\n"
     ]
    },
    {
     "name": "stderr",
     "output_type": "stream",
     "text": [
      "Augmenting Abnormal_Sperm:  30%|███       | 305/1005 [00:06<00:15, 45.95it/s]"
     ]
    },
    {
     "name": "stdout",
     "output_type": "stream",
     "text": [
      "Saved: C:\\Users\\User\\Documents\\sperm_project\\SMIDS\\Abnormal_Sperm\\aug_Abnormal_Sperm (362).bmp\n",
      "Saved: C:\\Users\\User\\Documents\\sperm_project\\SMIDS\\Abnormal_Sperm\\aug_Abnormal_Sperm (363).bmp\n",
      "Saved: C:\\Users\\User\\Documents\\sperm_project\\SMIDS\\Abnormal_Sperm\\aug_Abnormal_Sperm (364).bmp\n",
      "Saved: C:\\Users\\User\\Documents\\sperm_project\\SMIDS\\Abnormal_Sperm\\aug_Abnormal_Sperm (365).bmp\n",
      "Saved: C:\\Users\\User\\Documents\\sperm_project\\SMIDS\\Abnormal_Sperm\\aug_Abnormal_Sperm (366).bmp\n",
      "Saved: C:\\Users\\User\\Documents\\sperm_project\\SMIDS\\Abnormal_Sperm\\aug_Abnormal_Sperm (367).bmp\n",
      "Saved: C:\\Users\\User\\Documents\\sperm_project\\SMIDS\\Abnormal_Sperm\\aug_Abnormal_Sperm (368).bmp\n",
      "Saved: C:\\Users\\User\\Documents\\sperm_project\\SMIDS\\Abnormal_Sperm\\aug_Abnormal_Sperm (369).bmp\n",
      "Saved: C:\\Users\\User\\Documents\\sperm_project\\SMIDS\\Abnormal_Sperm\\aug_Abnormal_Sperm (37).bmp\n",
      "Saved: C:\\Users\\User\\Documents\\sperm_project\\SMIDS\\Abnormal_Sperm\\aug_Abnormal_Sperm (370).bmp\n"
     ]
    },
    {
     "name": "stderr",
     "output_type": "stream",
     "text": [
      "Augmenting Abnormal_Sperm:  31%|███▏      | 315/1005 [00:06<00:15, 45.65it/s]"
     ]
    },
    {
     "name": "stdout",
     "output_type": "stream",
     "text": [
      "Saved: C:\\Users\\User\\Documents\\sperm_project\\SMIDS\\Abnormal_Sperm\\aug_Abnormal_Sperm (371).bmp\n",
      "Saved: C:\\Users\\User\\Documents\\sperm_project\\SMIDS\\Abnormal_Sperm\\aug_Abnormal_Sperm (372).bmp\n",
      "Saved: C:\\Users\\User\\Documents\\sperm_project\\SMIDS\\Abnormal_Sperm\\aug_Abnormal_Sperm (373).bmp\n",
      "Saved: C:\\Users\\User\\Documents\\sperm_project\\SMIDS\\Abnormal_Sperm\\aug_Abnormal_Sperm (374).bmp\n",
      "Saved: C:\\Users\\User\\Documents\\sperm_project\\SMIDS\\Abnormal_Sperm\\aug_Abnormal_Sperm (375).bmp\n",
      "Saved: C:\\Users\\User\\Documents\\sperm_project\\SMIDS\\Abnormal_Sperm\\aug_Abnormal_Sperm (376).bmp\n",
      "Saved: C:\\Users\\User\\Documents\\sperm_project\\SMIDS\\Abnormal_Sperm\\aug_Abnormal_Sperm (377).bmp\n",
      "Saved: C:\\Users\\User\\Documents\\sperm_project\\SMIDS\\Abnormal_Sperm\\aug_Abnormal_Sperm (378).bmp\n",
      "Saved: C:\\Users\\User\\Documents\\sperm_project\\SMIDS\\Abnormal_Sperm\\aug_Abnormal_Sperm (379).bmp\n",
      "Saved: C:\\Users\\User\\Documents\\sperm_project\\SMIDS\\Abnormal_Sperm\\aug_Abnormal_Sperm (38).bmp\n"
     ]
    },
    {
     "name": "stderr",
     "output_type": "stream",
     "text": [
      "Augmenting Abnormal_Sperm:  32%|███▏      | 326/1005 [00:07<00:15, 45.03it/s]"
     ]
    },
    {
     "name": "stdout",
     "output_type": "stream",
     "text": [
      "Saved: C:\\Users\\User\\Documents\\sperm_project\\SMIDS\\Abnormal_Sperm\\aug_Abnormal_Sperm (380).bmp\n",
      "Saved: C:\\Users\\User\\Documents\\sperm_project\\SMIDS\\Abnormal_Sperm\\aug_Abnormal_Sperm (381).bmp\n",
      "Saved: C:\\Users\\User\\Documents\\sperm_project\\SMIDS\\Abnormal_Sperm\\aug_Abnormal_Sperm (382).bmp\n",
      "Saved: C:\\Users\\User\\Documents\\sperm_project\\SMIDS\\Abnormal_Sperm\\aug_Abnormal_Sperm (383).bmp\n",
      "Saved: C:\\Users\\User\\Documents\\sperm_project\\SMIDS\\Abnormal_Sperm\\aug_Abnormal_Sperm (384).bmp\n",
      "Saved: C:\\Users\\User\\Documents\\sperm_project\\SMIDS\\Abnormal_Sperm\\aug_Abnormal_Sperm (385).bmp\n",
      "Saved: C:\\Users\\User\\Documents\\sperm_project\\SMIDS\\Abnormal_Sperm\\aug_Abnormal_Sperm (386).bmp\n",
      "Saved: C:\\Users\\User\\Documents\\sperm_project\\SMIDS\\Abnormal_Sperm\\aug_Abnormal_Sperm (387).bmp\n",
      "Saved: C:\\Users\\User\\Documents\\sperm_project\\SMIDS\\Abnormal_Sperm\\aug_Abnormal_Sperm (388).bmp\n"
     ]
    },
    {
     "name": "stderr",
     "output_type": "stream",
     "text": [
      "Augmenting Abnormal_Sperm:  33%|███▎      | 331/1005 [00:07<00:15, 43.96it/s]"
     ]
    },
    {
     "name": "stdout",
     "output_type": "stream",
     "text": [
      "Saved: C:\\Users\\User\\Documents\\sperm_project\\SMIDS\\Abnormal_Sperm\\aug_Abnormal_Sperm (389).bmp\n",
      "Saved: C:\\Users\\User\\Documents\\sperm_project\\SMIDS\\Abnormal_Sperm\\aug_Abnormal_Sperm (39).bmp\n",
      "Saved: C:\\Users\\User\\Documents\\sperm_project\\SMIDS\\Abnormal_Sperm\\aug_Abnormal_Sperm (390).bmp\n",
      "Saved: C:\\Users\\User\\Documents\\sperm_project\\SMIDS\\Abnormal_Sperm\\aug_Abnormal_Sperm (391).bmp\n",
      "Saved: C:\\Users\\User\\Documents\\sperm_project\\SMIDS\\Abnormal_Sperm\\aug_Abnormal_Sperm (392).bmp\n",
      "Saved: C:\\Users\\User\\Documents\\sperm_project\\SMIDS\\Abnormal_Sperm\\aug_Abnormal_Sperm (393).bmp\n",
      "Saved: C:\\Users\\User\\Documents\\sperm_project\\SMIDS\\Abnormal_Sperm\\aug_Abnormal_Sperm (394).bmp\n",
      "Saved: C:\\Users\\User\\Documents\\sperm_project\\SMIDS\\Abnormal_Sperm\\aug_Abnormal_Sperm (395).bmp\n",
      "Saved: C:\\Users\\User\\Documents\\sperm_project\\SMIDS\\Abnormal_Sperm\\aug_Abnormal_Sperm (396).bmp\n",
      "Saved: C:\\Users\\User\\Documents\\sperm_project\\SMIDS\\Abnormal_Sperm\\aug_Abnormal_Sperm (397).bmp\n"
     ]
    },
    {
     "name": "stderr",
     "output_type": "stream",
     "text": [
      "Augmenting Abnormal_Sperm:  35%|███▍      | 347/1005 [00:07<00:14, 44.98it/s]"
     ]
    },
    {
     "name": "stdout",
     "output_type": "stream",
     "text": [
      "Saved: C:\\Users\\User\\Documents\\sperm_project\\SMIDS\\Abnormal_Sperm\\aug_Abnormal_Sperm (398).bmp\n",
      "Saved: C:\\Users\\User\\Documents\\sperm_project\\SMIDS\\Abnormal_Sperm\\aug_Abnormal_Sperm (399).bmp\n",
      "Saved: C:\\Users\\User\\Documents\\sperm_project\\SMIDS\\Abnormal_Sperm\\aug_Abnormal_Sperm (4).bmp\n",
      "Saved: C:\\Users\\User\\Documents\\sperm_project\\SMIDS\\Abnormal_Sperm\\aug_Abnormal_Sperm (40).bmp\n",
      "Saved: C:\\Users\\User\\Documents\\sperm_project\\SMIDS\\Abnormal_Sperm\\aug_Abnormal_Sperm (400).bmp\n",
      "Saved: C:\\Users\\User\\Documents\\sperm_project\\SMIDS\\Abnormal_Sperm\\aug_Abnormal_Sperm (401).bmp\n",
      "Saved: C:\\Users\\User\\Documents\\sperm_project\\SMIDS\\Abnormal_Sperm\\aug_Abnormal_Sperm (402).bmp\n",
      "Saved: C:\\Users\\User\\Documents\\sperm_project\\SMIDS\\Abnormal_Sperm\\aug_Abnormal_Sperm (403).bmp\n",
      "Saved: C:\\Users\\User\\Documents\\sperm_project\\SMIDS\\Abnormal_Sperm\\aug_Abnormal_Sperm (404).bmp\n",
      "Saved: C:\\Users\\User\\Documents\\sperm_project\\SMIDS\\Abnormal_Sperm\\aug_Abnormal_Sperm (405).bmp\n"
     ]
    },
    {
     "name": "stderr",
     "output_type": "stream",
     "text": [
      "Augmenting Abnormal_Sperm:  35%|███▌      | 352/1005 [00:07<00:14, 45.82it/s]"
     ]
    },
    {
     "name": "stdout",
     "output_type": "stream",
     "text": [
      "Saved: C:\\Users\\User\\Documents\\sperm_project\\SMIDS\\Abnormal_Sperm\\aug_Abnormal_Sperm (406).bmp\n",
      "Saved: C:\\Users\\User\\Documents\\sperm_project\\SMIDS\\Abnormal_Sperm\\aug_Abnormal_Sperm (407).bmp\n",
      "Saved: C:\\Users\\User\\Documents\\sperm_project\\SMIDS\\Abnormal_Sperm\\aug_Abnormal_Sperm (408).bmp\n",
      "Saved: C:\\Users\\User\\Documents\\sperm_project\\SMIDS\\Abnormal_Sperm\\aug_Abnormal_Sperm (409).bmp\n",
      "Saved: C:\\Users\\User\\Documents\\sperm_project\\SMIDS\\Abnormal_Sperm\\aug_Abnormal_Sperm (41).bmp\n",
      "Saved: C:\\Users\\User\\Documents\\sperm_project\\SMIDS\\Abnormal_Sperm\\aug_Abnormal_Sperm (410).bmp\n",
      "Saved: C:\\Users\\User\\Documents\\sperm_project\\SMIDS\\Abnormal_Sperm\\aug_Abnormal_Sperm (411).bmp\n",
      "Saved: C:\\Users\\User\\Documents\\sperm_project\\SMIDS\\Abnormal_Sperm\\aug_Abnormal_Sperm (412).bmp\n",
      "Saved: C:\\Users\\User\\Documents\\sperm_project\\SMIDS\\Abnormal_Sperm\\aug_Abnormal_Sperm (413).bmp\n"
     ]
    },
    {
     "name": "stderr",
     "output_type": "stream",
     "text": [
      "Augmenting Abnormal_Sperm:  36%|███▌      | 362/1005 [00:08<00:14, 44.57it/s]"
     ]
    },
    {
     "name": "stdout",
     "output_type": "stream",
     "text": [
      "Saved: C:\\Users\\User\\Documents\\sperm_project\\SMIDS\\Abnormal_Sperm\\aug_Abnormal_Sperm (414).bmp\n",
      "Saved: C:\\Users\\User\\Documents\\sperm_project\\SMIDS\\Abnormal_Sperm\\aug_Abnormal_Sperm (415).bmp\n",
      "Saved: C:\\Users\\User\\Documents\\sperm_project\\SMIDS\\Abnormal_Sperm\\aug_Abnormal_Sperm (416).bmp\n",
      "Saved: C:\\Users\\User\\Documents\\sperm_project\\SMIDS\\Abnormal_Sperm\\aug_Abnormal_Sperm (417).bmp\n",
      "Saved: C:\\Users\\User\\Documents\\sperm_project\\SMIDS\\Abnormal_Sperm\\aug_Abnormal_Sperm (418).bmp\n",
      "Saved: C:\\Users\\User\\Documents\\sperm_project\\SMIDS\\Abnormal_Sperm\\aug_Abnormal_Sperm (419).bmp\n",
      "Saved: C:\\Users\\User\\Documents\\sperm_project\\SMIDS\\Abnormal_Sperm\\aug_Abnormal_Sperm (42).bmp\n",
      "Saved: C:\\Users\\User\\Documents\\sperm_project\\SMIDS\\Abnormal_Sperm\\aug_Abnormal_Sperm (420).bmp\n",
      "Saved: C:\\Users\\User\\Documents\\sperm_project\\SMIDS\\Abnormal_Sperm\\aug_Abnormal_Sperm (421).bmp\n"
     ]
    },
    {
     "name": "stderr",
     "output_type": "stream",
     "text": [
      "Augmenting Abnormal_Sperm:  37%|███▋      | 372/1005 [00:08<00:14, 44.57it/s]"
     ]
    },
    {
     "name": "stdout",
     "output_type": "stream",
     "text": [
      "Saved: C:\\Users\\User\\Documents\\sperm_project\\SMIDS\\Abnormal_Sperm\\aug_Abnormal_Sperm (422).bmp\n",
      "Saved: C:\\Users\\User\\Documents\\sperm_project\\SMIDS\\Abnormal_Sperm\\aug_Abnormal_Sperm (423).bmp\n",
      "Saved: C:\\Users\\User\\Documents\\sperm_project\\SMIDS\\Abnormal_Sperm\\aug_Abnormal_Sperm (424).bmp\n",
      "Saved: C:\\Users\\User\\Documents\\sperm_project\\SMIDS\\Abnormal_Sperm\\aug_Abnormal_Sperm (425).bmp\n",
      "Saved: C:\\Users\\User\\Documents\\sperm_project\\SMIDS\\Abnormal_Sperm\\aug_Abnormal_Sperm (426).bmp\n",
      "Saved: C:\\Users\\User\\Documents\\sperm_project\\SMIDS\\Abnormal_Sperm\\aug_Abnormal_Sperm (427).bmp\n",
      "Saved: C:\\Users\\User\\Documents\\sperm_project\\SMIDS\\Abnormal_Sperm\\aug_Abnormal_Sperm (428).bmp\n",
      "Saved: C:\\Users\\User\\Documents\\sperm_project\\SMIDS\\Abnormal_Sperm\\aug_Abnormal_Sperm (429).bmp\n",
      "Saved: C:\\Users\\User\\Documents\\sperm_project\\SMIDS\\Abnormal_Sperm\\aug_Abnormal_Sperm (43).bmp\n",
      "Saved: C:\\Users\\User\\Documents\\sperm_project\\SMIDS\\Abnormal_Sperm\\aug_Abnormal_Sperm (430).bmp\n"
     ]
    },
    {
     "name": "stderr",
     "output_type": "stream",
     "text": [
      "Augmenting Abnormal_Sperm:  38%|███▊      | 382/1005 [00:08<00:13, 46.32it/s]"
     ]
    },
    {
     "name": "stdout",
     "output_type": "stream",
     "text": [
      "Saved: C:\\Users\\User\\Documents\\sperm_project\\SMIDS\\Abnormal_Sperm\\aug_Abnormal_Sperm (431).bmp\n",
      "Saved: C:\\Users\\User\\Documents\\sperm_project\\SMIDS\\Abnormal_Sperm\\aug_Abnormal_Sperm (432).bmp\n",
      "Saved: C:\\Users\\User\\Documents\\sperm_project\\SMIDS\\Abnormal_Sperm\\aug_Abnormal_Sperm (433).bmp\n",
      "Saved: C:\\Users\\User\\Documents\\sperm_project\\SMIDS\\Abnormal_Sperm\\aug_Abnormal_Sperm (434).bmp\n",
      "Saved: C:\\Users\\User\\Documents\\sperm_project\\SMIDS\\Abnormal_Sperm\\aug_Abnormal_Sperm (435).bmp\n",
      "Saved: C:\\Users\\User\\Documents\\sperm_project\\SMIDS\\Abnormal_Sperm\\aug_Abnormal_Sperm (436).bmp\n",
      "Saved: C:\\Users\\User\\Documents\\sperm_project\\SMIDS\\Abnormal_Sperm\\aug_Abnormal_Sperm (437).bmp\n",
      "Saved: C:\\Users\\User\\Documents\\sperm_project\\SMIDS\\Abnormal_Sperm\\aug_Abnormal_Sperm (438).bmp\n",
      "Saved: C:\\Users\\User\\Documents\\sperm_project\\SMIDS\\Abnormal_Sperm\\aug_Abnormal_Sperm (439).bmp\n",
      "Saved: C:\\Users\\User\\Documents\\sperm_project\\SMIDS\\Abnormal_Sperm\\aug_Abnormal_Sperm (44).bmp\n"
     ]
    },
    {
     "name": "stderr",
     "output_type": "stream",
     "text": [
      "Augmenting Abnormal_Sperm:  39%|███▉      | 392/1005 [00:08<00:14, 43.21it/s]"
     ]
    },
    {
     "name": "stdout",
     "output_type": "stream",
     "text": [
      "Saved: C:\\Users\\User\\Documents\\sperm_project\\SMIDS\\Abnormal_Sperm\\aug_Abnormal_Sperm (440).bmp\n",
      "Saved: C:\\Users\\User\\Documents\\sperm_project\\SMIDS\\Abnormal_Sperm\\aug_Abnormal_Sperm (441).bmp\n",
      "Saved: C:\\Users\\User\\Documents\\sperm_project\\SMIDS\\Abnormal_Sperm\\aug_Abnormal_Sperm (442).bmp\n",
      "Saved: C:\\Users\\User\\Documents\\sperm_project\\SMIDS\\Abnormal_Sperm\\aug_Abnormal_Sperm (443).bmp\n",
      "Saved: C:\\Users\\User\\Documents\\sperm_project\\SMIDS\\Abnormal_Sperm\\aug_Abnormal_Sperm (444).bmp\n",
      "Saved: C:\\Users\\User\\Documents\\sperm_project\\SMIDS\\Abnormal_Sperm\\aug_Abnormal_Sperm (445).bmp\n",
      "Saved: C:\\Users\\User\\Documents\\sperm_project\\SMIDS\\Abnormal_Sperm\\aug_Abnormal_Sperm (446).bmp\n",
      "Saved: C:\\Users\\User\\Documents\\sperm_project\\SMIDS\\Abnormal_Sperm\\aug_Abnormal_Sperm (447).bmp\n",
      "Saved: C:\\Users\\User\\Documents\\sperm_project\\SMIDS\\Abnormal_Sperm\\aug_Abnormal_Sperm (448).bmp\n"
     ]
    },
    {
     "name": "stderr",
     "output_type": "stream",
     "text": [
      "Augmenting Abnormal_Sperm:  40%|████      | 403/1005 [00:08<00:13, 45.77it/s]"
     ]
    },
    {
     "name": "stdout",
     "output_type": "stream",
     "text": [
      "Saved: C:\\Users\\User\\Documents\\sperm_project\\SMIDS\\Abnormal_Sperm\\aug_Abnormal_Sperm (449).bmp\n",
      "Saved: C:\\Users\\User\\Documents\\sperm_project\\SMIDS\\Abnormal_Sperm\\aug_Abnormal_Sperm (45).bmp\n",
      "Saved: C:\\Users\\User\\Documents\\sperm_project\\SMIDS\\Abnormal_Sperm\\aug_Abnormal_Sperm (450).bmp\n",
      "Saved: C:\\Users\\User\\Documents\\sperm_project\\SMIDS\\Abnormal_Sperm\\aug_Abnormal_Sperm (451).bmp\n",
      "Saved: C:\\Users\\User\\Documents\\sperm_project\\SMIDS\\Abnormal_Sperm\\aug_Abnormal_Sperm (452).bmp\n",
      "Saved: C:\\Users\\User\\Documents\\sperm_project\\SMIDS\\Abnormal_Sperm\\aug_Abnormal_Sperm (453).bmp\n",
      "Saved: C:\\Users\\User\\Documents\\sperm_project\\SMIDS\\Abnormal_Sperm\\aug_Abnormal_Sperm (454).bmp\n",
      "Saved: C:\\Users\\User\\Documents\\sperm_project\\SMIDS\\Abnormal_Sperm\\aug_Abnormal_Sperm (455).bmp\n",
      "Saved: C:\\Users\\User\\Documents\\sperm_project\\SMIDS\\Abnormal_Sperm\\aug_Abnormal_Sperm (456).bmp\n",
      "Saved: C:\\Users\\User\\Documents\\sperm_project\\SMIDS\\Abnormal_Sperm\\aug_Abnormal_Sperm (457).bmp\n",
      "Saved: C:\\Users\\User\\Documents\\sperm_project\\SMIDS\\Abnormal_Sperm\\aug_Abnormal_Sperm (458).bmp\n"
     ]
    },
    {
     "name": "stderr",
     "output_type": "stream",
     "text": [
      "Augmenting Abnormal_Sperm:  41%|████      | 413/1005 [00:09<00:12, 45.82it/s]"
     ]
    },
    {
     "name": "stdout",
     "output_type": "stream",
     "text": [
      "Saved: C:\\Users\\User\\Documents\\sperm_project\\SMIDS\\Abnormal_Sperm\\aug_Abnormal_Sperm (459).bmp\n",
      "Saved: C:\\Users\\User\\Documents\\sperm_project\\SMIDS\\Abnormal_Sperm\\aug_Abnormal_Sperm (46).bmp\n",
      "Saved: C:\\Users\\User\\Documents\\sperm_project\\SMIDS\\Abnormal_Sperm\\aug_Abnormal_Sperm (460).bmp\n",
      "Saved: C:\\Users\\User\\Documents\\sperm_project\\SMIDS\\Abnormal_Sperm\\aug_Abnormal_Sperm (461).bmp\n",
      "Saved: C:\\Users\\User\\Documents\\sperm_project\\SMIDS\\Abnormal_Sperm\\aug_Abnormal_Sperm (462).bmp\n",
      "Saved: C:\\Users\\User\\Documents\\sperm_project\\SMIDS\\Abnormal_Sperm\\aug_Abnormal_Sperm (463).bmp\n",
      "Saved: C:\\Users\\User\\Documents\\sperm_project\\SMIDS\\Abnormal_Sperm\\aug_Abnormal_Sperm (464).bmp\n",
      "Saved: C:\\Users\\User\\Documents\\sperm_project\\SMIDS\\Abnormal_Sperm\\aug_Abnormal_Sperm (465).bmp\n",
      "Saved: C:\\Users\\User\\Documents\\sperm_project\\SMIDS\\Abnormal_Sperm\\aug_Abnormal_Sperm (466).bmp\n"
     ]
    },
    {
     "name": "stderr",
     "output_type": "stream",
     "text": [
      "Augmenting Abnormal_Sperm:  42%|████▏     | 418/1005 [00:09<00:13, 44.75it/s]"
     ]
    },
    {
     "name": "stdout",
     "output_type": "stream",
     "text": [
      "Saved: C:\\Users\\User\\Documents\\sperm_project\\SMIDS\\Abnormal_Sperm\\aug_Abnormal_Sperm (467).bmp\n",
      "Saved: C:\\Users\\User\\Documents\\sperm_project\\SMIDS\\Abnormal_Sperm\\aug_Abnormal_Sperm (468).bmp\n",
      "Saved: C:\\Users\\User\\Documents\\sperm_project\\SMIDS\\Abnormal_Sperm\\aug_Abnormal_Sperm (469).bmp\n",
      "Saved: C:\\Users\\User\\Documents\\sperm_project\\SMIDS\\Abnormal_Sperm\\aug_Abnormal_Sperm (47).bmp\n",
      "Saved: C:\\Users\\User\\Documents\\sperm_project\\SMIDS\\Abnormal_Sperm\\aug_Abnormal_Sperm (470).bmp\n",
      "Saved: C:\\Users\\User\\Documents\\sperm_project\\SMIDS\\Abnormal_Sperm\\aug_Abnormal_Sperm (471).bmp\n",
      "Saved: C:\\Users\\User\\Documents\\sperm_project\\SMIDS\\Abnormal_Sperm\\aug_Abnormal_Sperm (472).bmp\n",
      "Saved: C:\\Users\\User\\Documents\\sperm_project\\SMIDS\\Abnormal_Sperm\\aug_Abnormal_Sperm (473).bmp\n",
      "Saved: C:\\Users\\User\\Documents\\sperm_project\\SMIDS\\Abnormal_Sperm\\aug_Abnormal_Sperm (474).bmp\n"
     ]
    },
    {
     "name": "stderr",
     "output_type": "stream",
     "text": [
      "Augmenting Abnormal_Sperm:  43%|████▎     | 428/1005 [00:09<00:13, 42.78it/s]"
     ]
    },
    {
     "name": "stdout",
     "output_type": "stream",
     "text": [
      "Saved: C:\\Users\\User\\Documents\\sperm_project\\SMIDS\\Abnormal_Sperm\\aug_Abnormal_Sperm (475).bmp\n",
      "Saved: C:\\Users\\User\\Documents\\sperm_project\\SMIDS\\Abnormal_Sperm\\aug_Abnormal_Sperm (476).bmp\n",
      "Saved: C:\\Users\\User\\Documents\\sperm_project\\SMIDS\\Abnormal_Sperm\\aug_Abnormal_Sperm (477).bmp\n",
      "Saved: C:\\Users\\User\\Documents\\sperm_project\\SMIDS\\Abnormal_Sperm\\aug_Abnormal_Sperm (478).bmp\n",
      "Saved: C:\\Users\\User\\Documents\\sperm_project\\SMIDS\\Abnormal_Sperm\\aug_Abnormal_Sperm (479).bmp\n",
      "Saved: C:\\Users\\User\\Documents\\sperm_project\\SMIDS\\Abnormal_Sperm\\aug_Abnormal_Sperm (48).bmp\n",
      "Saved: C:\\Users\\User\\Documents\\sperm_project\\SMIDS\\Abnormal_Sperm\\aug_Abnormal_Sperm (480).bmp\n",
      "Saved: C:\\Users\\User\\Documents\\sperm_project\\SMIDS\\Abnormal_Sperm\\aug_Abnormal_Sperm (481).bmp\n",
      "Saved: C:\\Users\\User\\Documents\\sperm_project\\SMIDS\\Abnormal_Sperm\\aug_Abnormal_Sperm (482).bmp\n"
     ]
    },
    {
     "name": "stderr",
     "output_type": "stream",
     "text": [
      "Augmenting Abnormal_Sperm:  44%|████▎     | 438/1005 [00:09<00:12, 43.95it/s]"
     ]
    },
    {
     "name": "stdout",
     "output_type": "stream",
     "text": [
      "Saved: C:\\Users\\User\\Documents\\sperm_project\\SMIDS\\Abnormal_Sperm\\aug_Abnormal_Sperm (483).bmp\n",
      "Saved: C:\\Users\\User\\Documents\\sperm_project\\SMIDS\\Abnormal_Sperm\\aug_Abnormal_Sperm (484).bmp\n",
      "Saved: C:\\Users\\User\\Documents\\sperm_project\\SMIDS\\Abnormal_Sperm\\aug_Abnormal_Sperm (485).bmp\n",
      "Saved: C:\\Users\\User\\Documents\\sperm_project\\SMIDS\\Abnormal_Sperm\\aug_Abnormal_Sperm (486).bmp\n",
      "Saved: C:\\Users\\User\\Documents\\sperm_project\\SMIDS\\Abnormal_Sperm\\aug_Abnormal_Sperm (487).bmp\n",
      "Saved: C:\\Users\\User\\Documents\\sperm_project\\SMIDS\\Abnormal_Sperm\\aug_Abnormal_Sperm (488).bmp\n",
      "Saved: C:\\Users\\User\\Documents\\sperm_project\\SMIDS\\Abnormal_Sperm\\aug_Abnormal_Sperm (489).bmp\n",
      "Saved: C:\\Users\\User\\Documents\\sperm_project\\SMIDS\\Abnormal_Sperm\\aug_Abnormal_Sperm (49).bmp\n",
      "Saved: C:\\Users\\User\\Documents\\sperm_project\\SMIDS\\Abnormal_Sperm\\aug_Abnormal_Sperm (490).bmp\n",
      "Saved: C:\\Users\\User\\Documents\\sperm_project\\SMIDS\\Abnormal_Sperm\\aug_Abnormal_Sperm (491).bmp\n"
     ]
    },
    {
     "name": "stderr",
     "output_type": "stream",
     "text": [
      "Augmenting Abnormal_Sperm:  45%|████▍     | 448/1005 [00:09<00:12, 45.43it/s]"
     ]
    },
    {
     "name": "stdout",
     "output_type": "stream",
     "text": [
      "Saved: C:\\Users\\User\\Documents\\sperm_project\\SMIDS\\Abnormal_Sperm\\aug_Abnormal_Sperm (492).bmp\n",
      "Saved: C:\\Users\\User\\Documents\\sperm_project\\SMIDS\\Abnormal_Sperm\\aug_Abnormal_Sperm (493).bmp\n",
      "Saved: C:\\Users\\User\\Documents\\sperm_project\\SMIDS\\Abnormal_Sperm\\aug_Abnormal_Sperm (494).bmp\n",
      "Saved: C:\\Users\\User\\Documents\\sperm_project\\SMIDS\\Abnormal_Sperm\\aug_Abnormal_Sperm (495).bmp\n",
      "Saved: C:\\Users\\User\\Documents\\sperm_project\\SMIDS\\Abnormal_Sperm\\aug_Abnormal_Sperm (496).bmp\n",
      "Saved: C:\\Users\\User\\Documents\\sperm_project\\SMIDS\\Abnormal_Sperm\\aug_Abnormal_Sperm (497).bmp\n",
      "Saved: C:\\Users\\User\\Documents\\sperm_project\\SMIDS\\Abnormal_Sperm\\aug_Abnormal_Sperm (498).bmp\n",
      "Saved: C:\\Users\\User\\Documents\\sperm_project\\SMIDS\\Abnormal_Sperm\\aug_Abnormal_Sperm (499).bmp\n",
      "Saved: C:\\Users\\User\\Documents\\sperm_project\\SMIDS\\Abnormal_Sperm\\aug_Abnormal_Sperm (5).bmp\n",
      "Saved: C:\\Users\\User\\Documents\\sperm_project\\SMIDS\\Abnormal_Sperm\\aug_Abnormal_Sperm (50).bmp\n",
      "Saved: C:\\Users\\User\\Documents\\sperm_project\\SMIDS\\Abnormal_Sperm\\aug_Abnormal_Sperm (500).bmp\n"
     ]
    },
    {
     "name": "stderr",
     "output_type": "stream",
     "text": [
      "Augmenting Abnormal_Sperm:  46%|████▌     | 459/1005 [00:10<00:11, 46.62it/s]"
     ]
    },
    {
     "name": "stdout",
     "output_type": "stream",
     "text": [
      "Saved: C:\\Users\\User\\Documents\\sperm_project\\SMIDS\\Abnormal_Sperm\\aug_Abnormal_Sperm (501).bmp\n",
      "Saved: C:\\Users\\User\\Documents\\sperm_project\\SMIDS\\Abnormal_Sperm\\aug_Abnormal_Sperm (502).bmp\n",
      "Saved: C:\\Users\\User\\Documents\\sperm_project\\SMIDS\\Abnormal_Sperm\\aug_Abnormal_Sperm (503).bmp\n",
      "Saved: C:\\Users\\User\\Documents\\sperm_project\\SMIDS\\Abnormal_Sperm\\aug_Abnormal_Sperm (504).bmp\n",
      "Saved: C:\\Users\\User\\Documents\\sperm_project\\SMIDS\\Abnormal_Sperm\\aug_Abnormal_Sperm (505).bmp\n",
      "Saved: C:\\Users\\User\\Documents\\sperm_project\\SMIDS\\Abnormal_Sperm\\aug_Abnormal_Sperm (506).bmp\n",
      "Saved: C:\\Users\\User\\Documents\\sperm_project\\SMIDS\\Abnormal_Sperm\\aug_Abnormal_Sperm (507).bmp\n",
      "Saved: C:\\Users\\User\\Documents\\sperm_project\\SMIDS\\Abnormal_Sperm\\aug_Abnormal_Sperm (508).bmp\n",
      "Saved: C:\\Users\\User\\Documents\\sperm_project\\SMIDS\\Abnormal_Sperm\\aug_Abnormal_Sperm (509).bmp\n",
      "Saved: C:\\Users\\User\\Documents\\sperm_project\\SMIDS\\Abnormal_Sperm\\aug_Abnormal_Sperm (51).bmp\n",
      "Saved: C:\\Users\\User\\Documents\\sperm_project\\SMIDS\\Abnormal_Sperm\\aug_Abnormal_Sperm (510).bmp\n"
     ]
    },
    {
     "name": "stderr",
     "output_type": "stream",
     "text": [
      "Augmenting Abnormal_Sperm:  47%|████▋     | 469/1005 [00:10<00:11, 45.02it/s]"
     ]
    },
    {
     "name": "stdout",
     "output_type": "stream",
     "text": [
      "Saved: C:\\Users\\User\\Documents\\sperm_project\\SMIDS\\Abnormal_Sperm\\aug_Abnormal_Sperm (511).bmp\n",
      "Saved: C:\\Users\\User\\Documents\\sperm_project\\SMIDS\\Abnormal_Sperm\\aug_Abnormal_Sperm (512).bmp\n",
      "Saved: C:\\Users\\User\\Documents\\sperm_project\\SMIDS\\Abnormal_Sperm\\aug_Abnormal_Sperm (513).bmp\n",
      "Saved: C:\\Users\\User\\Documents\\sperm_project\\SMIDS\\Abnormal_Sperm\\aug_Abnormal_Sperm (514).bmp\n",
      "Saved: C:\\Users\\User\\Documents\\sperm_project\\SMIDS\\Abnormal_Sperm\\aug_Abnormal_Sperm (515).bmp\n",
      "Saved: C:\\Users\\User\\Documents\\sperm_project\\SMIDS\\Abnormal_Sperm\\aug_Abnormal_Sperm (516).bmp\n",
      "Saved: C:\\Users\\User\\Documents\\sperm_project\\SMIDS\\Abnormal_Sperm\\aug_Abnormal_Sperm (517).bmp\n",
      "Saved: C:\\Users\\User\\Documents\\sperm_project\\SMIDS\\Abnormal_Sperm\\aug_Abnormal_Sperm (518).bmp\n"
     ]
    },
    {
     "name": "stderr",
     "output_type": "stream",
     "text": [
      "Augmenting Abnormal_Sperm:  48%|████▊     | 479/1005 [00:10<00:11, 45.44it/s]"
     ]
    },
    {
     "name": "stdout",
     "output_type": "stream",
     "text": [
      "Saved: C:\\Users\\User\\Documents\\sperm_project\\SMIDS\\Abnormal_Sperm\\aug_Abnormal_Sperm (519).bmp\n",
      "Saved: C:\\Users\\User\\Documents\\sperm_project\\SMIDS\\Abnormal_Sperm\\aug_Abnormal_Sperm (52).bmp\n",
      "Saved: C:\\Users\\User\\Documents\\sperm_project\\SMIDS\\Abnormal_Sperm\\aug_Abnormal_Sperm (520).bmp\n",
      "Saved: C:\\Users\\User\\Documents\\sperm_project\\SMIDS\\Abnormal_Sperm\\aug_Abnormal_Sperm (521).bmp\n",
      "Saved: C:\\Users\\User\\Documents\\sperm_project\\SMIDS\\Abnormal_Sperm\\aug_Abnormal_Sperm (522).bmp\n",
      "Saved: C:\\Users\\User\\Documents\\sperm_project\\SMIDS\\Abnormal_Sperm\\aug_Abnormal_Sperm (523).bmp\n",
      "Saved: C:\\Users\\User\\Documents\\sperm_project\\SMIDS\\Abnormal_Sperm\\aug_Abnormal_Sperm (524).bmp\n",
      "Saved: C:\\Users\\User\\Documents\\sperm_project\\SMIDS\\Abnormal_Sperm\\aug_Abnormal_Sperm (525).bmp\n",
      "Saved: C:\\Users\\User\\Documents\\sperm_project\\SMIDS\\Abnormal_Sperm\\aug_Abnormal_Sperm (526).bmp\n",
      "Saved: C:\\Users\\User\\Documents\\sperm_project\\SMIDS\\Abnormal_Sperm\\aug_Abnormal_Sperm (527).bmp\n",
      "Saved: C:\\Users\\User\\Documents\\sperm_project\\SMIDS\\Abnormal_Sperm\\aug_Abnormal_Sperm (528).bmp\n"
     ]
    },
    {
     "name": "stderr",
     "output_type": "stream",
     "text": [
      "Augmenting Abnormal_Sperm:  49%|████▊     | 489/1005 [00:10<00:11, 46.50it/s]"
     ]
    },
    {
     "name": "stdout",
     "output_type": "stream",
     "text": [
      "Saved: C:\\Users\\User\\Documents\\sperm_project\\SMIDS\\Abnormal_Sperm\\aug_Abnormal_Sperm (529).bmp\n",
      "Saved: C:\\Users\\User\\Documents\\sperm_project\\SMIDS\\Abnormal_Sperm\\aug_Abnormal_Sperm (53).bmp\n",
      "Saved: C:\\Users\\User\\Documents\\sperm_project\\SMIDS\\Abnormal_Sperm\\aug_Abnormal_Sperm (530).bmp\n",
      "Saved: C:\\Users\\User\\Documents\\sperm_project\\SMIDS\\Abnormal_Sperm\\aug_Abnormal_Sperm (531).bmp\n",
      "Saved: C:\\Users\\User\\Documents\\sperm_project\\SMIDS\\Abnormal_Sperm\\aug_Abnormal_Sperm (532).bmp\n",
      "Saved: C:\\Users\\User\\Documents\\sperm_project\\SMIDS\\Abnormal_Sperm\\aug_Abnormal_Sperm (533).bmp\n",
      "Saved: C:\\Users\\User\\Documents\\sperm_project\\SMIDS\\Abnormal_Sperm\\aug_Abnormal_Sperm (534).bmp\n",
      "Saved: C:\\Users\\User\\Documents\\sperm_project\\SMIDS\\Abnormal_Sperm\\aug_Abnormal_Sperm (535).bmp\n",
      "Saved: C:\\Users\\User\\Documents\\sperm_project\\SMIDS\\Abnormal_Sperm\\aug_Abnormal_Sperm (536).bmp\n",
      "Saved: C:\\Users\\User\\Documents\\sperm_project\\SMIDS\\Abnormal_Sperm\\aug_Abnormal_Sperm (537).bmp\n"
     ]
    },
    {
     "name": "stderr",
     "output_type": "stream",
     "text": [
      "Augmenting Abnormal_Sperm:  50%|████▉     | 499/1005 [00:11<00:10, 46.63it/s]"
     ]
    },
    {
     "name": "stdout",
     "output_type": "stream",
     "text": [
      "Saved: C:\\Users\\User\\Documents\\sperm_project\\SMIDS\\Abnormal_Sperm\\aug_Abnormal_Sperm (538).bmp\n",
      "Saved: C:\\Users\\User\\Documents\\sperm_project\\SMIDS\\Abnormal_Sperm\\aug_Abnormal_Sperm (539).bmp\n",
      "Saved: C:\\Users\\User\\Documents\\sperm_project\\SMIDS\\Abnormal_Sperm\\aug_Abnormal_Sperm (54).bmp\n",
      "Saved: C:\\Users\\User\\Documents\\sperm_project\\SMIDS\\Abnormal_Sperm\\aug_Abnormal_Sperm (540).bmp\n",
      "Saved: C:\\Users\\User\\Documents\\sperm_project\\SMIDS\\Abnormal_Sperm\\aug_Abnormal_Sperm (541).bmp\n",
      "Saved: C:\\Users\\User\\Documents\\sperm_project\\SMIDS\\Abnormal_Sperm\\aug_Abnormal_Sperm (542).bmp\n",
      "Saved: C:\\Users\\User\\Documents\\sperm_project\\SMIDS\\Abnormal_Sperm\\aug_Abnormal_Sperm (543).bmp\n",
      "Saved: C:\\Users\\User\\Documents\\sperm_project\\SMIDS\\Abnormal_Sperm\\aug_Abnormal_Sperm (544).bmp\n",
      "Saved: C:\\Users\\User\\Documents\\sperm_project\\SMIDS\\Abnormal_Sperm\\aug_Abnormal_Sperm (545).bmp\n",
      "Saved: C:\\Users\\User\\Documents\\sperm_project\\SMIDS\\Abnormal_Sperm\\aug_Abnormal_Sperm (546).bmp\n"
     ]
    },
    {
     "name": "stderr",
     "output_type": "stream",
     "text": [
      "Augmenting Abnormal_Sperm:  51%|█████     | 509/1005 [00:11<00:10, 46.16it/s]"
     ]
    },
    {
     "name": "stdout",
     "output_type": "stream",
     "text": [
      "Saved: C:\\Users\\User\\Documents\\sperm_project\\SMIDS\\Abnormal_Sperm\\aug_Abnormal_Sperm (547).bmp\n",
      "Saved: C:\\Users\\User\\Documents\\sperm_project\\SMIDS\\Abnormal_Sperm\\aug_Abnormal_Sperm (548).bmp\n",
      "Saved: C:\\Users\\User\\Documents\\sperm_project\\SMIDS\\Abnormal_Sperm\\aug_Abnormal_Sperm (549).bmp\n",
      "Saved: C:\\Users\\User\\Documents\\sperm_project\\SMIDS\\Abnormal_Sperm\\aug_Abnormal_Sperm (55).bmp\n",
      "Saved: C:\\Users\\User\\Documents\\sperm_project\\SMIDS\\Abnormal_Sperm\\aug_Abnormal_Sperm (550).bmp\n",
      "Saved: C:\\Users\\User\\Documents\\sperm_project\\SMIDS\\Abnormal_Sperm\\aug_Abnormal_Sperm (551).bmp\n",
      "Saved: C:\\Users\\User\\Documents\\sperm_project\\SMIDS\\Abnormal_Sperm\\aug_Abnormal_Sperm (552).bmp\n",
      "Saved: C:\\Users\\User\\Documents\\sperm_project\\SMIDS\\Abnormal_Sperm\\aug_Abnormal_Sperm (553).bmp\n",
      "Saved: C:\\Users\\User\\Documents\\sperm_project\\SMIDS\\Abnormal_Sperm\\aug_Abnormal_Sperm (554).bmp\n",
      "Saved: C:\\Users\\User\\Documents\\sperm_project\\SMIDS\\Abnormal_Sperm\\aug_Abnormal_Sperm (555).bmp\n",
      "Saved: C:\\Users\\User\\Documents\\sperm_project\\SMIDS\\Abnormal_Sperm\\aug_Abnormal_Sperm (556).bmp\n"
     ]
    },
    {
     "name": "stderr",
     "output_type": "stream",
     "text": [
      "Augmenting Abnormal_Sperm:  52%|█████▏    | 520/1005 [00:11<00:10, 47.23it/s]"
     ]
    },
    {
     "name": "stdout",
     "output_type": "stream",
     "text": [
      "Saved: C:\\Users\\User\\Documents\\sperm_project\\SMIDS\\Abnormal_Sperm\\aug_Abnormal_Sperm (557).bmp\n",
      "Saved: C:\\Users\\User\\Documents\\sperm_project\\SMIDS\\Abnormal_Sperm\\aug_Abnormal_Sperm (558).bmp\n",
      "Saved: C:\\Users\\User\\Documents\\sperm_project\\SMIDS\\Abnormal_Sperm\\aug_Abnormal_Sperm (559).bmp\n",
      "Saved: C:\\Users\\User\\Documents\\sperm_project\\SMIDS\\Abnormal_Sperm\\aug_Abnormal_Sperm (56).bmp\n",
      "Saved: C:\\Users\\User\\Documents\\sperm_project\\SMIDS\\Abnormal_Sperm\\aug_Abnormal_Sperm (560).bmp\n",
      "Saved: C:\\Users\\User\\Documents\\sperm_project\\SMIDS\\Abnormal_Sperm\\aug_Abnormal_Sperm (561).bmp\n",
      "Saved: C:\\Users\\User\\Documents\\sperm_project\\SMIDS\\Abnormal_Sperm\\aug_Abnormal_Sperm (562).bmp\n",
      "Saved: C:\\Users\\User\\Documents\\sperm_project\\SMIDS\\Abnormal_Sperm\\aug_Abnormal_Sperm (563).bmp\n",
      "Saved: C:\\Users\\User\\Documents\\sperm_project\\SMIDS\\Abnormal_Sperm\\aug_Abnormal_Sperm (564).bmp\n",
      "Saved: C:\\Users\\User\\Documents\\sperm_project\\SMIDS\\Abnormal_Sperm\\aug_Abnormal_Sperm (565).bmp\n",
      "Saved: C:\\Users\\User\\Documents\\sperm_project\\SMIDS\\Abnormal_Sperm\\aug_Abnormal_Sperm (566).bmp\n"
     ]
    },
    {
     "name": "stderr",
     "output_type": "stream",
     "text": [
      "Augmenting Abnormal_Sperm:  53%|█████▎    | 531/1005 [00:11<00:10, 46.87it/s]"
     ]
    },
    {
     "name": "stdout",
     "output_type": "stream",
     "text": [
      "Saved: C:\\Users\\User\\Documents\\sperm_project\\SMIDS\\Abnormal_Sperm\\aug_Abnormal_Sperm (567).bmp\n",
      "Saved: C:\\Users\\User\\Documents\\sperm_project\\SMIDS\\Abnormal_Sperm\\aug_Abnormal_Sperm (568).bmp\n",
      "Saved: C:\\Users\\User\\Documents\\sperm_project\\SMIDS\\Abnormal_Sperm\\aug_Abnormal_Sperm (569).bmp\n",
      "Saved: C:\\Users\\User\\Documents\\sperm_project\\SMIDS\\Abnormal_Sperm\\aug_Abnormal_Sperm (57).bmp\n",
      "Saved: C:\\Users\\User\\Documents\\sperm_project\\SMIDS\\Abnormal_Sperm\\aug_Abnormal_Sperm (570).bmp\n",
      "Saved: C:\\Users\\User\\Documents\\sperm_project\\SMIDS\\Abnormal_Sperm\\aug_Abnormal_Sperm (571).bmp\n",
      "Saved: C:\\Users\\User\\Documents\\sperm_project\\SMIDS\\Abnormal_Sperm\\aug_Abnormal_Sperm (572).bmp\n",
      "Saved: C:\\Users\\User\\Documents\\sperm_project\\SMIDS\\Abnormal_Sperm\\aug_Abnormal_Sperm (573).bmp\n",
      "Saved: C:\\Users\\User\\Documents\\sperm_project\\SMIDS\\Abnormal_Sperm\\aug_Abnormal_Sperm (574).bmp\n",
      "Saved: C:\\Users\\User\\Documents\\sperm_project\\SMIDS\\Abnormal_Sperm\\aug_Abnormal_Sperm (575).bmp\n",
      "Saved: C:\\Users\\User\\Documents\\sperm_project\\SMIDS\\Abnormal_Sperm\\aug_Abnormal_Sperm (576).bmp\n"
     ]
    },
    {
     "name": "stderr",
     "output_type": "stream",
     "text": [
      "Augmenting Abnormal_Sperm:  54%|█████▍    | 541/1005 [00:11<00:10, 46.39it/s]"
     ]
    },
    {
     "name": "stdout",
     "output_type": "stream",
     "text": [
      "Saved: C:\\Users\\User\\Documents\\sperm_project\\SMIDS\\Abnormal_Sperm\\aug_Abnormal_Sperm (577).bmp\n",
      "Saved: C:\\Users\\User\\Documents\\sperm_project\\SMIDS\\Abnormal_Sperm\\aug_Abnormal_Sperm (578).bmp\n",
      "Saved: C:\\Users\\User\\Documents\\sperm_project\\SMIDS\\Abnormal_Sperm\\aug_Abnormal_Sperm (579).bmp\n",
      "Saved: C:\\Users\\User\\Documents\\sperm_project\\SMIDS\\Abnormal_Sperm\\aug_Abnormal_Sperm (58).bmp\n",
      "Saved: C:\\Users\\User\\Documents\\sperm_project\\SMIDS\\Abnormal_Sperm\\aug_Abnormal_Sperm (580).bmp\n",
      "Saved: C:\\Users\\User\\Documents\\sperm_project\\SMIDS\\Abnormal_Sperm\\aug_Abnormal_Sperm (581).bmp\n",
      "Saved: C:\\Users\\User\\Documents\\sperm_project\\SMIDS\\Abnormal_Sperm\\aug_Abnormal_Sperm (582).bmp\n",
      "Saved: C:\\Users\\User\\Documents\\sperm_project\\SMIDS\\Abnormal_Sperm\\aug_Abnormal_Sperm (583).bmp\n"
     ]
    },
    {
     "name": "stderr",
     "output_type": "stream",
     "text": [
      "Augmenting Abnormal_Sperm:  55%|█████▍    | 551/1005 [00:12<00:10, 44.49it/s]"
     ]
    },
    {
     "name": "stdout",
     "output_type": "stream",
     "text": [
      "Saved: C:\\Users\\User\\Documents\\sperm_project\\SMIDS\\Abnormal_Sperm\\aug_Abnormal_Sperm (584).bmp\n",
      "Saved: C:\\Users\\User\\Documents\\sperm_project\\SMIDS\\Abnormal_Sperm\\aug_Abnormal_Sperm (585).bmp\n",
      "Saved: C:\\Users\\User\\Documents\\sperm_project\\SMIDS\\Abnormal_Sperm\\aug_Abnormal_Sperm (586).bmp\n",
      "Saved: C:\\Users\\User\\Documents\\sperm_project\\SMIDS\\Abnormal_Sperm\\aug_Abnormal_Sperm (587).bmp\n",
      "Saved: C:\\Users\\User\\Documents\\sperm_project\\SMIDS\\Abnormal_Sperm\\aug_Abnormal_Sperm (588).bmp\n",
      "Saved: C:\\Users\\User\\Documents\\sperm_project\\SMIDS\\Abnormal_Sperm\\aug_Abnormal_Sperm (589).bmp\n",
      "Saved: C:\\Users\\User\\Documents\\sperm_project\\SMIDS\\Abnormal_Sperm\\aug_Abnormal_Sperm (59).bmp\n",
      "Saved: C:\\Users\\User\\Documents\\sperm_project\\SMIDS\\Abnormal_Sperm\\aug_Abnormal_Sperm (590).bmp\n",
      "Saved: C:\\Users\\User\\Documents\\sperm_project\\SMIDS\\Abnormal_Sperm\\aug_Abnormal_Sperm (591).bmp\n",
      "Saved: C:\\Users\\User\\Documents\\sperm_project\\SMIDS\\Abnormal_Sperm\\aug_Abnormal_Sperm (592).bmp\n"
     ]
    },
    {
     "name": "stderr",
     "output_type": "stream",
     "text": [
      "Augmenting Abnormal_Sperm:  56%|█████▌    | 561/1005 [00:12<00:09, 46.34it/s]"
     ]
    },
    {
     "name": "stdout",
     "output_type": "stream",
     "text": [
      "Saved: C:\\Users\\User\\Documents\\sperm_project\\SMIDS\\Abnormal_Sperm\\aug_Abnormal_Sperm (593).bmp\n",
      "Saved: C:\\Users\\User\\Documents\\sperm_project\\SMIDS\\Abnormal_Sperm\\aug_Abnormal_Sperm (594).bmp\n",
      "Saved: C:\\Users\\User\\Documents\\sperm_project\\SMIDS\\Abnormal_Sperm\\aug_Abnormal_Sperm (595).bmp\n",
      "Saved: C:\\Users\\User\\Documents\\sperm_project\\SMIDS\\Abnormal_Sperm\\aug_Abnormal_Sperm (596).bmp\n",
      "Saved: C:\\Users\\User\\Documents\\sperm_project\\SMIDS\\Abnormal_Sperm\\aug_Abnormal_Sperm (597).bmp\n",
      "Saved: C:\\Users\\User\\Documents\\sperm_project\\SMIDS\\Abnormal_Sperm\\aug_Abnormal_Sperm (598).bmp\n",
      "Saved: C:\\Users\\User\\Documents\\sperm_project\\SMIDS\\Abnormal_Sperm\\aug_Abnormal_Sperm (599).bmp\n",
      "Saved: C:\\Users\\User\\Documents\\sperm_project\\SMIDS\\Abnormal_Sperm\\aug_Abnormal_Sperm (6).bmp\n",
      "Saved: C:\\Users\\User\\Documents\\sperm_project\\SMIDS\\Abnormal_Sperm\\aug_Abnormal_Sperm (60).bmp\n",
      "Saved: C:\\Users\\User\\Documents\\sperm_project\\SMIDS\\Abnormal_Sperm\\aug_Abnormal_Sperm (600).bmp\n"
     ]
    },
    {
     "name": "stderr",
     "output_type": "stream",
     "text": [
      "Augmenting Abnormal_Sperm:  57%|█████▋    | 572/1005 [00:12<00:09, 46.48it/s]"
     ]
    },
    {
     "name": "stdout",
     "output_type": "stream",
     "text": [
      "Saved: C:\\Users\\User\\Documents\\sperm_project\\SMIDS\\Abnormal_Sperm\\aug_Abnormal_Sperm (601).bmp\n",
      "Saved: C:\\Users\\User\\Documents\\sperm_project\\SMIDS\\Abnormal_Sperm\\aug_Abnormal_Sperm (602).bmp\n",
      "Saved: C:\\Users\\User\\Documents\\sperm_project\\SMIDS\\Abnormal_Sperm\\aug_Abnormal_Sperm (603).bmp\n",
      "Saved: C:\\Users\\User\\Documents\\sperm_project\\SMIDS\\Abnormal_Sperm\\aug_Abnormal_Sperm (604).bmp\n",
      "Saved: C:\\Users\\User\\Documents\\sperm_project\\SMIDS\\Abnormal_Sperm\\aug_Abnormal_Sperm (605).bmp\n",
      "Saved: C:\\Users\\User\\Documents\\sperm_project\\SMIDS\\Abnormal_Sperm\\aug_Abnormal_Sperm (606).bmp\n",
      "Saved: C:\\Users\\User\\Documents\\sperm_project\\SMIDS\\Abnormal_Sperm\\aug_Abnormal_Sperm (607).bmp\n",
      "Saved: C:\\Users\\User\\Documents\\sperm_project\\SMIDS\\Abnormal_Sperm\\aug_Abnormal_Sperm (608).bmp\n",
      "Saved: C:\\Users\\User\\Documents\\sperm_project\\SMIDS\\Abnormal_Sperm\\aug_Abnormal_Sperm (609).bmp\n",
      "Saved: C:\\Users\\User\\Documents\\sperm_project\\SMIDS\\Abnormal_Sperm\\aug_Abnormal_Sperm (61).bmp\n"
     ]
    },
    {
     "name": "stderr",
     "output_type": "stream",
     "text": [
      "Augmenting Abnormal_Sperm:  58%|█████▊    | 582/1005 [00:12<00:09, 45.41it/s]"
     ]
    },
    {
     "name": "stdout",
     "output_type": "stream",
     "text": [
      "Saved: C:\\Users\\User\\Documents\\sperm_project\\SMIDS\\Abnormal_Sperm\\aug_Abnormal_Sperm (610).bmp\n",
      "Saved: C:\\Users\\User\\Documents\\sperm_project\\SMIDS\\Abnormal_Sperm\\aug_Abnormal_Sperm (611).bmp\n",
      "Saved: C:\\Users\\User\\Documents\\sperm_project\\SMIDS\\Abnormal_Sperm\\aug_Abnormal_Sperm (612).bmp\n",
      "Saved: C:\\Users\\User\\Documents\\sperm_project\\SMIDS\\Abnormal_Sperm\\aug_Abnormal_Sperm (613).bmp\n",
      "Saved: C:\\Users\\User\\Documents\\sperm_project\\SMIDS\\Abnormal_Sperm\\aug_Abnormal_Sperm (614).bmp\n",
      "Saved: C:\\Users\\User\\Documents\\sperm_project\\SMIDS\\Abnormal_Sperm\\aug_Abnormal_Sperm (615).bmp\n",
      "Saved: C:\\Users\\User\\Documents\\sperm_project\\SMIDS\\Abnormal_Sperm\\aug_Abnormal_Sperm (616).bmp\n",
      "Saved: C:\\Users\\User\\Documents\\sperm_project\\SMIDS\\Abnormal_Sperm\\aug_Abnormal_Sperm (617).bmp\n",
      "Saved: C:\\Users\\User\\Documents\\sperm_project\\SMIDS\\Abnormal_Sperm\\aug_Abnormal_Sperm (618).bmp\n",
      "Saved: C:\\Users\\User\\Documents\\sperm_project\\SMIDS\\Abnormal_Sperm\\aug_Abnormal_Sperm (619).bmp\n"
     ]
    },
    {
     "name": "stderr",
     "output_type": "stream",
     "text": [
      "Augmenting Abnormal_Sperm:  59%|█████▉    | 592/1005 [00:13<00:09, 45.43it/s]"
     ]
    },
    {
     "name": "stdout",
     "output_type": "stream",
     "text": [
      "Saved: C:\\Users\\User\\Documents\\sperm_project\\SMIDS\\Abnormal_Sperm\\aug_Abnormal_Sperm (62).bmp\n",
      "Saved: C:\\Users\\User\\Documents\\sperm_project\\SMIDS\\Abnormal_Sperm\\aug_Abnormal_Sperm (620).bmp\n",
      "Saved: C:\\Users\\User\\Documents\\sperm_project\\SMIDS\\Abnormal_Sperm\\aug_Abnormal_Sperm (621).bmp\n",
      "Saved: C:\\Users\\User\\Documents\\sperm_project\\SMIDS\\Abnormal_Sperm\\aug_Abnormal_Sperm (622).bmp\n",
      "Saved: C:\\Users\\User\\Documents\\sperm_project\\SMIDS\\Abnormal_Sperm\\aug_Abnormal_Sperm (623).bmp\n",
      "Saved: C:\\Users\\User\\Documents\\sperm_project\\SMIDS\\Abnormal_Sperm\\aug_Abnormal_Sperm (624).bmp\n",
      "Saved: C:\\Users\\User\\Documents\\sperm_project\\SMIDS\\Abnormal_Sperm\\aug_Abnormal_Sperm (625).bmp\n",
      "Saved: C:\\Users\\User\\Documents\\sperm_project\\SMIDS\\Abnormal_Sperm\\aug_Abnormal_Sperm (626).bmp\n",
      "Saved: C:\\Users\\User\\Documents\\sperm_project\\SMIDS\\Abnormal_Sperm\\aug_Abnormal_Sperm (627).bmp\n",
      "Saved: C:\\Users\\User\\Documents\\sperm_project\\SMIDS\\Abnormal_Sperm\\aug_Abnormal_Sperm (628).bmp\n"
     ]
    },
    {
     "name": "stderr",
     "output_type": "stream",
     "text": [
      "Augmenting Abnormal_Sperm:  60%|█████▉    | 602/1005 [00:13<00:08, 45.42it/s]"
     ]
    },
    {
     "name": "stdout",
     "output_type": "stream",
     "text": [
      "Saved: C:\\Users\\User\\Documents\\sperm_project\\SMIDS\\Abnormal_Sperm\\aug_Abnormal_Sperm (629).bmp\n",
      "Saved: C:\\Users\\User\\Documents\\sperm_project\\SMIDS\\Abnormal_Sperm\\aug_Abnormal_Sperm (63).bmp\n",
      "Saved: C:\\Users\\User\\Documents\\sperm_project\\SMIDS\\Abnormal_Sperm\\aug_Abnormal_Sperm (630).bmp\n",
      "Saved: C:\\Users\\User\\Documents\\sperm_project\\SMIDS\\Abnormal_Sperm\\aug_Abnormal_Sperm (631).bmp\n",
      "Saved: C:\\Users\\User\\Documents\\sperm_project\\SMIDS\\Abnormal_Sperm\\aug_Abnormal_Sperm (632).bmp\n",
      "Saved: C:\\Users\\User\\Documents\\sperm_project\\SMIDS\\Abnormal_Sperm\\aug_Abnormal_Sperm (633).bmp\n",
      "Saved: C:\\Users\\User\\Documents\\sperm_project\\SMIDS\\Abnormal_Sperm\\aug_Abnormal_Sperm (634).bmp\n",
      "Saved: C:\\Users\\User\\Documents\\sperm_project\\SMIDS\\Abnormal_Sperm\\aug_Abnormal_Sperm (635).bmp\n",
      "Saved: C:\\Users\\User\\Documents\\sperm_project\\SMIDS\\Abnormal_Sperm\\aug_Abnormal_Sperm (636).bmp\n",
      "Saved: C:\\Users\\User\\Documents\\sperm_project\\SMIDS\\Abnormal_Sperm\\aug_Abnormal_Sperm (637).bmp\n"
     ]
    },
    {
     "name": "stderr",
     "output_type": "stream",
     "text": [
      "Augmenting Abnormal_Sperm:  61%|██████    | 612/1005 [00:13<00:08, 46.63it/s]"
     ]
    },
    {
     "name": "stdout",
     "output_type": "stream",
     "text": [
      "Saved: C:\\Users\\User\\Documents\\sperm_project\\SMIDS\\Abnormal_Sperm\\aug_Abnormal_Sperm (638).bmp\n",
      "Saved: C:\\Users\\User\\Documents\\sperm_project\\SMIDS\\Abnormal_Sperm\\aug_Abnormal_Sperm (639).bmp\n",
      "Saved: C:\\Users\\User\\Documents\\sperm_project\\SMIDS\\Abnormal_Sperm\\aug_Abnormal_Sperm (64).bmp\n",
      "Saved: C:\\Users\\User\\Documents\\sperm_project\\SMIDS\\Abnormal_Sperm\\aug_Abnormal_Sperm (640).bmp\n",
      "Saved: C:\\Users\\User\\Documents\\sperm_project\\SMIDS\\Abnormal_Sperm\\aug_Abnormal_Sperm (641).bmp\n",
      "Saved: C:\\Users\\User\\Documents\\sperm_project\\SMIDS\\Abnormal_Sperm\\aug_Abnormal_Sperm (642).bmp\n",
      "Saved: C:\\Users\\User\\Documents\\sperm_project\\SMIDS\\Abnormal_Sperm\\aug_Abnormal_Sperm (643).bmp\n",
      "Saved: C:\\Users\\User\\Documents\\sperm_project\\SMIDS\\Abnormal_Sperm\\aug_Abnormal_Sperm (644).bmp\n",
      "Saved: C:\\Users\\User\\Documents\\sperm_project\\SMIDS\\Abnormal_Sperm\\aug_Abnormal_Sperm (645).bmp\n",
      "Saved: C:\\Users\\User\\Documents\\sperm_project\\SMIDS\\Abnormal_Sperm\\aug_Abnormal_Sperm (646).bmp\n",
      "Saved: C:\\Users\\User\\Documents\\sperm_project\\SMIDS\\Abnormal_Sperm\\aug_Abnormal_Sperm (647).bmp\n"
     ]
    },
    {
     "name": "stderr",
     "output_type": "stream",
     "text": [
      "Augmenting Abnormal_Sperm:  62%|██████▏   | 623/1005 [00:13<00:08, 46.91it/s]"
     ]
    },
    {
     "name": "stdout",
     "output_type": "stream",
     "text": [
      "Saved: C:\\Users\\User\\Documents\\sperm_project\\SMIDS\\Abnormal_Sperm\\aug_Abnormal_Sperm (648).bmp\n",
      "Saved: C:\\Users\\User\\Documents\\sperm_project\\SMIDS\\Abnormal_Sperm\\aug_Abnormal_Sperm (649).bmp\n",
      "Saved: C:\\Users\\User\\Documents\\sperm_project\\SMIDS\\Abnormal_Sperm\\aug_Abnormal_Sperm (65).bmp\n",
      "Saved: C:\\Users\\User\\Documents\\sperm_project\\SMIDS\\Abnormal_Sperm\\aug_Abnormal_Sperm (650).bmp\n",
      "Saved: C:\\Users\\User\\Documents\\sperm_project\\SMIDS\\Abnormal_Sperm\\aug_Abnormal_Sperm (651).bmp\n",
      "Saved: C:\\Users\\User\\Documents\\sperm_project\\SMIDS\\Abnormal_Sperm\\aug_Abnormal_Sperm (652).bmp\n",
      "Saved: C:\\Users\\User\\Documents\\sperm_project\\SMIDS\\Abnormal_Sperm\\aug_Abnormal_Sperm (653).bmp\n",
      "Saved: C:\\Users\\User\\Documents\\sperm_project\\SMIDS\\Abnormal_Sperm\\aug_Abnormal_Sperm (654).bmp\n",
      "Saved: C:\\Users\\User\\Documents\\sperm_project\\SMIDS\\Abnormal_Sperm\\aug_Abnormal_Sperm (655).bmp\n",
      "Saved: C:\\Users\\User\\Documents\\sperm_project\\SMIDS\\Abnormal_Sperm\\aug_Abnormal_Sperm (656).bmp\n"
     ]
    },
    {
     "name": "stderr",
     "output_type": "stream",
     "text": [
      "Augmenting Abnormal_Sperm:  63%|██████▎   | 633/1005 [00:13<00:07, 46.59it/s]"
     ]
    },
    {
     "name": "stdout",
     "output_type": "stream",
     "text": [
      "Saved: C:\\Users\\User\\Documents\\sperm_project\\SMIDS\\Abnormal_Sperm\\aug_Abnormal_Sperm (657).bmp\n",
      "Saved: C:\\Users\\User\\Documents\\sperm_project\\SMIDS\\Abnormal_Sperm\\aug_Abnormal_Sperm (658).bmp\n",
      "Saved: C:\\Users\\User\\Documents\\sperm_project\\SMIDS\\Abnormal_Sperm\\aug_Abnormal_Sperm (659).bmp\n",
      "Saved: C:\\Users\\User\\Documents\\sperm_project\\SMIDS\\Abnormal_Sperm\\aug_Abnormal_Sperm (66).bmp\n",
      "Saved: C:\\Users\\User\\Documents\\sperm_project\\SMIDS\\Abnormal_Sperm\\aug_Abnormal_Sperm (660).bmp\n",
      "Saved: C:\\Users\\User\\Documents\\sperm_project\\SMIDS\\Abnormal_Sperm\\aug_Abnormal_Sperm (661).bmp\n",
      "Saved: C:\\Users\\User\\Documents\\sperm_project\\SMIDS\\Abnormal_Sperm\\aug_Abnormal_Sperm (662).bmp\n",
      "Saved: C:\\Users\\User\\Documents\\sperm_project\\SMIDS\\Abnormal_Sperm\\aug_Abnormal_Sperm (663).bmp\n",
      "Saved: C:\\Users\\User\\Documents\\sperm_project\\SMIDS\\Abnormal_Sperm\\aug_Abnormal_Sperm (664).bmp\n",
      "Saved: C:\\Users\\User\\Documents\\sperm_project\\SMIDS\\Abnormal_Sperm\\aug_Abnormal_Sperm (665).bmp\n"
     ]
    },
    {
     "name": "stderr",
     "output_type": "stream",
     "text": [
      "Augmenting Abnormal_Sperm:  64%|██████▍   | 643/1005 [00:14<00:07, 45.71it/s]"
     ]
    },
    {
     "name": "stdout",
     "output_type": "stream",
     "text": [
      "Saved: C:\\Users\\User\\Documents\\sperm_project\\SMIDS\\Abnormal_Sperm\\aug_Abnormal_Sperm (666).bmp\n",
      "Saved: C:\\Users\\User\\Documents\\sperm_project\\SMIDS\\Abnormal_Sperm\\aug_Abnormal_Sperm (667).bmp\n",
      "Saved: C:\\Users\\User\\Documents\\sperm_project\\SMIDS\\Abnormal_Sperm\\aug_Abnormal_Sperm (668).bmp\n",
      "Saved: C:\\Users\\User\\Documents\\sperm_project\\SMIDS\\Abnormal_Sperm\\aug_Abnormal_Sperm (669).bmp\n",
      "Saved: C:\\Users\\User\\Documents\\sperm_project\\SMIDS\\Abnormal_Sperm\\aug_Abnormal_Sperm (67).bmp\n",
      "Saved: C:\\Users\\User\\Documents\\sperm_project\\SMIDS\\Abnormal_Sperm\\aug_Abnormal_Sperm (670).bmp\n",
      "Saved: C:\\Users\\User\\Documents\\sperm_project\\SMIDS\\Abnormal_Sperm\\aug_Abnormal_Sperm (671).bmp\n",
      "Saved: C:\\Users\\User\\Documents\\sperm_project\\SMIDS\\Abnormal_Sperm\\aug_Abnormal_Sperm (672).bmp\n",
      "Saved: C:\\Users\\User\\Documents\\sperm_project\\SMIDS\\Abnormal_Sperm\\aug_Abnormal_Sperm (673).bmp\n"
     ]
    },
    {
     "name": "stderr",
     "output_type": "stream",
     "text": [
      "Augmenting Abnormal_Sperm:  65%|██████▍   | 653/1005 [00:14<00:07, 46.67it/s]"
     ]
    },
    {
     "name": "stdout",
     "output_type": "stream",
     "text": [
      "Saved: C:\\Users\\User\\Documents\\sperm_project\\SMIDS\\Abnormal_Sperm\\aug_Abnormal_Sperm (674).bmp\n",
      "Saved: C:\\Users\\User\\Documents\\sperm_project\\SMIDS\\Abnormal_Sperm\\aug_Abnormal_Sperm (675).bmp\n",
      "Saved: C:\\Users\\User\\Documents\\sperm_project\\SMIDS\\Abnormal_Sperm\\aug_Abnormal_Sperm (676).bmp\n",
      "Saved: C:\\Users\\User\\Documents\\sperm_project\\SMIDS\\Abnormal_Sperm\\aug_Abnormal_Sperm (677).bmp\n",
      "Saved: C:\\Users\\User\\Documents\\sperm_project\\SMIDS\\Abnormal_Sperm\\aug_Abnormal_Sperm (678).bmp\n",
      "Saved: C:\\Users\\User\\Documents\\sperm_project\\SMIDS\\Abnormal_Sperm\\aug_Abnormal_Sperm (679).bmp\n",
      "Saved: C:\\Users\\User\\Documents\\sperm_project\\SMIDS\\Abnormal_Sperm\\aug_Abnormal_Sperm (68).bmp\n",
      "Saved: C:\\Users\\User\\Documents\\sperm_project\\SMIDS\\Abnormal_Sperm\\aug_Abnormal_Sperm (680).bmp\n",
      "Saved: C:\\Users\\User\\Documents\\sperm_project\\SMIDS\\Abnormal_Sperm\\aug_Abnormal_Sperm (681).bmp\n",
      "Saved: C:\\Users\\User\\Documents\\sperm_project\\SMIDS\\Abnormal_Sperm\\aug_Abnormal_Sperm (682).bmp\n"
     ]
    },
    {
     "name": "stderr",
     "output_type": "stream",
     "text": [
      "Augmenting Abnormal_Sperm:  66%|██████▌   | 663/1005 [00:14<00:07, 47.21it/s]"
     ]
    },
    {
     "name": "stdout",
     "output_type": "stream",
     "text": [
      "Saved: C:\\Users\\User\\Documents\\sperm_project\\SMIDS\\Abnormal_Sperm\\aug_Abnormal_Sperm (683).bmp\n",
      "Saved: C:\\Users\\User\\Documents\\sperm_project\\SMIDS\\Abnormal_Sperm\\aug_Abnormal_Sperm (684).bmp\n",
      "Saved: C:\\Users\\User\\Documents\\sperm_project\\SMIDS\\Abnormal_Sperm\\aug_Abnormal_Sperm (685).bmp\n",
      "Saved: C:\\Users\\User\\Documents\\sperm_project\\SMIDS\\Abnormal_Sperm\\aug_Abnormal_Sperm (686).bmp\n",
      "Saved: C:\\Users\\User\\Documents\\sperm_project\\SMIDS\\Abnormal_Sperm\\aug_Abnormal_Sperm (687).bmp\n",
      "Saved: C:\\Users\\User\\Documents\\sperm_project\\SMIDS\\Abnormal_Sperm\\aug_Abnormal_Sperm (688).bmp\n",
      "Saved: C:\\Users\\User\\Documents\\sperm_project\\SMIDS\\Abnormal_Sperm\\aug_Abnormal_Sperm (689).bmp\n",
      "Saved: C:\\Users\\User\\Documents\\sperm_project\\SMIDS\\Abnormal_Sperm\\aug_Abnormal_Sperm (69).bmp\n",
      "Saved: C:\\Users\\User\\Documents\\sperm_project\\SMIDS\\Abnormal_Sperm\\aug_Abnormal_Sperm (690).bmp\n",
      "Saved: C:\\Users\\User\\Documents\\sperm_project\\SMIDS\\Abnormal_Sperm\\aug_Abnormal_Sperm (691).bmp\n",
      "Saved: C:\\Users\\User\\Documents\\sperm_project\\SMIDS\\Abnormal_Sperm\\aug_Abnormal_Sperm (692).bmp\n"
     ]
    },
    {
     "name": "stderr",
     "output_type": "stream",
     "text": [
      "Augmenting Abnormal_Sperm:  67%|██████▋   | 674/1005 [00:14<00:06, 47.76it/s]"
     ]
    },
    {
     "name": "stdout",
     "output_type": "stream",
     "text": [
      "Saved: C:\\Users\\User\\Documents\\sperm_project\\SMIDS\\Abnormal_Sperm\\aug_Abnormal_Sperm (693).bmp\n",
      "Saved: C:\\Users\\User\\Documents\\sperm_project\\SMIDS\\Abnormal_Sperm\\aug_Abnormal_Sperm (694).bmp\n",
      "Saved: C:\\Users\\User\\Documents\\sperm_project\\SMIDS\\Abnormal_Sperm\\aug_Abnormal_Sperm (695).bmp\n",
      "Saved: C:\\Users\\User\\Documents\\sperm_project\\SMIDS\\Abnormal_Sperm\\aug_Abnormal_Sperm (696).bmp\n",
      "Saved: C:\\Users\\User\\Documents\\sperm_project\\SMIDS\\Abnormal_Sperm\\aug_Abnormal_Sperm (697).bmp\n",
      "Saved: C:\\Users\\User\\Documents\\sperm_project\\SMIDS\\Abnormal_Sperm\\aug_Abnormal_Sperm (698).bmp\n",
      "Saved: C:\\Users\\User\\Documents\\sperm_project\\SMIDS\\Abnormal_Sperm\\aug_Abnormal_Sperm (699).bmp\n",
      "Saved: C:\\Users\\User\\Documents\\sperm_project\\SMIDS\\Abnormal_Sperm\\aug_Abnormal_Sperm (7).bmp\n",
      "Saved: C:\\Users\\User\\Documents\\sperm_project\\SMIDS\\Abnormal_Sperm\\aug_Abnormal_Sperm (70).bmp\n",
      "Saved: C:\\Users\\User\\Documents\\sperm_project\\SMIDS\\Abnormal_Sperm\\aug_Abnormal_Sperm (700).bmp\n"
     ]
    },
    {
     "name": "stderr",
     "output_type": "stream",
     "text": [
      "Augmenting Abnormal_Sperm:  68%|██████▊   | 679/1005 [00:14<00:06, 47.99it/s]"
     ]
    },
    {
     "name": "stdout",
     "output_type": "stream",
     "text": [
      "Saved: C:\\Users\\User\\Documents\\sperm_project\\SMIDS\\Abnormal_Sperm\\aug_Abnormal_Sperm (701).bmp\n",
      "Saved: C:\\Users\\User\\Documents\\sperm_project\\SMIDS\\Abnormal_Sperm\\aug_Abnormal_Sperm (702).bmp\n",
      "Saved: C:\\Users\\User\\Documents\\sperm_project\\SMIDS\\Abnormal_Sperm\\aug_Abnormal_Sperm (703).bmp\n",
      "Saved: C:\\Users\\User\\Documents\\sperm_project\\SMIDS\\Abnormal_Sperm\\aug_Abnormal_Sperm (704).bmp\n",
      "Saved: C:\\Users\\User\\Documents\\sperm_project\\SMIDS\\Abnormal_Sperm\\aug_Abnormal_Sperm (705).bmp\n",
      "Saved: C:\\Users\\User\\Documents\\sperm_project\\SMIDS\\Abnormal_Sperm\\aug_Abnormal_Sperm (706).bmp\n",
      "Saved: C:\\Users\\User\\Documents\\sperm_project\\SMIDS\\Abnormal_Sperm\\aug_Abnormal_Sperm (707).bmp\n",
      "Saved: C:\\Users\\User\\Documents\\sperm_project\\SMIDS\\Abnormal_Sperm\\aug_Abnormal_Sperm (708).bmp\n",
      "Saved: C:\\Users\\User\\Documents\\sperm_project\\SMIDS\\Abnormal_Sperm\\aug_Abnormal_Sperm (709).bmp\n"
     ]
    },
    {
     "name": "stderr",
     "output_type": "stream",
     "text": [
      "Augmenting Abnormal_Sperm:  69%|██████▊   | 690/1005 [00:15<00:06, 48.19it/s]"
     ]
    },
    {
     "name": "stdout",
     "output_type": "stream",
     "text": [
      "Saved: C:\\Users\\User\\Documents\\sperm_project\\SMIDS\\Abnormal_Sperm\\aug_Abnormal_Sperm (71).bmp\n",
      "Saved: C:\\Users\\User\\Documents\\sperm_project\\SMIDS\\Abnormal_Sperm\\aug_Abnormal_Sperm (710).bmp\n",
      "Saved: C:\\Users\\User\\Documents\\sperm_project\\SMIDS\\Abnormal_Sperm\\aug_Abnormal_Sperm (711).bmp\n",
      "Saved: C:\\Users\\User\\Documents\\sperm_project\\SMIDS\\Abnormal_Sperm\\aug_Abnormal_Sperm (712).bmp\n",
      "Saved: C:\\Users\\User\\Documents\\sperm_project\\SMIDS\\Abnormal_Sperm\\aug_Abnormal_Sperm (713).bmp\n",
      "Saved: C:\\Users\\User\\Documents\\sperm_project\\SMIDS\\Abnormal_Sperm\\aug_Abnormal_Sperm (714).bmp\n",
      "Saved: C:\\Users\\User\\Documents\\sperm_project\\SMIDS\\Abnormal_Sperm\\aug_Abnormal_Sperm (715).bmp\n",
      "Saved: C:\\Users\\User\\Documents\\sperm_project\\SMIDS\\Abnormal_Sperm\\aug_Abnormal_Sperm (716).bmp\n",
      "Saved: C:\\Users\\User\\Documents\\sperm_project\\SMIDS\\Abnormal_Sperm\\aug_Abnormal_Sperm (717).bmp\n",
      "Saved: C:\\Users\\User\\Documents\\sperm_project\\SMIDS\\Abnormal_Sperm\\aug_Abnormal_Sperm (718).bmp\n"
     ]
    },
    {
     "name": "stderr",
     "output_type": "stream",
     "text": [
      "Augmenting Abnormal_Sperm:  70%|██████▉   | 700/1005 [00:15<00:06, 47.73it/s]"
     ]
    },
    {
     "name": "stdout",
     "output_type": "stream",
     "text": [
      "Saved: C:\\Users\\User\\Documents\\sperm_project\\SMIDS\\Abnormal_Sperm\\aug_Abnormal_Sperm (719).bmp\n",
      "Saved: C:\\Users\\User\\Documents\\sperm_project\\SMIDS\\Abnormal_Sperm\\aug_Abnormal_Sperm (72).bmp\n",
      "Saved: C:\\Users\\User\\Documents\\sperm_project\\SMIDS\\Abnormal_Sperm\\aug_Abnormal_Sperm (720).bmp\n",
      "Saved: C:\\Users\\User\\Documents\\sperm_project\\SMIDS\\Abnormal_Sperm\\aug_Abnormal_Sperm (721).bmp\n",
      "Saved: C:\\Users\\User\\Documents\\sperm_project\\SMIDS\\Abnormal_Sperm\\aug_Abnormal_Sperm (722).bmp\n",
      "Saved: C:\\Users\\User\\Documents\\sperm_project\\SMIDS\\Abnormal_Sperm\\aug_Abnormal_Sperm (723).bmp\n",
      "Saved: C:\\Users\\User\\Documents\\sperm_project\\SMIDS\\Abnormal_Sperm\\aug_Abnormal_Sperm (724).bmp\n",
      "Saved: C:\\Users\\User\\Documents\\sperm_project\\SMIDS\\Abnormal_Sperm\\aug_Abnormal_Sperm (725).bmp\n",
      "Saved: C:\\Users\\User\\Documents\\sperm_project\\SMIDS\\Abnormal_Sperm\\aug_Abnormal_Sperm (726).bmp\n",
      "Saved: C:\\Users\\User\\Documents\\sperm_project\\SMIDS\\Abnormal_Sperm\\aug_Abnormal_Sperm (727).bmp\n",
      "Saved: C:\\Users\\User\\Documents\\sperm_project\\SMIDS\\Abnormal_Sperm\\aug_Abnormal_Sperm (728).bmp\n"
     ]
    },
    {
     "name": "stderr",
     "output_type": "stream",
     "text": [
      "Augmenting Abnormal_Sperm:  71%|███████   | 711/1005 [00:15<00:06, 47.36it/s]"
     ]
    },
    {
     "name": "stdout",
     "output_type": "stream",
     "text": [
      "Saved: C:\\Users\\User\\Documents\\sperm_project\\SMIDS\\Abnormal_Sperm\\aug_Abnormal_Sperm (729).bmp\n",
      "Saved: C:\\Users\\User\\Documents\\sperm_project\\SMIDS\\Abnormal_Sperm\\aug_Abnormal_Sperm (73).bmp\n",
      "Saved: C:\\Users\\User\\Documents\\sperm_project\\SMIDS\\Abnormal_Sperm\\aug_Abnormal_Sperm (730).bmp\n",
      "Saved: C:\\Users\\User\\Documents\\sperm_project\\SMIDS\\Abnormal_Sperm\\aug_Abnormal_Sperm (731).bmp\n",
      "Saved: C:\\Users\\User\\Documents\\sperm_project\\SMIDS\\Abnormal_Sperm\\aug_Abnormal_Sperm (732).bmp\n",
      "Saved: C:\\Users\\User\\Documents\\sperm_project\\SMIDS\\Abnormal_Sperm\\aug_Abnormal_Sperm (733).bmp\n",
      "Saved: C:\\Users\\User\\Documents\\sperm_project\\SMIDS\\Abnormal_Sperm\\aug_Abnormal_Sperm (734).bmp\n",
      "Saved: C:\\Users\\User\\Documents\\sperm_project\\SMIDS\\Abnormal_Sperm\\aug_Abnormal_Sperm (735).bmp\n",
      "Saved: C:\\Users\\User\\Documents\\sperm_project\\SMIDS\\Abnormal_Sperm\\aug_Abnormal_Sperm (736).bmp\n",
      "Saved: C:\\Users\\User\\Documents\\sperm_project\\SMIDS\\Abnormal_Sperm\\aug_Abnormal_Sperm (737).bmp\n",
      "Saved: C:\\Users\\User\\Documents\\sperm_project\\SMIDS\\Abnormal_Sperm\\aug_Abnormal_Sperm (738).bmp\n"
     ]
    },
    {
     "name": "stderr",
     "output_type": "stream",
     "text": [
      "Augmenting Abnormal_Sperm:  72%|███████▏  | 722/1005 [00:15<00:05, 48.59it/s]"
     ]
    },
    {
     "name": "stdout",
     "output_type": "stream",
     "text": [
      "Saved: C:\\Users\\User\\Documents\\sperm_project\\SMIDS\\Abnormal_Sperm\\aug_Abnormal_Sperm (739).bmp\n",
      "Saved: C:\\Users\\User\\Documents\\sperm_project\\SMIDS\\Abnormal_Sperm\\aug_Abnormal_Sperm (74).bmp\n",
      "Saved: C:\\Users\\User\\Documents\\sperm_project\\SMIDS\\Abnormal_Sperm\\aug_Abnormal_Sperm (740).bmp\n",
      "Saved: C:\\Users\\User\\Documents\\sperm_project\\SMIDS\\Abnormal_Sperm\\aug_Abnormal_Sperm (741).bmp\n",
      "Saved: C:\\Users\\User\\Documents\\sperm_project\\SMIDS\\Abnormal_Sperm\\aug_Abnormal_Sperm (742).bmp\n",
      "Saved: C:\\Users\\User\\Documents\\sperm_project\\SMIDS\\Abnormal_Sperm\\aug_Abnormal_Sperm (743).bmp\n",
      "Saved: C:\\Users\\User\\Documents\\sperm_project\\SMIDS\\Abnormal_Sperm\\aug_Abnormal_Sperm (744).bmp\n",
      "Saved: C:\\Users\\User\\Documents\\sperm_project\\SMIDS\\Abnormal_Sperm\\aug_Abnormal_Sperm (745).bmp\n",
      "Saved: C:\\Users\\User\\Documents\\sperm_project\\SMIDS\\Abnormal_Sperm\\aug_Abnormal_Sperm (746).bmp\n",
      "Saved: C:\\Users\\User\\Documents\\sperm_project\\SMIDS\\Abnormal_Sperm\\aug_Abnormal_Sperm (747).bmp\n"
     ]
    },
    {
     "name": "stderr",
     "output_type": "stream",
     "text": [
      "Augmenting Abnormal_Sperm:  73%|███████▎  | 732/1005 [00:16<00:05, 48.01it/s]"
     ]
    },
    {
     "name": "stdout",
     "output_type": "stream",
     "text": [
      "Saved: C:\\Users\\User\\Documents\\sperm_project\\SMIDS\\Abnormal_Sperm\\aug_Abnormal_Sperm (748).bmp\n",
      "Saved: C:\\Users\\User\\Documents\\sperm_project\\SMIDS\\Abnormal_Sperm\\aug_Abnormal_Sperm (749).bmp\n",
      "Saved: C:\\Users\\User\\Documents\\sperm_project\\SMIDS\\Abnormal_Sperm\\aug_Abnormal_Sperm (75).bmp\n",
      "Saved: C:\\Users\\User\\Documents\\sperm_project\\SMIDS\\Abnormal_Sperm\\aug_Abnormal_Sperm (750).bmp\n",
      "Saved: C:\\Users\\User\\Documents\\sperm_project\\SMIDS\\Abnormal_Sperm\\aug_Abnormal_Sperm (751).bmp\n",
      "Saved: C:\\Users\\User\\Documents\\sperm_project\\SMIDS\\Abnormal_Sperm\\aug_Abnormal_Sperm (752).bmp\n",
      "Saved: C:\\Users\\User\\Documents\\sperm_project\\SMIDS\\Abnormal_Sperm\\aug_Abnormal_Sperm (753).bmp\n",
      "Saved: C:\\Users\\User\\Documents\\sperm_project\\SMIDS\\Abnormal_Sperm\\aug_Abnormal_Sperm (754).bmp\n",
      "Saved: C:\\Users\\User\\Documents\\sperm_project\\SMIDS\\Abnormal_Sperm\\aug_Abnormal_Sperm (755).bmp\n",
      "Saved: C:\\Users\\User\\Documents\\sperm_project\\SMIDS\\Abnormal_Sperm\\aug_Abnormal_Sperm (756).bmp\n"
     ]
    },
    {
     "name": "stderr",
     "output_type": "stream",
     "text": [
      "Augmenting Abnormal_Sperm:  74%|███████▍  | 742/1005 [00:16<00:05, 46.05it/s]"
     ]
    },
    {
     "name": "stdout",
     "output_type": "stream",
     "text": [
      "Saved: C:\\Users\\User\\Documents\\sperm_project\\SMIDS\\Abnormal_Sperm\\aug_Abnormal_Sperm (757).bmp\n",
      "Saved: C:\\Users\\User\\Documents\\sperm_project\\SMIDS\\Abnormal_Sperm\\aug_Abnormal_Sperm (758).bmp\n",
      "Saved: C:\\Users\\User\\Documents\\sperm_project\\SMIDS\\Abnormal_Sperm\\aug_Abnormal_Sperm (759).bmp\n",
      "Saved: C:\\Users\\User\\Documents\\sperm_project\\SMIDS\\Abnormal_Sperm\\aug_Abnormal_Sperm (76).bmp\n",
      "Saved: C:\\Users\\User\\Documents\\sperm_project\\SMIDS\\Abnormal_Sperm\\aug_Abnormal_Sperm (760).bmp\n",
      "Saved: C:\\Users\\User\\Documents\\sperm_project\\SMIDS\\Abnormal_Sperm\\aug_Abnormal_Sperm (761).bmp\n",
      "Saved: C:\\Users\\User\\Documents\\sperm_project\\SMIDS\\Abnormal_Sperm\\aug_Abnormal_Sperm (762).bmp\n",
      "Saved: C:\\Users\\User\\Documents\\sperm_project\\SMIDS\\Abnormal_Sperm\\aug_Abnormal_Sperm (763).bmp\n",
      "Saved: C:\\Users\\User\\Documents\\sperm_project\\SMIDS\\Abnormal_Sperm\\aug_Abnormal_Sperm (764).bmp\n"
     ]
    },
    {
     "name": "stderr",
     "output_type": "stream",
     "text": [
      "Augmenting Abnormal_Sperm:  75%|███████▍  | 752/1005 [00:16<00:05, 44.86it/s]"
     ]
    },
    {
     "name": "stdout",
     "output_type": "stream",
     "text": [
      "Saved: C:\\Users\\User\\Documents\\sperm_project\\SMIDS\\Abnormal_Sperm\\aug_Abnormal_Sperm (765).bmp\n",
      "Saved: C:\\Users\\User\\Documents\\sperm_project\\SMIDS\\Abnormal_Sperm\\aug_Abnormal_Sperm (766).bmp\n",
      "Saved: C:\\Users\\User\\Documents\\sperm_project\\SMIDS\\Abnormal_Sperm\\aug_Abnormal_Sperm (767).bmp\n",
      "Saved: C:\\Users\\User\\Documents\\sperm_project\\SMIDS\\Abnormal_Sperm\\aug_Abnormal_Sperm (768).bmp\n",
      "Saved: C:\\Users\\User\\Documents\\sperm_project\\SMIDS\\Abnormal_Sperm\\aug_Abnormal_Sperm (769).bmp\n",
      "Saved: C:\\Users\\User\\Documents\\sperm_project\\SMIDS\\Abnormal_Sperm\\aug_Abnormal_Sperm (77).bmp\n",
      "Saved: C:\\Users\\User\\Documents\\sperm_project\\SMIDS\\Abnormal_Sperm\\aug_Abnormal_Sperm (770).bmp\n",
      "Saved: C:\\Users\\User\\Documents\\sperm_project\\SMIDS\\Abnormal_Sperm\\aug_Abnormal_Sperm (771).bmp\n",
      "Saved: C:\\Users\\User\\Documents\\sperm_project\\SMIDS\\Abnormal_Sperm\\aug_Abnormal_Sperm (772).bmp\n",
      "Saved: C:\\Users\\User\\Documents\\sperm_project\\SMIDS\\Abnormal_Sperm\\aug_Abnormal_Sperm (773).bmp\n"
     ]
    },
    {
     "name": "stderr",
     "output_type": "stream",
     "text": [
      "Augmenting Abnormal_Sperm:  76%|███████▌  | 763/1005 [00:16<00:05, 46.95it/s]"
     ]
    },
    {
     "name": "stdout",
     "output_type": "stream",
     "text": [
      "Saved: C:\\Users\\User\\Documents\\sperm_project\\SMIDS\\Abnormal_Sperm\\aug_Abnormal_Sperm (774).bmp\n",
      "Saved: C:\\Users\\User\\Documents\\sperm_project\\SMIDS\\Abnormal_Sperm\\aug_Abnormal_Sperm (775).bmp\n",
      "Saved: C:\\Users\\User\\Documents\\sperm_project\\SMIDS\\Abnormal_Sperm\\aug_Abnormal_Sperm (776).bmp\n",
      "Saved: C:\\Users\\User\\Documents\\sperm_project\\SMIDS\\Abnormal_Sperm\\aug_Abnormal_Sperm (777).bmp\n",
      "Saved: C:\\Users\\User\\Documents\\sperm_project\\SMIDS\\Abnormal_Sperm\\aug_Abnormal_Sperm (778).bmp\n",
      "Saved: C:\\Users\\User\\Documents\\sperm_project\\SMIDS\\Abnormal_Sperm\\aug_Abnormal_Sperm (779).bmp\n",
      "Saved: C:\\Users\\User\\Documents\\sperm_project\\SMIDS\\Abnormal_Sperm\\aug_Abnormal_Sperm (78).bmp\n",
      "Saved: C:\\Users\\User\\Documents\\sperm_project\\SMIDS\\Abnormal_Sperm\\aug_Abnormal_Sperm (780).bmp\n",
      "Saved: C:\\Users\\User\\Documents\\sperm_project\\SMIDS\\Abnormal_Sperm\\aug_Abnormal_Sperm (781).bmp\n",
      "Saved: C:\\Users\\User\\Documents\\sperm_project\\SMIDS\\Abnormal_Sperm\\aug_Abnormal_Sperm (782).bmp\n",
      "Saved: C:\\Users\\User\\Documents\\sperm_project\\SMIDS\\Abnormal_Sperm\\aug_Abnormal_Sperm (783).bmp\n"
     ]
    },
    {
     "name": "stderr",
     "output_type": "stream",
     "text": [
      "Augmenting Abnormal_Sperm:  77%|███████▋  | 773/1005 [00:16<00:05, 45.43it/s]"
     ]
    },
    {
     "name": "stdout",
     "output_type": "stream",
     "text": [
      "Saved: C:\\Users\\User\\Documents\\sperm_project\\SMIDS\\Abnormal_Sperm\\aug_Abnormal_Sperm (784).bmp\n",
      "Saved: C:\\Users\\User\\Documents\\sperm_project\\SMIDS\\Abnormal_Sperm\\aug_Abnormal_Sperm (785).bmp\n",
      "Saved: C:\\Users\\User\\Documents\\sperm_project\\SMIDS\\Abnormal_Sperm\\aug_Abnormal_Sperm (786).bmp\n",
      "Saved: C:\\Users\\User\\Documents\\sperm_project\\SMIDS\\Abnormal_Sperm\\aug_Abnormal_Sperm (787).bmp\n",
      "Saved: C:\\Users\\User\\Documents\\sperm_project\\SMIDS\\Abnormal_Sperm\\aug_Abnormal_Sperm (788).bmp\n",
      "Saved: C:\\Users\\User\\Documents\\sperm_project\\SMIDS\\Abnormal_Sperm\\aug_Abnormal_Sperm (789).bmp\n",
      "Saved: C:\\Users\\User\\Documents\\sperm_project\\SMIDS\\Abnormal_Sperm\\aug_Abnormal_Sperm (79).bmp\n",
      "Saved: C:\\Users\\User\\Documents\\sperm_project\\SMIDS\\Abnormal_Sperm\\aug_Abnormal_Sperm (790).bmp\n",
      "Saved: C:\\Users\\User\\Documents\\sperm_project\\SMIDS\\Abnormal_Sperm\\aug_Abnormal_Sperm (791).bmp\n",
      "Saved: C:\\Users\\User\\Documents\\sperm_project\\SMIDS\\Abnormal_Sperm\\aug_Abnormal_Sperm (792).bmp\n"
     ]
    },
    {
     "name": "stderr",
     "output_type": "stream",
     "text": [
      "Augmenting Abnormal_Sperm:  78%|███████▊  | 783/1005 [00:17<00:04, 45.89it/s]"
     ]
    },
    {
     "name": "stdout",
     "output_type": "stream",
     "text": [
      "Saved: C:\\Users\\User\\Documents\\sperm_project\\SMIDS\\Abnormal_Sperm\\aug_Abnormal_Sperm (793).bmp\n",
      "Saved: C:\\Users\\User\\Documents\\sperm_project\\SMIDS\\Abnormal_Sperm\\aug_Abnormal_Sperm (794).bmp\n",
      "Saved: C:\\Users\\User\\Documents\\sperm_project\\SMIDS\\Abnormal_Sperm\\aug_Abnormal_Sperm (795).bmp\n",
      "Saved: C:\\Users\\User\\Documents\\sperm_project\\SMIDS\\Abnormal_Sperm\\aug_Abnormal_Sperm (796).bmp\n",
      "Saved: C:\\Users\\User\\Documents\\sperm_project\\SMIDS\\Abnormal_Sperm\\aug_Abnormal_Sperm (797).bmp\n",
      "Saved: C:\\Users\\User\\Documents\\sperm_project\\SMIDS\\Abnormal_Sperm\\aug_Abnormal_Sperm (798).bmp\n",
      "Saved: C:\\Users\\User\\Documents\\sperm_project\\SMIDS\\Abnormal_Sperm\\aug_Abnormal_Sperm (799).bmp\n",
      "Saved: C:\\Users\\User\\Documents\\sperm_project\\SMIDS\\Abnormal_Sperm\\aug_Abnormal_Sperm (8).bmp\n",
      "Saved: C:\\Users\\User\\Documents\\sperm_project\\SMIDS\\Abnormal_Sperm\\aug_Abnormal_Sperm (80).bmp\n",
      "Saved: C:\\Users\\User\\Documents\\sperm_project\\SMIDS\\Abnormal_Sperm\\aug_Abnormal_Sperm (800).bmp\n"
     ]
    },
    {
     "name": "stderr",
     "output_type": "stream",
     "text": [
      "Augmenting Abnormal_Sperm:  79%|███████▉  | 793/1005 [00:17<00:04, 43.78it/s]"
     ]
    },
    {
     "name": "stdout",
     "output_type": "stream",
     "text": [
      "Saved: C:\\Users\\User\\Documents\\sperm_project\\SMIDS\\Abnormal_Sperm\\aug_Abnormal_Sperm (801).bmp\n",
      "Saved: C:\\Users\\User\\Documents\\sperm_project\\SMIDS\\Abnormal_Sperm\\aug_Abnormal_Sperm (802).bmp\n",
      "Saved: C:\\Users\\User\\Documents\\sperm_project\\SMIDS\\Abnormal_Sperm\\aug_Abnormal_Sperm (803).bmp\n",
      "Saved: C:\\Users\\User\\Documents\\sperm_project\\SMIDS\\Abnormal_Sperm\\aug_Abnormal_Sperm (804).bmp\n",
      "Saved: C:\\Users\\User\\Documents\\sperm_project\\SMIDS\\Abnormal_Sperm\\aug_Abnormal_Sperm (805).bmp\n",
      "Saved: C:\\Users\\User\\Documents\\sperm_project\\SMIDS\\Abnormal_Sperm\\aug_Abnormal_Sperm (806).bmp\n",
      "Saved: C:\\Users\\User\\Documents\\sperm_project\\SMIDS\\Abnormal_Sperm\\aug_Abnormal_Sperm (807).bmp\n",
      "Saved: C:\\Users\\User\\Documents\\sperm_project\\SMIDS\\Abnormal_Sperm\\aug_Abnormal_Sperm (808).bmp\n",
      "Saved: C:\\Users\\User\\Documents\\sperm_project\\SMIDS\\Abnormal_Sperm\\aug_Abnormal_Sperm (809).bmp\n"
     ]
    },
    {
     "name": "stderr",
     "output_type": "stream",
     "text": [
      "Augmenting Abnormal_Sperm:  80%|████████  | 804/1005 [00:17<00:04, 45.93it/s]"
     ]
    },
    {
     "name": "stdout",
     "output_type": "stream",
     "text": [
      "Saved: C:\\Users\\User\\Documents\\sperm_project\\SMIDS\\Abnormal_Sperm\\aug_Abnormal_Sperm (81).bmp\n",
      "Saved: C:\\Users\\User\\Documents\\sperm_project\\SMIDS\\Abnormal_Sperm\\aug_Abnormal_Sperm (810).bmp\n",
      "Saved: C:\\Users\\User\\Documents\\sperm_project\\SMIDS\\Abnormal_Sperm\\aug_Abnormal_Sperm (811).bmp\n",
      "Saved: C:\\Users\\User\\Documents\\sperm_project\\SMIDS\\Abnormal_Sperm\\aug_Abnormal_Sperm (812).bmp\n",
      "Saved: C:\\Users\\User\\Documents\\sperm_project\\SMIDS\\Abnormal_Sperm\\aug_Abnormal_Sperm (813).bmp\n",
      "Saved: C:\\Users\\User\\Documents\\sperm_project\\SMIDS\\Abnormal_Sperm\\aug_Abnormal_Sperm (814).bmp\n",
      "Saved: C:\\Users\\User\\Documents\\sperm_project\\SMIDS\\Abnormal_Sperm\\aug_Abnormal_Sperm (815).bmp\n",
      "Saved: C:\\Users\\User\\Documents\\sperm_project\\SMIDS\\Abnormal_Sperm\\aug_Abnormal_Sperm (816).bmp\n",
      "Saved: C:\\Users\\User\\Documents\\sperm_project\\SMIDS\\Abnormal_Sperm\\aug_Abnormal_Sperm (817).bmp\n",
      "Saved: C:\\Users\\User\\Documents\\sperm_project\\SMIDS\\Abnormal_Sperm\\aug_Abnormal_Sperm (818).bmp\n",
      "Saved: C:\\Users\\User\\Documents\\sperm_project\\SMIDS\\Abnormal_Sperm\\aug_Abnormal_Sperm (819).bmp\n"
     ]
    },
    {
     "name": "stderr",
     "output_type": "stream",
     "text": [
      "Augmenting Abnormal_Sperm:  81%|████████  | 814/1005 [00:17<00:04, 47.02it/s]"
     ]
    },
    {
     "name": "stdout",
     "output_type": "stream",
     "text": [
      "Saved: C:\\Users\\User\\Documents\\sperm_project\\SMIDS\\Abnormal_Sperm\\aug_Abnormal_Sperm (82).bmp\n",
      "Saved: C:\\Users\\User\\Documents\\sperm_project\\SMIDS\\Abnormal_Sperm\\aug_Abnormal_Sperm (820).bmp\n",
      "Saved: C:\\Users\\User\\Documents\\sperm_project\\SMIDS\\Abnormal_Sperm\\aug_Abnormal_Sperm (821).bmp\n",
      "Saved: C:\\Users\\User\\Documents\\sperm_project\\SMIDS\\Abnormal_Sperm\\aug_Abnormal_Sperm (822).bmp\n",
      "Saved: C:\\Users\\User\\Documents\\sperm_project\\SMIDS\\Abnormal_Sperm\\aug_Abnormal_Sperm (823).bmp\n",
      "Saved: C:\\Users\\User\\Documents\\sperm_project\\SMIDS\\Abnormal_Sperm\\aug_Abnormal_Sperm (824).bmp\n",
      "Saved: C:\\Users\\User\\Documents\\sperm_project\\SMIDS\\Abnormal_Sperm\\aug_Abnormal_Sperm (825).bmp\n",
      "Saved: C:\\Users\\User\\Documents\\sperm_project\\SMIDS\\Abnormal_Sperm\\aug_Abnormal_Sperm (826).bmp\n",
      "Saved: C:\\Users\\User\\Documents\\sperm_project\\SMIDS\\Abnormal_Sperm\\aug_Abnormal_Sperm (827).bmp\n",
      "Saved: C:\\Users\\User\\Documents\\sperm_project\\SMIDS\\Abnormal_Sperm\\aug_Abnormal_Sperm (828).bmp\n"
     ]
    },
    {
     "name": "stderr",
     "output_type": "stream",
     "text": [
      "Augmenting Abnormal_Sperm:  82%|████████▏ | 824/1005 [00:18<00:03, 47.26it/s]"
     ]
    },
    {
     "name": "stdout",
     "output_type": "stream",
     "text": [
      "Saved: C:\\Users\\User\\Documents\\sperm_project\\SMIDS\\Abnormal_Sperm\\aug_Abnormal_Sperm (829).bmp\n",
      "Saved: C:\\Users\\User\\Documents\\sperm_project\\SMIDS\\Abnormal_Sperm\\aug_Abnormal_Sperm (83).bmp\n",
      "Saved: C:\\Users\\User\\Documents\\sperm_project\\SMIDS\\Abnormal_Sperm\\aug_Abnormal_Sperm (830).bmp\n",
      "Saved: C:\\Users\\User\\Documents\\sperm_project\\SMIDS\\Abnormal_Sperm\\aug_Abnormal_Sperm (831).bmp\n",
      "Saved: C:\\Users\\User\\Documents\\sperm_project\\SMIDS\\Abnormal_Sperm\\aug_Abnormal_Sperm (832).bmp\n",
      "Saved: C:\\Users\\User\\Documents\\sperm_project\\SMIDS\\Abnormal_Sperm\\aug_Abnormal_Sperm (833).bmp\n",
      "Saved: C:\\Users\\User\\Documents\\sperm_project\\SMIDS\\Abnormal_Sperm\\aug_Abnormal_Sperm (834).bmp\n",
      "Saved: C:\\Users\\User\\Documents\\sperm_project\\SMIDS\\Abnormal_Sperm\\aug_Abnormal_Sperm (835).bmp\n",
      "Saved: C:\\Users\\User\\Documents\\sperm_project\\SMIDS\\Abnormal_Sperm\\aug_Abnormal_Sperm (836).bmp\n",
      "Saved: C:\\Users\\User\\Documents\\sperm_project\\SMIDS\\Abnormal_Sperm\\aug_Abnormal_Sperm (837).bmp\n"
     ]
    },
    {
     "name": "stderr",
     "output_type": "stream",
     "text": [
      "Augmenting Abnormal_Sperm:  83%|████████▎ | 834/1005 [00:18<00:03, 46.22it/s]"
     ]
    },
    {
     "name": "stdout",
     "output_type": "stream",
     "text": [
      "Saved: C:\\Users\\User\\Documents\\sperm_project\\SMIDS\\Abnormal_Sperm\\aug_Abnormal_Sperm (838).bmp\n",
      "Saved: C:\\Users\\User\\Documents\\sperm_project\\SMIDS\\Abnormal_Sperm\\aug_Abnormal_Sperm (839).bmp\n",
      "Saved: C:\\Users\\User\\Documents\\sperm_project\\SMIDS\\Abnormal_Sperm\\aug_Abnormal_Sperm (84).bmp\n",
      "Saved: C:\\Users\\User\\Documents\\sperm_project\\SMIDS\\Abnormal_Sperm\\aug_Abnormal_Sperm (840).bmp\n",
      "Saved: C:\\Users\\User\\Documents\\sperm_project\\SMIDS\\Abnormal_Sperm\\aug_Abnormal_Sperm (841).bmp\n",
      "Saved: C:\\Users\\User\\Documents\\sperm_project\\SMIDS\\Abnormal_Sperm\\aug_Abnormal_Sperm (842).bmp\n",
      "Saved: C:\\Users\\User\\Documents\\sperm_project\\SMIDS\\Abnormal_Sperm\\aug_Abnormal_Sperm (843).bmp\n",
      "Saved: C:\\Users\\User\\Documents\\sperm_project\\SMIDS\\Abnormal_Sperm\\aug_Abnormal_Sperm (844).bmp\n",
      "Saved: C:\\Users\\User\\Documents\\sperm_project\\SMIDS\\Abnormal_Sperm\\aug_Abnormal_Sperm (845).bmp\n",
      "Saved: C:\\Users\\User\\Documents\\sperm_project\\SMIDS\\Abnormal_Sperm\\aug_Abnormal_Sperm (846).bmp\n"
     ]
    },
    {
     "name": "stderr",
     "output_type": "stream",
     "text": [
      "Augmenting Abnormal_Sperm:  84%|████████▍ | 844/1005 [00:18<00:03, 45.87it/s]"
     ]
    },
    {
     "name": "stdout",
     "output_type": "stream",
     "text": [
      "Saved: C:\\Users\\User\\Documents\\sperm_project\\SMIDS\\Abnormal_Sperm\\aug_Abnormal_Sperm (847).bmp\n",
      "Saved: C:\\Users\\User\\Documents\\sperm_project\\SMIDS\\Abnormal_Sperm\\aug_Abnormal_Sperm (848).bmp\n",
      "Saved: C:\\Users\\User\\Documents\\sperm_project\\SMIDS\\Abnormal_Sperm\\aug_Abnormal_Sperm (849).bmp\n",
      "Saved: C:\\Users\\User\\Documents\\sperm_project\\SMIDS\\Abnormal_Sperm\\aug_Abnormal_Sperm (85).bmp\n",
      "Saved: C:\\Users\\User\\Documents\\sperm_project\\SMIDS\\Abnormal_Sperm\\aug_Abnormal_Sperm (850).bmp\n",
      "Saved: C:\\Users\\User\\Documents\\sperm_project\\SMIDS\\Abnormal_Sperm\\aug_Abnormal_Sperm (851).bmp\n",
      "Saved: C:\\Users\\User\\Documents\\sperm_project\\SMIDS\\Abnormal_Sperm\\aug_Abnormal_Sperm (852).bmp\n",
      "Saved: C:\\Users\\User\\Documents\\sperm_project\\SMIDS\\Abnormal_Sperm\\aug_Abnormal_Sperm (853).bmp\n",
      "Saved: C:\\Users\\User\\Documents\\sperm_project\\SMIDS\\Abnormal_Sperm\\aug_Abnormal_Sperm (854).bmp\n",
      "Saved: C:\\Users\\User\\Documents\\sperm_project\\SMIDS\\Abnormal_Sperm\\aug_Abnormal_Sperm (855).bmp\n"
     ]
    },
    {
     "name": "stderr",
     "output_type": "stream",
     "text": [
      "Augmenting Abnormal_Sperm:  85%|████████▍ | 854/1005 [00:18<00:03, 43.80it/s]"
     ]
    },
    {
     "name": "stdout",
     "output_type": "stream",
     "text": [
      "Saved: C:\\Users\\User\\Documents\\sperm_project\\SMIDS\\Abnormal_Sperm\\aug_Abnormal_Sperm (856).bmp\n",
      "Saved: C:\\Users\\User\\Documents\\sperm_project\\SMIDS\\Abnormal_Sperm\\aug_Abnormal_Sperm (857).bmp\n",
      "Saved: C:\\Users\\User\\Documents\\sperm_project\\SMIDS\\Abnormal_Sperm\\aug_Abnormal_Sperm (858).bmp\n",
      "Saved: C:\\Users\\User\\Documents\\sperm_project\\SMIDS\\Abnormal_Sperm\\aug_Abnormal_Sperm (859).bmp\n",
      "Saved: C:\\Users\\User\\Documents\\sperm_project\\SMIDS\\Abnormal_Sperm\\aug_Abnormal_Sperm (86).bmp\n",
      "Saved: C:\\Users\\User\\Documents\\sperm_project\\SMIDS\\Abnormal_Sperm\\aug_Abnormal_Sperm (860).bmp\n",
      "Saved: C:\\Users\\User\\Documents\\sperm_project\\SMIDS\\Abnormal_Sperm\\aug_Abnormal_Sperm (861).bmp\n",
      "Saved: C:\\Users\\User\\Documents\\sperm_project\\SMIDS\\Abnormal_Sperm\\aug_Abnormal_Sperm (862).bmp\n",
      "Saved: C:\\Users\\User\\Documents\\sperm_project\\SMIDS\\Abnormal_Sperm\\aug_Abnormal_Sperm (863).bmp\n"
     ]
    },
    {
     "name": "stderr",
     "output_type": "stream",
     "text": [
      "Augmenting Abnormal_Sperm:  86%|████████▌ | 860/1005 [00:18<00:03, 45.73it/s]"
     ]
    },
    {
     "name": "stdout",
     "output_type": "stream",
     "text": [
      "Saved: C:\\Users\\User\\Documents\\sperm_project\\SMIDS\\Abnormal_Sperm\\aug_Abnormal_Sperm (864).bmp\n",
      "Saved: C:\\Users\\User\\Documents\\sperm_project\\SMIDS\\Abnormal_Sperm\\aug_Abnormal_Sperm (865).bmp\n",
      "Saved: C:\\Users\\User\\Documents\\sperm_project\\SMIDS\\Abnormal_Sperm\\aug_Abnormal_Sperm (866).bmp\n",
      "Saved: C:\\Users\\User\\Documents\\sperm_project\\SMIDS\\Abnormal_Sperm\\aug_Abnormal_Sperm (867).bmp\n",
      "Saved: C:\\Users\\User\\Documents\\sperm_project\\SMIDS\\Abnormal_Sperm\\aug_Abnormal_Sperm (868).bmp\n",
      "Saved: C:\\Users\\User\\Documents\\sperm_project\\SMIDS\\Abnormal_Sperm\\aug_Abnormal_Sperm (869).bmp\n",
      "Saved: C:\\Users\\User\\Documents\\sperm_project\\SMIDS\\Abnormal_Sperm\\aug_Abnormal_Sperm (87).bmp\n",
      "Saved: C:\\Users\\User\\Documents\\sperm_project\\SMIDS\\Abnormal_Sperm\\aug_Abnormal_Sperm (870).bmp\n",
      "Saved: C:\\Users\\User\\Documents\\sperm_project\\SMIDS\\Abnormal_Sperm\\aug_Abnormal_Sperm (871).bmp\n",
      "Saved: C:\\Users\\User\\Documents\\sperm_project\\SMIDS\\Abnormal_Sperm\\aug_Abnormal_Sperm (872).bmp\n",
      "Saved: C:\\Users\\User\\Documents\\sperm_project\\SMIDS\\Abnormal_Sperm\\aug_Abnormal_Sperm (873).bmp\n"
     ]
    },
    {
     "name": "stderr",
     "output_type": "stream",
     "text": [
      "Augmenting Abnormal_Sperm:  87%|████████▋ | 876/1005 [00:19<00:02, 47.78it/s]"
     ]
    },
    {
     "name": "stdout",
     "output_type": "stream",
     "text": [
      "Saved: C:\\Users\\User\\Documents\\sperm_project\\SMIDS\\Abnormal_Sperm\\aug_Abnormal_Sperm (874).bmp\n",
      "Saved: C:\\Users\\User\\Documents\\sperm_project\\SMIDS\\Abnormal_Sperm\\aug_Abnormal_Sperm (875).bmp\n",
      "Saved: C:\\Users\\User\\Documents\\sperm_project\\SMIDS\\Abnormal_Sperm\\aug_Abnormal_Sperm (876).bmp\n",
      "Saved: C:\\Users\\User\\Documents\\sperm_project\\SMIDS\\Abnormal_Sperm\\aug_Abnormal_Sperm (877).bmp\n",
      "Saved: C:\\Users\\User\\Documents\\sperm_project\\SMIDS\\Abnormal_Sperm\\aug_Abnormal_Sperm (878).bmp\n",
      "Saved: C:\\Users\\User\\Documents\\sperm_project\\SMIDS\\Abnormal_Sperm\\aug_Abnormal_Sperm (879).bmp\n",
      "Saved: C:\\Users\\User\\Documents\\sperm_project\\SMIDS\\Abnormal_Sperm\\aug_Abnormal_Sperm (88).bmp\n",
      "Saved: C:\\Users\\User\\Documents\\sperm_project\\SMIDS\\Abnormal_Sperm\\aug_Abnormal_Sperm (880).bmp\n",
      "Saved: C:\\Users\\User\\Documents\\sperm_project\\SMIDS\\Abnormal_Sperm\\aug_Abnormal_Sperm (881).bmp\n",
      "Saved: C:\\Users\\User\\Documents\\sperm_project\\SMIDS\\Abnormal_Sperm\\aug_Abnormal_Sperm (882).bmp\n"
     ]
    },
    {
     "name": "stderr",
     "output_type": "stream",
     "text": [
      "Augmenting Abnormal_Sperm:  88%|████████▊ | 882/1005 [00:19<00:02, 49.28it/s]"
     ]
    },
    {
     "name": "stdout",
     "output_type": "stream",
     "text": [
      "Saved: C:\\Users\\User\\Documents\\sperm_project\\SMIDS\\Abnormal_Sperm\\aug_Abnormal_Sperm (883).bmp\n",
      "Saved: C:\\Users\\User\\Documents\\sperm_project\\SMIDS\\Abnormal_Sperm\\aug_Abnormal_Sperm (884).bmp\n",
      "Saved: C:\\Users\\User\\Documents\\sperm_project\\SMIDS\\Abnormal_Sperm\\aug_Abnormal_Sperm (885).bmp\n",
      "Saved: C:\\Users\\User\\Documents\\sperm_project\\SMIDS\\Abnormal_Sperm\\aug_Abnormal_Sperm (886).bmp\n",
      "Saved: C:\\Users\\User\\Documents\\sperm_project\\SMIDS\\Abnormal_Sperm\\aug_Abnormal_Sperm (887).bmp\n",
      "Saved: C:\\Users\\User\\Documents\\sperm_project\\SMIDS\\Abnormal_Sperm\\aug_Abnormal_Sperm (888).bmp\n",
      "Saved: C:\\Users\\User\\Documents\\sperm_project\\SMIDS\\Abnormal_Sperm\\aug_Abnormal_Sperm (889).bmp\n",
      "Saved: C:\\Users\\User\\Documents\\sperm_project\\SMIDS\\Abnormal_Sperm\\aug_Abnormal_Sperm (89).bmp\n",
      "Saved: C:\\Users\\User\\Documents\\sperm_project\\SMIDS\\Abnormal_Sperm\\aug_Abnormal_Sperm (890).bmp\n",
      "Saved: C:\\Users\\User\\Documents\\sperm_project\\SMIDS\\Abnormal_Sperm\\aug_Abnormal_Sperm (891).bmp\n"
     ]
    },
    {
     "name": "stderr",
     "output_type": "stream",
     "text": [
      "Augmenting Abnormal_Sperm:  89%|████████▉ | 893/1005 [00:19<00:02, 50.20it/s]"
     ]
    },
    {
     "name": "stdout",
     "output_type": "stream",
     "text": [
      "Saved: C:\\Users\\User\\Documents\\sperm_project\\SMIDS\\Abnormal_Sperm\\aug_Abnormal_Sperm (892).bmp\n",
      "Saved: C:\\Users\\User\\Documents\\sperm_project\\SMIDS\\Abnormal_Sperm\\aug_Abnormal_Sperm (893).bmp\n",
      "Saved: C:\\Users\\User\\Documents\\sperm_project\\SMIDS\\Abnormal_Sperm\\aug_Abnormal_Sperm (894).bmp\n",
      "Saved: C:\\Users\\User\\Documents\\sperm_project\\SMIDS\\Abnormal_Sperm\\aug_Abnormal_Sperm (895).bmp\n",
      "Saved: C:\\Users\\User\\Documents\\sperm_project\\SMIDS\\Abnormal_Sperm\\aug_Abnormal_Sperm (896).bmp\n",
      "Saved: C:\\Users\\User\\Documents\\sperm_project\\SMIDS\\Abnormal_Sperm\\aug_Abnormal_Sperm (897).bmp\n",
      "Saved: C:\\Users\\User\\Documents\\sperm_project\\SMIDS\\Abnormal_Sperm\\aug_Abnormal_Sperm (898).bmp\n",
      "Saved: C:\\Users\\User\\Documents\\sperm_project\\SMIDS\\Abnormal_Sperm\\aug_Abnormal_Sperm (899).bmp\n",
      "Saved: C:\\Users\\User\\Documents\\sperm_project\\SMIDS\\Abnormal_Sperm\\aug_Abnormal_Sperm (9).bmp\n",
      "Saved: C:\\Users\\User\\Documents\\sperm_project\\SMIDS\\Abnormal_Sperm\\aug_Abnormal_Sperm (90).bmp\n",
      "Saved: C:\\Users\\User\\Documents\\sperm_project\\SMIDS\\Abnormal_Sperm\\aug_Abnormal_Sperm (900).bmp\n",
      "Saved: C:\\Users\\User\\Documents\\sperm_project\\SMIDS\\Abnormal_Sperm\\aug_Abnormal_Sperm (901).bmp\n"
     ]
    },
    {
     "name": "stderr",
     "output_type": "stream",
     "text": [
      "Augmenting Abnormal_Sperm:  90%|█████████ | 905/1005 [00:19<00:01, 50.55it/s]"
     ]
    },
    {
     "name": "stdout",
     "output_type": "stream",
     "text": [
      "Saved: C:\\Users\\User\\Documents\\sperm_project\\SMIDS\\Abnormal_Sperm\\aug_Abnormal_Sperm (902).bmp\n",
      "Saved: C:\\Users\\User\\Documents\\sperm_project\\SMIDS\\Abnormal_Sperm\\aug_Abnormal_Sperm (903).bmp\n",
      "Saved: C:\\Users\\User\\Documents\\sperm_project\\SMIDS\\Abnormal_Sperm\\aug_Abnormal_Sperm (904).bmp\n",
      "Saved: C:\\Users\\User\\Documents\\sperm_project\\SMIDS\\Abnormal_Sperm\\aug_Abnormal_Sperm (905).bmp\n",
      "Saved: C:\\Users\\User\\Documents\\sperm_project\\SMIDS\\Abnormal_Sperm\\aug_Abnormal_Sperm (906).bmp\n",
      "Saved: C:\\Users\\User\\Documents\\sperm_project\\SMIDS\\Abnormal_Sperm\\aug_Abnormal_Sperm (907).bmp\n",
      "Saved: C:\\Users\\User\\Documents\\sperm_project\\SMIDS\\Abnormal_Sperm\\aug_Abnormal_Sperm (908).bmp\n",
      "Saved: C:\\Users\\User\\Documents\\sperm_project\\SMIDS\\Abnormal_Sperm\\aug_Abnormal_Sperm (909).bmp\n",
      "Saved: C:\\Users\\User\\Documents\\sperm_project\\SMIDS\\Abnormal_Sperm\\aug_Abnormal_Sperm (91).bmp\n",
      "Saved: C:\\Users\\User\\Documents\\sperm_project\\SMIDS\\Abnormal_Sperm\\aug_Abnormal_Sperm (910).bmp\n",
      "Saved: C:\\Users\\User\\Documents\\sperm_project\\SMIDS\\Abnormal_Sperm\\aug_Abnormal_Sperm (911).bmp\n"
     ]
    },
    {
     "name": "stderr",
     "output_type": "stream",
     "text": [
      "Augmenting Abnormal_Sperm:  91%|█████████ | 917/1005 [00:19<00:01, 51.09it/s]"
     ]
    },
    {
     "name": "stdout",
     "output_type": "stream",
     "text": [
      "Saved: C:\\Users\\User\\Documents\\sperm_project\\SMIDS\\Abnormal_Sperm\\aug_Abnormal_Sperm (912).bmp\n",
      "Saved: C:\\Users\\User\\Documents\\sperm_project\\SMIDS\\Abnormal_Sperm\\aug_Abnormal_Sperm (913).bmp\n",
      "Saved: C:\\Users\\User\\Documents\\sperm_project\\SMIDS\\Abnormal_Sperm\\aug_Abnormal_Sperm (914).bmp\n",
      "Saved: C:\\Users\\User\\Documents\\sperm_project\\SMIDS\\Abnormal_Sperm\\aug_Abnormal_Sperm (915).bmp\n",
      "Saved: C:\\Users\\User\\Documents\\sperm_project\\SMIDS\\Abnormal_Sperm\\aug_Abnormal_Sperm (916).bmp\n",
      "Saved: C:\\Users\\User\\Documents\\sperm_project\\SMIDS\\Abnormal_Sperm\\aug_Abnormal_Sperm (917).bmp\n",
      "Saved: C:\\Users\\User\\Documents\\sperm_project\\SMIDS\\Abnormal_Sperm\\aug_Abnormal_Sperm (918).bmp\n",
      "Saved: C:\\Users\\User\\Documents\\sperm_project\\SMIDS\\Abnormal_Sperm\\aug_Abnormal_Sperm (919).bmp\n",
      "Saved: C:\\Users\\User\\Documents\\sperm_project\\SMIDS\\Abnormal_Sperm\\aug_Abnormal_Sperm (92).bmp\n",
      "Saved: C:\\Users\\User\\Documents\\sperm_project\\SMIDS\\Abnormal_Sperm\\aug_Abnormal_Sperm (920).bmp\n",
      "Saved: C:\\Users\\User\\Documents\\sperm_project\\SMIDS\\Abnormal_Sperm\\aug_Abnormal_Sperm (921).bmp\n"
     ]
    },
    {
     "name": "stderr",
     "output_type": "stream",
     "text": [
      "Augmenting Abnormal_Sperm:  92%|█████████▏| 929/1005 [00:20<00:01, 49.65it/s]"
     ]
    },
    {
     "name": "stdout",
     "output_type": "stream",
     "text": [
      "Saved: C:\\Users\\User\\Documents\\sperm_project\\SMIDS\\Abnormal_Sperm\\aug_Abnormal_Sperm (922).bmp\n",
      "Saved: C:\\Users\\User\\Documents\\sperm_project\\SMIDS\\Abnormal_Sperm\\aug_Abnormal_Sperm (923).bmp\n",
      "Saved: C:\\Users\\User\\Documents\\sperm_project\\SMIDS\\Abnormal_Sperm\\aug_Abnormal_Sperm (924).bmp\n",
      "Saved: C:\\Users\\User\\Documents\\sperm_project\\SMIDS\\Abnormal_Sperm\\aug_Abnormal_Sperm (925).bmp\n",
      "Saved: C:\\Users\\User\\Documents\\sperm_project\\SMIDS\\Abnormal_Sperm\\aug_Abnormal_Sperm (926).bmp\n",
      "Saved: C:\\Users\\User\\Documents\\sperm_project\\SMIDS\\Abnormal_Sperm\\aug_Abnormal_Sperm (927).bmp\n",
      "Saved: C:\\Users\\User\\Documents\\sperm_project\\SMIDS\\Abnormal_Sperm\\aug_Abnormal_Sperm (928).bmp\n",
      "Saved: C:\\Users\\User\\Documents\\sperm_project\\SMIDS\\Abnormal_Sperm\\aug_Abnormal_Sperm (929).bmp\n",
      "Saved: C:\\Users\\User\\Documents\\sperm_project\\SMIDS\\Abnormal_Sperm\\aug_Abnormal_Sperm (93).bmp\n",
      "Saved: C:\\Users\\User\\Documents\\sperm_project\\SMIDS\\Abnormal_Sperm\\aug_Abnormal_Sperm (930).bmp\n"
     ]
    },
    {
     "name": "stderr",
     "output_type": "stream",
     "text": [
      "Augmenting Abnormal_Sperm:  94%|█████████▎| 940/1005 [00:20<00:01, 49.15it/s]"
     ]
    },
    {
     "name": "stdout",
     "output_type": "stream",
     "text": [
      "Saved: C:\\Users\\User\\Documents\\sperm_project\\SMIDS\\Abnormal_Sperm\\aug_Abnormal_Sperm (931).bmp\n",
      "Saved: C:\\Users\\User\\Documents\\sperm_project\\SMIDS\\Abnormal_Sperm\\aug_Abnormal_Sperm (932).bmp\n",
      "Saved: C:\\Users\\User\\Documents\\sperm_project\\SMIDS\\Abnormal_Sperm\\aug_Abnormal_Sperm (933).bmp\n",
      "Saved: C:\\Users\\User\\Documents\\sperm_project\\SMIDS\\Abnormal_Sperm\\aug_Abnormal_Sperm (934).bmp\n",
      "Saved: C:\\Users\\User\\Documents\\sperm_project\\SMIDS\\Abnormal_Sperm\\aug_Abnormal_Sperm (935).bmp\n",
      "Saved: C:\\Users\\User\\Documents\\sperm_project\\SMIDS\\Abnormal_Sperm\\aug_Abnormal_Sperm (936).bmp\n",
      "Saved: C:\\Users\\User\\Documents\\sperm_project\\SMIDS\\Abnormal_Sperm\\aug_Abnormal_Sperm (937).bmp\n",
      "Saved: C:\\Users\\User\\Documents\\sperm_project\\SMIDS\\Abnormal_Sperm\\aug_Abnormal_Sperm (938).bmp\n",
      "Saved: C:\\Users\\User\\Documents\\sperm_project\\SMIDS\\Abnormal_Sperm\\aug_Abnormal_Sperm (939).bmp\n",
      "Saved: C:\\Users\\User\\Documents\\sperm_project\\SMIDS\\Abnormal_Sperm\\aug_Abnormal_Sperm (94).bmp\n"
     ]
    },
    {
     "name": "stderr",
     "output_type": "stream",
     "text": [
      "Augmenting Abnormal_Sperm:  95%|█████████▍| 951/1005 [00:20<00:01, 49.25it/s]"
     ]
    },
    {
     "name": "stdout",
     "output_type": "stream",
     "text": [
      "Saved: C:\\Users\\User\\Documents\\sperm_project\\SMIDS\\Abnormal_Sperm\\aug_Abnormal_Sperm (940).bmp\n",
      "Saved: C:\\Users\\User\\Documents\\sperm_project\\SMIDS\\Abnormal_Sperm\\aug_Abnormal_Sperm (941).bmp\n",
      "Saved: C:\\Users\\User\\Documents\\sperm_project\\SMIDS\\Abnormal_Sperm\\aug_Abnormal_Sperm (942).bmp\n",
      "Saved: C:\\Users\\User\\Documents\\sperm_project\\SMIDS\\Abnormal_Sperm\\aug_Abnormal_Sperm (943).bmp\n",
      "Saved: C:\\Users\\User\\Documents\\sperm_project\\SMIDS\\Abnormal_Sperm\\aug_Abnormal_Sperm (944).bmp\n",
      "Saved: C:\\Users\\User\\Documents\\sperm_project\\SMIDS\\Abnormal_Sperm\\aug_Abnormal_Sperm (945).bmp\n",
      "Saved: C:\\Users\\User\\Documents\\sperm_project\\SMIDS\\Abnormal_Sperm\\aug_Abnormal_Sperm (946).bmp\n",
      "Saved: C:\\Users\\User\\Documents\\sperm_project\\SMIDS\\Abnormal_Sperm\\aug_Abnormal_Sperm (947).bmp\n",
      "Saved: C:\\Users\\User\\Documents\\sperm_project\\SMIDS\\Abnormal_Sperm\\aug_Abnormal_Sperm (948).bmp\n",
      "Saved: C:\\Users\\User\\Documents\\sperm_project\\SMIDS\\Abnormal_Sperm\\aug_Abnormal_Sperm (949).bmp\n",
      "Saved: C:\\Users\\User\\Documents\\sperm_project\\SMIDS\\Abnormal_Sperm\\aug_Abnormal_Sperm (95).bmp\n"
     ]
    },
    {
     "name": "stderr",
     "output_type": "stream",
     "text": [
      "Augmenting Abnormal_Sperm:  95%|█████████▌| 957/1005 [00:20<00:00, 50.42it/s]"
     ]
    },
    {
     "name": "stdout",
     "output_type": "stream",
     "text": [
      "Saved: C:\\Users\\User\\Documents\\sperm_project\\SMIDS\\Abnormal_Sperm\\aug_Abnormal_Sperm (950).bmp\n",
      "Saved: C:\\Users\\User\\Documents\\sperm_project\\SMIDS\\Abnormal_Sperm\\aug_Abnormal_Sperm (951).bmp\n",
      "Saved: C:\\Users\\User\\Documents\\sperm_project\\SMIDS\\Abnormal_Sperm\\aug_Abnormal_Sperm (952).bmp\n",
      "Saved: C:\\Users\\User\\Documents\\sperm_project\\SMIDS\\Abnormal_Sperm\\aug_Abnormal_Sperm (953).bmp\n",
      "Saved: C:\\Users\\User\\Documents\\sperm_project\\SMIDS\\Abnormal_Sperm\\aug_Abnormal_Sperm (954).bmp\n",
      "Saved: C:\\Users\\User\\Documents\\sperm_project\\SMIDS\\Abnormal_Sperm\\aug_Abnormal_Sperm (955).bmp\n",
      "Saved: C:\\Users\\User\\Documents\\sperm_project\\SMIDS\\Abnormal_Sperm\\aug_Abnormal_Sperm (956).bmp\n",
      "Saved: C:\\Users\\User\\Documents\\sperm_project\\SMIDS\\Abnormal_Sperm\\aug_Abnormal_Sperm (957).bmp\n",
      "Saved: C:\\Users\\User\\Documents\\sperm_project\\SMIDS\\Abnormal_Sperm\\aug_Abnormal_Sperm (958).bmp\n",
      "Saved: C:\\Users\\User\\Documents\\sperm_project\\SMIDS\\Abnormal_Sperm\\aug_Abnormal_Sperm (959).bmp\n"
     ]
    },
    {
     "name": "stderr",
     "output_type": "stream",
     "text": [
      "Augmenting Abnormal_Sperm:  96%|█████████▋| 969/1005 [00:21<00:00, 49.13it/s]"
     ]
    },
    {
     "name": "stdout",
     "output_type": "stream",
     "text": [
      "Saved: C:\\Users\\User\\Documents\\sperm_project\\SMIDS\\Abnormal_Sperm\\aug_Abnormal_Sperm (96).bmp\n",
      "Saved: C:\\Users\\User\\Documents\\sperm_project\\SMIDS\\Abnormal_Sperm\\aug_Abnormal_Sperm (960).bmp\n",
      "Saved: C:\\Users\\User\\Documents\\sperm_project\\SMIDS\\Abnormal_Sperm\\aug_Abnormal_Sperm (961).bmp\n",
      "Saved: C:\\Users\\User\\Documents\\sperm_project\\SMIDS\\Abnormal_Sperm\\aug_Abnormal_Sperm (962).bmp\n",
      "Saved: C:\\Users\\User\\Documents\\sperm_project\\SMIDS\\Abnormal_Sperm\\aug_Abnormal_Sperm (963).bmp\n",
      "Saved: C:\\Users\\User\\Documents\\sperm_project\\SMIDS\\Abnormal_Sperm\\aug_Abnormal_Sperm (964).bmp\n",
      "Saved: C:\\Users\\User\\Documents\\sperm_project\\SMIDS\\Abnormal_Sperm\\aug_Abnormal_Sperm (965).bmp\n",
      "Saved: C:\\Users\\User\\Documents\\sperm_project\\SMIDS\\Abnormal_Sperm\\aug_Abnormal_Sperm (966).bmp\n",
      "Saved: C:\\Users\\User\\Documents\\sperm_project\\SMIDS\\Abnormal_Sperm\\aug_Abnormal_Sperm (967).bmp\n",
      "Saved: C:\\Users\\User\\Documents\\sperm_project\\SMIDS\\Abnormal_Sperm\\aug_Abnormal_Sperm (968).bmp\n",
      "Saved: C:\\Users\\User\\Documents\\sperm_project\\SMIDS\\Abnormal_Sperm\\aug_Abnormal_Sperm (969).bmp\n"
     ]
    },
    {
     "name": "stderr",
     "output_type": "stream",
     "text": [
      "Augmenting Abnormal_Sperm:  98%|█████████▊| 981/1005 [00:21<00:00, 50.43it/s]"
     ]
    },
    {
     "name": "stdout",
     "output_type": "stream",
     "text": [
      "Saved: C:\\Users\\User\\Documents\\sperm_project\\SMIDS\\Abnormal_Sperm\\aug_Abnormal_Sperm (97).bmp\n",
      "Saved: C:\\Users\\User\\Documents\\sperm_project\\SMIDS\\Abnormal_Sperm\\aug_Abnormal_Sperm (970).bmp\n",
      "Saved: C:\\Users\\User\\Documents\\sperm_project\\SMIDS\\Abnormal_Sperm\\aug_Abnormal_Sperm (971).bmp\n",
      "Saved: C:\\Users\\User\\Documents\\sperm_project\\SMIDS\\Abnormal_Sperm\\aug_Abnormal_Sperm (972).bmp\n",
      "Saved: C:\\Users\\User\\Documents\\sperm_project\\SMIDS\\Abnormal_Sperm\\aug_Abnormal_Sperm (973).bmp\n",
      "Saved: C:\\Users\\User\\Documents\\sperm_project\\SMIDS\\Abnormal_Sperm\\aug_Abnormal_Sperm (974).bmp\n",
      "Saved: C:\\Users\\User\\Documents\\sperm_project\\SMIDS\\Abnormal_Sperm\\aug_Abnormal_Sperm (975).bmp\n",
      "Saved: C:\\Users\\User\\Documents\\sperm_project\\SMIDS\\Abnormal_Sperm\\aug_Abnormal_Sperm (976).bmp\n",
      "Saved: C:\\Users\\User\\Documents\\sperm_project\\SMIDS\\Abnormal_Sperm\\aug_Abnormal_Sperm (977).bmp\n",
      "Saved: C:\\Users\\User\\Documents\\sperm_project\\SMIDS\\Abnormal_Sperm\\aug_Abnormal_Sperm (978).bmp\n",
      "Saved: C:\\Users\\User\\Documents\\sperm_project\\SMIDS\\Abnormal_Sperm\\aug_Abnormal_Sperm (979).bmp\n"
     ]
    },
    {
     "name": "stderr",
     "output_type": "stream",
     "text": [
      "Augmenting Abnormal_Sperm:  99%|█████████▊| 992/1005 [00:21<00:00, 46.57it/s]"
     ]
    },
    {
     "name": "stdout",
     "output_type": "stream",
     "text": [
      "Saved: C:\\Users\\User\\Documents\\sperm_project\\SMIDS\\Abnormal_Sperm\\aug_Abnormal_Sperm (98).bmp\n",
      "Saved: C:\\Users\\User\\Documents\\sperm_project\\SMIDS\\Abnormal_Sperm\\aug_Abnormal_Sperm (980).bmp\n",
      "Saved: C:\\Users\\User\\Documents\\sperm_project\\SMIDS\\Abnormal_Sperm\\aug_Abnormal_Sperm (981).bmp\n",
      "Saved: C:\\Users\\User\\Documents\\sperm_project\\SMIDS\\Abnormal_Sperm\\aug_Abnormal_Sperm (982).bmp\n",
      "Saved: C:\\Users\\User\\Documents\\sperm_project\\SMIDS\\Abnormal_Sperm\\aug_Abnormal_Sperm (983).bmp\n",
      "Saved: C:\\Users\\User\\Documents\\sperm_project\\SMIDS\\Abnormal_Sperm\\aug_Abnormal_Sperm (984).bmp\n",
      "Saved: C:\\Users\\User\\Documents\\sperm_project\\SMIDS\\Abnormal_Sperm\\aug_Abnormal_Sperm (985).bmp\n",
      "Saved: C:\\Users\\User\\Documents\\sperm_project\\SMIDS\\Abnormal_Sperm\\aug_Abnormal_Sperm (986).bmp\n",
      "Saved: C:\\Users\\User\\Documents\\sperm_project\\SMIDS\\Abnormal_Sperm\\aug_Abnormal_Sperm (987).bmp\n",
      "Saved: C:\\Users\\User\\Documents\\sperm_project\\SMIDS\\Abnormal_Sperm\\aug_Abnormal_Sperm (988).bmp\n"
     ]
    },
    {
     "name": "stderr",
     "output_type": "stream",
     "text": [
      "Augmenting Abnormal_Sperm: 100%|█████████▉| 1003/1005 [00:21<00:00, 49.05it/s]"
     ]
    },
    {
     "name": "stdout",
     "output_type": "stream",
     "text": [
      "Saved: C:\\Users\\User\\Documents\\sperm_project\\SMIDS\\Abnormal_Sperm\\aug_Abnormal_Sperm (989).bmp\n",
      "Saved: C:\\Users\\User\\Documents\\sperm_project\\SMIDS\\Abnormal_Sperm\\aug_Abnormal_Sperm (99).bmp\n",
      "Saved: C:\\Users\\User\\Documents\\sperm_project\\SMIDS\\Abnormal_Sperm\\aug_Abnormal_Sperm (990).bmp\n",
      "Saved: C:\\Users\\User\\Documents\\sperm_project\\SMIDS\\Abnormal_Sperm\\aug_Abnormal_Sperm (991).bmp\n",
      "Saved: C:\\Users\\User\\Documents\\sperm_project\\SMIDS\\Abnormal_Sperm\\aug_Abnormal_Sperm (992).bmp\n",
      "Saved: C:\\Users\\User\\Documents\\sperm_project\\SMIDS\\Abnormal_Sperm\\aug_Abnormal_Sperm (993).bmp\n",
      "Saved: C:\\Users\\User\\Documents\\sperm_project\\SMIDS\\Abnormal_Sperm\\aug_Abnormal_Sperm (994).bmp\n",
      "Saved: C:\\Users\\User\\Documents\\sperm_project\\SMIDS\\Abnormal_Sperm\\aug_Abnormal_Sperm (995).bmp\n",
      "Saved: C:\\Users\\User\\Documents\\sperm_project\\SMIDS\\Abnormal_Sperm\\aug_Abnormal_Sperm (996).bmp\n",
      "Saved: C:\\Users\\User\\Documents\\sperm_project\\SMIDS\\Abnormal_Sperm\\aug_Abnormal_Sperm (997).bmp\n",
      "Saved: C:\\Users\\User\\Documents\\sperm_project\\SMIDS\\Abnormal_Sperm\\aug_Abnormal_Sperm (998).bmp\n"
     ]
    },
    {
     "name": "stderr",
     "output_type": "stream",
     "text": [
      "Augmenting Abnormal_Sperm: 100%|██████████| 1005/1005 [00:21<00:00, 46.12it/s]\n"
     ]
    },
    {
     "name": "stdout",
     "output_type": "stream",
     "text": [
      "Saved: C:\\Users\\User\\Documents\\sperm_project\\SMIDS\\Abnormal_Sperm\\aug_Abnormal_Sperm (999).bmp\n",
      "Processing 974 images in C:\\Users\\User\\Documents\\sperm_project\\SMIDS\\Non-Sperm...\n"
     ]
    },
    {
     "name": "stderr",
     "output_type": "stream",
     "text": [
      "Augmenting Non-Sperm:   1%|          | 5/974 [00:00<00:21, 45.66it/s]"
     ]
    },
    {
     "name": "stdout",
     "output_type": "stream",
     "text": [
      "Saved: C:\\Users\\User\\Documents\\sperm_project\\SMIDS\\Non-Sperm\\aug_Non-Sperm (1).bmp\n",
      "Saved: C:\\Users\\User\\Documents\\sperm_project\\SMIDS\\Non-Sperm\\aug_Non-Sperm (10).bmp\n",
      "Saved: C:\\Users\\User\\Documents\\sperm_project\\SMIDS\\Non-Sperm\\aug_Non-Sperm (100).bmp\n",
      "Saved: C:\\Users\\User\\Documents\\sperm_project\\SMIDS\\Non-Sperm\\aug_Non-Sperm (101).bmp\n",
      "Saved: C:\\Users\\User\\Documents\\sperm_project\\SMIDS\\Non-Sperm\\aug_Non-Sperm (102).bmp\n",
      "Saved: C:\\Users\\User\\Documents\\sperm_project\\SMIDS\\Non-Sperm\\aug_Non-Sperm (103).bmp\n",
      "Saved: C:\\Users\\User\\Documents\\sperm_project\\SMIDS\\Non-Sperm\\aug_Non-Sperm (104).bmp\n",
      "Saved: C:\\Users\\User\\Documents\\sperm_project\\SMIDS\\Non-Sperm\\aug_Non-Sperm (105).bmp\n",
      "Saved: C:\\Users\\User\\Documents\\sperm_project\\SMIDS\\Non-Sperm\\aug_Non-Sperm (106).bmp\n",
      "Saved: C:\\Users\\User\\Documents\\sperm_project\\SMIDS\\Non-Sperm\\aug_Non-Sperm (107).bmp\n"
     ]
    },
    {
     "name": "stderr",
     "output_type": "stream",
     "text": [
      "Augmenting Non-Sperm:   2%|▏         | 17/974 [00:00<00:20, 45.79it/s]"
     ]
    },
    {
     "name": "stdout",
     "output_type": "stream",
     "text": [
      "Saved: C:\\Users\\User\\Documents\\sperm_project\\SMIDS\\Non-Sperm\\aug_Non-Sperm (108).bmp\n",
      "Saved: C:\\Users\\User\\Documents\\sperm_project\\SMIDS\\Non-Sperm\\aug_Non-Sperm (109).bmp\n",
      "Saved: C:\\Users\\User\\Documents\\sperm_project\\SMIDS\\Non-Sperm\\aug_Non-Sperm (11).bmp\n",
      "Saved: C:\\Users\\User\\Documents\\sperm_project\\SMIDS\\Non-Sperm\\aug_Non-Sperm (110).bmp\n",
      "Saved: C:\\Users\\User\\Documents\\sperm_project\\SMIDS\\Non-Sperm\\aug_Non-Sperm (111).bmp\n",
      "Saved: C:\\Users\\User\\Documents\\sperm_project\\SMIDS\\Non-Sperm\\aug_Non-Sperm (112).bmp\n",
      "Saved: C:\\Users\\User\\Documents\\sperm_project\\SMIDS\\Non-Sperm\\aug_Non-Sperm (113).bmp\n",
      "Saved: C:\\Users\\User\\Documents\\sperm_project\\SMIDS\\Non-Sperm\\aug_Non-Sperm (114).bmp\n",
      "Saved: C:\\Users\\User\\Documents\\sperm_project\\SMIDS\\Non-Sperm\\aug_Non-Sperm (115).bmp\n"
     ]
    },
    {
     "name": "stderr",
     "output_type": "stream",
     "text": [
      "Augmenting Non-Sperm:   3%|▎         | 27/974 [00:00<00:22, 42.66it/s]"
     ]
    },
    {
     "name": "stdout",
     "output_type": "stream",
     "text": [
      "Saved: C:\\Users\\User\\Documents\\sperm_project\\SMIDS\\Non-Sperm\\aug_Non-Sperm (116).bmp\n",
      "Saved: C:\\Users\\User\\Documents\\sperm_project\\SMIDS\\Non-Sperm\\aug_Non-Sperm (117).bmp\n",
      "Saved: C:\\Users\\User\\Documents\\sperm_project\\SMIDS\\Non-Sperm\\aug_Non-Sperm (118).bmp\n",
      "Saved: C:\\Users\\User\\Documents\\sperm_project\\SMIDS\\Non-Sperm\\aug_Non-Sperm (119).bmp\n",
      "Saved: C:\\Users\\User\\Documents\\sperm_project\\SMIDS\\Non-Sperm\\aug_Non-Sperm (12).bmp\n",
      "Saved: C:\\Users\\User\\Documents\\sperm_project\\SMIDS\\Non-Sperm\\aug_Non-Sperm (120).bmp\n",
      "Saved: C:\\Users\\User\\Documents\\sperm_project\\SMIDS\\Non-Sperm\\aug_Non-Sperm (121).bmp\n",
      "Saved: C:\\Users\\User\\Documents\\sperm_project\\SMIDS\\Non-Sperm\\aug_Non-Sperm (122).bmp\n",
      "Saved: C:\\Users\\User\\Documents\\sperm_project\\SMIDS\\Non-Sperm\\aug_Non-Sperm (123).bmp\n"
     ]
    },
    {
     "name": "stderr",
     "output_type": "stream",
     "text": [
      "Augmenting Non-Sperm:   3%|▎         | 33/974 [00:00<00:20, 44.99it/s]"
     ]
    },
    {
     "name": "stdout",
     "output_type": "stream",
     "text": [
      "Saved: C:\\Users\\User\\Documents\\sperm_project\\SMIDS\\Non-Sperm\\aug_Non-Sperm (124).bmp\n",
      "Saved: C:\\Users\\User\\Documents\\sperm_project\\SMIDS\\Non-Sperm\\aug_Non-Sperm (125).bmp\n",
      "Saved: C:\\Users\\User\\Documents\\sperm_project\\SMIDS\\Non-Sperm\\aug_Non-Sperm (126).bmp\n",
      "Saved: C:\\Users\\User\\Documents\\sperm_project\\SMIDS\\Non-Sperm\\aug_Non-Sperm (127).bmp\n",
      "Saved: C:\\Users\\User\\Documents\\sperm_project\\SMIDS\\Non-Sperm\\aug_Non-Sperm (128).bmp\n",
      "Saved: C:\\Users\\User\\Documents\\sperm_project\\SMIDS\\Non-Sperm\\aug_Non-Sperm (129).bmp\n",
      "Saved: C:\\Users\\User\\Documents\\sperm_project\\SMIDS\\Non-Sperm\\aug_Non-Sperm (13).bmp\n",
      "Saved: C:\\Users\\User\\Documents\\sperm_project\\SMIDS\\Non-Sperm\\aug_Non-Sperm (130).bmp\n",
      "Saved: C:\\Users\\User\\Documents\\sperm_project\\SMIDS\\Non-Sperm\\aug_Non-Sperm (131).bmp\n"
     ]
    },
    {
     "name": "stderr",
     "output_type": "stream",
     "text": [
      "Augmenting Non-Sperm:   5%|▍         | 44/974 [00:00<00:19, 47.31it/s]"
     ]
    },
    {
     "name": "stdout",
     "output_type": "stream",
     "text": [
      "Saved: C:\\Users\\User\\Documents\\sperm_project\\SMIDS\\Non-Sperm\\aug_Non-Sperm (132).bmp\n",
      "Saved: C:\\Users\\User\\Documents\\sperm_project\\SMIDS\\Non-Sperm\\aug_Non-Sperm (133).bmp\n",
      "Saved: C:\\Users\\User\\Documents\\sperm_project\\SMIDS\\Non-Sperm\\aug_Non-Sperm (134).bmp\n",
      "Saved: C:\\Users\\User\\Documents\\sperm_project\\SMIDS\\Non-Sperm\\aug_Non-Sperm (135).bmp\n",
      "Saved: C:\\Users\\User\\Documents\\sperm_project\\SMIDS\\Non-Sperm\\aug_Non-Sperm (136).bmp\n",
      "Saved: C:\\Users\\User\\Documents\\sperm_project\\SMIDS\\Non-Sperm\\aug_Non-Sperm (137).bmp\n",
      "Saved: C:\\Users\\User\\Documents\\sperm_project\\SMIDS\\Non-Sperm\\aug_Non-Sperm (138).bmp\n",
      "Saved: C:\\Users\\User\\Documents\\sperm_project\\SMIDS\\Non-Sperm\\aug_Non-Sperm (139).bmp\n",
      "Saved: C:\\Users\\User\\Documents\\sperm_project\\SMIDS\\Non-Sperm\\aug_Non-Sperm (14).bmp\n",
      "Saved: C:\\Users\\User\\Documents\\sperm_project\\SMIDS\\Non-Sperm\\aug_Non-Sperm (140).bmp\n",
      "Saved: C:\\Users\\User\\Documents\\sperm_project\\SMIDS\\Non-Sperm\\aug_Non-Sperm (141).bmp\n"
     ]
    },
    {
     "name": "stderr",
     "output_type": "stream",
     "text": [
      "Augmenting Non-Sperm:   6%|▌         | 54/974 [00:01<00:19, 46.28it/s]"
     ]
    },
    {
     "name": "stdout",
     "output_type": "stream",
     "text": [
      "Saved: C:\\Users\\User\\Documents\\sperm_project\\SMIDS\\Non-Sperm\\aug_Non-Sperm (142).bmp\n",
      "Saved: C:\\Users\\User\\Documents\\sperm_project\\SMIDS\\Non-Sperm\\aug_Non-Sperm (143).bmp\n",
      "Saved: C:\\Users\\User\\Documents\\sperm_project\\SMIDS\\Non-Sperm\\aug_Non-Sperm (144).bmp\n",
      "Saved: C:\\Users\\User\\Documents\\sperm_project\\SMIDS\\Non-Sperm\\aug_Non-Sperm (145).bmp\n",
      "Saved: C:\\Users\\User\\Documents\\sperm_project\\SMIDS\\Non-Sperm\\aug_Non-Sperm (146).bmp\n",
      "Saved: C:\\Users\\User\\Documents\\sperm_project\\SMIDS\\Non-Sperm\\aug_Non-Sperm (147).bmp\n",
      "Saved: C:\\Users\\User\\Documents\\sperm_project\\SMIDS\\Non-Sperm\\aug_Non-Sperm (148).bmp\n",
      "Saved: C:\\Users\\User\\Documents\\sperm_project\\SMIDS\\Non-Sperm\\aug_Non-Sperm (149).bmp\n",
      "Saved: C:\\Users\\User\\Documents\\sperm_project\\SMIDS\\Non-Sperm\\aug_Non-Sperm (15).bmp\n",
      "Saved: C:\\Users\\User\\Documents\\sperm_project\\SMIDS\\Non-Sperm\\aug_Non-Sperm (150).bmp\n"
     ]
    },
    {
     "name": "stderr",
     "output_type": "stream",
     "text": [
      "Augmenting Non-Sperm:   7%|▋         | 64/974 [00:01<00:19, 46.61it/s]"
     ]
    },
    {
     "name": "stdout",
     "output_type": "stream",
     "text": [
      "Saved: C:\\Users\\User\\Documents\\sperm_project\\SMIDS\\Non-Sperm\\aug_Non-Sperm (151).bmp\n",
      "Saved: C:\\Users\\User\\Documents\\sperm_project\\SMIDS\\Non-Sperm\\aug_Non-Sperm (152).bmp\n",
      "Saved: C:\\Users\\User\\Documents\\sperm_project\\SMIDS\\Non-Sperm\\aug_Non-Sperm (153).bmp\n",
      "Saved: C:\\Users\\User\\Documents\\sperm_project\\SMIDS\\Non-Sperm\\aug_Non-Sperm (154).bmp\n",
      "Saved: C:\\Users\\User\\Documents\\sperm_project\\SMIDS\\Non-Sperm\\aug_Non-Sperm (155).bmp\n",
      "Saved: C:\\Users\\User\\Documents\\sperm_project\\SMIDS\\Non-Sperm\\aug_Non-Sperm (156).bmp\n",
      "Saved: C:\\Users\\User\\Documents\\sperm_project\\SMIDS\\Non-Sperm\\aug_Non-Sperm (157).bmp\n",
      "Saved: C:\\Users\\User\\Documents\\sperm_project\\SMIDS\\Non-Sperm\\aug_Non-Sperm (158).bmp\n",
      "Saved: C:\\Users\\User\\Documents\\sperm_project\\SMIDS\\Non-Sperm\\aug_Non-Sperm (159).bmp\n",
      "Saved: C:\\Users\\User\\Documents\\sperm_project\\SMIDS\\Non-Sperm\\aug_Non-Sperm (16).bmp\n"
     ]
    },
    {
     "name": "stderr",
     "output_type": "stream",
     "text": [
      "Augmenting Non-Sperm:   8%|▊         | 74/974 [00:01<00:19, 45.53it/s]"
     ]
    },
    {
     "name": "stdout",
     "output_type": "stream",
     "text": [
      "Saved: C:\\Users\\User\\Documents\\sperm_project\\SMIDS\\Non-Sperm\\aug_Non-Sperm (160).bmp\n",
      "Saved: C:\\Users\\User\\Documents\\sperm_project\\SMIDS\\Non-Sperm\\aug_Non-Sperm (161).bmp\n",
      "Saved: C:\\Users\\User\\Documents\\sperm_project\\SMIDS\\Non-Sperm\\aug_Non-Sperm (162).bmp\n",
      "Saved: C:\\Users\\User\\Documents\\sperm_project\\SMIDS\\Non-Sperm\\aug_Non-Sperm (163).bmp\n",
      "Saved: C:\\Users\\User\\Documents\\sperm_project\\SMIDS\\Non-Sperm\\aug_Non-Sperm (164).bmp\n",
      "Saved: C:\\Users\\User\\Documents\\sperm_project\\SMIDS\\Non-Sperm\\aug_Non-Sperm (165).bmp\n",
      "Saved: C:\\Users\\User\\Documents\\sperm_project\\SMIDS\\Non-Sperm\\aug_Non-Sperm (166).bmp\n",
      "Saved: C:\\Users\\User\\Documents\\sperm_project\\SMIDS\\Non-Sperm\\aug_Non-Sperm (167).bmp\n",
      "Saved: C:\\Users\\User\\Documents\\sperm_project\\SMIDS\\Non-Sperm\\aug_Non-Sperm (168).bmp\n"
     ]
    },
    {
     "name": "stderr",
     "output_type": "stream",
     "text": [
      "Augmenting Non-Sperm:   9%|▊         | 84/974 [00:01<00:20, 44.43it/s]"
     ]
    },
    {
     "name": "stdout",
     "output_type": "stream",
     "text": [
      "Saved: C:\\Users\\User\\Documents\\sperm_project\\SMIDS\\Non-Sperm\\aug_Non-Sperm (169).bmp\n",
      "Saved: C:\\Users\\User\\Documents\\sperm_project\\SMIDS\\Non-Sperm\\aug_Non-Sperm (17).bmp\n",
      "Saved: C:\\Users\\User\\Documents\\sperm_project\\SMIDS\\Non-Sperm\\aug_Non-Sperm (170).bmp\n",
      "Saved: C:\\Users\\User\\Documents\\sperm_project\\SMIDS\\Non-Sperm\\aug_Non-Sperm (171).bmp\n",
      "Saved: C:\\Users\\User\\Documents\\sperm_project\\SMIDS\\Non-Sperm\\aug_Non-Sperm (172).bmp\n",
      "Saved: C:\\Users\\User\\Documents\\sperm_project\\SMIDS\\Non-Sperm\\aug_Non-Sperm (173).bmp\n",
      "Saved: C:\\Users\\User\\Documents\\sperm_project\\SMIDS\\Non-Sperm\\aug_Non-Sperm (174).bmp\n",
      "Saved: C:\\Users\\User\\Documents\\sperm_project\\SMIDS\\Non-Sperm\\aug_Non-Sperm (175).bmp\n",
      "Saved: C:\\Users\\User\\Documents\\sperm_project\\SMIDS\\Non-Sperm\\aug_Non-Sperm (176).bmp\n"
     ]
    },
    {
     "name": "stderr",
     "output_type": "stream",
     "text": [
      "Augmenting Non-Sperm:  10%|▉         | 94/974 [00:02<00:19, 45.52it/s]"
     ]
    },
    {
     "name": "stdout",
     "output_type": "stream",
     "text": [
      "Saved: C:\\Users\\User\\Documents\\sperm_project\\SMIDS\\Non-Sperm\\aug_Non-Sperm (177).bmp\n",
      "Saved: C:\\Users\\User\\Documents\\sperm_project\\SMIDS\\Non-Sperm\\aug_Non-Sperm (178).bmp\n",
      "Saved: C:\\Users\\User\\Documents\\sperm_project\\SMIDS\\Non-Sperm\\aug_Non-Sperm (179).bmp\n",
      "Saved: C:\\Users\\User\\Documents\\sperm_project\\SMIDS\\Non-Sperm\\aug_Non-Sperm (18).bmp\n",
      "Saved: C:\\Users\\User\\Documents\\sperm_project\\SMIDS\\Non-Sperm\\aug_Non-Sperm (180).bmp\n",
      "Saved: C:\\Users\\User\\Documents\\sperm_project\\SMIDS\\Non-Sperm\\aug_Non-Sperm (181).bmp\n",
      "Saved: C:\\Users\\User\\Documents\\sperm_project\\SMIDS\\Non-Sperm\\aug_Non-Sperm (182).bmp\n",
      "Saved: C:\\Users\\User\\Documents\\sperm_project\\SMIDS\\Non-Sperm\\aug_Non-Sperm (183).bmp\n",
      "Saved: C:\\Users\\User\\Documents\\sperm_project\\SMIDS\\Non-Sperm\\aug_Non-Sperm (184).bmp\n",
      "Saved: C:\\Users\\User\\Documents\\sperm_project\\SMIDS\\Non-Sperm\\aug_Non-Sperm (185).bmp\n"
     ]
    },
    {
     "name": "stderr",
     "output_type": "stream",
     "text": [
      "Augmenting Non-Sperm:  11%|█         | 104/974 [00:02<00:20, 43.18it/s]"
     ]
    },
    {
     "name": "stdout",
     "output_type": "stream",
     "text": [
      "Saved: C:\\Users\\User\\Documents\\sperm_project\\SMIDS\\Non-Sperm\\aug_Non-Sperm (186).bmp\n",
      "Saved: C:\\Users\\User\\Documents\\sperm_project\\SMIDS\\Non-Sperm\\aug_Non-Sperm (187).bmp\n",
      "Saved: C:\\Users\\User\\Documents\\sperm_project\\SMIDS\\Non-Sperm\\aug_Non-Sperm (188).bmp\n",
      "Saved: C:\\Users\\User\\Documents\\sperm_project\\SMIDS\\Non-Sperm\\aug_Non-Sperm (189).bmp\n",
      "Saved: C:\\Users\\User\\Documents\\sperm_project\\SMIDS\\Non-Sperm\\aug_Non-Sperm (19).bmp\n",
      "Saved: C:\\Users\\User\\Documents\\sperm_project\\SMIDS\\Non-Sperm\\aug_Non-Sperm (190).bmp\n",
      "Saved: C:\\Users\\User\\Documents\\sperm_project\\SMIDS\\Non-Sperm\\aug_Non-Sperm (191).bmp\n",
      "Saved: C:\\Users\\User\\Documents\\sperm_project\\SMIDS\\Non-Sperm\\aug_Non-Sperm (192).bmp\n",
      "Saved: C:\\Users\\User\\Documents\\sperm_project\\SMIDS\\Non-Sperm\\aug_Non-Sperm (193).bmp\n",
      "Saved: C:\\Users\\User\\Documents\\sperm_project\\SMIDS\\Non-Sperm\\aug_Non-Sperm (194).bmp\n"
     ]
    },
    {
     "name": "stderr",
     "output_type": "stream",
     "text": [
      "Augmenting Non-Sperm:  12%|█▏        | 114/974 [00:02<00:18, 45.36it/s]"
     ]
    },
    {
     "name": "stdout",
     "output_type": "stream",
     "text": [
      "Saved: C:\\Users\\User\\Documents\\sperm_project\\SMIDS\\Non-Sperm\\aug_Non-Sperm (195).bmp\n",
      "Saved: C:\\Users\\User\\Documents\\sperm_project\\SMIDS\\Non-Sperm\\aug_Non-Sperm (196).bmp\n",
      "Saved: C:\\Users\\User\\Documents\\sperm_project\\SMIDS\\Non-Sperm\\aug_Non-Sperm (197).bmp\n",
      "Saved: C:\\Users\\User\\Documents\\sperm_project\\SMIDS\\Non-Sperm\\aug_Non-Sperm (198).bmp\n",
      "Saved: C:\\Users\\User\\Documents\\sperm_project\\SMIDS\\Non-Sperm\\aug_Non-Sperm (199).bmp\n",
      "Saved: C:\\Users\\User\\Documents\\sperm_project\\SMIDS\\Non-Sperm\\aug_Non-Sperm (2).bmp\n",
      "Saved: C:\\Users\\User\\Documents\\sperm_project\\SMIDS\\Non-Sperm\\aug_Non-Sperm (20).bmp\n",
      "Saved: C:\\Users\\User\\Documents\\sperm_project\\SMIDS\\Non-Sperm\\aug_Non-Sperm (200).bmp\n",
      "Saved: C:\\Users\\User\\Documents\\sperm_project\\SMIDS\\Non-Sperm\\aug_Non-Sperm (201).bmp\n"
     ]
    },
    {
     "name": "stderr",
     "output_type": "stream",
     "text": [
      "Augmenting Non-Sperm:  13%|█▎        | 125/974 [00:02<00:18, 47.16it/s]"
     ]
    },
    {
     "name": "stdout",
     "output_type": "stream",
     "text": [
      "Saved: C:\\Users\\User\\Documents\\sperm_project\\SMIDS\\Non-Sperm\\aug_Non-Sperm (202).bmp\n",
      "Saved: C:\\Users\\User\\Documents\\sperm_project\\SMIDS\\Non-Sperm\\aug_Non-Sperm (203).bmp\n",
      "Saved: C:\\Users\\User\\Documents\\sperm_project\\SMIDS\\Non-Sperm\\aug_Non-Sperm (204).bmp\n",
      "Saved: C:\\Users\\User\\Documents\\sperm_project\\SMIDS\\Non-Sperm\\aug_Non-Sperm (205).bmp\n",
      "Saved: C:\\Users\\User\\Documents\\sperm_project\\SMIDS\\Non-Sperm\\aug_Non-Sperm (206).bmp\n",
      "Saved: C:\\Users\\User\\Documents\\sperm_project\\SMIDS\\Non-Sperm\\aug_Non-Sperm (207).bmp\n",
      "Saved: C:\\Users\\User\\Documents\\sperm_project\\SMIDS\\Non-Sperm\\aug_Non-Sperm (208).bmp\n",
      "Saved: C:\\Users\\User\\Documents\\sperm_project\\SMIDS\\Non-Sperm\\aug_Non-Sperm (209).bmp\n",
      "Saved: C:\\Users\\User\\Documents\\sperm_project\\SMIDS\\Non-Sperm\\aug_Non-Sperm (21).bmp\n",
      "Saved: C:\\Users\\User\\Documents\\sperm_project\\SMIDS\\Non-Sperm\\aug_Non-Sperm (210).bmp\n"
     ]
    },
    {
     "name": "stderr",
     "output_type": "stream",
     "text": [
      "Augmenting Non-Sperm:  14%|█▍        | 135/974 [00:02<00:17, 47.53it/s]"
     ]
    },
    {
     "name": "stdout",
     "output_type": "stream",
     "text": [
      "Saved: C:\\Users\\User\\Documents\\sperm_project\\SMIDS\\Non-Sperm\\aug_Non-Sperm (211).bmp\n",
      "Saved: C:\\Users\\User\\Documents\\sperm_project\\SMIDS\\Non-Sperm\\aug_Non-Sperm (212).bmp\n",
      "Saved: C:\\Users\\User\\Documents\\sperm_project\\SMIDS\\Non-Sperm\\aug_Non-Sperm (213).bmp\n",
      "Saved: C:\\Users\\User\\Documents\\sperm_project\\SMIDS\\Non-Sperm\\aug_Non-Sperm (214).bmp\n",
      "Saved: C:\\Users\\User\\Documents\\sperm_project\\SMIDS\\Non-Sperm\\aug_Non-Sperm (215).bmp\n",
      "Saved: C:\\Users\\User\\Documents\\sperm_project\\SMIDS\\Non-Sperm\\aug_Non-Sperm (216).bmp\n",
      "Saved: C:\\Users\\User\\Documents\\sperm_project\\SMIDS\\Non-Sperm\\aug_Non-Sperm (217).bmp\n",
      "Saved: C:\\Users\\User\\Documents\\sperm_project\\SMIDS\\Non-Sperm\\aug_Non-Sperm (218).bmp\n",
      "Saved: C:\\Users\\User\\Documents\\sperm_project\\SMIDS\\Non-Sperm\\aug_Non-Sperm (219).bmp\n",
      "Saved: C:\\Users\\User\\Documents\\sperm_project\\SMIDS\\Non-Sperm\\aug_Non-Sperm (22).bmp\n",
      "Saved: C:\\Users\\User\\Documents\\sperm_project\\SMIDS\\Non-Sperm\\aug_Non-Sperm (220).bmp\n"
     ]
    },
    {
     "name": "stderr",
     "output_type": "stream",
     "text": [
      "Augmenting Non-Sperm:  15%|█▍        | 145/974 [00:03<00:17, 46.57it/s]"
     ]
    },
    {
     "name": "stdout",
     "output_type": "stream",
     "text": [
      "Saved: C:\\Users\\User\\Documents\\sperm_project\\SMIDS\\Non-Sperm\\aug_Non-Sperm (221).bmp\n",
      "Saved: C:\\Users\\User\\Documents\\sperm_project\\SMIDS\\Non-Sperm\\aug_Non-Sperm (222).bmp\n",
      "Saved: C:\\Users\\User\\Documents\\sperm_project\\SMIDS\\Non-Sperm\\aug_Non-Sperm (223).bmp\n",
      "Saved: C:\\Users\\User\\Documents\\sperm_project\\SMIDS\\Non-Sperm\\aug_Non-Sperm (224).bmp\n",
      "Saved: C:\\Users\\User\\Documents\\sperm_project\\SMIDS\\Non-Sperm\\aug_Non-Sperm (225).bmp\n",
      "Saved: C:\\Users\\User\\Documents\\sperm_project\\SMIDS\\Non-Sperm\\aug_Non-Sperm (226).bmp\n",
      "Saved: C:\\Users\\User\\Documents\\sperm_project\\SMIDS\\Non-Sperm\\aug_Non-Sperm (227).bmp\n",
      "Saved: C:\\Users\\User\\Documents\\sperm_project\\SMIDS\\Non-Sperm\\aug_Non-Sperm (228).bmp\n",
      "Saved: C:\\Users\\User\\Documents\\sperm_project\\SMIDS\\Non-Sperm\\aug_Non-Sperm (229).bmp\n",
      "Saved: C:\\Users\\User\\Documents\\sperm_project\\SMIDS\\Non-Sperm\\aug_Non-Sperm (23).bmp\n",
      "Saved: C:\\Users\\User\\Documents\\sperm_project\\SMIDS\\Non-Sperm\\aug_Non-Sperm (230).bmp\n"
     ]
    },
    {
     "name": "stderr",
     "output_type": "stream",
     "text": [
      "Augmenting Non-Sperm:  16%|█▌        | 155/974 [00:03<00:18, 44.40it/s]"
     ]
    },
    {
     "name": "stdout",
     "output_type": "stream",
     "text": [
      "Saved: C:\\Users\\User\\Documents\\sperm_project\\SMIDS\\Non-Sperm\\aug_Non-Sperm (231).bmp\n",
      "Saved: C:\\Users\\User\\Documents\\sperm_project\\SMIDS\\Non-Sperm\\aug_Non-Sperm (232).bmp\n",
      "Saved: C:\\Users\\User\\Documents\\sperm_project\\SMIDS\\Non-Sperm\\aug_Non-Sperm (233).bmp\n",
      "Saved: C:\\Users\\User\\Documents\\sperm_project\\SMIDS\\Non-Sperm\\aug_Non-Sperm (234).bmp\n",
      "Saved: C:\\Users\\User\\Documents\\sperm_project\\SMIDS\\Non-Sperm\\aug_Non-Sperm (235).bmp\n",
      "Saved: C:\\Users\\User\\Documents\\sperm_project\\SMIDS\\Non-Sperm\\aug_Non-Sperm (236).bmp\n",
      "Saved: C:\\Users\\User\\Documents\\sperm_project\\SMIDS\\Non-Sperm\\aug_Non-Sperm (237).bmp\n",
      "Saved: C:\\Users\\User\\Documents\\sperm_project\\SMIDS\\Non-Sperm\\aug_Non-Sperm (238).bmp\n",
      "Saved: C:\\Users\\User\\Documents\\sperm_project\\SMIDS\\Non-Sperm\\aug_Non-Sperm (239).bmp\n"
     ]
    },
    {
     "name": "stderr",
     "output_type": "stream",
     "text": [
      "Augmenting Non-Sperm:  17%|█▋        | 165/974 [00:03<00:17, 45.55it/s]"
     ]
    },
    {
     "name": "stdout",
     "output_type": "stream",
     "text": [
      "Saved: C:\\Users\\User\\Documents\\sperm_project\\SMIDS\\Non-Sperm\\aug_Non-Sperm (24).bmp\n",
      "Saved: C:\\Users\\User\\Documents\\sperm_project\\SMIDS\\Non-Sperm\\aug_Non-Sperm (240).bmp\n",
      "Saved: C:\\Users\\User\\Documents\\sperm_project\\SMIDS\\Non-Sperm\\aug_Non-Sperm (241).bmp\n",
      "Saved: C:\\Users\\User\\Documents\\sperm_project\\SMIDS\\Non-Sperm\\aug_Non-Sperm (242).bmp\n",
      "Saved: C:\\Users\\User\\Documents\\sperm_project\\SMIDS\\Non-Sperm\\aug_Non-Sperm (243).bmp\n",
      "Saved: C:\\Users\\User\\Documents\\sperm_project\\SMIDS\\Non-Sperm\\aug_Non-Sperm (244).bmp\n",
      "Saved: C:\\Users\\User\\Documents\\sperm_project\\SMIDS\\Non-Sperm\\aug_Non-Sperm (245).bmp\n",
      "Saved: C:\\Users\\User\\Documents\\sperm_project\\SMIDS\\Non-Sperm\\aug_Non-Sperm (246).bmp\n",
      "Saved: C:\\Users\\User\\Documents\\sperm_project\\SMIDS\\Non-Sperm\\aug_Non-Sperm (247).bmp\n",
      "Saved: C:\\Users\\User\\Documents\\sperm_project\\SMIDS\\Non-Sperm\\aug_Non-Sperm (248).bmp\n"
     ]
    },
    {
     "name": "stderr",
     "output_type": "stream",
     "text": [
      "Augmenting Non-Sperm:  18%|█▊        | 175/974 [00:03<00:17, 45.41it/s]"
     ]
    },
    {
     "name": "stdout",
     "output_type": "stream",
     "text": [
      "Saved: C:\\Users\\User\\Documents\\sperm_project\\SMIDS\\Non-Sperm\\aug_Non-Sperm (249).bmp\n",
      "Saved: C:\\Users\\User\\Documents\\sperm_project\\SMIDS\\Non-Sperm\\aug_Non-Sperm (25).bmp\n",
      "Saved: C:\\Users\\User\\Documents\\sperm_project\\SMIDS\\Non-Sperm\\aug_Non-Sperm (250).bmp\n",
      "Saved: C:\\Users\\User\\Documents\\sperm_project\\SMIDS\\Non-Sperm\\aug_Non-Sperm (251).bmp\n",
      "Saved: C:\\Users\\User\\Documents\\sperm_project\\SMIDS\\Non-Sperm\\aug_Non-Sperm (252).bmp\n",
      "Saved: C:\\Users\\User\\Documents\\sperm_project\\SMIDS\\Non-Sperm\\aug_Non-Sperm (253).bmp\n",
      "Saved: C:\\Users\\User\\Documents\\sperm_project\\SMIDS\\Non-Sperm\\aug_Non-Sperm (254).bmp\n",
      "Saved: C:\\Users\\User\\Documents\\sperm_project\\SMIDS\\Non-Sperm\\aug_Non-Sperm (255).bmp\n",
      "Saved: C:\\Users\\User\\Documents\\sperm_project\\SMIDS\\Non-Sperm\\aug_Non-Sperm (256).bmp\n",
      "Saved: C:\\Users\\User\\Documents\\sperm_project\\SMIDS\\Non-Sperm\\aug_Non-Sperm (257).bmp\n"
     ]
    },
    {
     "name": "stderr",
     "output_type": "stream",
     "text": [
      "Augmenting Non-Sperm:  18%|█▊        | 180/974 [00:03<00:17, 45.71it/s]"
     ]
    },
    {
     "name": "stdout",
     "output_type": "stream",
     "text": [
      "Saved: C:\\Users\\User\\Documents\\sperm_project\\SMIDS\\Non-Sperm\\aug_Non-Sperm (258).bmp\n",
      "Saved: C:\\Users\\User\\Documents\\sperm_project\\SMIDS\\Non-Sperm\\aug_Non-Sperm (259).bmp\n",
      "Saved: C:\\Users\\User\\Documents\\sperm_project\\SMIDS\\Non-Sperm\\aug_Non-Sperm (26).bmp\n",
      "Saved: C:\\Users\\User\\Documents\\sperm_project\\SMIDS\\Non-Sperm\\aug_Non-Sperm (260).bmp\n",
      "Saved: C:\\Users\\User\\Documents\\sperm_project\\SMIDS\\Non-Sperm\\aug_Non-Sperm (261).bmp\n",
      "Saved: C:\\Users\\User\\Documents\\sperm_project\\SMIDS\\Non-Sperm\\aug_Non-Sperm (262).bmp\n",
      "Saved: C:\\Users\\User\\Documents\\sperm_project\\SMIDS\\Non-Sperm\\aug_Non-Sperm (263).bmp\n",
      "Saved: C:\\Users\\User\\Documents\\sperm_project\\SMIDS\\Non-Sperm\\aug_Non-Sperm (264).bmp\n"
     ]
    },
    {
     "name": "stderr",
     "output_type": "stream",
     "text": [
      "Augmenting Non-Sperm:  20%|█▉        | 191/974 [00:04<00:16, 47.87it/s]"
     ]
    },
    {
     "name": "stdout",
     "output_type": "stream",
     "text": [
      "Saved: C:\\Users\\User\\Documents\\sperm_project\\SMIDS\\Non-Sperm\\aug_Non-Sperm (265).bmp\n",
      "Saved: C:\\Users\\User\\Documents\\sperm_project\\SMIDS\\Non-Sperm\\aug_Non-Sperm (266).bmp\n",
      "Saved: C:\\Users\\User\\Documents\\sperm_project\\SMIDS\\Non-Sperm\\aug_Non-Sperm (267).bmp\n",
      "Saved: C:\\Users\\User\\Documents\\sperm_project\\SMIDS\\Non-Sperm\\aug_Non-Sperm (268).bmp\n",
      "Saved: C:\\Users\\User\\Documents\\sperm_project\\SMIDS\\Non-Sperm\\aug_Non-Sperm (269).bmp\n",
      "Saved: C:\\Users\\User\\Documents\\sperm_project\\SMIDS\\Non-Sperm\\aug_Non-Sperm (27).bmp\n",
      "Saved: C:\\Users\\User\\Documents\\sperm_project\\SMIDS\\Non-Sperm\\aug_Non-Sperm (270).bmp\n",
      "Saved: C:\\Users\\User\\Documents\\sperm_project\\SMIDS\\Non-Sperm\\aug_Non-Sperm (271).bmp\n",
      "Saved: C:\\Users\\User\\Documents\\sperm_project\\SMIDS\\Non-Sperm\\aug_Non-Sperm (272).bmp\n",
      "Saved: C:\\Users\\User\\Documents\\sperm_project\\SMIDS\\Non-Sperm\\aug_Non-Sperm (273).bmp\n"
     ]
    },
    {
     "name": "stderr",
     "output_type": "stream",
     "text": [
      "Augmenting Non-Sperm:  21%|██        | 201/974 [00:04<00:17, 44.28it/s]"
     ]
    },
    {
     "name": "stdout",
     "output_type": "stream",
     "text": [
      "Saved: C:\\Users\\User\\Documents\\sperm_project\\SMIDS\\Non-Sperm\\aug_Non-Sperm (274).bmp\n",
      "Saved: C:\\Users\\User\\Documents\\sperm_project\\SMIDS\\Non-Sperm\\aug_Non-Sperm (275).bmp\n",
      "Saved: C:\\Users\\User\\Documents\\sperm_project\\SMIDS\\Non-Sperm\\aug_Non-Sperm (276).bmp\n",
      "Saved: C:\\Users\\User\\Documents\\sperm_project\\SMIDS\\Non-Sperm\\aug_Non-Sperm (277).bmp\n",
      "Saved: C:\\Users\\User\\Documents\\sperm_project\\SMIDS\\Non-Sperm\\aug_Non-Sperm (278).bmp\n",
      "Saved: C:\\Users\\User\\Documents\\sperm_project\\SMIDS\\Non-Sperm\\aug_Non-Sperm (279).bmp\n",
      "Saved: C:\\Users\\User\\Documents\\sperm_project\\SMIDS\\Non-Sperm\\aug_Non-Sperm (28).bmp\n",
      "Saved: C:\\Users\\User\\Documents\\sperm_project\\SMIDS\\Non-Sperm\\aug_Non-Sperm (280).bmp\n",
      "Saved: C:\\Users\\User\\Documents\\sperm_project\\SMIDS\\Non-Sperm\\aug_Non-Sperm (281).bmp\n"
     ]
    },
    {
     "name": "stderr",
     "output_type": "stream",
     "text": [
      "Augmenting Non-Sperm:  22%|██▏       | 211/974 [00:04<00:16, 45.99it/s]"
     ]
    },
    {
     "name": "stdout",
     "output_type": "stream",
     "text": [
      "Saved: C:\\Users\\User\\Documents\\sperm_project\\SMIDS\\Non-Sperm\\aug_Non-Sperm (282).bmp\n",
      "Saved: C:\\Users\\User\\Documents\\sperm_project\\SMIDS\\Non-Sperm\\aug_Non-Sperm (283).bmp\n",
      "Saved: C:\\Users\\User\\Documents\\sperm_project\\SMIDS\\Non-Sperm\\aug_Non-Sperm (284).bmp\n",
      "Saved: C:\\Users\\User\\Documents\\sperm_project\\SMIDS\\Non-Sperm\\aug_Non-Sperm (285).bmp\n",
      "Saved: C:\\Users\\User\\Documents\\sperm_project\\SMIDS\\Non-Sperm\\aug_Non-Sperm (286).bmp\n",
      "Saved: C:\\Users\\User\\Documents\\sperm_project\\SMIDS\\Non-Sperm\\aug_Non-Sperm (287).bmp\n",
      "Saved: C:\\Users\\User\\Documents\\sperm_project\\SMIDS\\Non-Sperm\\aug_Non-Sperm (288).bmp\n",
      "Saved: C:\\Users\\User\\Documents\\sperm_project\\SMIDS\\Non-Sperm\\aug_Non-Sperm (289).bmp\n",
      "Saved: C:\\Users\\User\\Documents\\sperm_project\\SMIDS\\Non-Sperm\\aug_Non-Sperm (29).bmp\n"
     ]
    },
    {
     "name": "stderr",
     "output_type": "stream",
     "text": [
      "Augmenting Non-Sperm:  23%|██▎       | 221/974 [00:04<00:16, 45.79it/s]"
     ]
    },
    {
     "name": "stdout",
     "output_type": "stream",
     "text": [
      "Saved: C:\\Users\\User\\Documents\\sperm_project\\SMIDS\\Non-Sperm\\aug_Non-Sperm (290).bmp\n",
      "Saved: C:\\Users\\User\\Documents\\sperm_project\\SMIDS\\Non-Sperm\\aug_Non-Sperm (291).bmp\n",
      "Saved: C:\\Users\\User\\Documents\\sperm_project\\SMIDS\\Non-Sperm\\aug_Non-Sperm (292).bmp\n",
      "Saved: C:\\Users\\User\\Documents\\sperm_project\\SMIDS\\Non-Sperm\\aug_Non-Sperm (293).bmp\n",
      "Saved: C:\\Users\\User\\Documents\\sperm_project\\SMIDS\\Non-Sperm\\aug_Non-Sperm (294).bmp\n",
      "Saved: C:\\Users\\User\\Documents\\sperm_project\\SMIDS\\Non-Sperm\\aug_Non-Sperm (295).bmp\n",
      "Saved: C:\\Users\\User\\Documents\\sperm_project\\SMIDS\\Non-Sperm\\aug_Non-Sperm (296).bmp\n",
      "Saved: C:\\Users\\User\\Documents\\sperm_project\\SMIDS\\Non-Sperm\\aug_Non-Sperm (297).bmp\n",
      "Saved: C:\\Users\\User\\Documents\\sperm_project\\SMIDS\\Non-Sperm\\aug_Non-Sperm (298).bmp\n",
      "Saved: C:\\Users\\User\\Documents\\sperm_project\\SMIDS\\Non-Sperm\\aug_Non-Sperm (299).bmp\n"
     ]
    },
    {
     "name": "stderr",
     "output_type": "stream",
     "text": [
      "Augmenting Non-Sperm:  24%|██▎       | 231/974 [00:05<00:16, 46.04it/s]"
     ]
    },
    {
     "name": "stdout",
     "output_type": "stream",
     "text": [
      "Saved: C:\\Users\\User\\Documents\\sperm_project\\SMIDS\\Non-Sperm\\aug_Non-Sperm (3).bmp\n",
      "Saved: C:\\Users\\User\\Documents\\sperm_project\\SMIDS\\Non-Sperm\\aug_Non-Sperm (30).bmp\n",
      "Saved: C:\\Users\\User\\Documents\\sperm_project\\SMIDS\\Non-Sperm\\aug_Non-Sperm (300).bmp\n",
      "Saved: C:\\Users\\User\\Documents\\sperm_project\\SMIDS\\Non-Sperm\\aug_Non-Sperm (301).bmp\n",
      "Saved: C:\\Users\\User\\Documents\\sperm_project\\SMIDS\\Non-Sperm\\aug_Non-Sperm (302).bmp\n",
      "Saved: C:\\Users\\User\\Documents\\sperm_project\\SMIDS\\Non-Sperm\\aug_Non-Sperm (303).bmp\n",
      "Saved: C:\\Users\\User\\Documents\\sperm_project\\SMIDS\\Non-Sperm\\aug_Non-Sperm (304).bmp\n",
      "Saved: C:\\Users\\User\\Documents\\sperm_project\\SMIDS\\Non-Sperm\\aug_Non-Sperm (305).bmp\n",
      "Saved: C:\\Users\\User\\Documents\\sperm_project\\SMIDS\\Non-Sperm\\aug_Non-Sperm (306).bmp\n"
     ]
    },
    {
     "name": "stderr",
     "output_type": "stream",
     "text": [
      "Augmenting Non-Sperm:  24%|██▍       | 236/974 [00:05<00:16, 44.91it/s]"
     ]
    },
    {
     "name": "stdout",
     "output_type": "stream",
     "text": [
      "Saved: C:\\Users\\User\\Documents\\sperm_project\\SMIDS\\Non-Sperm\\aug_Non-Sperm (307).bmp\n",
      "Saved: C:\\Users\\User\\Documents\\sperm_project\\SMIDS\\Non-Sperm\\aug_Non-Sperm (308).bmp\n",
      "Saved: C:\\Users\\User\\Documents\\sperm_project\\SMIDS\\Non-Sperm\\aug_Non-Sperm (309).bmp\n",
      "Saved: C:\\Users\\User\\Documents\\sperm_project\\SMIDS\\Non-Sperm\\aug_Non-Sperm (31).bmp\n",
      "Saved: C:\\Users\\User\\Documents\\sperm_project\\SMIDS\\Non-Sperm\\aug_Non-Sperm (310).bmp\n",
      "Saved: C:\\Users\\User\\Documents\\sperm_project\\SMIDS\\Non-Sperm\\aug_Non-Sperm (311).bmp\n",
      "Saved: C:\\Users\\User\\Documents\\sperm_project\\SMIDS\\Non-Sperm\\aug_Non-Sperm (312).bmp\n",
      "Saved: C:\\Users\\User\\Documents\\sperm_project\\SMIDS\\Non-Sperm\\aug_Non-Sperm (313).bmp\n"
     ]
    },
    {
     "name": "stderr",
     "output_type": "stream",
     "text": [
      "Augmenting Non-Sperm:  25%|██▌       | 246/974 [00:05<00:16, 44.01it/s]"
     ]
    },
    {
     "name": "stdout",
     "output_type": "stream",
     "text": [
      "Saved: C:\\Users\\User\\Documents\\sperm_project\\SMIDS\\Non-Sperm\\aug_Non-Sperm (314).bmp\n",
      "Saved: C:\\Users\\User\\Documents\\sperm_project\\SMIDS\\Non-Sperm\\aug_Non-Sperm (315).bmp\n",
      "Saved: C:\\Users\\User\\Documents\\sperm_project\\SMIDS\\Non-Sperm\\aug_Non-Sperm (316).bmp\n",
      "Saved: C:\\Users\\User\\Documents\\sperm_project\\SMIDS\\Non-Sperm\\aug_Non-Sperm (317).bmp\n",
      "Saved: C:\\Users\\User\\Documents\\sperm_project\\SMIDS\\Non-Sperm\\aug_Non-Sperm (318).bmp\n",
      "Saved: C:\\Users\\User\\Documents\\sperm_project\\SMIDS\\Non-Sperm\\aug_Non-Sperm (319).bmp\n",
      "Saved: C:\\Users\\User\\Documents\\sperm_project\\SMIDS\\Non-Sperm\\aug_Non-Sperm (32).bmp\n",
      "Saved: C:\\Users\\User\\Documents\\sperm_project\\SMIDS\\Non-Sperm\\aug_Non-Sperm (320).bmp\n",
      "Saved: C:\\Users\\User\\Documents\\sperm_project\\SMIDS\\Non-Sperm\\aug_Non-Sperm (321).bmp\n",
      "Saved: C:\\Users\\User\\Documents\\sperm_project\\SMIDS\\Non-Sperm\\aug_Non-Sperm (322).bmp\n"
     ]
    },
    {
     "name": "stderr",
     "output_type": "stream",
     "text": [
      "Augmenting Non-Sperm:  26%|██▋       | 256/974 [00:05<00:16, 43.39it/s]"
     ]
    },
    {
     "name": "stdout",
     "output_type": "stream",
     "text": [
      "Saved: C:\\Users\\User\\Documents\\sperm_project\\SMIDS\\Non-Sperm\\aug_Non-Sperm (323).bmp\n",
      "Saved: C:\\Users\\User\\Documents\\sperm_project\\SMIDS\\Non-Sperm\\aug_Non-Sperm (324).bmp\n",
      "Saved: C:\\Users\\User\\Documents\\sperm_project\\SMIDS\\Non-Sperm\\aug_Non-Sperm (325).bmp\n",
      "Saved: C:\\Users\\User\\Documents\\sperm_project\\SMIDS\\Non-Sperm\\aug_Non-Sperm (326).bmp\n",
      "Saved: C:\\Users\\User\\Documents\\sperm_project\\SMIDS\\Non-Sperm\\aug_Non-Sperm (327).bmp\n",
      "Saved: C:\\Users\\User\\Documents\\sperm_project\\SMIDS\\Non-Sperm\\aug_Non-Sperm (328).bmp\n",
      "Saved: C:\\Users\\User\\Documents\\sperm_project\\SMIDS\\Non-Sperm\\aug_Non-Sperm (329).bmp\n",
      "Saved: C:\\Users\\User\\Documents\\sperm_project\\SMIDS\\Non-Sperm\\aug_Non-Sperm (33).bmp\n",
      "Saved: C:\\Users\\User\\Documents\\sperm_project\\SMIDS\\Non-Sperm\\aug_Non-Sperm (330).bmp\n"
     ]
    },
    {
     "name": "stderr",
     "output_type": "stream",
     "text": [
      "Augmenting Non-Sperm:  27%|██▋       | 266/974 [00:05<00:15, 44.81it/s]"
     ]
    },
    {
     "name": "stdout",
     "output_type": "stream",
     "text": [
      "Saved: C:\\Users\\User\\Documents\\sperm_project\\SMIDS\\Non-Sperm\\aug_Non-Sperm (331).bmp\n",
      "Saved: C:\\Users\\User\\Documents\\sperm_project\\SMIDS\\Non-Sperm\\aug_Non-Sperm (332).bmp\n",
      "Saved: C:\\Users\\User\\Documents\\sperm_project\\SMIDS\\Non-Sperm\\aug_Non-Sperm (333).bmp\n",
      "Saved: C:\\Users\\User\\Documents\\sperm_project\\SMIDS\\Non-Sperm\\aug_Non-Sperm (334).bmp\n",
      "Saved: C:\\Users\\User\\Documents\\sperm_project\\SMIDS\\Non-Sperm\\aug_Non-Sperm (335).bmp\n",
      "Saved: C:\\Users\\User\\Documents\\sperm_project\\SMIDS\\Non-Sperm\\aug_Non-Sperm (336).bmp\n",
      "Saved: C:\\Users\\User\\Documents\\sperm_project\\SMIDS\\Non-Sperm\\aug_Non-Sperm (337).bmp\n",
      "Saved: C:\\Users\\User\\Documents\\sperm_project\\SMIDS\\Non-Sperm\\aug_Non-Sperm (338).bmp\n",
      "Saved: C:\\Users\\User\\Documents\\sperm_project\\SMIDS\\Non-Sperm\\aug_Non-Sperm (339).bmp\n",
      "Saved: C:\\Users\\User\\Documents\\sperm_project\\SMIDS\\Non-Sperm\\aug_Non-Sperm (34).bmp\n"
     ]
    },
    {
     "name": "stderr",
     "output_type": "stream",
     "text": [
      "Augmenting Non-Sperm:  28%|██▊       | 277/974 [00:06<00:14, 48.39it/s]"
     ]
    },
    {
     "name": "stdout",
     "output_type": "stream",
     "text": [
      "Saved: C:\\Users\\User\\Documents\\sperm_project\\SMIDS\\Non-Sperm\\aug_Non-Sperm (340).bmp\n",
      "Saved: C:\\Users\\User\\Documents\\sperm_project\\SMIDS\\Non-Sperm\\aug_Non-Sperm (341).bmp\n",
      "Saved: C:\\Users\\User\\Documents\\sperm_project\\SMIDS\\Non-Sperm\\aug_Non-Sperm (342).bmp\n",
      "Saved: C:\\Users\\User\\Documents\\sperm_project\\SMIDS\\Non-Sperm\\aug_Non-Sperm (343).bmp\n",
      "Saved: C:\\Users\\User\\Documents\\sperm_project\\SMIDS\\Non-Sperm\\aug_Non-Sperm (344).bmp\n",
      "Saved: C:\\Users\\User\\Documents\\sperm_project\\SMIDS\\Non-Sperm\\aug_Non-Sperm (345).bmp\n",
      "Saved: C:\\Users\\User\\Documents\\sperm_project\\SMIDS\\Non-Sperm\\aug_Non-Sperm (346).bmp\n",
      "Saved: C:\\Users\\User\\Documents\\sperm_project\\SMIDS\\Non-Sperm\\aug_Non-Sperm (347).bmp\n",
      "Saved: C:\\Users\\User\\Documents\\sperm_project\\SMIDS\\Non-Sperm\\aug_Non-Sperm (348).bmp\n",
      "Saved: C:\\Users\\User\\Documents\\sperm_project\\SMIDS\\Non-Sperm\\aug_Non-Sperm (349).bmp\n",
      "Saved: C:\\Users\\User\\Documents\\sperm_project\\SMIDS\\Non-Sperm\\aug_Non-Sperm (35).bmp\n"
     ]
    },
    {
     "name": "stderr",
     "output_type": "stream",
     "text": [
      "Augmenting Non-Sperm:  30%|██▉       | 288/974 [00:06<00:13, 50.09it/s]"
     ]
    },
    {
     "name": "stdout",
     "output_type": "stream",
     "text": [
      "Saved: C:\\Users\\User\\Documents\\sperm_project\\SMIDS\\Non-Sperm\\aug_Non-Sperm (350).bmp\n",
      "Saved: C:\\Users\\User\\Documents\\sperm_project\\SMIDS\\Non-Sperm\\aug_Non-Sperm (351).bmp\n",
      "Saved: C:\\Users\\User\\Documents\\sperm_project\\SMIDS\\Non-Sperm\\aug_Non-Sperm (352).bmp\n",
      "Saved: C:\\Users\\User\\Documents\\sperm_project\\SMIDS\\Non-Sperm\\aug_Non-Sperm (353).bmp\n",
      "Saved: C:\\Users\\User\\Documents\\sperm_project\\SMIDS\\Non-Sperm\\aug_Non-Sperm (354).bmp\n",
      "Saved: C:\\Users\\User\\Documents\\sperm_project\\SMIDS\\Non-Sperm\\aug_Non-Sperm (355).bmp\n",
      "Saved: C:\\Users\\User\\Documents\\sperm_project\\SMIDS\\Non-Sperm\\aug_Non-Sperm (356).bmp\n",
      "Saved: C:\\Users\\User\\Documents\\sperm_project\\SMIDS\\Non-Sperm\\aug_Non-Sperm (357).bmp\n",
      "Saved: C:\\Users\\User\\Documents\\sperm_project\\SMIDS\\Non-Sperm\\aug_Non-Sperm (358).bmp\n",
      "Saved: C:\\Users\\User\\Documents\\sperm_project\\SMIDS\\Non-Sperm\\aug_Non-Sperm (359).bmp\n"
     ]
    },
    {
     "name": "stderr",
     "output_type": "stream",
     "text": [
      "Augmenting Non-Sperm:  31%|███       | 300/974 [00:06<00:13, 50.40it/s]"
     ]
    },
    {
     "name": "stdout",
     "output_type": "stream",
     "text": [
      "Saved: C:\\Users\\User\\Documents\\sperm_project\\SMIDS\\Non-Sperm\\aug_Non-Sperm (36).bmp\n",
      "Saved: C:\\Users\\User\\Documents\\sperm_project\\SMIDS\\Non-Sperm\\aug_Non-Sperm (360).bmp\n",
      "Saved: C:\\Users\\User\\Documents\\sperm_project\\SMIDS\\Non-Sperm\\aug_Non-Sperm (361).bmp\n",
      "Saved: C:\\Users\\User\\Documents\\sperm_project\\SMIDS\\Non-Sperm\\aug_Non-Sperm (362).bmp\n",
      "Saved: C:\\Users\\User\\Documents\\sperm_project\\SMIDS\\Non-Sperm\\aug_Non-Sperm (363).bmp\n",
      "Saved: C:\\Users\\User\\Documents\\sperm_project\\SMIDS\\Non-Sperm\\aug_Non-Sperm (364).bmp\n",
      "Saved: C:\\Users\\User\\Documents\\sperm_project\\SMIDS\\Non-Sperm\\aug_Non-Sperm (365).bmp\n",
      "Saved: C:\\Users\\User\\Documents\\sperm_project\\SMIDS\\Non-Sperm\\aug_Non-Sperm (366).bmp\n",
      "Saved: C:\\Users\\User\\Documents\\sperm_project\\SMIDS\\Non-Sperm\\aug_Non-Sperm (367).bmp\n",
      "Saved: C:\\Users\\User\\Documents\\sperm_project\\SMIDS\\Non-Sperm\\aug_Non-Sperm (368).bmp\n",
      "Saved: C:\\Users\\User\\Documents\\sperm_project\\SMIDS\\Non-Sperm\\aug_Non-Sperm (369).bmp\n"
     ]
    },
    {
     "name": "stderr",
     "output_type": "stream",
     "text": [
      "Augmenting Non-Sperm:  31%|███▏      | 306/974 [00:06<00:13, 50.84it/s]"
     ]
    },
    {
     "name": "stdout",
     "output_type": "stream",
     "text": [
      "Saved: C:\\Users\\User\\Documents\\sperm_project\\SMIDS\\Non-Sperm\\aug_Non-Sperm (37).bmp\n",
      "Saved: C:\\Users\\User\\Documents\\sperm_project\\SMIDS\\Non-Sperm\\aug_Non-Sperm (370).bmp\n",
      "Saved: C:\\Users\\User\\Documents\\sperm_project\\SMIDS\\Non-Sperm\\aug_Non-Sperm (371).bmp\n",
      "Saved: C:\\Users\\User\\Documents\\sperm_project\\SMIDS\\Non-Sperm\\aug_Non-Sperm (372).bmp\n",
      "Saved: C:\\Users\\User\\Documents\\sperm_project\\SMIDS\\Non-Sperm\\aug_Non-Sperm (373).bmp\n",
      "Saved: C:\\Users\\User\\Documents\\sperm_project\\SMIDS\\Non-Sperm\\aug_Non-Sperm (374).bmp\n",
      "Saved: C:\\Users\\User\\Documents\\sperm_project\\SMIDS\\Non-Sperm\\aug_Non-Sperm (375).bmp\n",
      "Saved: C:\\Users\\User\\Documents\\sperm_project\\SMIDS\\Non-Sperm\\aug_Non-Sperm (376).bmp\n",
      "Saved: C:\\Users\\User\\Documents\\sperm_project\\SMIDS\\Non-Sperm\\aug_Non-Sperm (377).bmp\n",
      "Saved: C:\\Users\\User\\Documents\\sperm_project\\SMIDS\\Non-Sperm\\aug_Non-Sperm (378).bmp\n"
     ]
    },
    {
     "name": "stderr",
     "output_type": "stream",
     "text": [
      "Augmenting Non-Sperm:  33%|███▎      | 318/974 [00:06<00:13, 48.13it/s]"
     ]
    },
    {
     "name": "stdout",
     "output_type": "stream",
     "text": [
      "Saved: C:\\Users\\User\\Documents\\sperm_project\\SMIDS\\Non-Sperm\\aug_Non-Sperm (379).bmp\n",
      "Saved: C:\\Users\\User\\Documents\\sperm_project\\SMIDS\\Non-Sperm\\aug_Non-Sperm (38).bmp\n",
      "Saved: C:\\Users\\User\\Documents\\sperm_project\\SMIDS\\Non-Sperm\\aug_Non-Sperm (380).bmp\n",
      "Saved: C:\\Users\\User\\Documents\\sperm_project\\SMIDS\\Non-Sperm\\aug_Non-Sperm (381).bmp\n",
      "Saved: C:\\Users\\User\\Documents\\sperm_project\\SMIDS\\Non-Sperm\\aug_Non-Sperm (382).bmp\n",
      "Saved: C:\\Users\\User\\Documents\\sperm_project\\SMIDS\\Non-Sperm\\aug_Non-Sperm (383).bmp\n",
      "Saved: C:\\Users\\User\\Documents\\sperm_project\\SMIDS\\Non-Sperm\\aug_Non-Sperm (384).bmp\n",
      "Saved: C:\\Users\\User\\Documents\\sperm_project\\SMIDS\\Non-Sperm\\aug_Non-Sperm (385).bmp\n",
      "Saved: C:\\Users\\User\\Documents\\sperm_project\\SMIDS\\Non-Sperm\\aug_Non-Sperm (386).bmp\n",
      "Saved: C:\\Users\\User\\Documents\\sperm_project\\SMIDS\\Non-Sperm\\aug_Non-Sperm (387).bmp\n"
     ]
    },
    {
     "name": "stderr",
     "output_type": "stream",
     "text": [
      "Augmenting Non-Sperm:  34%|███▍      | 329/974 [00:07<00:13, 49.20it/s]"
     ]
    },
    {
     "name": "stdout",
     "output_type": "stream",
     "text": [
      "Saved: C:\\Users\\User\\Documents\\sperm_project\\SMIDS\\Non-Sperm\\aug_Non-Sperm (388).bmp\n",
      "Saved: C:\\Users\\User\\Documents\\sperm_project\\SMIDS\\Non-Sperm\\aug_Non-Sperm (389).bmp\n",
      "Saved: C:\\Users\\User\\Documents\\sperm_project\\SMIDS\\Non-Sperm\\aug_Non-Sperm (39).bmp\n",
      "Saved: C:\\Users\\User\\Documents\\sperm_project\\SMIDS\\Non-Sperm\\aug_Non-Sperm (390).bmp\n",
      "Saved: C:\\Users\\User\\Documents\\sperm_project\\SMIDS\\Non-Sperm\\aug_Non-Sperm (391).bmp\n",
      "Saved: C:\\Users\\User\\Documents\\sperm_project\\SMIDS\\Non-Sperm\\aug_Non-Sperm (392).bmp\n",
      "Saved: C:\\Users\\User\\Documents\\sperm_project\\SMIDS\\Non-Sperm\\aug_Non-Sperm (393).bmp\n",
      "Saved: C:\\Users\\User\\Documents\\sperm_project\\SMIDS\\Non-Sperm\\aug_Non-Sperm (394).bmp\n",
      "Saved: C:\\Users\\User\\Documents\\sperm_project\\SMIDS\\Non-Sperm\\aug_Non-Sperm (395).bmp\n",
      "Saved: C:\\Users\\User\\Documents\\sperm_project\\SMIDS\\Non-Sperm\\aug_Non-Sperm (396).bmp\n",
      "Saved: C:\\Users\\User\\Documents\\sperm_project\\SMIDS\\Non-Sperm\\aug_Non-Sperm (397).bmp\n"
     ]
    },
    {
     "name": "stderr",
     "output_type": "stream",
     "text": [
      "Augmenting Non-Sperm:  35%|███▍      | 339/974 [00:07<00:13, 47.08it/s]"
     ]
    },
    {
     "name": "stdout",
     "output_type": "stream",
     "text": [
      "Saved: C:\\Users\\User\\Documents\\sperm_project\\SMIDS\\Non-Sperm\\aug_Non-Sperm (398).bmp\n",
      "Saved: C:\\Users\\User\\Documents\\sperm_project\\SMIDS\\Non-Sperm\\aug_Non-Sperm (399).bmp\n",
      "Saved: C:\\Users\\User\\Documents\\sperm_project\\SMIDS\\Non-Sperm\\aug_Non-Sperm (4).bmp\n",
      "Saved: C:\\Users\\User\\Documents\\sperm_project\\SMIDS\\Non-Sperm\\aug_Non-Sperm (40).bmp\n",
      "Saved: C:\\Users\\User\\Documents\\sperm_project\\SMIDS\\Non-Sperm\\aug_Non-Sperm (400).bmp\n",
      "Saved: C:\\Users\\User\\Documents\\sperm_project\\SMIDS\\Non-Sperm\\aug_Non-Sperm (401).bmp\n",
      "Saved: C:\\Users\\User\\Documents\\sperm_project\\SMIDS\\Non-Sperm\\aug_Non-Sperm (402).bmp\n",
      "Saved: C:\\Users\\User\\Documents\\sperm_project\\SMIDS\\Non-Sperm\\aug_Non-Sperm (403).bmp\n",
      "Saved: C:\\Users\\User\\Documents\\sperm_project\\SMIDS\\Non-Sperm\\aug_Non-Sperm (404).bmp\n",
      "Saved: C:\\Users\\User\\Documents\\sperm_project\\SMIDS\\Non-Sperm\\aug_Non-Sperm (405).bmp\n"
     ]
    },
    {
     "name": "stderr",
     "output_type": "stream",
     "text": [
      "Augmenting Non-Sperm:  36%|███▌      | 349/974 [00:07<00:13, 45.79it/s]"
     ]
    },
    {
     "name": "stdout",
     "output_type": "stream",
     "text": [
      "Saved: C:\\Users\\User\\Documents\\sperm_project\\SMIDS\\Non-Sperm\\aug_Non-Sperm (406).bmp\n",
      "Saved: C:\\Users\\User\\Documents\\sperm_project\\SMIDS\\Non-Sperm\\aug_Non-Sperm (407).bmp\n",
      "Saved: C:\\Users\\User\\Documents\\sperm_project\\SMIDS\\Non-Sperm\\aug_Non-Sperm (408).bmp\n",
      "Saved: C:\\Users\\User\\Documents\\sperm_project\\SMIDS\\Non-Sperm\\aug_Non-Sperm (409).bmp\n",
      "Saved: C:\\Users\\User\\Documents\\sperm_project\\SMIDS\\Non-Sperm\\aug_Non-Sperm (41).bmp\n",
      "Saved: C:\\Users\\User\\Documents\\sperm_project\\SMIDS\\Non-Sperm\\aug_Non-Sperm (410).bmp\n",
      "Saved: C:\\Users\\User\\Documents\\sperm_project\\SMIDS\\Non-Sperm\\aug_Non-Sperm (411).bmp\n",
      "Saved: C:\\Users\\User\\Documents\\sperm_project\\SMIDS\\Non-Sperm\\aug_Non-Sperm (412).bmp\n",
      "Saved: C:\\Users\\User\\Documents\\sperm_project\\SMIDS\\Non-Sperm\\aug_Non-Sperm (413).bmp\n",
      "Saved: C:\\Users\\User\\Documents\\sperm_project\\SMIDS\\Non-Sperm\\aug_Non-Sperm (414).bmp\n"
     ]
    },
    {
     "name": "stderr",
     "output_type": "stream",
     "text": [
      "Augmenting Non-Sperm:  37%|███▋      | 360/974 [00:07<00:12, 47.49it/s]"
     ]
    },
    {
     "name": "stdout",
     "output_type": "stream",
     "text": [
      "Saved: C:\\Users\\User\\Documents\\sperm_project\\SMIDS\\Non-Sperm\\aug_Non-Sperm (415).bmp\n",
      "Saved: C:\\Users\\User\\Documents\\sperm_project\\SMIDS\\Non-Sperm\\aug_Non-Sperm (416).bmp\n",
      "Saved: C:\\Users\\User\\Documents\\sperm_project\\SMIDS\\Non-Sperm\\aug_Non-Sperm (417).bmp\n",
      "Saved: C:\\Users\\User\\Documents\\sperm_project\\SMIDS\\Non-Sperm\\aug_Non-Sperm (418).bmp\n",
      "Saved: C:\\Users\\User\\Documents\\sperm_project\\SMIDS\\Non-Sperm\\aug_Non-Sperm (419).bmp\n",
      "Saved: C:\\Users\\User\\Documents\\sperm_project\\SMIDS\\Non-Sperm\\aug_Non-Sperm (42).bmp\n",
      "Saved: C:\\Users\\User\\Documents\\sperm_project\\SMIDS\\Non-Sperm\\aug_Non-Sperm (420).bmp\n",
      "Saved: C:\\Users\\User\\Documents\\sperm_project\\SMIDS\\Non-Sperm\\aug_Non-Sperm (421).bmp\n",
      "Saved: C:\\Users\\User\\Documents\\sperm_project\\SMIDS\\Non-Sperm\\aug_Non-Sperm (422).bmp\n",
      "Saved: C:\\Users\\User\\Documents\\sperm_project\\SMIDS\\Non-Sperm\\aug_Non-Sperm (423).bmp\n",
      "Saved: C:\\Users\\User\\Documents\\sperm_project\\SMIDS\\Non-Sperm\\aug_Non-Sperm (424).bmp\n"
     ]
    },
    {
     "name": "stderr",
     "output_type": "stream",
     "text": [
      "Augmenting Non-Sperm:  38%|███▊      | 370/974 [00:08<00:12, 47.66it/s]"
     ]
    },
    {
     "name": "stdout",
     "output_type": "stream",
     "text": [
      "Saved: C:\\Users\\User\\Documents\\sperm_project\\SMIDS\\Non-Sperm\\aug_Non-Sperm (425).bmp\n",
      "Saved: C:\\Users\\User\\Documents\\sperm_project\\SMIDS\\Non-Sperm\\aug_Non-Sperm (426).bmp\n",
      "Saved: C:\\Users\\User\\Documents\\sperm_project\\SMIDS\\Non-Sperm\\aug_Non-Sperm (427).bmp\n",
      "Saved: C:\\Users\\User\\Documents\\sperm_project\\SMIDS\\Non-Sperm\\aug_Non-Sperm (428).bmp\n",
      "Saved: C:\\Users\\User\\Documents\\sperm_project\\SMIDS\\Non-Sperm\\aug_Non-Sperm (429).bmp\n",
      "Saved: C:\\Users\\User\\Documents\\sperm_project\\SMIDS\\Non-Sperm\\aug_Non-Sperm (43).bmp\n",
      "Saved: C:\\Users\\User\\Documents\\sperm_project\\SMIDS\\Non-Sperm\\aug_Non-Sperm (430).bmp\n",
      "Saved: C:\\Users\\User\\Documents\\sperm_project\\SMIDS\\Non-Sperm\\aug_Non-Sperm (431).bmp\n",
      "Saved: C:\\Users\\User\\Documents\\sperm_project\\SMIDS\\Non-Sperm\\aug_Non-Sperm (432).bmp\n",
      "Saved: C:\\Users\\User\\Documents\\sperm_project\\SMIDS\\Non-Sperm\\aug_Non-Sperm (433).bmp\n",
      "Saved: C:\\Users\\User\\Documents\\sperm_project\\SMIDS\\Non-Sperm\\aug_Non-Sperm (434).bmp\n"
     ]
    },
    {
     "name": "stderr",
     "output_type": "stream",
     "text": [
      "Augmenting Non-Sperm:  39%|███▉      | 382/974 [00:08<00:11, 50.32it/s]"
     ]
    },
    {
     "name": "stdout",
     "output_type": "stream",
     "text": [
      "Saved: C:\\Users\\User\\Documents\\sperm_project\\SMIDS\\Non-Sperm\\aug_Non-Sperm (435).bmp\n",
      "Saved: C:\\Users\\User\\Documents\\sperm_project\\SMIDS\\Non-Sperm\\aug_Non-Sperm (436).bmp\n",
      "Saved: C:\\Users\\User\\Documents\\sperm_project\\SMIDS\\Non-Sperm\\aug_Non-Sperm (437).bmp\n",
      "Saved: C:\\Users\\User\\Documents\\sperm_project\\SMIDS\\Non-Sperm\\aug_Non-Sperm (438).bmp\n",
      "Saved: C:\\Users\\User\\Documents\\sperm_project\\SMIDS\\Non-Sperm\\aug_Non-Sperm (439).bmp\n",
      "Saved: C:\\Users\\User\\Documents\\sperm_project\\SMIDS\\Non-Sperm\\aug_Non-Sperm (44).bmp\n",
      "Saved: C:\\Users\\User\\Documents\\sperm_project\\SMIDS\\Non-Sperm\\aug_Non-Sperm (440).bmp\n",
      "Saved: C:\\Users\\User\\Documents\\sperm_project\\SMIDS\\Non-Sperm\\aug_Non-Sperm (441).bmp\n",
      "Saved: C:\\Users\\User\\Documents\\sperm_project\\SMIDS\\Non-Sperm\\aug_Non-Sperm (442).bmp\n",
      "Saved: C:\\Users\\User\\Documents\\sperm_project\\SMIDS\\Non-Sperm\\aug_Non-Sperm (443).bmp\n"
     ]
    },
    {
     "name": "stderr",
     "output_type": "stream",
     "text": [
      "Augmenting Non-Sperm:  40%|████      | 393/974 [00:08<00:12, 47.66it/s]"
     ]
    },
    {
     "name": "stdout",
     "output_type": "stream",
     "text": [
      "Saved: C:\\Users\\User\\Documents\\sperm_project\\SMIDS\\Non-Sperm\\aug_Non-Sperm (444).bmp\n",
      "Saved: C:\\Users\\User\\Documents\\sperm_project\\SMIDS\\Non-Sperm\\aug_Non-Sperm (445).bmp\n",
      "Saved: C:\\Users\\User\\Documents\\sperm_project\\SMIDS\\Non-Sperm\\aug_Non-Sperm (446).bmp\n",
      "Saved: C:\\Users\\User\\Documents\\sperm_project\\SMIDS\\Non-Sperm\\aug_Non-Sperm (447).bmp\n",
      "Saved: C:\\Users\\User\\Documents\\sperm_project\\SMIDS\\Non-Sperm\\aug_Non-Sperm (448).bmp\n",
      "Saved: C:\\Users\\User\\Documents\\sperm_project\\SMIDS\\Non-Sperm\\aug_Non-Sperm (449).bmp\n",
      "Saved: C:\\Users\\User\\Documents\\sperm_project\\SMIDS\\Non-Sperm\\aug_Non-Sperm (45).bmp\n",
      "Saved: C:\\Users\\User\\Documents\\sperm_project\\SMIDS\\Non-Sperm\\aug_Non-Sperm (450).bmp\n",
      "Saved: C:\\Users\\User\\Documents\\sperm_project\\SMIDS\\Non-Sperm\\aug_Non-Sperm (451).bmp\n",
      "Saved: C:\\Users\\User\\Documents\\sperm_project\\SMIDS\\Non-Sperm\\aug_Non-Sperm (452).bmp\n"
     ]
    },
    {
     "name": "stderr",
     "output_type": "stream",
     "text": [
      "Augmenting Non-Sperm:  41%|████      | 398/974 [00:08<00:12, 47.77it/s]"
     ]
    },
    {
     "name": "stdout",
     "output_type": "stream",
     "text": [
      "Saved: C:\\Users\\User\\Documents\\sperm_project\\SMIDS\\Non-Sperm\\aug_Non-Sperm (453).bmp\n",
      "Saved: C:\\Users\\User\\Documents\\sperm_project\\SMIDS\\Non-Sperm\\aug_Non-Sperm (454).bmp\n",
      "Saved: C:\\Users\\User\\Documents\\sperm_project\\SMIDS\\Non-Sperm\\aug_Non-Sperm (455).bmp\n",
      "Saved: C:\\Users\\User\\Documents\\sperm_project\\SMIDS\\Non-Sperm\\aug_Non-Sperm (456).bmp\n",
      "Saved: C:\\Users\\User\\Documents\\sperm_project\\SMIDS\\Non-Sperm\\aug_Non-Sperm (457).bmp\n",
      "Saved: C:\\Users\\User\\Documents\\sperm_project\\SMIDS\\Non-Sperm\\aug_Non-Sperm (458).bmp\n",
      "Saved: C:\\Users\\User\\Documents\\sperm_project\\SMIDS\\Non-Sperm\\aug_Non-Sperm (459).bmp\n",
      "Saved: C:\\Users\\User\\Documents\\sperm_project\\SMIDS\\Non-Sperm\\aug_Non-Sperm (46).bmp\n",
      "Saved: C:\\Users\\User\\Documents\\sperm_project\\SMIDS\\Non-Sperm\\aug_Non-Sperm (460).bmp\n",
      "Saved: C:\\Users\\User\\Documents\\sperm_project\\SMIDS\\Non-Sperm\\aug_Non-Sperm (461).bmp\n"
     ]
    },
    {
     "name": "stderr",
     "output_type": "stream",
     "text": [
      "Augmenting Non-Sperm:  42%|████▏     | 410/974 [00:08<00:11, 51.04it/s]"
     ]
    },
    {
     "name": "stdout",
     "output_type": "stream",
     "text": [
      "Saved: C:\\Users\\User\\Documents\\sperm_project\\SMIDS\\Non-Sperm\\aug_Non-Sperm (462).bmp\n",
      "Saved: C:\\Users\\User\\Documents\\sperm_project\\SMIDS\\Non-Sperm\\aug_Non-Sperm (463).bmp\n",
      "Saved: C:\\Users\\User\\Documents\\sperm_project\\SMIDS\\Non-Sperm\\aug_Non-Sperm (464).bmp\n",
      "Saved: C:\\Users\\User\\Documents\\sperm_project\\SMIDS\\Non-Sperm\\aug_Non-Sperm (465).bmp\n",
      "Saved: C:\\Users\\User\\Documents\\sperm_project\\SMIDS\\Non-Sperm\\aug_Non-Sperm (466).bmp\n",
      "Saved: C:\\Users\\User\\Documents\\sperm_project\\SMIDS\\Non-Sperm\\aug_Non-Sperm (467).bmp\n",
      "Saved: C:\\Users\\User\\Documents\\sperm_project\\SMIDS\\Non-Sperm\\aug_Non-Sperm (468).bmp\n",
      "Saved: C:\\Users\\User\\Documents\\sperm_project\\SMIDS\\Non-Sperm\\aug_Non-Sperm (469).bmp\n",
      "Saved: C:\\Users\\User\\Documents\\sperm_project\\SMIDS\\Non-Sperm\\aug_Non-Sperm (47).bmp\n",
      "Saved: C:\\Users\\User\\Documents\\sperm_project\\SMIDS\\Non-Sperm\\aug_Non-Sperm (470).bmp\n",
      "Saved: C:\\Users\\User\\Documents\\sperm_project\\SMIDS\\Non-Sperm\\aug_Non-Sperm (471).bmp\n",
      "Saved: C:\\Users\\User\\Documents\\sperm_project\\SMIDS\\Non-Sperm\\aug_Non-Sperm (472).bmp\n"
     ]
    },
    {
     "name": "stderr",
     "output_type": "stream",
     "text": [
      "Augmenting Non-Sperm:  43%|████▎     | 422/974 [00:09<00:11, 49.48it/s]"
     ]
    },
    {
     "name": "stdout",
     "output_type": "stream",
     "text": [
      "Saved: C:\\Users\\User\\Documents\\sperm_project\\SMIDS\\Non-Sperm\\aug_Non-Sperm (473).bmp\n",
      "Saved: C:\\Users\\User\\Documents\\sperm_project\\SMIDS\\Non-Sperm\\aug_Non-Sperm (474).bmp\n",
      "Saved: C:\\Users\\User\\Documents\\sperm_project\\SMIDS\\Non-Sperm\\aug_Non-Sperm (475).bmp\n",
      "Saved: C:\\Users\\User\\Documents\\sperm_project\\SMIDS\\Non-Sperm\\aug_Non-Sperm (476).bmp\n",
      "Saved: C:\\Users\\User\\Documents\\sperm_project\\SMIDS\\Non-Sperm\\aug_Non-Sperm (477).bmp\n",
      "Saved: C:\\Users\\User\\Documents\\sperm_project\\SMIDS\\Non-Sperm\\aug_Non-Sperm (478).bmp\n",
      "Saved: C:\\Users\\User\\Documents\\sperm_project\\SMIDS\\Non-Sperm\\aug_Non-Sperm (479).bmp\n",
      "Saved: C:\\Users\\User\\Documents\\sperm_project\\SMIDS\\Non-Sperm\\aug_Non-Sperm (48).bmp\n",
      "Saved: C:\\Users\\User\\Documents\\sperm_project\\SMIDS\\Non-Sperm\\aug_Non-Sperm (480).bmp\n",
      "Saved: C:\\Users\\User\\Documents\\sperm_project\\SMIDS\\Non-Sperm\\aug_Non-Sperm (481).bmp\n"
     ]
    },
    {
     "name": "stderr",
     "output_type": "stream",
     "text": [
      "Augmenting Non-Sperm:  44%|████▍     | 432/974 [00:09<00:11, 48.23it/s]"
     ]
    },
    {
     "name": "stdout",
     "output_type": "stream",
     "text": [
      "Saved: C:\\Users\\User\\Documents\\sperm_project\\SMIDS\\Non-Sperm\\aug_Non-Sperm (482).bmp\n",
      "Saved: C:\\Users\\User\\Documents\\sperm_project\\SMIDS\\Non-Sperm\\aug_Non-Sperm (483).bmp\n",
      "Saved: C:\\Users\\User\\Documents\\sperm_project\\SMIDS\\Non-Sperm\\aug_Non-Sperm (484).bmp\n",
      "Saved: C:\\Users\\User\\Documents\\sperm_project\\SMIDS\\Non-Sperm\\aug_Non-Sperm (485).bmp\n",
      "Saved: C:\\Users\\User\\Documents\\sperm_project\\SMIDS\\Non-Sperm\\aug_Non-Sperm (486).bmp\n",
      "Saved: C:\\Users\\User\\Documents\\sperm_project\\SMIDS\\Non-Sperm\\aug_Non-Sperm (487).bmp\n",
      "Saved: C:\\Users\\User\\Documents\\sperm_project\\SMIDS\\Non-Sperm\\aug_Non-Sperm (488).bmp\n",
      "Saved: C:\\Users\\User\\Documents\\sperm_project\\SMIDS\\Non-Sperm\\aug_Non-Sperm (489).bmp\n",
      "Saved: C:\\Users\\User\\Documents\\sperm_project\\SMIDS\\Non-Sperm\\aug_Non-Sperm (49).bmp\n",
      "Saved: C:\\Users\\User\\Documents\\sperm_project\\SMIDS\\Non-Sperm\\aug_Non-Sperm (490).bmp\n"
     ]
    },
    {
     "name": "stderr",
     "output_type": "stream",
     "text": [
      "Augmenting Non-Sperm:  45%|████▌     | 442/974 [00:09<00:11, 47.26it/s]"
     ]
    },
    {
     "name": "stdout",
     "output_type": "stream",
     "text": [
      "Saved: C:\\Users\\User\\Documents\\sperm_project\\SMIDS\\Non-Sperm\\aug_Non-Sperm (491).bmp\n",
      "Saved: C:\\Users\\User\\Documents\\sperm_project\\SMIDS\\Non-Sperm\\aug_Non-Sperm (492).bmp\n",
      "Saved: C:\\Users\\User\\Documents\\sperm_project\\SMIDS\\Non-Sperm\\aug_Non-Sperm (493).bmp\n",
      "Saved: C:\\Users\\User\\Documents\\sperm_project\\SMIDS\\Non-Sperm\\aug_Non-Sperm (494).bmp\n",
      "Saved: C:\\Users\\User\\Documents\\sperm_project\\SMIDS\\Non-Sperm\\aug_Non-Sperm (495).bmp\n",
      "Saved: C:\\Users\\User\\Documents\\sperm_project\\SMIDS\\Non-Sperm\\aug_Non-Sperm (496).bmp\n",
      "Saved: C:\\Users\\User\\Documents\\sperm_project\\SMIDS\\Non-Sperm\\aug_Non-Sperm (497).bmp\n",
      "Saved: C:\\Users\\User\\Documents\\sperm_project\\SMIDS\\Non-Sperm\\aug_Non-Sperm (498).bmp\n",
      "Saved: C:\\Users\\User\\Documents\\sperm_project\\SMIDS\\Non-Sperm\\aug_Non-Sperm (499).bmp\n",
      "Saved: C:\\Users\\User\\Documents\\sperm_project\\SMIDS\\Non-Sperm\\aug_Non-Sperm (5).bmp\n"
     ]
    },
    {
     "name": "stderr",
     "output_type": "stream",
     "text": [
      "Augmenting Non-Sperm:  46%|████▋     | 452/974 [00:09<00:10, 47.61it/s]"
     ]
    },
    {
     "name": "stdout",
     "output_type": "stream",
     "text": [
      "Saved: C:\\Users\\User\\Documents\\sperm_project\\SMIDS\\Non-Sperm\\aug_Non-Sperm (50).bmp\n",
      "Saved: C:\\Users\\User\\Documents\\sperm_project\\SMIDS\\Non-Sperm\\aug_Non-Sperm (500).bmp\n",
      "Saved: C:\\Users\\User\\Documents\\sperm_project\\SMIDS\\Non-Sperm\\aug_Non-Sperm (501).bmp\n",
      "Saved: C:\\Users\\User\\Documents\\sperm_project\\SMIDS\\Non-Sperm\\aug_Non-Sperm (502).bmp\n",
      "Saved: C:\\Users\\User\\Documents\\sperm_project\\SMIDS\\Non-Sperm\\aug_Non-Sperm (503).bmp\n",
      "Saved: C:\\Users\\User\\Documents\\sperm_project\\SMIDS\\Non-Sperm\\aug_Non-Sperm (504).bmp\n",
      "Saved: C:\\Users\\User\\Documents\\sperm_project\\SMIDS\\Non-Sperm\\aug_Non-Sperm (505).bmp\n",
      "Saved: C:\\Users\\User\\Documents\\sperm_project\\SMIDS\\Non-Sperm\\aug_Non-Sperm (506).bmp\n",
      "Saved: C:\\Users\\User\\Documents\\sperm_project\\SMIDS\\Non-Sperm\\aug_Non-Sperm (507).bmp\n",
      "Saved: C:\\Users\\User\\Documents\\sperm_project\\SMIDS\\Non-Sperm\\aug_Non-Sperm (508).bmp\n"
     ]
    },
    {
     "name": "stderr",
     "output_type": "stream",
     "text": [
      "Augmenting Non-Sperm:  48%|████▊     | 463/974 [00:09<00:10, 47.42it/s]"
     ]
    },
    {
     "name": "stdout",
     "output_type": "stream",
     "text": [
      "Saved: C:\\Users\\User\\Documents\\sperm_project\\SMIDS\\Non-Sperm\\aug_Non-Sperm (509).bmp\n",
      "Saved: C:\\Users\\User\\Documents\\sperm_project\\SMIDS\\Non-Sperm\\aug_Non-Sperm (51).bmp\n",
      "Saved: C:\\Users\\User\\Documents\\sperm_project\\SMIDS\\Non-Sperm\\aug_Non-Sperm (510).bmp\n",
      "Saved: C:\\Users\\User\\Documents\\sperm_project\\SMIDS\\Non-Sperm\\aug_Non-Sperm (511).bmp\n",
      "Saved: C:\\Users\\User\\Documents\\sperm_project\\SMIDS\\Non-Sperm\\aug_Non-Sperm (512).bmp\n",
      "Saved: C:\\Users\\User\\Documents\\sperm_project\\SMIDS\\Non-Sperm\\aug_Non-Sperm (513).bmp\n",
      "Saved: C:\\Users\\User\\Documents\\sperm_project\\SMIDS\\Non-Sperm\\aug_Non-Sperm (514).bmp\n",
      "Saved: C:\\Users\\User\\Documents\\sperm_project\\SMIDS\\Non-Sperm\\aug_Non-Sperm (515).bmp\n",
      "Saved: C:\\Users\\User\\Documents\\sperm_project\\SMIDS\\Non-Sperm\\aug_Non-Sperm (516).bmp\n",
      "Saved: C:\\Users\\User\\Documents\\sperm_project\\SMIDS\\Non-Sperm\\aug_Non-Sperm (517).bmp\n",
      "Saved: C:\\Users\\User\\Documents\\sperm_project\\SMIDS\\Non-Sperm\\aug_Non-Sperm (518).bmp\n"
     ]
    },
    {
     "name": "stderr",
     "output_type": "stream",
     "text": [
      "Augmenting Non-Sperm:  49%|████▊     | 473/974 [00:10<00:10, 48.49it/s]"
     ]
    },
    {
     "name": "stdout",
     "output_type": "stream",
     "text": [
      "Saved: C:\\Users\\User\\Documents\\sperm_project\\SMIDS\\Non-Sperm\\aug_Non-Sperm (519).bmp\n",
      "Saved: C:\\Users\\User\\Documents\\sperm_project\\SMIDS\\Non-Sperm\\aug_Non-Sperm (52).bmp\n",
      "Saved: C:\\Users\\User\\Documents\\sperm_project\\SMIDS\\Non-Sperm\\aug_Non-Sperm (520).bmp\n",
      "Saved: C:\\Users\\User\\Documents\\sperm_project\\SMIDS\\Non-Sperm\\aug_Non-Sperm (521).bmp\n",
      "Saved: C:\\Users\\User\\Documents\\sperm_project\\SMIDS\\Non-Sperm\\aug_Non-Sperm (522).bmp\n",
      "Saved: C:\\Users\\User\\Documents\\sperm_project\\SMIDS\\Non-Sperm\\aug_Non-Sperm (523).bmp\n",
      "Saved: C:\\Users\\User\\Documents\\sperm_project\\SMIDS\\Non-Sperm\\aug_Non-Sperm (524).bmp\n",
      "Saved: C:\\Users\\User\\Documents\\sperm_project\\SMIDS\\Non-Sperm\\aug_Non-Sperm (525).bmp\n",
      "Saved: C:\\Users\\User\\Documents\\sperm_project\\SMIDS\\Non-Sperm\\aug_Non-Sperm (526).bmp\n",
      "Saved: C:\\Users\\User\\Documents\\sperm_project\\SMIDS\\Non-Sperm\\aug_Non-Sperm (527).bmp\n"
     ]
    },
    {
     "name": "stderr",
     "output_type": "stream",
     "text": [
      "Augmenting Non-Sperm:  50%|████▉     | 483/974 [00:10<00:10, 46.94it/s]"
     ]
    },
    {
     "name": "stdout",
     "output_type": "stream",
     "text": [
      "Saved: C:\\Users\\User\\Documents\\sperm_project\\SMIDS\\Non-Sperm\\aug_Non-Sperm (528).bmp\n",
      "Saved: C:\\Users\\User\\Documents\\sperm_project\\SMIDS\\Non-Sperm\\aug_Non-Sperm (529).bmp\n",
      "Saved: C:\\Users\\User\\Documents\\sperm_project\\SMIDS\\Non-Sperm\\aug_Non-Sperm (53).bmp\n",
      "Saved: C:\\Users\\User\\Documents\\sperm_project\\SMIDS\\Non-Sperm\\aug_Non-Sperm (530).bmp\n",
      "Saved: C:\\Users\\User\\Documents\\sperm_project\\SMIDS\\Non-Sperm\\aug_Non-Sperm (531).bmp\n",
      "Saved: C:\\Users\\User\\Documents\\sperm_project\\SMIDS\\Non-Sperm\\aug_Non-Sperm (532).bmp\n",
      "Saved: C:\\Users\\User\\Documents\\sperm_project\\SMIDS\\Non-Sperm\\aug_Non-Sperm (533).bmp\n",
      "Saved: C:\\Users\\User\\Documents\\sperm_project\\SMIDS\\Non-Sperm\\aug_Non-Sperm (534).bmp\n",
      "Saved: C:\\Users\\User\\Documents\\sperm_project\\SMIDS\\Non-Sperm\\aug_Non-Sperm (535).bmp\n",
      "Saved: C:\\Users\\User\\Documents\\sperm_project\\SMIDS\\Non-Sperm\\aug_Non-Sperm (536).bmp\n"
     ]
    },
    {
     "name": "stderr",
     "output_type": "stream",
     "text": [
      "Augmenting Non-Sperm:  51%|█████     | 495/974 [00:10<00:09, 51.11it/s]"
     ]
    },
    {
     "name": "stdout",
     "output_type": "stream",
     "text": [
      "Saved: C:\\Users\\User\\Documents\\sperm_project\\SMIDS\\Non-Sperm\\aug_Non-Sperm (537).bmp\n",
      "Saved: C:\\Users\\User\\Documents\\sperm_project\\SMIDS\\Non-Sperm\\aug_Non-Sperm (538).bmp\n",
      "Saved: C:\\Users\\User\\Documents\\sperm_project\\SMIDS\\Non-Sperm\\aug_Non-Sperm (539).bmp\n",
      "Saved: C:\\Users\\User\\Documents\\sperm_project\\SMIDS\\Non-Sperm\\aug_Non-Sperm (54).bmp\n",
      "Saved: C:\\Users\\User\\Documents\\sperm_project\\SMIDS\\Non-Sperm\\aug_Non-Sperm (540).bmp\n",
      "Saved: C:\\Users\\User\\Documents\\sperm_project\\SMIDS\\Non-Sperm\\aug_Non-Sperm (541).bmp\n",
      "Saved: C:\\Users\\User\\Documents\\sperm_project\\SMIDS\\Non-Sperm\\aug_Non-Sperm (542).bmp\n",
      "Saved: C:\\Users\\User\\Documents\\sperm_project\\SMIDS\\Non-Sperm\\aug_Non-Sperm (543).bmp\n",
      "Saved: C:\\Users\\User\\Documents\\sperm_project\\SMIDS\\Non-Sperm\\aug_Non-Sperm (544).bmp\n",
      "Saved: C:\\Users\\User\\Documents\\sperm_project\\SMIDS\\Non-Sperm\\aug_Non-Sperm (545).bmp\n",
      "Saved: C:\\Users\\User\\Documents\\sperm_project\\SMIDS\\Non-Sperm\\aug_Non-Sperm (546).bmp\n",
      "Saved: C:\\Users\\User\\Documents\\sperm_project\\SMIDS\\Non-Sperm\\aug_Non-Sperm (547).bmp\n"
     ]
    },
    {
     "name": "stderr",
     "output_type": "stream",
     "text": [
      "Augmenting Non-Sperm:  52%|█████▏    | 507/974 [00:10<00:09, 51.57it/s]"
     ]
    },
    {
     "name": "stdout",
     "output_type": "stream",
     "text": [
      "Saved: C:\\Users\\User\\Documents\\sperm_project\\SMIDS\\Non-Sperm\\aug_Non-Sperm (548).bmp\n",
      "Saved: C:\\Users\\User\\Documents\\sperm_project\\SMIDS\\Non-Sperm\\aug_Non-Sperm (549).bmp\n",
      "Saved: C:\\Users\\User\\Documents\\sperm_project\\SMIDS\\Non-Sperm\\aug_Non-Sperm (55).bmp\n",
      "Saved: C:\\Users\\User\\Documents\\sperm_project\\SMIDS\\Non-Sperm\\aug_Non-Sperm (550).bmp\n",
      "Saved: C:\\Users\\User\\Documents\\sperm_project\\SMIDS\\Non-Sperm\\aug_Non-Sperm (551).bmp\n",
      "Saved: C:\\Users\\User\\Documents\\sperm_project\\SMIDS\\Non-Sperm\\aug_Non-Sperm (552).bmp\n",
      "Saved: C:\\Users\\User\\Documents\\sperm_project\\SMIDS\\Non-Sperm\\aug_Non-Sperm (553).bmp\n",
      "Saved: C:\\Users\\User\\Documents\\sperm_project\\SMIDS\\Non-Sperm\\aug_Non-Sperm (554).bmp\n",
      "Saved: C:\\Users\\User\\Documents\\sperm_project\\SMIDS\\Non-Sperm\\aug_Non-Sperm (555).bmp\n",
      "Saved: C:\\Users\\User\\Documents\\sperm_project\\SMIDS\\Non-Sperm\\aug_Non-Sperm (556).bmp\n",
      "Saved: C:\\Users\\User\\Documents\\sperm_project\\SMIDS\\Non-Sperm\\aug_Non-Sperm (557).bmp\n"
     ]
    },
    {
     "name": "stderr",
     "output_type": "stream",
     "text": [
      "Augmenting Non-Sperm:  53%|█████▎    | 518/974 [00:11<00:09, 48.07it/s]"
     ]
    },
    {
     "name": "stdout",
     "output_type": "stream",
     "text": [
      "Saved: C:\\Users\\User\\Documents\\sperm_project\\SMIDS\\Non-Sperm\\aug_Non-Sperm (558).bmp\n",
      "Saved: C:\\Users\\User\\Documents\\sperm_project\\SMIDS\\Non-Sperm\\aug_Non-Sperm (559).bmp\n",
      "Saved: C:\\Users\\User\\Documents\\sperm_project\\SMIDS\\Non-Sperm\\aug_Non-Sperm (56).bmp\n",
      "Saved: C:\\Users\\User\\Documents\\sperm_project\\SMIDS\\Non-Sperm\\aug_Non-Sperm (560).bmp\n",
      "Saved: C:\\Users\\User\\Documents\\sperm_project\\SMIDS\\Non-Sperm\\aug_Non-Sperm (561).bmp\n",
      "Saved: C:\\Users\\User\\Documents\\sperm_project\\SMIDS\\Non-Sperm\\aug_Non-Sperm (562).bmp\n",
      "Saved: C:\\Users\\User\\Documents\\sperm_project\\SMIDS\\Non-Sperm\\aug_Non-Sperm (563).bmp\n",
      "Saved: C:\\Users\\User\\Documents\\sperm_project\\SMIDS\\Non-Sperm\\aug_Non-Sperm (564).bmp\n",
      "Saved: C:\\Users\\User\\Documents\\sperm_project\\SMIDS\\Non-Sperm\\aug_Non-Sperm (565).bmp\n",
      "Saved: C:\\Users\\User\\Documents\\sperm_project\\SMIDS\\Non-Sperm\\aug_Non-Sperm (566).bmp\n"
     ]
    },
    {
     "name": "stderr",
     "output_type": "stream",
     "text": [
      "Augmenting Non-Sperm:  54%|█████▍    | 529/974 [00:11<00:09, 49.34it/s]"
     ]
    },
    {
     "name": "stdout",
     "output_type": "stream",
     "text": [
      "Saved: C:\\Users\\User\\Documents\\sperm_project\\SMIDS\\Non-Sperm\\aug_Non-Sperm (567).bmp\n",
      "Saved: C:\\Users\\User\\Documents\\sperm_project\\SMIDS\\Non-Sperm\\aug_Non-Sperm (568).bmp\n",
      "Saved: C:\\Users\\User\\Documents\\sperm_project\\SMIDS\\Non-Sperm\\aug_Non-Sperm (569).bmp\n",
      "Saved: C:\\Users\\User\\Documents\\sperm_project\\SMIDS\\Non-Sperm\\aug_Non-Sperm (57).bmp\n",
      "Saved: C:\\Users\\User\\Documents\\sperm_project\\SMIDS\\Non-Sperm\\aug_Non-Sperm (570).bmp\n",
      "Saved: C:\\Users\\User\\Documents\\sperm_project\\SMIDS\\Non-Sperm\\aug_Non-Sperm (571).bmp\n",
      "Saved: C:\\Users\\User\\Documents\\sperm_project\\SMIDS\\Non-Sperm\\aug_Non-Sperm (572).bmp\n",
      "Saved: C:\\Users\\User\\Documents\\sperm_project\\SMIDS\\Non-Sperm\\aug_Non-Sperm (573).bmp\n",
      "Saved: C:\\Users\\User\\Documents\\sperm_project\\SMIDS\\Non-Sperm\\aug_Non-Sperm (574).bmp\n",
      "Saved: C:\\Users\\User\\Documents\\sperm_project\\SMIDS\\Non-Sperm\\aug_Non-Sperm (575).bmp\n",
      "Saved: C:\\Users\\User\\Documents\\sperm_project\\SMIDS\\Non-Sperm\\aug_Non-Sperm (576).bmp\n",
      "Saved: C:\\Users\\User\\Documents\\sperm_project\\SMIDS\\Non-Sperm\\aug_Non-Sperm (577).bmp\n"
     ]
    },
    {
     "name": "stderr",
     "output_type": "stream",
     "text": [
      "Augmenting Non-Sperm:  56%|█████▌    | 541/974 [00:11<00:08, 50.68it/s]"
     ]
    },
    {
     "name": "stdout",
     "output_type": "stream",
     "text": [
      "Saved: C:\\Users\\User\\Documents\\sperm_project\\SMIDS\\Non-Sperm\\aug_Non-Sperm (578).bmp\n",
      "Saved: C:\\Users\\User\\Documents\\sperm_project\\SMIDS\\Non-Sperm\\aug_Non-Sperm (579).bmp\n",
      "Saved: C:\\Users\\User\\Documents\\sperm_project\\SMIDS\\Non-Sperm\\aug_Non-Sperm (58).bmp\n",
      "Saved: C:\\Users\\User\\Documents\\sperm_project\\SMIDS\\Non-Sperm\\aug_Non-Sperm (580).bmp\n",
      "Saved: C:\\Users\\User\\Documents\\sperm_project\\SMIDS\\Non-Sperm\\aug_Non-Sperm (581).bmp\n",
      "Saved: C:\\Users\\User\\Documents\\sperm_project\\SMIDS\\Non-Sperm\\aug_Non-Sperm (582).bmp\n",
      "Saved: C:\\Users\\User\\Documents\\sperm_project\\SMIDS\\Non-Sperm\\aug_Non-Sperm (583).bmp\n",
      "Saved: C:\\Users\\User\\Documents\\sperm_project\\SMIDS\\Non-Sperm\\aug_Non-Sperm (584).bmp\n",
      "Saved: C:\\Users\\User\\Documents\\sperm_project\\SMIDS\\Non-Sperm\\aug_Non-Sperm (585).bmp\n",
      "Saved: C:\\Users\\User\\Documents\\sperm_project\\SMIDS\\Non-Sperm\\aug_Non-Sperm (586).bmp\n",
      "Saved: C:\\Users\\User\\Documents\\sperm_project\\SMIDS\\Non-Sperm\\aug_Non-Sperm (587).bmp\n"
     ]
    },
    {
     "name": "stderr",
     "output_type": "stream",
     "text": [
      "Augmenting Non-Sperm:  56%|█████▌    | 547/974 [00:11<00:08, 50.55it/s]"
     ]
    },
    {
     "name": "stdout",
     "output_type": "stream",
     "text": [
      "Saved: C:\\Users\\User\\Documents\\sperm_project\\SMIDS\\Non-Sperm\\aug_Non-Sperm (588).bmp\n",
      "Saved: C:\\Users\\User\\Documents\\sperm_project\\SMIDS\\Non-Sperm\\aug_Non-Sperm (589).bmp\n",
      "Saved: C:\\Users\\User\\Documents\\sperm_project\\SMIDS\\Non-Sperm\\aug_Non-Sperm (59).bmp\n",
      "Saved: C:\\Users\\User\\Documents\\sperm_project\\SMIDS\\Non-Sperm\\aug_Non-Sperm (590).bmp\n",
      "Saved: C:\\Users\\User\\Documents\\sperm_project\\SMIDS\\Non-Sperm\\aug_Non-Sperm (591).bmp\n",
      "Saved: C:\\Users\\User\\Documents\\sperm_project\\SMIDS\\Non-Sperm\\aug_Non-Sperm (592).bmp\n",
      "Saved: C:\\Users\\User\\Documents\\sperm_project\\SMIDS\\Non-Sperm\\aug_Non-Sperm (593).bmp\n",
      "Saved: C:\\Users\\User\\Documents\\sperm_project\\SMIDS\\Non-Sperm\\aug_Non-Sperm (594).bmp\n",
      "Saved: C:\\Users\\User\\Documents\\sperm_project\\SMIDS\\Non-Sperm\\aug_Non-Sperm (595).bmp\n",
      "Saved: C:\\Users\\User\\Documents\\sperm_project\\SMIDS\\Non-Sperm\\aug_Non-Sperm (596).bmp\n",
      "Saved: C:\\Users\\User\\Documents\\sperm_project\\SMIDS\\Non-Sperm\\aug_Non-Sperm (597).bmp\n"
     ]
    },
    {
     "name": "stderr",
     "output_type": "stream",
     "text": [
      "Augmenting Non-Sperm:  58%|█████▊    | 563/974 [00:11<00:08, 47.97it/s]"
     ]
    },
    {
     "name": "stdout",
     "output_type": "stream",
     "text": [
      "Saved: C:\\Users\\User\\Documents\\sperm_project\\SMIDS\\Non-Sperm\\aug_Non-Sperm (598).bmp\n",
      "Saved: C:\\Users\\User\\Documents\\sperm_project\\SMIDS\\Non-Sperm\\aug_Non-Sperm (599).bmp\n",
      "Saved: C:\\Users\\User\\Documents\\sperm_project\\SMIDS\\Non-Sperm\\aug_Non-Sperm (6).bmp\n",
      "Saved: C:\\Users\\User\\Documents\\sperm_project\\SMIDS\\Non-Sperm\\aug_Non-Sperm (60).bmp\n",
      "Saved: C:\\Users\\User\\Documents\\sperm_project\\SMIDS\\Non-Sperm\\aug_Non-Sperm (600).bmp\n",
      "Saved: C:\\Users\\User\\Documents\\sperm_project\\SMIDS\\Non-Sperm\\aug_Non-Sperm (601).bmp\n",
      "Saved: C:\\Users\\User\\Documents\\sperm_project\\SMIDS\\Non-Sperm\\aug_Non-Sperm (602).bmp\n",
      "Saved: C:\\Users\\User\\Documents\\sperm_project\\SMIDS\\Non-Sperm\\aug_Non-Sperm (603).bmp\n",
      "Saved: C:\\Users\\User\\Documents\\sperm_project\\SMIDS\\Non-Sperm\\aug_Non-Sperm (604).bmp\n",
      "Saved: C:\\Users\\User\\Documents\\sperm_project\\SMIDS\\Non-Sperm\\aug_Non-Sperm (605).bmp\n"
     ]
    },
    {
     "name": "stderr",
     "output_type": "stream",
     "text": [
      "Augmenting Non-Sperm:  59%|█████▉    | 573/974 [00:12<00:08, 48.00it/s]"
     ]
    },
    {
     "name": "stdout",
     "output_type": "stream",
     "text": [
      "Saved: C:\\Users\\User\\Documents\\sperm_project\\SMIDS\\Non-Sperm\\aug_Non-Sperm (606).bmp\n",
      "Saved: C:\\Users\\User\\Documents\\sperm_project\\SMIDS\\Non-Sperm\\aug_Non-Sperm (607).bmp\n",
      "Saved: C:\\Users\\User\\Documents\\sperm_project\\SMIDS\\Non-Sperm\\aug_Non-Sperm (608).bmp\n",
      "Saved: C:\\Users\\User\\Documents\\sperm_project\\SMIDS\\Non-Sperm\\aug_Non-Sperm (609).bmp\n",
      "Saved: C:\\Users\\User\\Documents\\sperm_project\\SMIDS\\Non-Sperm\\aug_Non-Sperm (61).bmp\n",
      "Saved: C:\\Users\\User\\Documents\\sperm_project\\SMIDS\\Non-Sperm\\aug_Non-Sperm (610).bmp\n",
      "Saved: C:\\Users\\User\\Documents\\sperm_project\\SMIDS\\Non-Sperm\\aug_Non-Sperm (611).bmp\n",
      "Saved: C:\\Users\\User\\Documents\\sperm_project\\SMIDS\\Non-Sperm\\aug_Non-Sperm (612).bmp\n",
      "Saved: C:\\Users\\User\\Documents\\sperm_project\\SMIDS\\Non-Sperm\\aug_Non-Sperm (613).bmp\n",
      "Saved: C:\\Users\\User\\Documents\\sperm_project\\SMIDS\\Non-Sperm\\aug_Non-Sperm (614).bmp\n",
      "Saved: C:\\Users\\User\\Documents\\sperm_project\\SMIDS\\Non-Sperm\\aug_Non-Sperm (615).bmp\n"
     ]
    },
    {
     "name": "stderr",
     "output_type": "stream",
     "text": [
      "Augmenting Non-Sperm:  60%|█████▉    | 584/974 [00:12<00:08, 48.16it/s]"
     ]
    },
    {
     "name": "stdout",
     "output_type": "stream",
     "text": [
      "Saved: C:\\Users\\User\\Documents\\sperm_project\\SMIDS\\Non-Sperm\\aug_Non-Sperm (616).bmp\n",
      "Saved: C:\\Users\\User\\Documents\\sperm_project\\SMIDS\\Non-Sperm\\aug_Non-Sperm (617).bmp\n",
      "Saved: C:\\Users\\User\\Documents\\sperm_project\\SMIDS\\Non-Sperm\\aug_Non-Sperm (618).bmp\n",
      "Saved: C:\\Users\\User\\Documents\\sperm_project\\SMIDS\\Non-Sperm\\aug_Non-Sperm (619).bmp\n",
      "Saved: C:\\Users\\User\\Documents\\sperm_project\\SMIDS\\Non-Sperm\\aug_Non-Sperm (62).bmp\n",
      "Saved: C:\\Users\\User\\Documents\\sperm_project\\SMIDS\\Non-Sperm\\aug_Non-Sperm (620).bmp\n",
      "Saved: C:\\Users\\User\\Documents\\sperm_project\\SMIDS\\Non-Sperm\\aug_Non-Sperm (621).bmp\n",
      "Saved: C:\\Users\\User\\Documents\\sperm_project\\SMIDS\\Non-Sperm\\aug_Non-Sperm (622).bmp\n",
      "Saved: C:\\Users\\User\\Documents\\sperm_project\\SMIDS\\Non-Sperm\\aug_Non-Sperm (623).bmp\n",
      "Saved: C:\\Users\\User\\Documents\\sperm_project\\SMIDS\\Non-Sperm\\aug_Non-Sperm (624).bmp\n"
     ]
    },
    {
     "name": "stderr",
     "output_type": "stream",
     "text": [
      "Augmenting Non-Sperm:  61%|██████    | 590/974 [00:12<00:07, 49.16it/s]"
     ]
    },
    {
     "name": "stdout",
     "output_type": "stream",
     "text": [
      "Saved: C:\\Users\\User\\Documents\\sperm_project\\SMIDS\\Non-Sperm\\aug_Non-Sperm (625).bmp\n",
      "Saved: C:\\Users\\User\\Documents\\sperm_project\\SMIDS\\Non-Sperm\\aug_Non-Sperm (626).bmp\n",
      "Saved: C:\\Users\\User\\Documents\\sperm_project\\SMIDS\\Non-Sperm\\aug_Non-Sperm (627).bmp\n",
      "Saved: C:\\Users\\User\\Documents\\sperm_project\\SMIDS\\Non-Sperm\\aug_Non-Sperm (628).bmp\n",
      "Saved: C:\\Users\\User\\Documents\\sperm_project\\SMIDS\\Non-Sperm\\aug_Non-Sperm (629).bmp\n",
      "Saved: C:\\Users\\User\\Documents\\sperm_project\\SMIDS\\Non-Sperm\\aug_Non-Sperm (63).bmp\n",
      "Saved: C:\\Users\\User\\Documents\\sperm_project\\SMIDS\\Non-Sperm\\aug_Non-Sperm (630).bmp\n",
      "Saved: C:\\Users\\User\\Documents\\sperm_project\\SMIDS\\Non-Sperm\\aug_Non-Sperm (631).bmp\n",
      "Saved: C:\\Users\\User\\Documents\\sperm_project\\SMIDS\\Non-Sperm\\aug_Non-Sperm (632).bmp\n",
      "Saved: C:\\Users\\User\\Documents\\sperm_project\\SMIDS\\Non-Sperm\\aug_Non-Sperm (633).bmp\n",
      "Saved: C:\\Users\\User\\Documents\\sperm_project\\SMIDS\\Non-Sperm\\aug_Non-Sperm (634).bmp\n"
     ]
    },
    {
     "name": "stderr",
     "output_type": "stream",
     "text": [
      "Augmenting Non-Sperm:  62%|██████▏   | 601/974 [00:12<00:07, 48.39it/s]"
     ]
    },
    {
     "name": "stdout",
     "output_type": "stream",
     "text": [
      "Saved: C:\\Users\\User\\Documents\\sperm_project\\SMIDS\\Non-Sperm\\aug_Non-Sperm (635).bmp\n",
      "Saved: C:\\Users\\User\\Documents\\sperm_project\\SMIDS\\Non-Sperm\\aug_Non-Sperm (636).bmp\n",
      "Saved: C:\\Users\\User\\Documents\\sperm_project\\SMIDS\\Non-Sperm\\aug_Non-Sperm (637).bmp\n",
      "Saved: C:\\Users\\User\\Documents\\sperm_project\\SMIDS\\Non-Sperm\\aug_Non-Sperm (638).bmp\n",
      "Saved: C:\\Users\\User\\Documents\\sperm_project\\SMIDS\\Non-Sperm\\aug_Non-Sperm (639).bmp\n",
      "Saved: C:\\Users\\User\\Documents\\sperm_project\\SMIDS\\Non-Sperm\\aug_Non-Sperm (64).bmp\n",
      "Saved: C:\\Users\\User\\Documents\\sperm_project\\SMIDS\\Non-Sperm\\aug_Non-Sperm (640).bmp\n",
      "Saved: C:\\Users\\User\\Documents\\sperm_project\\SMIDS\\Non-Sperm\\aug_Non-Sperm (641).bmp\n",
      "Saved: C:\\Users\\User\\Documents\\sperm_project\\SMIDS\\Non-Sperm\\aug_Non-Sperm (642).bmp\n",
      "Saved: C:\\Users\\User\\Documents\\sperm_project\\SMIDS\\Non-Sperm\\aug_Non-Sperm (643).bmp\n"
     ]
    },
    {
     "name": "stderr",
     "output_type": "stream",
     "text": [
      "Augmenting Non-Sperm:  63%|██████▎   | 611/974 [00:12<00:07, 47.02it/s]"
     ]
    },
    {
     "name": "stdout",
     "output_type": "stream",
     "text": [
      "Saved: C:\\Users\\User\\Documents\\sperm_project\\SMIDS\\Non-Sperm\\aug_Non-Sperm (644).bmp\n",
      "Saved: C:\\Users\\User\\Documents\\sperm_project\\SMIDS\\Non-Sperm\\aug_Non-Sperm (645).bmp\n",
      "Saved: C:\\Users\\User\\Documents\\sperm_project\\SMIDS\\Non-Sperm\\aug_Non-Sperm (646).bmp\n",
      "Saved: C:\\Users\\User\\Documents\\sperm_project\\SMIDS\\Non-Sperm\\aug_Non-Sperm (647).bmp\n",
      "Saved: C:\\Users\\User\\Documents\\sperm_project\\SMIDS\\Non-Sperm\\aug_Non-Sperm (648).bmp\n",
      "Saved: C:\\Users\\User\\Documents\\sperm_project\\SMIDS\\Non-Sperm\\aug_Non-Sperm (649).bmp\n",
      "Saved: C:\\Users\\User\\Documents\\sperm_project\\SMIDS\\Non-Sperm\\aug_Non-Sperm (65).bmp\n",
      "Saved: C:\\Users\\User\\Documents\\sperm_project\\SMIDS\\Non-Sperm\\aug_Non-Sperm (650).bmp\n",
      "Saved: C:\\Users\\User\\Documents\\sperm_project\\SMIDS\\Non-Sperm\\aug_Non-Sperm (651).bmp\n",
      "Saved: C:\\Users\\User\\Documents\\sperm_project\\SMIDS\\Non-Sperm\\aug_Non-Sperm (652).bmp\n"
     ]
    },
    {
     "name": "stderr",
     "output_type": "stream",
     "text": [
      "Augmenting Non-Sperm:  64%|██████▍   | 622/974 [00:13<00:06, 50.53it/s]"
     ]
    },
    {
     "name": "stdout",
     "output_type": "stream",
     "text": [
      "Saved: C:\\Users\\User\\Documents\\sperm_project\\SMIDS\\Non-Sperm\\aug_Non-Sperm (653).bmp\n",
      "Saved: C:\\Users\\User\\Documents\\sperm_project\\SMIDS\\Non-Sperm\\aug_Non-Sperm (654).bmp\n",
      "Saved: C:\\Users\\User\\Documents\\sperm_project\\SMIDS\\Non-Sperm\\aug_Non-Sperm (655).bmp\n",
      "Saved: C:\\Users\\User\\Documents\\sperm_project\\SMIDS\\Non-Sperm\\aug_Non-Sperm (656).bmp\n",
      "Saved: C:\\Users\\User\\Documents\\sperm_project\\SMIDS\\Non-Sperm\\aug_Non-Sperm (657).bmp\n",
      "Saved: C:\\Users\\User\\Documents\\sperm_project\\SMIDS\\Non-Sperm\\aug_Non-Sperm (658).bmp\n",
      "Saved: C:\\Users\\User\\Documents\\sperm_project\\SMIDS\\Non-Sperm\\aug_Non-Sperm (659).bmp\n",
      "Saved: C:\\Users\\User\\Documents\\sperm_project\\SMIDS\\Non-Sperm\\aug_Non-Sperm (66).bmp\n",
      "Saved: C:\\Users\\User\\Documents\\sperm_project\\SMIDS\\Non-Sperm\\aug_Non-Sperm (660).bmp\n",
      "Saved: C:\\Users\\User\\Documents\\sperm_project\\SMIDS\\Non-Sperm\\aug_Non-Sperm (661).bmp\n",
      "Saved: C:\\Users\\User\\Documents\\sperm_project\\SMIDS\\Non-Sperm\\aug_Non-Sperm (662).bmp\n",
      "Saved: C:\\Users\\User\\Documents\\sperm_project\\SMIDS\\Non-Sperm\\aug_Non-Sperm (663).bmp\n"
     ]
    },
    {
     "name": "stderr",
     "output_type": "stream",
     "text": [
      "Augmenting Non-Sperm:  65%|██████▌   | 634/974 [00:13<00:06, 48.67it/s]"
     ]
    },
    {
     "name": "stdout",
     "output_type": "stream",
     "text": [
      "Saved: C:\\Users\\User\\Documents\\sperm_project\\SMIDS\\Non-Sperm\\aug_Non-Sperm (664).bmp\n",
      "Saved: C:\\Users\\User\\Documents\\sperm_project\\SMIDS\\Non-Sperm\\aug_Non-Sperm (665).bmp\n",
      "Saved: C:\\Users\\User\\Documents\\sperm_project\\SMIDS\\Non-Sperm\\aug_Non-Sperm (666).bmp\n",
      "Saved: C:\\Users\\User\\Documents\\sperm_project\\SMIDS\\Non-Sperm\\aug_Non-Sperm (667).bmp\n",
      "Saved: C:\\Users\\User\\Documents\\sperm_project\\SMIDS\\Non-Sperm\\aug_Non-Sperm (668).bmp\n",
      "Saved: C:\\Users\\User\\Documents\\sperm_project\\SMIDS\\Non-Sperm\\aug_Non-Sperm (669).bmp\n",
      "Saved: C:\\Users\\User\\Documents\\sperm_project\\SMIDS\\Non-Sperm\\aug_Non-Sperm (67).bmp\n",
      "Saved: C:\\Users\\User\\Documents\\sperm_project\\SMIDS\\Non-Sperm\\aug_Non-Sperm (670).bmp\n",
      "Saved: C:\\Users\\User\\Documents\\sperm_project\\SMIDS\\Non-Sperm\\aug_Non-Sperm (671).bmp\n",
      "Saved: C:\\Users\\User\\Documents\\sperm_project\\SMIDS\\Non-Sperm\\aug_Non-Sperm (672).bmp\n"
     ]
    },
    {
     "name": "stderr",
     "output_type": "stream",
     "text": [
      "Augmenting Non-Sperm:  66%|██████▌   | 644/974 [00:13<00:06, 48.37it/s]"
     ]
    },
    {
     "name": "stdout",
     "output_type": "stream",
     "text": [
      "Saved: C:\\Users\\User\\Documents\\sperm_project\\SMIDS\\Non-Sperm\\aug_Non-Sperm (673).bmp\n",
      "Saved: C:\\Users\\User\\Documents\\sperm_project\\SMIDS\\Non-Sperm\\aug_Non-Sperm (674).bmp\n",
      "Saved: C:\\Users\\User\\Documents\\sperm_project\\SMIDS\\Non-Sperm\\aug_Non-Sperm (675).bmp\n",
      "Saved: C:\\Users\\User\\Documents\\sperm_project\\SMIDS\\Non-Sperm\\aug_Non-Sperm (676).bmp\n",
      "Saved: C:\\Users\\User\\Documents\\sperm_project\\SMIDS\\Non-Sperm\\aug_Non-Sperm (677).bmp\n",
      "Saved: C:\\Users\\User\\Documents\\sperm_project\\SMIDS\\Non-Sperm\\aug_Non-Sperm (678).bmp\n",
      "Saved: C:\\Users\\User\\Documents\\sperm_project\\SMIDS\\Non-Sperm\\aug_Non-Sperm (679).bmp\n",
      "Saved: C:\\Users\\User\\Documents\\sperm_project\\SMIDS\\Non-Sperm\\aug_Non-Sperm (68).bmp\n",
      "Saved: C:\\Users\\User\\Documents\\sperm_project\\SMIDS\\Non-Sperm\\aug_Non-Sperm (680).bmp\n",
      "Saved: C:\\Users\\User\\Documents\\sperm_project\\SMIDS\\Non-Sperm\\aug_Non-Sperm (681).bmp\n",
      "Saved: C:\\Users\\User\\Documents\\sperm_project\\SMIDS\\Non-Sperm\\aug_Non-Sperm (682).bmp\n"
     ]
    },
    {
     "name": "stderr",
     "output_type": "stream",
     "text": [
      "Augmenting Non-Sperm:  67%|██████▋   | 656/974 [00:13<00:06, 50.22it/s]"
     ]
    },
    {
     "name": "stdout",
     "output_type": "stream",
     "text": [
      "Saved: C:\\Users\\User\\Documents\\sperm_project\\SMIDS\\Non-Sperm\\aug_Non-Sperm (683).bmp\n",
      "Saved: C:\\Users\\User\\Documents\\sperm_project\\SMIDS\\Non-Sperm\\aug_Non-Sperm (684).bmp\n",
      "Saved: C:\\Users\\User\\Documents\\sperm_project\\SMIDS\\Non-Sperm\\aug_Non-Sperm (685).bmp\n",
      "Saved: C:\\Users\\User\\Documents\\sperm_project\\SMIDS\\Non-Sperm\\aug_Non-Sperm (686).bmp\n",
      "Saved: C:\\Users\\User\\Documents\\sperm_project\\SMIDS\\Non-Sperm\\aug_Non-Sperm (687).bmp\n",
      "Saved: C:\\Users\\User\\Documents\\sperm_project\\SMIDS\\Non-Sperm\\aug_Non-Sperm (688).bmp\n",
      "Saved: C:\\Users\\User\\Documents\\sperm_project\\SMIDS\\Non-Sperm\\aug_Non-Sperm (689).bmp\n",
      "Saved: C:\\Users\\User\\Documents\\sperm_project\\SMIDS\\Non-Sperm\\aug_Non-Sperm (69).bmp\n",
      "Saved: C:\\Users\\User\\Documents\\sperm_project\\SMIDS\\Non-Sperm\\aug_Non-Sperm (690).bmp\n",
      "Saved: C:\\Users\\User\\Documents\\sperm_project\\SMIDS\\Non-Sperm\\aug_Non-Sperm (691).bmp\n"
     ]
    },
    {
     "name": "stderr",
     "output_type": "stream",
     "text": [
      "Augmenting Non-Sperm:  69%|██████▊   | 668/974 [00:14<00:06, 50.27it/s]"
     ]
    },
    {
     "name": "stdout",
     "output_type": "stream",
     "text": [
      "Saved: C:\\Users\\User\\Documents\\sperm_project\\SMIDS\\Non-Sperm\\aug_Non-Sperm (692).bmp\n",
      "Saved: C:\\Users\\User\\Documents\\sperm_project\\SMIDS\\Non-Sperm\\aug_Non-Sperm (693).bmp\n",
      "Saved: C:\\Users\\User\\Documents\\sperm_project\\SMIDS\\Non-Sperm\\aug_Non-Sperm (694).bmp\n",
      "Saved: C:\\Users\\User\\Documents\\sperm_project\\SMIDS\\Non-Sperm\\aug_Non-Sperm (695).bmp\n",
      "Saved: C:\\Users\\User\\Documents\\sperm_project\\SMIDS\\Non-Sperm\\aug_Non-Sperm (696).bmp\n",
      "Saved: C:\\Users\\User\\Documents\\sperm_project\\SMIDS\\Non-Sperm\\aug_Non-Sperm (697).bmp\n",
      "Saved: C:\\Users\\User\\Documents\\sperm_project\\SMIDS\\Non-Sperm\\aug_Non-Sperm (698).bmp\n",
      "Saved: C:\\Users\\User\\Documents\\sperm_project\\SMIDS\\Non-Sperm\\aug_Non-Sperm (699).bmp\n",
      "Saved: C:\\Users\\User\\Documents\\sperm_project\\SMIDS\\Non-Sperm\\aug_Non-Sperm (7).bmp\n",
      "Saved: C:\\Users\\User\\Documents\\sperm_project\\SMIDS\\Non-Sperm\\aug_Non-Sperm (70).bmp\n",
      "Saved: C:\\Users\\User\\Documents\\sperm_project\\SMIDS\\Non-Sperm\\aug_Non-Sperm (700).bmp\n"
     ]
    },
    {
     "name": "stderr",
     "output_type": "stream",
     "text": [
      "Augmenting Non-Sperm:  69%|██████▉   | 674/974 [00:14<00:06, 48.67it/s]"
     ]
    },
    {
     "name": "stdout",
     "output_type": "stream",
     "text": [
      "Saved: C:\\Users\\User\\Documents\\sperm_project\\SMIDS\\Non-Sperm\\aug_Non-Sperm (701).bmp\n",
      "Saved: C:\\Users\\User\\Documents\\sperm_project\\SMIDS\\Non-Sperm\\aug_Non-Sperm (702).bmp\n",
      "Saved: C:\\Users\\User\\Documents\\sperm_project\\SMIDS\\Non-Sperm\\aug_Non-Sperm (703).bmp\n",
      "Saved: C:\\Users\\User\\Documents\\sperm_project\\SMIDS\\Non-Sperm\\aug_Non-Sperm (704).bmp\n",
      "Saved: C:\\Users\\User\\Documents\\sperm_project\\SMIDS\\Non-Sperm\\aug_Non-Sperm (705).bmp\n",
      "Saved: C:\\Users\\User\\Documents\\sperm_project\\SMIDS\\Non-Sperm\\aug_Non-Sperm (706).bmp\n",
      "Saved: C:\\Users\\User\\Documents\\sperm_project\\SMIDS\\Non-Sperm\\aug_Non-Sperm (707).bmp\n",
      "Saved: C:\\Users\\User\\Documents\\sperm_project\\SMIDS\\Non-Sperm\\aug_Non-Sperm (708).bmp\n",
      "Saved: C:\\Users\\User\\Documents\\sperm_project\\SMIDS\\Non-Sperm\\aug_Non-Sperm (709).bmp\n",
      "Saved: C:\\Users\\User\\Documents\\sperm_project\\SMIDS\\Non-Sperm\\aug_Non-Sperm (71).bmp\n",
      "Saved: C:\\Users\\User\\Documents\\sperm_project\\SMIDS\\Non-Sperm\\aug_Non-Sperm (710).bmp\n"
     ]
    },
    {
     "name": "stderr",
     "output_type": "stream",
     "text": [
      "Augmenting Non-Sperm:  70%|███████   | 686/974 [00:14<00:05, 49.80it/s]"
     ]
    },
    {
     "name": "stdout",
     "output_type": "stream",
     "text": [
      "Saved: C:\\Users\\User\\Documents\\sperm_project\\SMIDS\\Non-Sperm\\aug_Non-Sperm (711).bmp\n",
      "Saved: C:\\Users\\User\\Documents\\sperm_project\\SMIDS\\Non-Sperm\\aug_Non-Sperm (712).bmp\n",
      "Saved: C:\\Users\\User\\Documents\\sperm_project\\SMIDS\\Non-Sperm\\aug_Non-Sperm (713).bmp\n",
      "Saved: C:\\Users\\User\\Documents\\sperm_project\\SMIDS\\Non-Sperm\\aug_Non-Sperm (714).bmp\n",
      "Saved: C:\\Users\\User\\Documents\\sperm_project\\SMIDS\\Non-Sperm\\aug_Non-Sperm (715).bmp\n",
      "Saved: C:\\Users\\User\\Documents\\sperm_project\\SMIDS\\Non-Sperm\\aug_Non-Sperm (716).bmp\n",
      "Saved: C:\\Users\\User\\Documents\\sperm_project\\SMIDS\\Non-Sperm\\aug_Non-Sperm (717).bmp\n",
      "Saved: C:\\Users\\User\\Documents\\sperm_project\\SMIDS\\Non-Sperm\\aug_Non-Sperm (718).bmp\n",
      "Saved: C:\\Users\\User\\Documents\\sperm_project\\SMIDS\\Non-Sperm\\aug_Non-Sperm (719).bmp\n",
      "Saved: C:\\Users\\User\\Documents\\sperm_project\\SMIDS\\Non-Sperm\\aug_Non-Sperm (72).bmp\n"
     ]
    },
    {
     "name": "stderr",
     "output_type": "stream",
     "text": [
      "Augmenting Non-Sperm:  71%|███████▏  | 696/974 [00:14<00:05, 48.31it/s]"
     ]
    },
    {
     "name": "stdout",
     "output_type": "stream",
     "text": [
      "Saved: C:\\Users\\User\\Documents\\sperm_project\\SMIDS\\Non-Sperm\\aug_Non-Sperm (720).bmp\n",
      "Saved: C:\\Users\\User\\Documents\\sperm_project\\SMIDS\\Non-Sperm\\aug_Non-Sperm (721).bmp\n",
      "Saved: C:\\Users\\User\\Documents\\sperm_project\\SMIDS\\Non-Sperm\\aug_Non-Sperm (722).bmp\n",
      "Saved: C:\\Users\\User\\Documents\\sperm_project\\SMIDS\\Non-Sperm\\aug_Non-Sperm (723).bmp\n",
      "Saved: C:\\Users\\User\\Documents\\sperm_project\\SMIDS\\Non-Sperm\\aug_Non-Sperm (724).bmp\n",
      "Saved: C:\\Users\\User\\Documents\\sperm_project\\SMIDS\\Non-Sperm\\aug_Non-Sperm (725).bmp\n",
      "Saved: C:\\Users\\User\\Documents\\sperm_project\\SMIDS\\Non-Sperm\\aug_Non-Sperm (726).bmp\n",
      "Saved: C:\\Users\\User\\Documents\\sperm_project\\SMIDS\\Non-Sperm\\aug_Non-Sperm (727).bmp\n",
      "Saved: C:\\Users\\User\\Documents\\sperm_project\\SMIDS\\Non-Sperm\\aug_Non-Sperm (728).bmp\n",
      "Saved: C:\\Users\\User\\Documents\\sperm_project\\SMIDS\\Non-Sperm\\aug_Non-Sperm (729).bmp\n"
     ]
    },
    {
     "name": "stderr",
     "output_type": "stream",
     "text": [
      "Augmenting Non-Sperm:  73%|███████▎  | 707/974 [00:14<00:05, 47.69it/s]"
     ]
    },
    {
     "name": "stdout",
     "output_type": "stream",
     "text": [
      "Saved: C:\\Users\\User\\Documents\\sperm_project\\SMIDS\\Non-Sperm\\aug_Non-Sperm (73).bmp\n",
      "Saved: C:\\Users\\User\\Documents\\sperm_project\\SMIDS\\Non-Sperm\\aug_Non-Sperm (730).bmp\n",
      "Saved: C:\\Users\\User\\Documents\\sperm_project\\SMIDS\\Non-Sperm\\aug_Non-Sperm (731).bmp\n",
      "Saved: C:\\Users\\User\\Documents\\sperm_project\\SMIDS\\Non-Sperm\\aug_Non-Sperm (732).bmp\n",
      "Saved: C:\\Users\\User\\Documents\\sperm_project\\SMIDS\\Non-Sperm\\aug_Non-Sperm (733).bmp\n",
      "Saved: C:\\Users\\User\\Documents\\sperm_project\\SMIDS\\Non-Sperm\\aug_Non-Sperm (734).bmp\n",
      "Saved: C:\\Users\\User\\Documents\\sperm_project\\SMIDS\\Non-Sperm\\aug_Non-Sperm (735).bmp\n",
      "Saved: C:\\Users\\User\\Documents\\sperm_project\\SMIDS\\Non-Sperm\\aug_Non-Sperm (736).bmp\n",
      "Saved: C:\\Users\\User\\Documents\\sperm_project\\SMIDS\\Non-Sperm\\aug_Non-Sperm (737).bmp\n",
      "Saved: C:\\Users\\User\\Documents\\sperm_project\\SMIDS\\Non-Sperm\\aug_Non-Sperm (738).bmp\n",
      "Saved: C:\\Users\\User\\Documents\\sperm_project\\SMIDS\\Non-Sperm\\aug_Non-Sperm (739).bmp\n"
     ]
    },
    {
     "name": "stderr",
     "output_type": "stream",
     "text": [
      "Augmenting Non-Sperm:  74%|███████▎  | 717/974 [00:15<00:05, 46.36it/s]"
     ]
    },
    {
     "name": "stdout",
     "output_type": "stream",
     "text": [
      "Saved: C:\\Users\\User\\Documents\\sperm_project\\SMIDS\\Non-Sperm\\aug_Non-Sperm (74).bmp\n",
      "Saved: C:\\Users\\User\\Documents\\sperm_project\\SMIDS\\Non-Sperm\\aug_Non-Sperm (740).bmp\n",
      "Saved: C:\\Users\\User\\Documents\\sperm_project\\SMIDS\\Non-Sperm\\aug_Non-Sperm (741).bmp\n",
      "Saved: C:\\Users\\User\\Documents\\sperm_project\\SMIDS\\Non-Sperm\\aug_Non-Sperm (742).bmp\n",
      "Saved: C:\\Users\\User\\Documents\\sperm_project\\SMIDS\\Non-Sperm\\aug_Non-Sperm (743).bmp\n",
      "Saved: C:\\Users\\User\\Documents\\sperm_project\\SMIDS\\Non-Sperm\\aug_Non-Sperm (744).bmp\n",
      "Saved: C:\\Users\\User\\Documents\\sperm_project\\SMIDS\\Non-Sperm\\aug_Non-Sperm (745).bmp\n",
      "Saved: C:\\Users\\User\\Documents\\sperm_project\\SMIDS\\Non-Sperm\\aug_Non-Sperm (746).bmp\n",
      "Saved: C:\\Users\\User\\Documents\\sperm_project\\SMIDS\\Non-Sperm\\aug_Non-Sperm (747).bmp\n"
     ]
    },
    {
     "name": "stderr",
     "output_type": "stream",
     "text": [
      "Augmenting Non-Sperm:  75%|███████▍  | 727/974 [00:15<00:05, 45.18it/s]"
     ]
    },
    {
     "name": "stdout",
     "output_type": "stream",
     "text": [
      "Saved: C:\\Users\\User\\Documents\\sperm_project\\SMIDS\\Non-Sperm\\aug_Non-Sperm (748).bmp\n",
      "Saved: C:\\Users\\User\\Documents\\sperm_project\\SMIDS\\Non-Sperm\\aug_Non-Sperm (749).bmp\n",
      "Saved: C:\\Users\\User\\Documents\\sperm_project\\SMIDS\\Non-Sperm\\aug_Non-Sperm (75).bmp\n",
      "Saved: C:\\Users\\User\\Documents\\sperm_project\\SMIDS\\Non-Sperm\\aug_Non-Sperm (750).bmp\n",
      "Saved: C:\\Users\\User\\Documents\\sperm_project\\SMIDS\\Non-Sperm\\aug_Non-Sperm (751).bmp\n",
      "Saved: C:\\Users\\User\\Documents\\sperm_project\\SMIDS\\Non-Sperm\\aug_Non-Sperm (752).bmp\n",
      "Saved: C:\\Users\\User\\Documents\\sperm_project\\SMIDS\\Non-Sperm\\aug_Non-Sperm (753).bmp\n",
      "Saved: C:\\Users\\User\\Documents\\sperm_project\\SMIDS\\Non-Sperm\\aug_Non-Sperm (754).bmp\n",
      "Saved: C:\\Users\\User\\Documents\\sperm_project\\SMIDS\\Non-Sperm\\aug_Non-Sperm (755).bmp\n",
      "Saved: C:\\Users\\User\\Documents\\sperm_project\\SMIDS\\Non-Sperm\\aug_Non-Sperm (756).bmp\n"
     ]
    },
    {
     "name": "stderr",
     "output_type": "stream",
     "text": [
      "Augmenting Non-Sperm:  76%|███████▌  | 737/974 [00:15<00:05, 45.29it/s]"
     ]
    },
    {
     "name": "stdout",
     "output_type": "stream",
     "text": [
      "Saved: C:\\Users\\User\\Documents\\sperm_project\\SMIDS\\Non-Sperm\\aug_Non-Sperm (757).bmp\n",
      "Saved: C:\\Users\\User\\Documents\\sperm_project\\SMIDS\\Non-Sperm\\aug_Non-Sperm (758).bmp\n",
      "Saved: C:\\Users\\User\\Documents\\sperm_project\\SMIDS\\Non-Sperm\\aug_Non-Sperm (759).bmp\n",
      "Saved: C:\\Users\\User\\Documents\\sperm_project\\SMIDS\\Non-Sperm\\aug_Non-Sperm (76).bmp\n",
      "Saved: C:\\Users\\User\\Documents\\sperm_project\\SMIDS\\Non-Sperm\\aug_Non-Sperm (760).bmp\n",
      "Saved: C:\\Users\\User\\Documents\\sperm_project\\SMIDS\\Non-Sperm\\aug_Non-Sperm (761).bmp\n",
      "Saved: C:\\Users\\User\\Documents\\sperm_project\\SMIDS\\Non-Sperm\\aug_Non-Sperm (762).bmp\n",
      "Saved: C:\\Users\\User\\Documents\\sperm_project\\SMIDS\\Non-Sperm\\aug_Non-Sperm (763).bmp\n",
      "Saved: C:\\Users\\User\\Documents\\sperm_project\\SMIDS\\Non-Sperm\\aug_Non-Sperm (764).bmp\n"
     ]
    },
    {
     "name": "stderr",
     "output_type": "stream",
     "text": [
      "Augmenting Non-Sperm:  77%|███████▋  | 747/974 [00:15<00:04, 46.59it/s]"
     ]
    },
    {
     "name": "stdout",
     "output_type": "stream",
     "text": [
      "Saved: C:\\Users\\User\\Documents\\sperm_project\\SMIDS\\Non-Sperm\\aug_Non-Sperm (765).bmp\n",
      "Saved: C:\\Users\\User\\Documents\\sperm_project\\SMIDS\\Non-Sperm\\aug_Non-Sperm (766).bmp\n",
      "Saved: C:\\Users\\User\\Documents\\sperm_project\\SMIDS\\Non-Sperm\\aug_Non-Sperm (767).bmp\n",
      "Saved: C:\\Users\\User\\Documents\\sperm_project\\SMIDS\\Non-Sperm\\aug_Non-Sperm (768).bmp\n",
      "Saved: C:\\Users\\User\\Documents\\sperm_project\\SMIDS\\Non-Sperm\\aug_Non-Sperm (769).bmp\n",
      "Saved: C:\\Users\\User\\Documents\\sperm_project\\SMIDS\\Non-Sperm\\aug_Non-Sperm (77).bmp\n",
      "Saved: C:\\Users\\User\\Documents\\sperm_project\\SMIDS\\Non-Sperm\\aug_Non-Sperm (770).bmp\n",
      "Saved: C:\\Users\\User\\Documents\\sperm_project\\SMIDS\\Non-Sperm\\aug_Non-Sperm (771).bmp\n",
      "Saved: C:\\Users\\User\\Documents\\sperm_project\\SMIDS\\Non-Sperm\\aug_Non-Sperm (772).bmp\n",
      "Saved: C:\\Users\\User\\Documents\\sperm_project\\SMIDS\\Non-Sperm\\aug_Non-Sperm (773).bmp\n"
     ]
    },
    {
     "name": "stderr",
     "output_type": "stream",
     "text": [
      "Augmenting Non-Sperm:  78%|███████▊  | 757/974 [00:16<00:04, 46.80it/s]"
     ]
    },
    {
     "name": "stdout",
     "output_type": "stream",
     "text": [
      "Saved: C:\\Users\\User\\Documents\\sperm_project\\SMIDS\\Non-Sperm\\aug_Non-Sperm (774).bmp\n",
      "Saved: C:\\Users\\User\\Documents\\sperm_project\\SMIDS\\Non-Sperm\\aug_Non-Sperm (775).bmp\n",
      "Saved: C:\\Users\\User\\Documents\\sperm_project\\SMIDS\\Non-Sperm\\aug_Non-Sperm (776).bmp\n",
      "Saved: C:\\Users\\User\\Documents\\sperm_project\\SMIDS\\Non-Sperm\\aug_Non-Sperm (777).bmp\n",
      "Saved: C:\\Users\\User\\Documents\\sperm_project\\SMIDS\\Non-Sperm\\aug_Non-Sperm (778).bmp\n",
      "Saved: C:\\Users\\User\\Documents\\sperm_project\\SMIDS\\Non-Sperm\\aug_Non-Sperm (779).bmp\n",
      "Saved: C:\\Users\\User\\Documents\\sperm_project\\SMIDS\\Non-Sperm\\aug_Non-Sperm (78).bmp\n",
      "Saved: C:\\Users\\User\\Documents\\sperm_project\\SMIDS\\Non-Sperm\\aug_Non-Sperm (780).bmp\n",
      "Saved: C:\\Users\\User\\Documents\\sperm_project\\SMIDS\\Non-Sperm\\aug_Non-Sperm (781).bmp\n",
      "Saved: C:\\Users\\User\\Documents\\sperm_project\\SMIDS\\Non-Sperm\\aug_Non-Sperm (782).bmp\n"
     ]
    },
    {
     "name": "stderr",
     "output_type": "stream",
     "text": [
      "Augmenting Non-Sperm:  79%|███████▊  | 767/974 [00:16<00:04, 45.24it/s]"
     ]
    },
    {
     "name": "stdout",
     "output_type": "stream",
     "text": [
      "Saved: C:\\Users\\User\\Documents\\sperm_project\\SMIDS\\Non-Sperm\\aug_Non-Sperm (783).bmp\n",
      "Saved: C:\\Users\\User\\Documents\\sperm_project\\SMIDS\\Non-Sperm\\aug_Non-Sperm (784).bmp\n",
      "Saved: C:\\Users\\User\\Documents\\sperm_project\\SMIDS\\Non-Sperm\\aug_Non-Sperm (785).bmp\n",
      "Saved: C:\\Users\\User\\Documents\\sperm_project\\SMIDS\\Non-Sperm\\aug_Non-Sperm (786).bmp\n",
      "Saved: C:\\Users\\User\\Documents\\sperm_project\\SMIDS\\Non-Sperm\\aug_Non-Sperm (787).bmp\n",
      "Saved: C:\\Users\\User\\Documents\\sperm_project\\SMIDS\\Non-Sperm\\aug_Non-Sperm (788).bmp\n",
      "Saved: C:\\Users\\User\\Documents\\sperm_project\\SMIDS\\Non-Sperm\\aug_Non-Sperm (789).bmp\n",
      "Saved: C:\\Users\\User\\Documents\\sperm_project\\SMIDS\\Non-Sperm\\aug_Non-Sperm (79).bmp\n",
      "Saved: C:\\Users\\User\\Documents\\sperm_project\\SMIDS\\Non-Sperm\\aug_Non-Sperm (790).bmp\n",
      "Saved: C:\\Users\\User\\Documents\\sperm_project\\SMIDS\\Non-Sperm\\aug_Non-Sperm (791).bmp\n",
      "Saved: C:\\Users\\User\\Documents\\sperm_project\\SMIDS\\Non-Sperm\\aug_Non-Sperm (792).bmp\n"
     ]
    },
    {
     "name": "stderr",
     "output_type": "stream",
     "text": [
      "Augmenting Non-Sperm:  80%|███████▉  | 777/974 [00:16<00:04, 46.52it/s]"
     ]
    },
    {
     "name": "stdout",
     "output_type": "stream",
     "text": [
      "Saved: C:\\Users\\User\\Documents\\sperm_project\\SMIDS\\Non-Sperm\\aug_Non-Sperm (793).bmp\n",
      "Saved: C:\\Users\\User\\Documents\\sperm_project\\SMIDS\\Non-Sperm\\aug_Non-Sperm (794).bmp\n",
      "Saved: C:\\Users\\User\\Documents\\sperm_project\\SMIDS\\Non-Sperm\\aug_Non-Sperm (795).bmp\n",
      "Saved: C:\\Users\\User\\Documents\\sperm_project\\SMIDS\\Non-Sperm\\aug_Non-Sperm (796).bmp\n",
      "Saved: C:\\Users\\User\\Documents\\sperm_project\\SMIDS\\Non-Sperm\\aug_Non-Sperm (797).bmp\n",
      "Saved: C:\\Users\\User\\Documents\\sperm_project\\SMIDS\\Non-Sperm\\aug_Non-Sperm (798).bmp\n",
      "Saved: C:\\Users\\User\\Documents\\sperm_project\\SMIDS\\Non-Sperm\\aug_Non-Sperm (799).bmp\n",
      "Saved: C:\\Users\\User\\Documents\\sperm_project\\SMIDS\\Non-Sperm\\aug_Non-Sperm (8).bmp\n",
      "Saved: C:\\Users\\User\\Documents\\sperm_project\\SMIDS\\Non-Sperm\\aug_Non-Sperm (80).bmp\n",
      "Saved: C:\\Users\\User\\Documents\\sperm_project\\SMIDS\\Non-Sperm\\aug_Non-Sperm (800).bmp\n"
     ]
    },
    {
     "name": "stderr",
     "output_type": "stream",
     "text": [
      "Augmenting Non-Sperm:  81%|████████  | 787/974 [00:16<00:04, 46.51it/s]"
     ]
    },
    {
     "name": "stdout",
     "output_type": "stream",
     "text": [
      "Saved: C:\\Users\\User\\Documents\\sperm_project\\SMIDS\\Non-Sperm\\aug_Non-Sperm (801).bmp\n",
      "Saved: C:\\Users\\User\\Documents\\sperm_project\\SMIDS\\Non-Sperm\\aug_Non-Sperm (802).bmp\n",
      "Saved: C:\\Users\\User\\Documents\\sperm_project\\SMIDS\\Non-Sperm\\aug_Non-Sperm (803).bmp\n",
      "Saved: C:\\Users\\User\\Documents\\sperm_project\\SMIDS\\Non-Sperm\\aug_Non-Sperm (804).bmp\n",
      "Saved: C:\\Users\\User\\Documents\\sperm_project\\SMIDS\\Non-Sperm\\aug_Non-Sperm (805).bmp\n",
      "Saved: C:\\Users\\User\\Documents\\sperm_project\\SMIDS\\Non-Sperm\\aug_Non-Sperm (806).bmp\n",
      "Saved: C:\\Users\\User\\Documents\\sperm_project\\SMIDS\\Non-Sperm\\aug_Non-Sperm (807).bmp\n",
      "Saved: C:\\Users\\User\\Documents\\sperm_project\\SMIDS\\Non-Sperm\\aug_Non-Sperm (808).bmp\n",
      "Saved: C:\\Users\\User\\Documents\\sperm_project\\SMIDS\\Non-Sperm\\aug_Non-Sperm (809).bmp\n",
      "Saved: C:\\Users\\User\\Documents\\sperm_project\\SMIDS\\Non-Sperm\\aug_Non-Sperm (81).bmp\n"
     ]
    },
    {
     "name": "stderr",
     "output_type": "stream",
     "text": [
      "Augmenting Non-Sperm:  82%|████████▏ | 798/974 [00:16<00:03, 50.11it/s]"
     ]
    },
    {
     "name": "stdout",
     "output_type": "stream",
     "text": [
      "Saved: C:\\Users\\User\\Documents\\sperm_project\\SMIDS\\Non-Sperm\\aug_Non-Sperm (810).bmp\n",
      "Saved: C:\\Users\\User\\Documents\\sperm_project\\SMIDS\\Non-Sperm\\aug_Non-Sperm (811).bmp\n",
      "Saved: C:\\Users\\User\\Documents\\sperm_project\\SMIDS\\Non-Sperm\\aug_Non-Sperm (812).bmp\n",
      "Saved: C:\\Users\\User\\Documents\\sperm_project\\SMIDS\\Non-Sperm\\aug_Non-Sperm (813).bmp\n",
      "Saved: C:\\Users\\User\\Documents\\sperm_project\\SMIDS\\Non-Sperm\\aug_Non-Sperm (814).bmp\n",
      "Saved: C:\\Users\\User\\Documents\\sperm_project\\SMIDS\\Non-Sperm\\aug_Non-Sperm (815).bmp\n",
      "Saved: C:\\Users\\User\\Documents\\sperm_project\\SMIDS\\Non-Sperm\\aug_Non-Sperm (816).bmp\n",
      "Saved: C:\\Users\\User\\Documents\\sperm_project\\SMIDS\\Non-Sperm\\aug_Non-Sperm (817).bmp\n",
      "Saved: C:\\Users\\User\\Documents\\sperm_project\\SMIDS\\Non-Sperm\\aug_Non-Sperm (818).bmp\n",
      "Saved: C:\\Users\\User\\Documents\\sperm_project\\SMIDS\\Non-Sperm\\aug_Non-Sperm (819).bmp\n",
      "Saved: C:\\Users\\User\\Documents\\sperm_project\\SMIDS\\Non-Sperm\\aug_Non-Sperm (82).bmp\n"
     ]
    },
    {
     "name": "stderr",
     "output_type": "stream",
     "text": [
      "Augmenting Non-Sperm:  83%|████████▎ | 809/974 [00:17<00:03, 49.04it/s]"
     ]
    },
    {
     "name": "stdout",
     "output_type": "stream",
     "text": [
      "Saved: C:\\Users\\User\\Documents\\sperm_project\\SMIDS\\Non-Sperm\\aug_Non-Sperm (820).bmp\n",
      "Saved: C:\\Users\\User\\Documents\\sperm_project\\SMIDS\\Non-Sperm\\aug_Non-Sperm (821).bmp\n",
      "Saved: C:\\Users\\User\\Documents\\sperm_project\\SMIDS\\Non-Sperm\\aug_Non-Sperm (822).bmp\n",
      "Saved: C:\\Users\\User\\Documents\\sperm_project\\SMIDS\\Non-Sperm\\aug_Non-Sperm (823).bmp\n",
      "Saved: C:\\Users\\User\\Documents\\sperm_project\\SMIDS\\Non-Sperm\\aug_Non-Sperm (824).bmp\n",
      "Saved: C:\\Users\\User\\Documents\\sperm_project\\SMIDS\\Non-Sperm\\aug_Non-Sperm (825).bmp\n",
      "Saved: C:\\Users\\User\\Documents\\sperm_project\\SMIDS\\Non-Sperm\\aug_Non-Sperm (826).bmp\n",
      "Saved: C:\\Users\\User\\Documents\\sperm_project\\SMIDS\\Non-Sperm\\aug_Non-Sperm (827).bmp\n",
      "Saved: C:\\Users\\User\\Documents\\sperm_project\\SMIDS\\Non-Sperm\\aug_Non-Sperm (828).bmp\n",
      "Saved: C:\\Users\\User\\Documents\\sperm_project\\SMIDS\\Non-Sperm\\aug_Non-Sperm (829).bmp\n",
      "Saved: C:\\Users\\User\\Documents\\sperm_project\\SMIDS\\Non-Sperm\\aug_Non-Sperm (83).bmp\n"
     ]
    },
    {
     "name": "stderr",
     "output_type": "stream",
     "text": [
      "Augmenting Non-Sperm:  84%|████████▍ | 819/974 [00:17<00:03, 47.74it/s]"
     ]
    },
    {
     "name": "stdout",
     "output_type": "stream",
     "text": [
      "Saved: C:\\Users\\User\\Documents\\sperm_project\\SMIDS\\Non-Sperm\\aug_Non-Sperm (830).bmp\n",
      "Saved: C:\\Users\\User\\Documents\\sperm_project\\SMIDS\\Non-Sperm\\aug_Non-Sperm (831).bmp\n",
      "Saved: C:\\Users\\User\\Documents\\sperm_project\\SMIDS\\Non-Sperm\\aug_Non-Sperm (832).bmp\n",
      "Saved: C:\\Users\\User\\Documents\\sperm_project\\SMIDS\\Non-Sperm\\aug_Non-Sperm (833).bmp\n",
      "Saved: C:\\Users\\User\\Documents\\sperm_project\\SMIDS\\Non-Sperm\\aug_Non-Sperm (834).bmp\n",
      "Saved: C:\\Users\\User\\Documents\\sperm_project\\SMIDS\\Non-Sperm\\aug_Non-Sperm (835).bmp\n",
      "Saved: C:\\Users\\User\\Documents\\sperm_project\\SMIDS\\Non-Sperm\\aug_Non-Sperm (836).bmp\n",
      "Saved: C:\\Users\\User\\Documents\\sperm_project\\SMIDS\\Non-Sperm\\aug_Non-Sperm (837).bmp\n",
      "Saved: C:\\Users\\User\\Documents\\sperm_project\\SMIDS\\Non-Sperm\\aug_Non-Sperm (838).bmp\n",
      "Saved: C:\\Users\\User\\Documents\\sperm_project\\SMIDS\\Non-Sperm\\aug_Non-Sperm (839).bmp\n",
      "Saved: C:\\Users\\User\\Documents\\sperm_project\\SMIDS\\Non-Sperm\\aug_Non-Sperm (84).bmp\n"
     ]
    },
    {
     "name": "stderr",
     "output_type": "stream",
     "text": [
      "Augmenting Non-Sperm:  85%|████████▌ | 830/974 [00:17<00:02, 48.06it/s]"
     ]
    },
    {
     "name": "stdout",
     "output_type": "stream",
     "text": [
      "Saved: C:\\Users\\User\\Documents\\sperm_project\\SMIDS\\Non-Sperm\\aug_Non-Sperm (840).bmp\n",
      "Saved: C:\\Users\\User\\Documents\\sperm_project\\SMIDS\\Non-Sperm\\aug_Non-Sperm (841).bmp\n",
      "Saved: C:\\Users\\User\\Documents\\sperm_project\\SMIDS\\Non-Sperm\\aug_Non-Sperm (842).bmp\n",
      "Saved: C:\\Users\\User\\Documents\\sperm_project\\SMIDS\\Non-Sperm\\aug_Non-Sperm (843).bmp\n",
      "Saved: C:\\Users\\User\\Documents\\sperm_project\\SMIDS\\Non-Sperm\\aug_Non-Sperm (844).bmp\n",
      "Saved: C:\\Users\\User\\Documents\\sperm_project\\SMIDS\\Non-Sperm\\aug_Non-Sperm (845).bmp\n",
      "Saved: C:\\Users\\User\\Documents\\sperm_project\\SMIDS\\Non-Sperm\\aug_Non-Sperm (846).bmp\n",
      "Saved: C:\\Users\\User\\Documents\\sperm_project\\SMIDS\\Non-Sperm\\aug_Non-Sperm (847).bmp\n",
      "Saved: C:\\Users\\User\\Documents\\sperm_project\\SMIDS\\Non-Sperm\\aug_Non-Sperm (848).bmp\n",
      "Saved: C:\\Users\\User\\Documents\\sperm_project\\SMIDS\\Non-Sperm\\aug_Non-Sperm (849).bmp\n"
     ]
    },
    {
     "name": "stderr",
     "output_type": "stream",
     "text": [
      "Augmenting Non-Sperm:  86%|████████▋ | 842/974 [00:17<00:02, 50.68it/s]"
     ]
    },
    {
     "name": "stdout",
     "output_type": "stream",
     "text": [
      "Saved: C:\\Users\\User\\Documents\\sperm_project\\SMIDS\\Non-Sperm\\aug_Non-Sperm (85).bmp\n",
      "Saved: C:\\Users\\User\\Documents\\sperm_project\\SMIDS\\Non-Sperm\\aug_Non-Sperm (850).bmp\n",
      "Saved: C:\\Users\\User\\Documents\\sperm_project\\SMIDS\\Non-Sperm\\aug_Non-Sperm (851).bmp\n",
      "Saved: C:\\Users\\User\\Documents\\sperm_project\\SMIDS\\Non-Sperm\\aug_Non-Sperm (852).bmp\n",
      "Saved: C:\\Users\\User\\Documents\\sperm_project\\SMIDS\\Non-Sperm\\aug_Non-Sperm (853).bmp\n",
      "Saved: C:\\Users\\User\\Documents\\sperm_project\\SMIDS\\Non-Sperm\\aug_Non-Sperm (854).bmp\n",
      "Saved: C:\\Users\\User\\Documents\\sperm_project\\SMIDS\\Non-Sperm\\aug_Non-Sperm (855).bmp\n",
      "Saved: C:\\Users\\User\\Documents\\sperm_project\\SMIDS\\Non-Sperm\\aug_Non-Sperm (856).bmp\n",
      "Saved: C:\\Users\\User\\Documents\\sperm_project\\SMIDS\\Non-Sperm\\aug_Non-Sperm (857).bmp\n",
      "Saved: C:\\Users\\User\\Documents\\sperm_project\\SMIDS\\Non-Sperm\\aug_Non-Sperm (858).bmp\n",
      "Saved: C:\\Users\\User\\Documents\\sperm_project\\SMIDS\\Non-Sperm\\aug_Non-Sperm (859).bmp\n"
     ]
    },
    {
     "name": "stderr",
     "output_type": "stream",
     "text": [
      "Augmenting Non-Sperm:  88%|████████▊ | 854/974 [00:18<00:02, 49.05it/s]"
     ]
    },
    {
     "name": "stdout",
     "output_type": "stream",
     "text": [
      "Saved: C:\\Users\\User\\Documents\\sperm_project\\SMIDS\\Non-Sperm\\aug_Non-Sperm (86).bmp\n",
      "Saved: C:\\Users\\User\\Documents\\sperm_project\\SMIDS\\Non-Sperm\\aug_Non-Sperm (860).bmp\n",
      "Saved: C:\\Users\\User\\Documents\\sperm_project\\SMIDS\\Non-Sperm\\aug_Non-Sperm (861).bmp\n",
      "Saved: C:\\Users\\User\\Documents\\sperm_project\\SMIDS\\Non-Sperm\\aug_Non-Sperm (862).bmp\n",
      "Saved: C:\\Users\\User\\Documents\\sperm_project\\SMIDS\\Non-Sperm\\aug_Non-Sperm (863).bmp\n",
      "Saved: C:\\Users\\User\\Documents\\sperm_project\\SMIDS\\Non-Sperm\\aug_Non-Sperm (864).bmp\n",
      "Saved: C:\\Users\\User\\Documents\\sperm_project\\SMIDS\\Non-Sperm\\aug_Non-Sperm (865).bmp\n",
      "Saved: C:\\Users\\User\\Documents\\sperm_project\\SMIDS\\Non-Sperm\\aug_Non-Sperm (866).bmp\n",
      "Saved: C:\\Users\\User\\Documents\\sperm_project\\SMIDS\\Non-Sperm\\aug_Non-Sperm (867).bmp\n",
      "Saved: C:\\Users\\User\\Documents\\sperm_project\\SMIDS\\Non-Sperm\\aug_Non-Sperm (868).bmp\n"
     ]
    },
    {
     "name": "stderr",
     "output_type": "stream",
     "text": [
      "Augmenting Non-Sperm:  88%|████████▊ | 859/974 [00:18<00:02, 47.94it/s]"
     ]
    },
    {
     "name": "stdout",
     "output_type": "stream",
     "text": [
      "Saved: C:\\Users\\User\\Documents\\sperm_project\\SMIDS\\Non-Sperm\\aug_Non-Sperm (869).bmp\n",
      "Saved: C:\\Users\\User\\Documents\\sperm_project\\SMIDS\\Non-Sperm\\aug_Non-Sperm (87).bmp\n",
      "Saved: C:\\Users\\User\\Documents\\sperm_project\\SMIDS\\Non-Sperm\\aug_Non-Sperm (870).bmp\n",
      "Saved: C:\\Users\\User\\Documents\\sperm_project\\SMIDS\\Non-Sperm\\aug_Non-Sperm (871).bmp\n",
      "Saved: C:\\Users\\User\\Documents\\sperm_project\\SMIDS\\Non-Sperm\\aug_Non-Sperm (872).bmp\n",
      "Saved: C:\\Users\\User\\Documents\\sperm_project\\SMIDS\\Non-Sperm\\aug_Non-Sperm (873).bmp\n",
      "Saved: C:\\Users\\User\\Documents\\sperm_project\\SMIDS\\Non-Sperm\\aug_Non-Sperm (874).bmp\n",
      "Saved: C:\\Users\\User\\Documents\\sperm_project\\SMIDS\\Non-Sperm\\aug_Non-Sperm (875).bmp\n",
      "Saved: C:\\Users\\User\\Documents\\sperm_project\\SMIDS\\Non-Sperm\\aug_Non-Sperm (876).bmp\n"
     ]
    },
    {
     "name": "stderr",
     "output_type": "stream",
     "text": [
      "Augmenting Non-Sperm:  89%|████████▉ | 869/974 [00:18<00:02, 47.39it/s]"
     ]
    },
    {
     "name": "stdout",
     "output_type": "stream",
     "text": [
      "Saved: C:\\Users\\User\\Documents\\sperm_project\\SMIDS\\Non-Sperm\\aug_Non-Sperm (877).bmp\n",
      "Saved: C:\\Users\\User\\Documents\\sperm_project\\SMIDS\\Non-Sperm\\aug_Non-Sperm (878).bmp\n",
      "Saved: C:\\Users\\User\\Documents\\sperm_project\\SMIDS\\Non-Sperm\\aug_Non-Sperm (879).bmp\n",
      "Saved: C:\\Users\\User\\Documents\\sperm_project\\SMIDS\\Non-Sperm\\aug_Non-Sperm (88).bmp\n",
      "Saved: C:\\Users\\User\\Documents\\sperm_project\\SMIDS\\Non-Sperm\\aug_Non-Sperm (880).bmp\n",
      "Saved: C:\\Users\\User\\Documents\\sperm_project\\SMIDS\\Non-Sperm\\aug_Non-Sperm (881).bmp\n",
      "Saved: C:\\Users\\User\\Documents\\sperm_project\\SMIDS\\Non-Sperm\\aug_Non-Sperm (882).bmp\n",
      "Saved: C:\\Users\\User\\Documents\\sperm_project\\SMIDS\\Non-Sperm\\aug_Non-Sperm (883).bmp\n",
      "Saved: C:\\Users\\User\\Documents\\sperm_project\\SMIDS\\Non-Sperm\\aug_Non-Sperm (884).bmp\n",
      "Saved: C:\\Users\\User\\Documents\\sperm_project\\SMIDS\\Non-Sperm\\aug_Non-Sperm (885).bmp\n"
     ]
    },
    {
     "name": "stderr",
     "output_type": "stream",
     "text": [
      "Augmenting Non-Sperm:  90%|█████████ | 880/974 [00:18<00:01, 49.54it/s]"
     ]
    },
    {
     "name": "stdout",
     "output_type": "stream",
     "text": [
      "Saved: C:\\Users\\User\\Documents\\sperm_project\\SMIDS\\Non-Sperm\\aug_Non-Sperm (886).bmp\n",
      "Saved: C:\\Users\\User\\Documents\\sperm_project\\SMIDS\\Non-Sperm\\aug_Non-Sperm (887).bmp\n",
      "Saved: C:\\Users\\User\\Documents\\sperm_project\\SMIDS\\Non-Sperm\\aug_Non-Sperm (888).bmp\n",
      "Saved: C:\\Users\\User\\Documents\\sperm_project\\SMIDS\\Non-Sperm\\aug_Non-Sperm (889).bmp\n",
      "Saved: C:\\Users\\User\\Documents\\sperm_project\\SMIDS\\Non-Sperm\\aug_Non-Sperm (89).bmp\n",
      "Saved: C:\\Users\\User\\Documents\\sperm_project\\SMIDS\\Non-Sperm\\aug_Non-Sperm (890).bmp\n",
      "Saved: C:\\Users\\User\\Documents\\sperm_project\\SMIDS\\Non-Sperm\\aug_Non-Sperm (891).bmp\n",
      "Saved: C:\\Users\\User\\Documents\\sperm_project\\SMIDS\\Non-Sperm\\aug_Non-Sperm (892).bmp\n",
      "Saved: C:\\Users\\User\\Documents\\sperm_project\\SMIDS\\Non-Sperm\\aug_Non-Sperm (893).bmp\n",
      "Saved: C:\\Users\\User\\Documents\\sperm_project\\SMIDS\\Non-Sperm\\aug_Non-Sperm (894).bmp\n",
      "Saved: C:\\Users\\User\\Documents\\sperm_project\\SMIDS\\Non-Sperm\\aug_Non-Sperm (895).bmp\n"
     ]
    },
    {
     "name": "stderr",
     "output_type": "stream",
     "text": [
      "Augmenting Non-Sperm:  92%|█████████▏| 895/974 [00:18<00:01, 47.68it/s]"
     ]
    },
    {
     "name": "stdout",
     "output_type": "stream",
     "text": [
      "Saved: C:\\Users\\User\\Documents\\sperm_project\\SMIDS\\Non-Sperm\\aug_Non-Sperm (896).bmp\n",
      "Saved: C:\\Users\\User\\Documents\\sperm_project\\SMIDS\\Non-Sperm\\aug_Non-Sperm (897).bmp\n",
      "Saved: C:\\Users\\User\\Documents\\sperm_project\\SMIDS\\Non-Sperm\\aug_Non-Sperm (898).bmp\n",
      "Saved: C:\\Users\\User\\Documents\\sperm_project\\SMIDS\\Non-Sperm\\aug_Non-Sperm (899).bmp\n",
      "Saved: C:\\Users\\User\\Documents\\sperm_project\\SMIDS\\Non-Sperm\\aug_Non-Sperm (9).bmp\n",
      "Saved: C:\\Users\\User\\Documents\\sperm_project\\SMIDS\\Non-Sperm\\aug_Non-Sperm (90).bmp\n",
      "Saved: C:\\Users\\User\\Documents\\sperm_project\\SMIDS\\Non-Sperm\\aug_Non-Sperm (900).bmp\n",
      "Saved: C:\\Users\\User\\Documents\\sperm_project\\SMIDS\\Non-Sperm\\aug_Non-Sperm (901).bmp\n",
      "Saved: C:\\Users\\User\\Documents\\sperm_project\\SMIDS\\Non-Sperm\\aug_Non-Sperm (902).bmp\n",
      "Saved: C:\\Users\\User\\Documents\\sperm_project\\SMIDS\\Non-Sperm\\aug_Non-Sperm (903).bmp\n",
      "Saved: C:\\Users\\User\\Documents\\sperm_project\\SMIDS\\Non-Sperm\\aug_Non-Sperm (904).bmp\n"
     ]
    },
    {
     "name": "stderr",
     "output_type": "stream",
     "text": [
      "Augmenting Non-Sperm:  92%|█████████▏| 900/974 [00:19<00:01, 46.58it/s]"
     ]
    },
    {
     "name": "stdout",
     "output_type": "stream",
     "text": [
      "Saved: C:\\Users\\User\\Documents\\sperm_project\\SMIDS\\Non-Sperm\\aug_Non-Sperm (905).bmp\n",
      "Saved: C:\\Users\\User\\Documents\\sperm_project\\SMIDS\\Non-Sperm\\aug_Non-Sperm (906).bmp\n",
      "Saved: C:\\Users\\User\\Documents\\sperm_project\\SMIDS\\Non-Sperm\\aug_Non-Sperm (907).bmp\n",
      "Saved: C:\\Users\\User\\Documents\\sperm_project\\SMIDS\\Non-Sperm\\aug_Non-Sperm (908).bmp\n",
      "Saved: C:\\Users\\User\\Documents\\sperm_project\\SMIDS\\Non-Sperm\\aug_Non-Sperm (909).bmp\n",
      "Saved: C:\\Users\\User\\Documents\\sperm_project\\SMIDS\\Non-Sperm\\aug_Non-Sperm (91).bmp\n",
      "Saved: C:\\Users\\User\\Documents\\sperm_project\\SMIDS\\Non-Sperm\\aug_Non-Sperm (910).bmp\n",
      "Saved: C:\\Users\\User\\Documents\\sperm_project\\SMIDS\\Non-Sperm\\aug_Non-Sperm (911).bmp\n",
      "Saved: C:\\Users\\User\\Documents\\sperm_project\\SMIDS\\Non-Sperm\\aug_Non-Sperm (912).bmp\n"
     ]
    },
    {
     "name": "stderr",
     "output_type": "stream",
     "text": [
      "Augmenting Non-Sperm:  94%|█████████▎| 911/974 [00:19<00:01, 47.47it/s]"
     ]
    },
    {
     "name": "stdout",
     "output_type": "stream",
     "text": [
      "Saved: C:\\Users\\User\\Documents\\sperm_project\\SMIDS\\Non-Sperm\\aug_Non-Sperm (913).bmp\n",
      "Saved: C:\\Users\\User\\Documents\\sperm_project\\SMIDS\\Non-Sperm\\aug_Non-Sperm (914).bmp\n",
      "Saved: C:\\Users\\User\\Documents\\sperm_project\\SMIDS\\Non-Sperm\\aug_Non-Sperm (915).bmp\n",
      "Saved: C:\\Users\\User\\Documents\\sperm_project\\SMIDS\\Non-Sperm\\aug_Non-Sperm (916).bmp\n",
      "Saved: C:\\Users\\User\\Documents\\sperm_project\\SMIDS\\Non-Sperm\\aug_Non-Sperm (917).bmp\n",
      "Saved: C:\\Users\\User\\Documents\\sperm_project\\SMIDS\\Non-Sperm\\aug_Non-Sperm (918).bmp\n",
      "Saved: C:\\Users\\User\\Documents\\sperm_project\\SMIDS\\Non-Sperm\\aug_Non-Sperm (919).bmp\n",
      "Saved: C:\\Users\\User\\Documents\\sperm_project\\SMIDS\\Non-Sperm\\aug_Non-Sperm (92).bmp\n",
      "Saved: C:\\Users\\User\\Documents\\sperm_project\\SMIDS\\Non-Sperm\\aug_Non-Sperm (920).bmp\n",
      "Saved: C:\\Users\\User\\Documents\\sperm_project\\SMIDS\\Non-Sperm\\aug_Non-Sperm (921).bmp\n"
     ]
    },
    {
     "name": "stderr",
     "output_type": "stream",
     "text": [
      "Augmenting Non-Sperm:  95%|█████████▍| 922/974 [00:19<00:01, 48.21it/s]"
     ]
    },
    {
     "name": "stdout",
     "output_type": "stream",
     "text": [
      "Saved: C:\\Users\\User\\Documents\\sperm_project\\SMIDS\\Non-Sperm\\aug_Non-Sperm (922).bmp\n",
      "Saved: C:\\Users\\User\\Documents\\sperm_project\\SMIDS\\Non-Sperm\\aug_Non-Sperm (923).bmp\n",
      "Saved: C:\\Users\\User\\Documents\\sperm_project\\SMIDS\\Non-Sperm\\aug_Non-Sperm (924).bmp\n",
      "Saved: C:\\Users\\User\\Documents\\sperm_project\\SMIDS\\Non-Sperm\\aug_Non-Sperm (925).bmp\n",
      "Saved: C:\\Users\\User\\Documents\\sperm_project\\SMIDS\\Non-Sperm\\aug_Non-Sperm (926).bmp\n",
      "Saved: C:\\Users\\User\\Documents\\sperm_project\\SMIDS\\Non-Sperm\\aug_Non-Sperm (927).bmp\n",
      "Saved: C:\\Users\\User\\Documents\\sperm_project\\SMIDS\\Non-Sperm\\aug_Non-Sperm (928).bmp\n",
      "Saved: C:\\Users\\User\\Documents\\sperm_project\\SMIDS\\Non-Sperm\\aug_Non-Sperm (929).bmp\n",
      "Saved: C:\\Users\\User\\Documents\\sperm_project\\SMIDS\\Non-Sperm\\aug_Non-Sperm (93).bmp\n",
      "Saved: C:\\Users\\User\\Documents\\sperm_project\\SMIDS\\Non-Sperm\\aug_Non-Sperm (930).bmp\n",
      "Saved: C:\\Users\\User\\Documents\\sperm_project\\SMIDS\\Non-Sperm\\aug_Non-Sperm (931).bmp\n"
     ]
    },
    {
     "name": "stderr",
     "output_type": "stream",
     "text": [
      "Augmenting Non-Sperm:  96%|█████████▌| 932/974 [00:19<00:00, 46.44it/s]"
     ]
    },
    {
     "name": "stdout",
     "output_type": "stream",
     "text": [
      "Saved: C:\\Users\\User\\Documents\\sperm_project\\SMIDS\\Non-Sperm\\aug_Non-Sperm (932).bmp\n",
      "Saved: C:\\Users\\User\\Documents\\sperm_project\\SMIDS\\Non-Sperm\\aug_Non-Sperm (933).bmp\n",
      "Saved: C:\\Users\\User\\Documents\\sperm_project\\SMIDS\\Non-Sperm\\aug_Non-Sperm (934).bmp\n",
      "Saved: C:\\Users\\User\\Documents\\sperm_project\\SMIDS\\Non-Sperm\\aug_Non-Sperm (935).bmp\n",
      "Saved: C:\\Users\\User\\Documents\\sperm_project\\SMIDS\\Non-Sperm\\aug_Non-Sperm (936).bmp\n",
      "Saved: C:\\Users\\User\\Documents\\sperm_project\\SMIDS\\Non-Sperm\\aug_Non-Sperm (937).bmp\n",
      "Saved: C:\\Users\\User\\Documents\\sperm_project\\SMIDS\\Non-Sperm\\aug_Non-Sperm (938).bmp\n",
      "Saved: C:\\Users\\User\\Documents\\sperm_project\\SMIDS\\Non-Sperm\\aug_Non-Sperm (939).bmp\n",
      "Saved: C:\\Users\\User\\Documents\\sperm_project\\SMIDS\\Non-Sperm\\aug_Non-Sperm (94).bmp\n",
      "Saved: C:\\Users\\User\\Documents\\sperm_project\\SMIDS\\Non-Sperm\\aug_Non-Sperm (940).bmp\n",
      "Saved: C:\\Users\\User\\Documents\\sperm_project\\SMIDS\\Non-Sperm\\aug_Non-Sperm (941).bmp\n"
     ]
    },
    {
     "name": "stderr",
     "output_type": "stream",
     "text": [
      "Augmenting Non-Sperm:  97%|█████████▋| 943/974 [00:19<00:00, 48.32it/s]"
     ]
    },
    {
     "name": "stdout",
     "output_type": "stream",
     "text": [
      "Saved: C:\\Users\\User\\Documents\\sperm_project\\SMIDS\\Non-Sperm\\aug_Non-Sperm (942).bmp\n",
      "Saved: C:\\Users\\User\\Documents\\sperm_project\\SMIDS\\Non-Sperm\\aug_Non-Sperm (943).bmp\n",
      "Saved: C:\\Users\\User\\Documents\\sperm_project\\SMIDS\\Non-Sperm\\aug_Non-Sperm (944).bmp\n",
      "Saved: C:\\Users\\User\\Documents\\sperm_project\\SMIDS\\Non-Sperm\\aug_Non-Sperm (945).bmp\n",
      "Saved: C:\\Users\\User\\Documents\\sperm_project\\SMIDS\\Non-Sperm\\aug_Non-Sperm (946).bmp\n",
      "Saved: C:\\Users\\User\\Documents\\sperm_project\\SMIDS\\Non-Sperm\\aug_Non-Sperm (947).bmp\n",
      "Saved: C:\\Users\\User\\Documents\\sperm_project\\SMIDS\\Non-Sperm\\aug_Non-Sperm (948).bmp\n",
      "Saved: C:\\Users\\User\\Documents\\sperm_project\\SMIDS\\Non-Sperm\\aug_Non-Sperm (949).bmp\n",
      "Saved: C:\\Users\\User\\Documents\\sperm_project\\SMIDS\\Non-Sperm\\aug_Non-Sperm (95).bmp\n",
      "Saved: C:\\Users\\User\\Documents\\sperm_project\\SMIDS\\Non-Sperm\\aug_Non-Sperm (950).bmp\n"
     ]
    },
    {
     "name": "stderr",
     "output_type": "stream",
     "text": [
      "Augmenting Non-Sperm:  98%|█████████▊| 954/974 [00:20<00:00, 50.06it/s]"
     ]
    },
    {
     "name": "stdout",
     "output_type": "stream",
     "text": [
      "Saved: C:\\Users\\User\\Documents\\sperm_project\\SMIDS\\Non-Sperm\\aug_Non-Sperm (951).bmp\n",
      "Saved: C:\\Users\\User\\Documents\\sperm_project\\SMIDS\\Non-Sperm\\aug_Non-Sperm (952).bmp\n",
      "Saved: C:\\Users\\User\\Documents\\sperm_project\\SMIDS\\Non-Sperm\\aug_Non-Sperm (953).bmp\n",
      "Saved: C:\\Users\\User\\Documents\\sperm_project\\SMIDS\\Non-Sperm\\aug_Non-Sperm (954).bmp\n",
      "Saved: C:\\Users\\User\\Documents\\sperm_project\\SMIDS\\Non-Sperm\\aug_Non-Sperm (955).bmp\n",
      "Saved: C:\\Users\\User\\Documents\\sperm_project\\SMIDS\\Non-Sperm\\aug_Non-Sperm (956).bmp\n",
      "Saved: C:\\Users\\User\\Documents\\sperm_project\\SMIDS\\Non-Sperm\\aug_Non-Sperm (957).bmp\n",
      "Saved: C:\\Users\\User\\Documents\\sperm_project\\SMIDS\\Non-Sperm\\aug_Non-Sperm (958).bmp\n",
      "Saved: C:\\Users\\User\\Documents\\sperm_project\\SMIDS\\Non-Sperm\\aug_Non-Sperm (959).bmp\n",
      "Saved: C:\\Users\\User\\Documents\\sperm_project\\SMIDS\\Non-Sperm\\aug_Non-Sperm (96).bmp\n",
      "Saved: C:\\Users\\User\\Documents\\sperm_project\\SMIDS\\Non-Sperm\\aug_Non-Sperm (960).bmp\n"
     ]
    },
    {
     "name": "stderr",
     "output_type": "stream",
     "text": [
      "Augmenting Non-Sperm:  99%|█████████▉| 966/974 [00:20<00:00, 48.54it/s]"
     ]
    },
    {
     "name": "stdout",
     "output_type": "stream",
     "text": [
      "Saved: C:\\Users\\User\\Documents\\sperm_project\\SMIDS\\Non-Sperm\\aug_Non-Sperm (961).bmp\n",
      "Saved: C:\\Users\\User\\Documents\\sperm_project\\SMIDS\\Non-Sperm\\aug_Non-Sperm (962).bmp\n",
      "Saved: C:\\Users\\User\\Documents\\sperm_project\\SMIDS\\Non-Sperm\\aug_Non-Sperm (963).bmp\n",
      "Saved: C:\\Users\\User\\Documents\\sperm_project\\SMIDS\\Non-Sperm\\aug_Non-Sperm (964).bmp\n",
      "Saved: C:\\Users\\User\\Documents\\sperm_project\\SMIDS\\Non-Sperm\\aug_Non-Sperm (965).bmp\n",
      "Saved: C:\\Users\\User\\Documents\\sperm_project\\SMIDS\\Non-Sperm\\aug_Non-Sperm (966).bmp\n",
      "Saved: C:\\Users\\User\\Documents\\sperm_project\\SMIDS\\Non-Sperm\\aug_Non-Sperm (967).bmp\n",
      "Saved: C:\\Users\\User\\Documents\\sperm_project\\SMIDS\\Non-Sperm\\aug_Non-Sperm (968).bmp\n",
      "Saved: C:\\Users\\User\\Documents\\sperm_project\\SMIDS\\Non-Sperm\\aug_Non-Sperm (969).bmp\n",
      "Saved: C:\\Users\\User\\Documents\\sperm_project\\SMIDS\\Non-Sperm\\aug_Non-Sperm (97).bmp\n"
     ]
    },
    {
     "name": "stderr",
     "output_type": "stream",
     "text": [
      "Augmenting Non-Sperm: 100%|██████████| 974/974 [00:20<00:00, 47.32it/s]\n"
     ]
    },
    {
     "name": "stdout",
     "output_type": "stream",
     "text": [
      "Saved: C:\\Users\\User\\Documents\\sperm_project\\SMIDS\\Non-Sperm\\aug_Non-Sperm (970).bmp\n",
      "Saved: C:\\Users\\User\\Documents\\sperm_project\\SMIDS\\Non-Sperm\\aug_Non-Sperm (971).bmp\n",
      "Saved: C:\\Users\\User\\Documents\\sperm_project\\SMIDS\\Non-Sperm\\aug_Non-Sperm (972).bmp\n",
      "Saved: C:\\Users\\User\\Documents\\sperm_project\\SMIDS\\Non-Sperm\\aug_Non-Sperm (973).bmp\n",
      "Saved: C:\\Users\\User\\Documents\\sperm_project\\SMIDS\\Non-Sperm\\aug_Non-Sperm (974).bmp\n",
      "Saved: C:\\Users\\User\\Documents\\sperm_project\\SMIDS\\Non-Sperm\\aug_Non-Sperm (98).bmp\n",
      "Saved: C:\\Users\\User\\Documents\\sperm_project\\SMIDS\\Non-Sperm\\aug_Non-Sperm (99).bmp\n",
      "Processing 1021 images in C:\\Users\\User\\Documents\\sperm_project\\SMIDS\\Normal_Sperm...\n"
     ]
    },
    {
     "name": "stderr",
     "output_type": "stream",
     "text": [
      "Augmenting Normal_Sperm:   0%|          | 0/1021 [00:00<?, ?it/s]"
     ]
    },
    {
     "name": "stdout",
     "output_type": "stream",
     "text": [
      "Saved: C:\\Users\\User\\Documents\\sperm_project\\SMIDS\\Normal_Sperm\\aug_Normal_Sperm (1).bmp\n",
      "Saved: C:\\Users\\User\\Documents\\sperm_project\\SMIDS\\Normal_Sperm\\aug_Normal_Sperm (10).bmp\n",
      "Saved: C:\\Users\\User\\Documents\\sperm_project\\SMIDS\\Normal_Sperm\\aug_Normal_Sperm (100).bmp\n"
     ]
    },
    {
     "name": "stderr",
     "output_type": "stream",
     "text": [
      "Augmenting Normal_Sperm:   0%|          | 5/1021 [00:00<00:22, 44.29it/s]"
     ]
    },
    {
     "name": "stdout",
     "output_type": "stream",
     "text": [
      "Saved: C:\\Users\\User\\Documents\\sperm_project\\SMIDS\\Normal_Sperm\\aug_Normal_Sperm (1000).bmp\n",
      "Saved: C:\\Users\\User\\Documents\\sperm_project\\SMIDS\\Normal_Sperm\\aug_Normal_Sperm (1001).bmp\n",
      "Saved: C:\\Users\\User\\Documents\\sperm_project\\SMIDS\\Normal_Sperm\\aug_Normal_Sperm (1002).bmp\n",
      "Saved: C:\\Users\\User\\Documents\\sperm_project\\SMIDS\\Normal_Sperm\\aug_Normal_Sperm (1003).bmp\n",
      "Saved: C:\\Users\\User\\Documents\\sperm_project\\SMIDS\\Normal_Sperm\\aug_Normal_Sperm (1004).bmp\n",
      "Saved: C:\\Users\\User\\Documents\\sperm_project\\SMIDS\\Normal_Sperm\\aug_Normal_Sperm (1005).bmp\n",
      "Saved: C:\\Users\\User\\Documents\\sperm_project\\SMIDS\\Normal_Sperm\\aug_Normal_Sperm (1006).bmp\n"
     ]
    },
    {
     "name": "stderr",
     "output_type": "stream",
     "text": [
      "Augmenting Normal_Sperm:   1%|          | 10/1021 [00:00<00:21, 47.26it/s]"
     ]
    },
    {
     "name": "stdout",
     "output_type": "stream",
     "text": [
      "Saved: C:\\Users\\User\\Documents\\sperm_project\\SMIDS\\Normal_Sperm\\aug_Normal_Sperm (1007).bmp\n",
      "Saved: C:\\Users\\User\\Documents\\sperm_project\\SMIDS\\Normal_Sperm\\aug_Normal_Sperm (1008).bmp\n",
      "Saved: C:\\Users\\User\\Documents\\sperm_project\\SMIDS\\Normal_Sperm\\aug_Normal_Sperm (1009).bmp\n",
      "Saved: C:\\Users\\User\\Documents\\sperm_project\\SMIDS\\Normal_Sperm\\aug_Normal_Sperm (101).bmp\n"
     ]
    },
    {
     "name": "stderr",
     "output_type": "stream",
     "text": [
      "Augmenting Normal_Sperm:   1%|▏         | 15/1021 [00:00<00:20, 48.29it/s]"
     ]
    },
    {
     "name": "stdout",
     "output_type": "stream",
     "text": [
      "Saved: C:\\Users\\User\\Documents\\sperm_project\\SMIDS\\Normal_Sperm\\aug_Normal_Sperm (1010).bmp\n",
      "Saved: C:\\Users\\User\\Documents\\sperm_project\\SMIDS\\Normal_Sperm\\aug_Normal_Sperm (1011).bmp\n",
      "Saved: C:\\Users\\User\\Documents\\sperm_project\\SMIDS\\Normal_Sperm\\aug_Normal_Sperm (1012).bmp\n",
      "Saved: C:\\Users\\User\\Documents\\sperm_project\\SMIDS\\Normal_Sperm\\aug_Normal_Sperm (1013).bmp\n",
      "Saved: C:\\Users\\User\\Documents\\sperm_project\\SMIDS\\Normal_Sperm\\aug_Normal_Sperm (1014).bmp\n"
     ]
    },
    {
     "name": "stderr",
     "output_type": "stream",
     "text": [
      "Augmenting Normal_Sperm:   2%|▏         | 20/1021 [00:00<00:21, 46.30it/s]"
     ]
    },
    {
     "name": "stdout",
     "output_type": "stream",
     "text": [
      "Saved: C:\\Users\\User\\Documents\\sperm_project\\SMIDS\\Normal_Sperm\\aug_Normal_Sperm (1015).bmp\n",
      "Saved: C:\\Users\\User\\Documents\\sperm_project\\SMIDS\\Normal_Sperm\\aug_Normal_Sperm (1016).bmp\n",
      "Saved: C:\\Users\\User\\Documents\\sperm_project\\SMIDS\\Normal_Sperm\\aug_Normal_Sperm (1017).bmp\n",
      "Saved: C:\\Users\\User\\Documents\\sperm_project\\SMIDS\\Normal_Sperm\\aug_Normal_Sperm (1018).bmp\n",
      "Saved: C:\\Users\\User\\Documents\\sperm_project\\SMIDS\\Normal_Sperm\\aug_Normal_Sperm (1019).bmp\n"
     ]
    },
    {
     "name": "stderr",
     "output_type": "stream",
     "text": [
      "Augmenting Normal_Sperm:   2%|▏         | 25/1021 [00:00<00:21, 46.97it/s]"
     ]
    },
    {
     "name": "stdout",
     "output_type": "stream",
     "text": [
      "Saved: C:\\Users\\User\\Documents\\sperm_project\\SMIDS\\Normal_Sperm\\aug_Normal_Sperm (102).bmp\n",
      "Saved: C:\\Users\\User\\Documents\\sperm_project\\SMIDS\\Normal_Sperm\\aug_Normal_Sperm (1020).bmp\n",
      "Saved: C:\\Users\\User\\Documents\\sperm_project\\SMIDS\\Normal_Sperm\\aug_Normal_Sperm (1021).bmp\n",
      "Saved: C:\\Users\\User\\Documents\\sperm_project\\SMIDS\\Normal_Sperm\\aug_Normal_Sperm (103).bmp\n",
      "Saved: C:\\Users\\User\\Documents\\sperm_project\\SMIDS\\Normal_Sperm\\aug_Normal_Sperm (104).bmp\n"
     ]
    },
    {
     "name": "stderr",
     "output_type": "stream",
     "text": [
      "Augmenting Normal_Sperm:   3%|▎         | 30/1021 [00:00<00:21, 47.00it/s]"
     ]
    },
    {
     "name": "stdout",
     "output_type": "stream",
     "text": [
      "Saved: C:\\Users\\User\\Documents\\sperm_project\\SMIDS\\Normal_Sperm\\aug_Normal_Sperm (105).bmp\n",
      "Saved: C:\\Users\\User\\Documents\\sperm_project\\SMIDS\\Normal_Sperm\\aug_Normal_Sperm (106).bmp\n",
      "Saved: C:\\Users\\User\\Documents\\sperm_project\\SMIDS\\Normal_Sperm\\aug_Normal_Sperm (107).bmp\n",
      "Saved: C:\\Users\\User\\Documents\\sperm_project\\SMIDS\\Normal_Sperm\\aug_Normal_Sperm (108).bmp\n",
      "Saved: C:\\Users\\User\\Documents\\sperm_project\\SMIDS\\Normal_Sperm\\aug_Normal_Sperm (109).bmp\n"
     ]
    },
    {
     "name": "stderr",
     "output_type": "stream",
     "text": [
      "Augmenting Normal_Sperm:   3%|▎         | 35/1021 [00:00<00:20, 47.67it/s]"
     ]
    },
    {
     "name": "stdout",
     "output_type": "stream",
     "text": [
      "Saved: C:\\Users\\User\\Documents\\sperm_project\\SMIDS\\Normal_Sperm\\aug_Normal_Sperm (11).bmp\n",
      "Saved: C:\\Users\\User\\Documents\\sperm_project\\SMIDS\\Normal_Sperm\\aug_Normal_Sperm (110).bmp\n",
      "Saved: C:\\Users\\User\\Documents\\sperm_project\\SMIDS\\Normal_Sperm\\aug_Normal_Sperm (111).bmp\n",
      "Saved: C:\\Users\\User\\Documents\\sperm_project\\SMIDS\\Normal_Sperm\\aug_Normal_Sperm (112).bmp\n",
      "Saved: C:\\Users\\User\\Documents\\sperm_project\\SMIDS\\Normal_Sperm\\aug_Normal_Sperm (113).bmp\n"
     ]
    },
    {
     "name": "stderr",
     "output_type": "stream",
     "text": [
      "Augmenting Normal_Sperm:   4%|▍         | 40/1021 [00:00<00:20, 47.47it/s]"
     ]
    },
    {
     "name": "stdout",
     "output_type": "stream",
     "text": [
      "Saved: C:\\Users\\User\\Documents\\sperm_project\\SMIDS\\Normal_Sperm\\aug_Normal_Sperm (114).bmp\n",
      "Saved: C:\\Users\\User\\Documents\\sperm_project\\SMIDS\\Normal_Sperm\\aug_Normal_Sperm (115).bmp\n",
      "Saved: C:\\Users\\User\\Documents\\sperm_project\\SMIDS\\Normal_Sperm\\aug_Normal_Sperm (116).bmp\n",
      "Saved: C:\\Users\\User\\Documents\\sperm_project\\SMIDS\\Normal_Sperm\\aug_Normal_Sperm (117).bmp\n",
      "Saved: C:\\Users\\User\\Documents\\sperm_project\\SMIDS\\Normal_Sperm\\aug_Normal_Sperm (118).bmp\n",
      "Saved: C:\\Users\\User\\Documents\\sperm_project\\SMIDS\\Normal_Sperm\\aug_Normal_Sperm (119).bmp\n"
     ]
    },
    {
     "name": "stderr",
     "output_type": "stream",
     "text": [
      "Augmenting Normal_Sperm:   5%|▍         | 46/1021 [00:00<00:19, 49.72it/s]"
     ]
    },
    {
     "name": "stdout",
     "output_type": "stream",
     "text": [
      "Saved: C:\\Users\\User\\Documents\\sperm_project\\SMIDS\\Normal_Sperm\\aug_Normal_Sperm (12).bmp\n",
      "Saved: C:\\Users\\User\\Documents\\sperm_project\\SMIDS\\Normal_Sperm\\aug_Normal_Sperm (120).bmp\n",
      "Saved: C:\\Users\\User\\Documents\\sperm_project\\SMIDS\\Normal_Sperm\\aug_Normal_Sperm (121).bmp\n",
      "Saved: C:\\Users\\User\\Documents\\sperm_project\\SMIDS\\Normal_Sperm\\aug_Normal_Sperm (122).bmp\n",
      "Saved: C:\\Users\\User\\Documents\\sperm_project\\SMIDS\\Normal_Sperm\\aug_Normal_Sperm (123).bmp\n"
     ]
    },
    {
     "name": "stderr",
     "output_type": "stream",
     "text": [
      "Augmenting Normal_Sperm:   5%|▍         | 51/1021 [00:01<00:20, 46.33it/s]"
     ]
    },
    {
     "name": "stdout",
     "output_type": "stream",
     "text": [
      "Saved: C:\\Users\\User\\Documents\\sperm_project\\SMIDS\\Normal_Sperm\\aug_Normal_Sperm (124).bmp\n",
      "Saved: C:\\Users\\User\\Documents\\sperm_project\\SMIDS\\Normal_Sperm\\aug_Normal_Sperm (125).bmp\n",
      "Saved: C:\\Users\\User\\Documents\\sperm_project\\SMIDS\\Normal_Sperm\\aug_Normal_Sperm (126).bmp\n",
      "Saved: C:\\Users\\User\\Documents\\sperm_project\\SMIDS\\Normal_Sperm\\aug_Normal_Sperm (127).bmp\n"
     ]
    },
    {
     "name": "stderr",
     "output_type": "stream",
     "text": [
      "Augmenting Normal_Sperm:   5%|▌         | 56/1021 [00:01<00:20, 46.66it/s]"
     ]
    },
    {
     "name": "stdout",
     "output_type": "stream",
     "text": [
      "Saved: C:\\Users\\User\\Documents\\sperm_project\\SMIDS\\Normal_Sperm\\aug_Normal_Sperm (128).bmp\n",
      "Saved: C:\\Users\\User\\Documents\\sperm_project\\SMIDS\\Normal_Sperm\\aug_Normal_Sperm (129).bmp\n",
      "Saved: C:\\Users\\User\\Documents\\sperm_project\\SMIDS\\Normal_Sperm\\aug_Normal_Sperm (13).bmp\n",
      "Saved: C:\\Users\\User\\Documents\\sperm_project\\SMIDS\\Normal_Sperm\\aug_Normal_Sperm (130).bmp\n",
      "Saved: C:\\Users\\User\\Documents\\sperm_project\\SMIDS\\Normal_Sperm\\aug_Normal_Sperm (131).bmp\n",
      "Saved: C:\\Users\\User\\Documents\\sperm_project\\SMIDS\\Normal_Sperm\\aug_Normal_Sperm (132).bmp\n"
     ]
    },
    {
     "name": "stderr",
     "output_type": "stream",
     "text": [
      "Augmenting Normal_Sperm:   6%|▌         | 61/1021 [00:01<00:21, 45.43it/s]"
     ]
    },
    {
     "name": "stdout",
     "output_type": "stream",
     "text": [
      "Saved: C:\\Users\\User\\Documents\\sperm_project\\SMIDS\\Normal_Sperm\\aug_Normal_Sperm (133).bmp\n",
      "Saved: C:\\Users\\User\\Documents\\sperm_project\\SMIDS\\Normal_Sperm\\aug_Normal_Sperm (134).bmp\n",
      "Saved: C:\\Users\\User\\Documents\\sperm_project\\SMIDS\\Normal_Sperm\\aug_Normal_Sperm (135).bmp\n",
      "Saved: C:\\Users\\User\\Documents\\sperm_project\\SMIDS\\Normal_Sperm\\aug_Normal_Sperm (136).bmp\n"
     ]
    },
    {
     "name": "stderr",
     "output_type": "stream",
     "text": [
      "Augmenting Normal_Sperm:   7%|▋         | 67/1021 [00:01<00:19, 47.88it/s]"
     ]
    },
    {
     "name": "stdout",
     "output_type": "stream",
     "text": [
      "Saved: C:\\Users\\User\\Documents\\sperm_project\\SMIDS\\Normal_Sperm\\aug_Normal_Sperm (137).bmp\n",
      "Saved: C:\\Users\\User\\Documents\\sperm_project\\SMIDS\\Normal_Sperm\\aug_Normal_Sperm (138).bmp\n",
      "Saved: C:\\Users\\User\\Documents\\sperm_project\\SMIDS\\Normal_Sperm\\aug_Normal_Sperm (139).bmp\n",
      "Saved: C:\\Users\\User\\Documents\\sperm_project\\SMIDS\\Normal_Sperm\\aug_Normal_Sperm (14).bmp\n",
      "Saved: C:\\Users\\User\\Documents\\sperm_project\\SMIDS\\Normal_Sperm\\aug_Normal_Sperm (140).bmp\n",
      "Saved: C:\\Users\\User\\Documents\\sperm_project\\SMIDS\\Normal_Sperm\\aug_Normal_Sperm (141).bmp\n",
      "Saved: C:\\Users\\User\\Documents\\sperm_project\\SMIDS\\Normal_Sperm\\aug_Normal_Sperm (142).bmp\n"
     ]
    },
    {
     "name": "stderr",
     "output_type": "stream",
     "text": [
      "Augmenting Normal_Sperm:   7%|▋         | 72/1021 [00:01<00:19, 48.15it/s]"
     ]
    },
    {
     "name": "stdout",
     "output_type": "stream",
     "text": [
      "Saved: C:\\Users\\User\\Documents\\sperm_project\\SMIDS\\Normal_Sperm\\aug_Normal_Sperm (143).bmp\n",
      "Saved: C:\\Users\\User\\Documents\\sperm_project\\SMIDS\\Normal_Sperm\\aug_Normal_Sperm (144).bmp\n",
      "Saved: C:\\Users\\User\\Documents\\sperm_project\\SMIDS\\Normal_Sperm\\aug_Normal_Sperm (145).bmp\n",
      "Saved: C:\\Users\\User\\Documents\\sperm_project\\SMIDS\\Normal_Sperm\\aug_Normal_Sperm (146).bmp\n"
     ]
    },
    {
     "name": "stderr",
     "output_type": "stream",
     "text": [
      "Augmenting Normal_Sperm:   8%|▊         | 82/1021 [00:01<00:19, 48.31it/s]"
     ]
    },
    {
     "name": "stdout",
     "output_type": "stream",
     "text": [
      "Saved: C:\\Users\\User\\Documents\\sperm_project\\SMIDS\\Normal_Sperm\\aug_Normal_Sperm (147).bmp\n",
      "Saved: C:\\Users\\User\\Documents\\sperm_project\\SMIDS\\Normal_Sperm\\aug_Normal_Sperm (148).bmp\n",
      "Saved: C:\\Users\\User\\Documents\\sperm_project\\SMIDS\\Normal_Sperm\\aug_Normal_Sperm (149).bmp\n",
      "Saved: C:\\Users\\User\\Documents\\sperm_project\\SMIDS\\Normal_Sperm\\aug_Normal_Sperm (15).bmp\n",
      "Saved: C:\\Users\\User\\Documents\\sperm_project\\SMIDS\\Normal_Sperm\\aug_Normal_Sperm (150).bmp\n",
      "Saved: C:\\Users\\User\\Documents\\sperm_project\\SMIDS\\Normal_Sperm\\aug_Normal_Sperm (151).bmp\n",
      "Saved: C:\\Users\\User\\Documents\\sperm_project\\SMIDS\\Normal_Sperm\\aug_Normal_Sperm (152).bmp\n",
      "Saved: C:\\Users\\User\\Documents\\sperm_project\\SMIDS\\Normal_Sperm\\aug_Normal_Sperm (153).bmp\n",
      "Saved: C:\\Users\\User\\Documents\\sperm_project\\SMIDS\\Normal_Sperm\\aug_Normal_Sperm (154).bmp\n",
      "Saved: C:\\Users\\User\\Documents\\sperm_project\\SMIDS\\Normal_Sperm\\aug_Normal_Sperm (155).bmp\n",
      "Saved: C:\\Users\\User\\Documents\\sperm_project\\SMIDS\\Normal_Sperm\\aug_Normal_Sperm (156).bmp\n"
     ]
    },
    {
     "name": "stderr",
     "output_type": "stream",
     "text": [
      "Augmenting Normal_Sperm:   9%|▊         | 87/1021 [00:01<00:19, 47.84it/s]"
     ]
    },
    {
     "name": "stdout",
     "output_type": "stream",
     "text": [
      "Saved: C:\\Users\\User\\Documents\\sperm_project\\SMIDS\\Normal_Sperm\\aug_Normal_Sperm (157).bmp\n",
      "Saved: C:\\Users\\User\\Documents\\sperm_project\\SMIDS\\Normal_Sperm\\aug_Normal_Sperm (158).bmp\n",
      "Saved: C:\\Users\\User\\Documents\\sperm_project\\SMIDS\\Normal_Sperm\\aug_Normal_Sperm (159).bmp\n",
      "Saved: C:\\Users\\User\\Documents\\sperm_project\\SMIDS\\Normal_Sperm\\aug_Normal_Sperm (16).bmp\n",
      "Saved: C:\\Users\\User\\Documents\\sperm_project\\SMIDS\\Normal_Sperm\\aug_Normal_Sperm (160).bmp\n"
     ]
    },
    {
     "name": "stderr",
     "output_type": "stream",
     "text": [
      "Augmenting Normal_Sperm:   9%|▉         | 93/1021 [00:01<00:18, 48.93it/s]"
     ]
    },
    {
     "name": "stdout",
     "output_type": "stream",
     "text": [
      "Saved: C:\\Users\\User\\Documents\\sperm_project\\SMIDS\\Normal_Sperm\\aug_Normal_Sperm (161).bmp\n",
      "Saved: C:\\Users\\User\\Documents\\sperm_project\\SMIDS\\Normal_Sperm\\aug_Normal_Sperm (162).bmp\n",
      "Saved: C:\\Users\\User\\Documents\\sperm_project\\SMIDS\\Normal_Sperm\\aug_Normal_Sperm (163).bmp\n",
      "Saved: C:\\Users\\User\\Documents\\sperm_project\\SMIDS\\Normal_Sperm\\aug_Normal_Sperm (164).bmp\n",
      "Saved: C:\\Users\\User\\Documents\\sperm_project\\SMIDS\\Normal_Sperm\\aug_Normal_Sperm (165).bmp\n",
      "Saved: C:\\Users\\User\\Documents\\sperm_project\\SMIDS\\Normal_Sperm\\aug_Normal_Sperm (166).bmp\n",
      "Saved: C:\\Users\\User\\Documents\\sperm_project\\SMIDS\\Normal_Sperm\\aug_Normal_Sperm (167).bmp\n"
     ]
    },
    {
     "name": "stderr",
     "output_type": "stream",
     "text": [
      "Augmenting Normal_Sperm:  10%|▉         | 99/1021 [00:02<00:18, 50.48it/s]"
     ]
    },
    {
     "name": "stdout",
     "output_type": "stream",
     "text": [
      "Saved: C:\\Users\\User\\Documents\\sperm_project\\SMIDS\\Normal_Sperm\\aug_Normal_Sperm (168).bmp\n",
      "Saved: C:\\Users\\User\\Documents\\sperm_project\\SMIDS\\Normal_Sperm\\aug_Normal_Sperm (169).bmp\n",
      "Saved: C:\\Users\\User\\Documents\\sperm_project\\SMIDS\\Normal_Sperm\\aug_Normal_Sperm (17).bmp\n",
      "Saved: C:\\Users\\User\\Documents\\sperm_project\\SMIDS\\Normal_Sperm\\aug_Normal_Sperm (170).bmp\n"
     ]
    },
    {
     "name": "stderr",
     "output_type": "stream",
     "text": [
      "Augmenting Normal_Sperm:  10%|█         | 105/1021 [00:02<00:19, 47.84it/s]"
     ]
    },
    {
     "name": "stdout",
     "output_type": "stream",
     "text": [
      "Saved: C:\\Users\\User\\Documents\\sperm_project\\SMIDS\\Normal_Sperm\\aug_Normal_Sperm (171).bmp\n",
      "Saved: C:\\Users\\User\\Documents\\sperm_project\\SMIDS\\Normal_Sperm\\aug_Normal_Sperm (172).bmp\n",
      "Saved: C:\\Users\\User\\Documents\\sperm_project\\SMIDS\\Normal_Sperm\\aug_Normal_Sperm (173).bmp\n",
      "Saved: C:\\Users\\User\\Documents\\sperm_project\\SMIDS\\Normal_Sperm\\aug_Normal_Sperm (174).bmp\n",
      "Saved: C:\\Users\\User\\Documents\\sperm_project\\SMIDS\\Normal_Sperm\\aug_Normal_Sperm (175).bmp\n",
      "Saved: C:\\Users\\User\\Documents\\sperm_project\\SMIDS\\Normal_Sperm\\aug_Normal_Sperm (176).bmp\n"
     ]
    },
    {
     "name": "stderr",
     "output_type": "stream",
     "text": [
      "Augmenting Normal_Sperm:  11%|█         | 111/1021 [00:02<00:18, 47.97it/s]"
     ]
    },
    {
     "name": "stdout",
     "output_type": "stream",
     "text": [
      "Saved: C:\\Users\\User\\Documents\\sperm_project\\SMIDS\\Normal_Sperm\\aug_Normal_Sperm (177).bmp\n",
      "Saved: C:\\Users\\User\\Documents\\sperm_project\\SMIDS\\Normal_Sperm\\aug_Normal_Sperm (178).bmp\n",
      "Saved: C:\\Users\\User\\Documents\\sperm_project\\SMIDS\\Normal_Sperm\\aug_Normal_Sperm (179).bmp\n",
      "Saved: C:\\Users\\User\\Documents\\sperm_project\\SMIDS\\Normal_Sperm\\aug_Normal_Sperm (18).bmp\n",
      "Saved: C:\\Users\\User\\Documents\\sperm_project\\SMIDS\\Normal_Sperm\\aug_Normal_Sperm (180).bmp\n"
     ]
    },
    {
     "name": "stderr",
     "output_type": "stream",
     "text": [
      "Augmenting Normal_Sperm:  11%|█▏        | 117/1021 [00:02<00:18, 48.24it/s]"
     ]
    },
    {
     "name": "stdout",
     "output_type": "stream",
     "text": [
      "Saved: C:\\Users\\User\\Documents\\sperm_project\\SMIDS\\Normal_Sperm\\aug_Normal_Sperm (181).bmp\n",
      "Saved: C:\\Users\\User\\Documents\\sperm_project\\SMIDS\\Normal_Sperm\\aug_Normal_Sperm (182).bmp\n",
      "Saved: C:\\Users\\User\\Documents\\sperm_project\\SMIDS\\Normal_Sperm\\aug_Normal_Sperm (183).bmp\n",
      "Saved: C:\\Users\\User\\Documents\\sperm_project\\SMIDS\\Normal_Sperm\\aug_Normal_Sperm (184).bmp\n",
      "Saved: C:\\Users\\User\\Documents\\sperm_project\\SMIDS\\Normal_Sperm\\aug_Normal_Sperm (185).bmp\n",
      "Saved: C:\\Users\\User\\Documents\\sperm_project\\SMIDS\\Normal_Sperm\\aug_Normal_Sperm (186).bmp\n",
      "Saved: C:\\Users\\User\\Documents\\sperm_project\\SMIDS\\Normal_Sperm\\aug_Normal_Sperm (187).bmp\n",
      "Saved: C:\\Users\\User\\Documents\\sperm_project\\SMIDS\\Normal_Sperm\\aug_Normal_Sperm (188).bmp\n",
      "Saved: C:\\Users\\User\\Documents\\sperm_project\\SMIDS\\Normal_Sperm\\aug_Normal_Sperm (189).bmp\n",
      "Saved: C:\\Users\\User\\Documents\\sperm_project\\SMIDS\\Normal_Sperm\\aug_Normal_Sperm (19).bmp\n"
     ]
    },
    {
     "name": "stderr",
     "output_type": "stream",
     "text": [
      "Augmenting Normal_Sperm:  13%|█▎        | 128/1021 [00:02<00:18, 47.56it/s]"
     ]
    },
    {
     "name": "stdout",
     "output_type": "stream",
     "text": [
      "Saved: C:\\Users\\User\\Documents\\sperm_project\\SMIDS\\Normal_Sperm\\aug_Normal_Sperm (190).bmp\n",
      "Saved: C:\\Users\\User\\Documents\\sperm_project\\SMIDS\\Normal_Sperm\\aug_Normal_Sperm (191).bmp\n",
      "Saved: C:\\Users\\User\\Documents\\sperm_project\\SMIDS\\Normal_Sperm\\aug_Normal_Sperm (192).bmp\n",
      "Saved: C:\\Users\\User\\Documents\\sperm_project\\SMIDS\\Normal_Sperm\\aug_Normal_Sperm (193).bmp\n",
      "Saved: C:\\Users\\User\\Documents\\sperm_project\\SMIDS\\Normal_Sperm\\aug_Normal_Sperm (194).bmp\n",
      "Saved: C:\\Users\\User\\Documents\\sperm_project\\SMIDS\\Normal_Sperm\\aug_Normal_Sperm (195).bmp\n",
      "Saved: C:\\Users\\User\\Documents\\sperm_project\\SMIDS\\Normal_Sperm\\aug_Normal_Sperm (196).bmp\n",
      "Saved: C:\\Users\\User\\Documents\\sperm_project\\SMIDS\\Normal_Sperm\\aug_Normal_Sperm (197).bmp\n",
      "Saved: C:\\Users\\User\\Documents\\sperm_project\\SMIDS\\Normal_Sperm\\aug_Normal_Sperm (198).bmp\n"
     ]
    },
    {
     "name": "stderr",
     "output_type": "stream",
     "text": [
      "Augmenting Normal_Sperm:  13%|█▎        | 133/1021 [00:02<00:19, 46.64it/s]"
     ]
    },
    {
     "name": "stdout",
     "output_type": "stream",
     "text": [
      "Saved: C:\\Users\\User\\Documents\\sperm_project\\SMIDS\\Normal_Sperm\\aug_Normal_Sperm (199).bmp\n",
      "Saved: C:\\Users\\User\\Documents\\sperm_project\\SMIDS\\Normal_Sperm\\aug_Normal_Sperm (2).bmp\n",
      "Saved: C:\\Users\\User\\Documents\\sperm_project\\SMIDS\\Normal_Sperm\\aug_Normal_Sperm (20).bmp\n",
      "Saved: C:\\Users\\User\\Documents\\sperm_project\\SMIDS\\Normal_Sperm\\aug_Normal_Sperm (200).bmp\n",
      "Saved: C:\\Users\\User\\Documents\\sperm_project\\SMIDS\\Normal_Sperm\\aug_Normal_Sperm (201).bmp\n",
      "Saved: C:\\Users\\User\\Documents\\sperm_project\\SMIDS\\Normal_Sperm\\aug_Normal_Sperm (202).bmp\n"
     ]
    },
    {
     "name": "stderr",
     "output_type": "stream",
     "text": [
      "Augmenting Normal_Sperm:  14%|█▎        | 138/1021 [00:02<00:19, 45.56it/s]"
     ]
    },
    {
     "name": "stdout",
     "output_type": "stream",
     "text": [
      "Saved: C:\\Users\\User\\Documents\\sperm_project\\SMIDS\\Normal_Sperm\\aug_Normal_Sperm (203).bmp\n",
      "Saved: C:\\Users\\User\\Documents\\sperm_project\\SMIDS\\Normal_Sperm\\aug_Normal_Sperm (204).bmp\n",
      "Saved: C:\\Users\\User\\Documents\\sperm_project\\SMIDS\\Normal_Sperm\\aug_Normal_Sperm (205).bmp\n",
      "Saved: C:\\Users\\User\\Documents\\sperm_project\\SMIDS\\Normal_Sperm\\aug_Normal_Sperm (206).bmp\n"
     ]
    },
    {
     "name": "stderr",
     "output_type": "stream",
     "text": [
      "Augmenting Normal_Sperm:  14%|█▍        | 148/1021 [00:03<00:18, 47.23it/s]"
     ]
    },
    {
     "name": "stdout",
     "output_type": "stream",
     "text": [
      "Saved: C:\\Users\\User\\Documents\\sperm_project\\SMIDS\\Normal_Sperm\\aug_Normal_Sperm (207).bmp\n",
      "Saved: C:\\Users\\User\\Documents\\sperm_project\\SMIDS\\Normal_Sperm\\aug_Normal_Sperm (208).bmp\n",
      "Saved: C:\\Users\\User\\Documents\\sperm_project\\SMIDS\\Normal_Sperm\\aug_Normal_Sperm (209).bmp\n",
      "Saved: C:\\Users\\User\\Documents\\sperm_project\\SMIDS\\Normal_Sperm\\aug_Normal_Sperm (21).bmp\n",
      "Saved: C:\\Users\\User\\Documents\\sperm_project\\SMIDS\\Normal_Sperm\\aug_Normal_Sperm (210).bmp\n",
      "Saved: C:\\Users\\User\\Documents\\sperm_project\\SMIDS\\Normal_Sperm\\aug_Normal_Sperm (211).bmp\n",
      "Saved: C:\\Users\\User\\Documents\\sperm_project\\SMIDS\\Normal_Sperm\\aug_Normal_Sperm (212).bmp\n",
      "Saved: C:\\Users\\User\\Documents\\sperm_project\\SMIDS\\Normal_Sperm\\aug_Normal_Sperm (213).bmp\n",
      "Saved: C:\\Users\\User\\Documents\\sperm_project\\SMIDS\\Normal_Sperm\\aug_Normal_Sperm (214).bmp\n",
      "Saved: C:\\Users\\User\\Documents\\sperm_project\\SMIDS\\Normal_Sperm\\aug_Normal_Sperm (215).bmp\n",
      "Saved: C:\\Users\\User\\Documents\\sperm_project\\SMIDS\\Normal_Sperm\\aug_Normal_Sperm (216).bmp\n"
     ]
    },
    {
     "name": "stderr",
     "output_type": "stream",
     "text": [
      "Augmenting Normal_Sperm:  15%|█▌        | 154/1021 [00:03<00:17, 49.58it/s]"
     ]
    },
    {
     "name": "stdout",
     "output_type": "stream",
     "text": [
      "Saved: C:\\Users\\User\\Documents\\sperm_project\\SMIDS\\Normal_Sperm\\aug_Normal_Sperm (217).bmp\n",
      "Saved: C:\\Users\\User\\Documents\\sperm_project\\SMIDS\\Normal_Sperm\\aug_Normal_Sperm (218).bmp\n",
      "Saved: C:\\Users\\User\\Documents\\sperm_project\\SMIDS\\Normal_Sperm\\aug_Normal_Sperm (219).bmp\n",
      "Saved: C:\\Users\\User\\Documents\\sperm_project\\SMIDS\\Normal_Sperm\\aug_Normal_Sperm (22).bmp\n",
      "Saved: C:\\Users\\User\\Documents\\sperm_project\\SMIDS\\Normal_Sperm\\aug_Normal_Sperm (220).bmp\n",
      "Saved: C:\\Users\\User\\Documents\\sperm_project\\SMIDS\\Normal_Sperm\\aug_Normal_Sperm (221).bmp\n"
     ]
    },
    {
     "name": "stderr",
     "output_type": "stream",
     "text": [
      "Augmenting Normal_Sperm:  16%|█▌        | 160/1021 [00:03<00:17, 50.08it/s]"
     ]
    },
    {
     "name": "stdout",
     "output_type": "stream",
     "text": [
      "Saved: C:\\Users\\User\\Documents\\sperm_project\\SMIDS\\Normal_Sperm\\aug_Normal_Sperm (222).bmp\n",
      "Saved: C:\\Users\\User\\Documents\\sperm_project\\SMIDS\\Normal_Sperm\\aug_Normal_Sperm (223).bmp\n",
      "Saved: C:\\Users\\User\\Documents\\sperm_project\\SMIDS\\Normal_Sperm\\aug_Normal_Sperm (224).bmp\n",
      "Saved: C:\\Users\\User\\Documents\\sperm_project\\SMIDS\\Normal_Sperm\\aug_Normal_Sperm (225).bmp\n"
     ]
    },
    {
     "name": "stderr",
     "output_type": "stream",
     "text": [
      "Augmenting Normal_Sperm:  16%|█▋        | 166/1021 [00:03<00:17, 48.31it/s]"
     ]
    },
    {
     "name": "stdout",
     "output_type": "stream",
     "text": [
      "Saved: C:\\Users\\User\\Documents\\sperm_project\\SMIDS\\Normal_Sperm\\aug_Normal_Sperm (226).bmp\n",
      "Saved: C:\\Users\\User\\Documents\\sperm_project\\SMIDS\\Normal_Sperm\\aug_Normal_Sperm (227).bmp\n",
      "Saved: C:\\Users\\User\\Documents\\sperm_project\\SMIDS\\Normal_Sperm\\aug_Normal_Sperm (228).bmp\n",
      "Saved: C:\\Users\\User\\Documents\\sperm_project\\SMIDS\\Normal_Sperm\\aug_Normal_Sperm (229).bmp\n",
      "Saved: C:\\Users\\User\\Documents\\sperm_project\\SMIDS\\Normal_Sperm\\aug_Normal_Sperm (23).bmp\n",
      "Saved: C:\\Users\\User\\Documents\\sperm_project\\SMIDS\\Normal_Sperm\\aug_Normal_Sperm (230).bmp\n"
     ]
    },
    {
     "name": "stderr",
     "output_type": "stream",
     "text": [
      "Augmenting Normal_Sperm:  17%|█▋        | 172/1021 [00:03<00:17, 49.77it/s]"
     ]
    },
    {
     "name": "stdout",
     "output_type": "stream",
     "text": [
      "Saved: C:\\Users\\User\\Documents\\sperm_project\\SMIDS\\Normal_Sperm\\aug_Normal_Sperm (231).bmp\n",
      "Saved: C:\\Users\\User\\Documents\\sperm_project\\SMIDS\\Normal_Sperm\\aug_Normal_Sperm (232).bmp\n",
      "Saved: C:\\Users\\User\\Documents\\sperm_project\\SMIDS\\Normal_Sperm\\aug_Normal_Sperm (233).bmp\n",
      "Saved: C:\\Users\\User\\Documents\\sperm_project\\SMIDS\\Normal_Sperm\\aug_Normal_Sperm (234).bmp\n",
      "Saved: C:\\Users\\User\\Documents\\sperm_project\\SMIDS\\Normal_Sperm\\aug_Normal_Sperm (235).bmp\n"
     ]
    },
    {
     "name": "stderr",
     "output_type": "stream",
     "text": [
      "Augmenting Normal_Sperm:  17%|█▋        | 177/1021 [00:03<00:17, 49.52it/s]"
     ]
    },
    {
     "name": "stdout",
     "output_type": "stream",
     "text": [
      "Saved: C:\\Users\\User\\Documents\\sperm_project\\SMIDS\\Normal_Sperm\\aug_Normal_Sperm (236).bmp\n",
      "Saved: C:\\Users\\User\\Documents\\sperm_project\\SMIDS\\Normal_Sperm\\aug_Normal_Sperm (237).bmp\n",
      "Saved: C:\\Users\\User\\Documents\\sperm_project\\SMIDS\\Normal_Sperm\\aug_Normal_Sperm (238).bmp\n",
      "Saved: C:\\Users\\User\\Documents\\sperm_project\\SMIDS\\Normal_Sperm\\aug_Normal_Sperm (239).bmp\n",
      "Saved: C:\\Users\\User\\Documents\\sperm_project\\SMIDS\\Normal_Sperm\\aug_Normal_Sperm (24).bmp\n",
      "Saved: C:\\Users\\User\\Documents\\sperm_project\\SMIDS\\Normal_Sperm\\aug_Normal_Sperm (240).bmp\n"
     ]
    },
    {
     "name": "stderr",
     "output_type": "stream",
     "text": [
      "Augmenting Normal_Sperm:  18%|█▊        | 182/1021 [00:03<00:17, 47.57it/s]"
     ]
    },
    {
     "name": "stdout",
     "output_type": "stream",
     "text": [
      "Saved: C:\\Users\\User\\Documents\\sperm_project\\SMIDS\\Normal_Sperm\\aug_Normal_Sperm (241).bmp\n",
      "Saved: C:\\Users\\User\\Documents\\sperm_project\\SMIDS\\Normal_Sperm\\aug_Normal_Sperm (242).bmp\n",
      "Saved: C:\\Users\\User\\Documents\\sperm_project\\SMIDS\\Normal_Sperm\\aug_Normal_Sperm (243).bmp\n",
      "Saved: C:\\Users\\User\\Documents\\sperm_project\\SMIDS\\Normal_Sperm\\aug_Normal_Sperm (244).bmp\n",
      "Saved: C:\\Users\\User\\Documents\\sperm_project\\SMIDS\\Normal_Sperm\\aug_Normal_Sperm (245).bmp\n"
     ]
    },
    {
     "name": "stderr",
     "output_type": "stream",
     "text": [
      "Augmenting Normal_Sperm:  18%|█▊        | 188/1021 [00:03<00:17, 48.91it/s]"
     ]
    },
    {
     "name": "stdout",
     "output_type": "stream",
     "text": [
      "Saved: C:\\Users\\User\\Documents\\sperm_project\\SMIDS\\Normal_Sperm\\aug_Normal_Sperm (246).bmp\n",
      "Saved: C:\\Users\\User\\Documents\\sperm_project\\SMIDS\\Normal_Sperm\\aug_Normal_Sperm (247).bmp\n",
      "Saved: C:\\Users\\User\\Documents\\sperm_project\\SMIDS\\Normal_Sperm\\aug_Normal_Sperm (248).bmp\n",
      "Saved: C:\\Users\\User\\Documents\\sperm_project\\SMIDS\\Normal_Sperm\\aug_Normal_Sperm (249).bmp\n",
      "Saved: C:\\Users\\User\\Documents\\sperm_project\\SMIDS\\Normal_Sperm\\aug_Normal_Sperm (25).bmp\n",
      "Saved: C:\\Users\\User\\Documents\\sperm_project\\SMIDS\\Normal_Sperm\\aug_Normal_Sperm (250).bmp\n"
     ]
    },
    {
     "name": "stderr",
     "output_type": "stream",
     "text": [
      "Augmenting Normal_Sperm:  19%|█▉        | 194/1021 [00:04<00:16, 50.30it/s]"
     ]
    },
    {
     "name": "stdout",
     "output_type": "stream",
     "text": [
      "Saved: C:\\Users\\User\\Documents\\sperm_project\\SMIDS\\Normal_Sperm\\aug_Normal_Sperm (251).bmp\n",
      "Saved: C:\\Users\\User\\Documents\\sperm_project\\SMIDS\\Normal_Sperm\\aug_Normal_Sperm (252).bmp\n",
      "Saved: C:\\Users\\User\\Documents\\sperm_project\\SMIDS\\Normal_Sperm\\aug_Normal_Sperm (253).bmp\n",
      "Saved: C:\\Users\\User\\Documents\\sperm_project\\SMIDS\\Normal_Sperm\\aug_Normal_Sperm (254).bmp\n",
      "Saved: C:\\Users\\User\\Documents\\sperm_project\\SMIDS\\Normal_Sperm\\aug_Normal_Sperm (255).bmp\n"
     ]
    },
    {
     "name": "stderr",
     "output_type": "stream",
     "text": [
      "Augmenting Normal_Sperm:  20%|█▉        | 200/1021 [00:04<00:16, 50.70it/s]"
     ]
    },
    {
     "name": "stdout",
     "output_type": "stream",
     "text": [
      "Saved: C:\\Users\\User\\Documents\\sperm_project\\SMIDS\\Normal_Sperm\\aug_Normal_Sperm (256).bmp\n",
      "Saved: C:\\Users\\User\\Documents\\sperm_project\\SMIDS\\Normal_Sperm\\aug_Normal_Sperm (257).bmp\n",
      "Saved: C:\\Users\\User\\Documents\\sperm_project\\SMIDS\\Normal_Sperm\\aug_Normal_Sperm (258).bmp\n",
      "Saved: C:\\Users\\User\\Documents\\sperm_project\\SMIDS\\Normal_Sperm\\aug_Normal_Sperm (259).bmp\n",
      "Saved: C:\\Users\\User\\Documents\\sperm_project\\SMIDS\\Normal_Sperm\\aug_Normal_Sperm (26).bmp\n",
      "Saved: C:\\Users\\User\\Documents\\sperm_project\\SMIDS\\Normal_Sperm\\aug_Normal_Sperm (260).bmp\n"
     ]
    },
    {
     "name": "stderr",
     "output_type": "stream",
     "text": [
      "Augmenting Normal_Sperm:  20%|██        | 206/1021 [00:04<00:16, 50.89it/s]"
     ]
    },
    {
     "name": "stdout",
     "output_type": "stream",
     "text": [
      "Saved: C:\\Users\\User\\Documents\\sperm_project\\SMIDS\\Normal_Sperm\\aug_Normal_Sperm (261).bmp\n",
      "Saved: C:\\Users\\User\\Documents\\sperm_project\\SMIDS\\Normal_Sperm\\aug_Normal_Sperm (262).bmp\n",
      "Saved: C:\\Users\\User\\Documents\\sperm_project\\SMIDS\\Normal_Sperm\\aug_Normal_Sperm (263).bmp\n",
      "Saved: C:\\Users\\User\\Documents\\sperm_project\\SMIDS\\Normal_Sperm\\aug_Normal_Sperm (264).bmp\n"
     ]
    },
    {
     "name": "stderr",
     "output_type": "stream",
     "text": [
      "Augmenting Normal_Sperm:  21%|██        | 212/1021 [00:04<00:15, 50.99it/s]"
     ]
    },
    {
     "name": "stdout",
     "output_type": "stream",
     "text": [
      "Saved: C:\\Users\\User\\Documents\\sperm_project\\SMIDS\\Normal_Sperm\\aug_Normal_Sperm (265).bmp\n",
      "Saved: C:\\Users\\User\\Documents\\sperm_project\\SMIDS\\Normal_Sperm\\aug_Normal_Sperm (266).bmp\n",
      "Saved: C:\\Users\\User\\Documents\\sperm_project\\SMIDS\\Normal_Sperm\\aug_Normal_Sperm (267).bmp\n",
      "Saved: C:\\Users\\User\\Documents\\sperm_project\\SMIDS\\Normal_Sperm\\aug_Normal_Sperm (268).bmp\n",
      "Saved: C:\\Users\\User\\Documents\\sperm_project\\SMIDS\\Normal_Sperm\\aug_Normal_Sperm (269).bmp\n",
      "Saved: C:\\Users\\User\\Documents\\sperm_project\\SMIDS\\Normal_Sperm\\aug_Normal_Sperm (27).bmp\n",
      "Saved: C:\\Users\\User\\Documents\\sperm_project\\SMIDS\\Normal_Sperm\\aug_Normal_Sperm (270).bmp\n",
      "Saved: C:\\Users\\User\\Documents\\sperm_project\\SMIDS\\Normal_Sperm\\aug_Normal_Sperm (271).bmp\n",
      "Saved: C:\\Users\\User\\Documents\\sperm_project\\SMIDS\\Normal_Sperm\\aug_Normal_Sperm (272).bmp\n"
     ]
    },
    {
     "name": "stderr",
     "output_type": "stream",
     "text": [
      "Augmenting Normal_Sperm:  21%|██▏       | 218/1021 [00:04<00:16, 49.22it/s]"
     ]
    },
    {
     "name": "stdout",
     "output_type": "stream",
     "text": [
      "Saved: C:\\Users\\User\\Documents\\sperm_project\\SMIDS\\Normal_Sperm\\aug_Normal_Sperm (273).bmp\n",
      "Saved: C:\\Users\\User\\Documents\\sperm_project\\SMIDS\\Normal_Sperm\\aug_Normal_Sperm (274).bmp\n",
      "Saved: C:\\Users\\User\\Documents\\sperm_project\\SMIDS\\Normal_Sperm\\aug_Normal_Sperm (275).bmp\n",
      "Saved: C:\\Users\\User\\Documents\\sperm_project\\SMIDS\\Normal_Sperm\\aug_Normal_Sperm (276).bmp\n",
      "Saved: C:\\Users\\User\\Documents\\sperm_project\\SMIDS\\Normal_Sperm\\aug_Normal_Sperm (277).bmp\n",
      "Saved: C:\\Users\\User\\Documents\\sperm_project\\SMIDS\\Normal_Sperm\\aug_Normal_Sperm (278).bmp\n",
      "Saved: C:\\Users\\User\\Documents\\sperm_project\\SMIDS\\Normal_Sperm\\aug_Normal_Sperm (279).bmp\n",
      "Saved: C:\\Users\\User\\Documents\\sperm_project\\SMIDS\\Normal_Sperm\\aug_Normal_Sperm (28).bmp\n",
      "Saved: C:\\Users\\User\\Documents\\sperm_project\\SMIDS\\Normal_Sperm\\aug_Normal_Sperm (280).bmp\n"
     ]
    },
    {
     "name": "stderr",
     "output_type": "stream",
     "text": [
      "Augmenting Normal_Sperm:  22%|██▏       | 224/1021 [00:04<00:16, 49.62it/s]"
     ]
    },
    {
     "name": "stdout",
     "output_type": "stream",
     "text": [
      "Saved: C:\\Users\\User\\Documents\\sperm_project\\SMIDS\\Normal_Sperm\\aug_Normal_Sperm (281).bmp"
     ]
    },
    {
     "name": "stderr",
     "output_type": "stream",
     "text": [
      "Augmenting Normal_Sperm:  23%|██▎       | 234/1021 [00:04<00:16, 48.87it/s]"
     ]
    },
    {
     "name": "stdout",
     "output_type": "stream",
     "text": [
      "\n",
      "Saved: C:\\Users\\User\\Documents\\sperm_project\\SMIDS\\Normal_Sperm\\aug_Normal_Sperm (282).bmp\n",
      "Saved: C:\\Users\\User\\Documents\\sperm_project\\SMIDS\\Normal_Sperm\\aug_Normal_Sperm (283).bmp\n",
      "Saved: C:\\Users\\User\\Documents\\sperm_project\\SMIDS\\Normal_Sperm\\aug_Normal_Sperm (284).bmp\n",
      "Saved: C:\\Users\\User\\Documents\\sperm_project\\SMIDS\\Normal_Sperm\\aug_Normal_Sperm (285).bmp\n",
      "Saved: C:\\Users\\User\\Documents\\sperm_project\\SMIDS\\Normal_Sperm\\aug_Normal_Sperm (286).bmp\n",
      "Saved: C:\\Users\\User\\Documents\\sperm_project\\SMIDS\\Normal_Sperm\\aug_Normal_Sperm (287).bmp\n",
      "Saved: C:\\Users\\User\\Documents\\sperm_project\\SMIDS\\Normal_Sperm\\aug_Normal_Sperm (288).bmp\n",
      "Saved: C:\\Users\\User\\Documents\\sperm_project\\SMIDS\\Normal_Sperm\\aug_Normal_Sperm (289).bmp\n",
      "Saved: C:\\Users\\User\\Documents\\sperm_project\\SMIDS\\Normal_Sperm\\aug_Normal_Sperm (29).bmp\n",
      "Saved: C:\\Users\\User\\Documents\\sperm_project\\SMIDS\\Normal_Sperm\\aug_Normal_Sperm (290).bmp\n"
     ]
    },
    {
     "name": "stderr",
     "output_type": "stream",
     "text": [
      "Augmenting Normal_Sperm:  24%|██▎       | 240/1021 [00:04<00:15, 49.45it/s]"
     ]
    },
    {
     "name": "stdout",
     "output_type": "stream",
     "text": [
      "Saved: C:\\Users\\User\\Documents\\sperm_project\\SMIDS\\Normal_Sperm\\aug_Normal_Sperm (291).bmp\n",
      "Saved: C:\\Users\\User\\Documents\\sperm_project\\SMIDS\\Normal_Sperm\\aug_Normal_Sperm (292).bmp\n",
      "Saved: C:\\Users\\User\\Documents\\sperm_project\\SMIDS\\Normal_Sperm\\aug_Normal_Sperm (293).bmp\n",
      "Saved: C:\\Users\\User\\Documents\\sperm_project\\SMIDS\\Normal_Sperm\\aug_Normal_Sperm (294).bmp\n",
      "Saved: C:\\Users\\User\\Documents\\sperm_project\\SMIDS\\Normal_Sperm\\aug_Normal_Sperm (295).bmp\n",
      "Saved: C:\\Users\\User\\Documents\\sperm_project\\SMIDS\\Normal_Sperm\\aug_Normal_Sperm (296).bmp\n",
      "Saved: C:\\Users\\User\\Documents\\sperm_project\\SMIDS\\Normal_Sperm\\aug_Normal_Sperm (297).bmp\n",
      "Saved: C:\\Users\\User\\Documents\\sperm_project\\SMIDS\\Normal_Sperm\\aug_Normal_Sperm (298).bmp\n",
      "Saved: C:\\Users\\User\\Documents\\sperm_project\\SMIDS\\Normal_Sperm\\aug_Normal_Sperm (299).bmp\n",
      "Saved: C:\\Users\\User\\Documents\\sperm_project\\SMIDS\\Normal_Sperm\\aug_Normal_Sperm (3).bmp\n"
     ]
    },
    {
     "name": "stderr",
     "output_type": "stream",
     "text": [
      "Augmenting Normal_Sperm:  24%|██▍       | 250/1021 [00:05<00:15, 48.37it/s]"
     ]
    },
    {
     "name": "stdout",
     "output_type": "stream",
     "text": [
      "Saved: C:\\Users\\User\\Documents\\sperm_project\\SMIDS\\Normal_Sperm\\aug_Normal_Sperm (30).bmp\n",
      "Saved: C:\\Users\\User\\Documents\\sperm_project\\SMIDS\\Normal_Sperm\\aug_Normal_Sperm (300).bmp\n",
      "Saved: C:\\Users\\User\\Documents\\sperm_project\\SMIDS\\Normal_Sperm\\aug_Normal_Sperm (301).bmp\n",
      "Saved: C:\\Users\\User\\Documents\\sperm_project\\SMIDS\\Normal_Sperm\\aug_Normal_Sperm (302).bmp\n",
      "Saved: C:\\Users\\User\\Documents\\sperm_project\\SMIDS\\Normal_Sperm\\aug_Normal_Sperm (303).bmp\n",
      "Saved: C:\\Users\\User\\Documents\\sperm_project\\SMIDS\\Normal_Sperm\\aug_Normal_Sperm (304).bmp\n",
      "Saved: C:\\Users\\User\\Documents\\sperm_project\\SMIDS\\Normal_Sperm\\aug_Normal_Sperm (305).bmp\n",
      "Saved: C:\\Users\\User\\Documents\\sperm_project\\SMIDS\\Normal_Sperm\\aug_Normal_Sperm (306).bmp\n",
      "Saved: C:\\Users\\User\\Documents\\sperm_project\\SMIDS\\Normal_Sperm\\aug_Normal_Sperm (307).bmp\n"
     ]
    },
    {
     "name": "stderr",
     "output_type": "stream",
     "text": [
      "Augmenting Normal_Sperm:  26%|██▌       | 261/1021 [00:05<00:15, 48.01it/s]"
     ]
    },
    {
     "name": "stdout",
     "output_type": "stream",
     "text": [
      "Saved: C:\\Users\\User\\Documents\\sperm_project\\SMIDS\\Normal_Sperm\\aug_Normal_Sperm (308).bmp\n",
      "Saved: C:\\Users\\User\\Documents\\sperm_project\\SMIDS\\Normal_Sperm\\aug_Normal_Sperm (309).bmp\n",
      "Saved: C:\\Users\\User\\Documents\\sperm_project\\SMIDS\\Normal_Sperm\\aug_Normal_Sperm (31).bmp\n",
      "Saved: C:\\Users\\User\\Documents\\sperm_project\\SMIDS\\Normal_Sperm\\aug_Normal_Sperm (310).bmp\n",
      "Saved: C:\\Users\\User\\Documents\\sperm_project\\SMIDS\\Normal_Sperm\\aug_Normal_Sperm (311).bmp\n",
      "Saved: C:\\Users\\User\\Documents\\sperm_project\\SMIDS\\Normal_Sperm\\aug_Normal_Sperm (312).bmp\n",
      "Saved: C:\\Users\\User\\Documents\\sperm_project\\SMIDS\\Normal_Sperm\\aug_Normal_Sperm (313).bmp\n",
      "Saved: C:\\Users\\User\\Documents\\sperm_project\\SMIDS\\Normal_Sperm\\aug_Normal_Sperm (314).bmp\n",
      "Saved: C:\\Users\\User\\Documents\\sperm_project\\SMIDS\\Normal_Sperm\\aug_Normal_Sperm (315).bmp\n",
      "Saved: C:\\Users\\User\\Documents\\sperm_project\\SMIDS\\Normal_Sperm\\aug_Normal_Sperm (316).bmp\n",
      "Saved: C:\\Users\\User\\Documents\\sperm_project\\SMIDS\\Normal_Sperm\\aug_Normal_Sperm (317).bmp\n"
     ]
    },
    {
     "name": "stderr",
     "output_type": "stream",
     "text": [
      "Augmenting Normal_Sperm:  27%|██▋       | 272/1021 [00:05<00:15, 49.46it/s]"
     ]
    },
    {
     "name": "stdout",
     "output_type": "stream",
     "text": [
      "Saved: C:\\Users\\User\\Documents\\sperm_project\\SMIDS\\Normal_Sperm\\aug_Normal_Sperm (318).bmp\n",
      "Saved: C:\\Users\\User\\Documents\\sperm_project\\SMIDS\\Normal_Sperm\\aug_Normal_Sperm (319).bmp\n",
      "Saved: C:\\Users\\User\\Documents\\sperm_project\\SMIDS\\Normal_Sperm\\aug_Normal_Sperm (32).bmp\n",
      "Saved: C:\\Users\\User\\Documents\\sperm_project\\SMIDS\\Normal_Sperm\\aug_Normal_Sperm (320).bmp\n",
      "Saved: C:\\Users\\User\\Documents\\sperm_project\\SMIDS\\Normal_Sperm\\aug_Normal_Sperm (321).bmp\n",
      "Saved: C:\\Users\\User\\Documents\\sperm_project\\SMIDS\\Normal_Sperm\\aug_Normal_Sperm (322).bmp\n",
      "Saved: C:\\Users\\User\\Documents\\sperm_project\\SMIDS\\Normal_Sperm\\aug_Normal_Sperm (323).bmp\n",
      "Saved: C:\\Users\\User\\Documents\\sperm_project\\SMIDS\\Normal_Sperm\\aug_Normal_Sperm (324).bmp\n",
      "Saved: C:\\Users\\User\\Documents\\sperm_project\\SMIDS\\Normal_Sperm\\aug_Normal_Sperm (325).bmp\n",
      "Saved: C:\\Users\\User\\Documents\\sperm_project\\SMIDS\\Normal_Sperm\\aug_Normal_Sperm (326).bmp\n",
      "Saved: C:\\Users\\User\\Documents\\sperm_project\\SMIDS\\Normal_Sperm\\aug_Normal_Sperm (327).bmp\n",
      "Saved: C:\\Users\\User\\Documents\\sperm_project\\SMIDS\\Normal_Sperm\\aug_Normal_Sperm (328).bmp\n"
     ]
    },
    {
     "name": "stderr",
     "output_type": "stream",
     "text": [
      "Augmenting Normal_Sperm:  28%|██▊       | 284/1021 [00:05<00:14, 49.94it/s]"
     ]
    },
    {
     "name": "stdout",
     "output_type": "stream",
     "text": [
      "Saved: C:\\Users\\User\\Documents\\sperm_project\\SMIDS\\Normal_Sperm\\aug_Normal_Sperm (329).bmp\n",
      "Saved: C:\\Users\\User\\Documents\\sperm_project\\SMIDS\\Normal_Sperm\\aug_Normal_Sperm (33).bmp\n",
      "Saved: C:\\Users\\User\\Documents\\sperm_project\\SMIDS\\Normal_Sperm\\aug_Normal_Sperm (330).bmp\n",
      "Saved: C:\\Users\\User\\Documents\\sperm_project\\SMIDS\\Normal_Sperm\\aug_Normal_Sperm (331).bmp\n",
      "Saved: C:\\Users\\User\\Documents\\sperm_project\\SMIDS\\Normal_Sperm\\aug_Normal_Sperm (332).bmp\n",
      "Saved: C:\\Users\\User\\Documents\\sperm_project\\SMIDS\\Normal_Sperm\\aug_Normal_Sperm (333).bmp\n",
      "Saved: C:\\Users\\User\\Documents\\sperm_project\\SMIDS\\Normal_Sperm\\aug_Normal_Sperm (334).bmp\n",
      "Saved: C:\\Users\\User\\Documents\\sperm_project\\SMIDS\\Normal_Sperm\\aug_Normal_Sperm (335).bmp\n",
      "Saved: C:\\Users\\User\\Documents\\sperm_project\\SMIDS\\Normal_Sperm\\aug_Normal_Sperm (336).bmp\n",
      "Saved: C:\\Users\\User\\Documents\\sperm_project\\SMIDS\\Normal_Sperm\\aug_Normal_Sperm (337).bmp\n"
     ]
    },
    {
     "name": "stderr",
     "output_type": "stream",
     "text": [
      "Augmenting Normal_Sperm:  29%|██▉       | 296/1021 [00:06<00:14, 50.54it/s]"
     ]
    },
    {
     "name": "stdout",
     "output_type": "stream",
     "text": [
      "Saved: C:\\Users\\User\\Documents\\sperm_project\\SMIDS\\Normal_Sperm\\aug_Normal_Sperm (338).bmp\n",
      "Saved: C:\\Users\\User\\Documents\\sperm_project\\SMIDS\\Normal_Sperm\\aug_Normal_Sperm (339).bmp\n",
      "Saved: C:\\Users\\User\\Documents\\sperm_project\\SMIDS\\Normal_Sperm\\aug_Normal_Sperm (34).bmp\n",
      "Saved: C:\\Users\\User\\Documents\\sperm_project\\SMIDS\\Normal_Sperm\\aug_Normal_Sperm (340).bmp\n",
      "Saved: C:\\Users\\User\\Documents\\sperm_project\\SMIDS\\Normal_Sperm\\aug_Normal_Sperm (341).bmp\n",
      "Saved: C:\\Users\\User\\Documents\\sperm_project\\SMIDS\\Normal_Sperm\\aug_Normal_Sperm (342).bmp\n",
      "Saved: C:\\Users\\User\\Documents\\sperm_project\\SMIDS\\Normal_Sperm\\aug_Normal_Sperm (343).bmp\n",
      "Saved: C:\\Users\\User\\Documents\\sperm_project\\SMIDS\\Normal_Sperm\\aug_Normal_Sperm (344).bmp\n",
      "Saved: C:\\Users\\User\\Documents\\sperm_project\\SMIDS\\Normal_Sperm\\aug_Normal_Sperm (345).bmp\n",
      "Saved: C:\\Users\\User\\Documents\\sperm_project\\SMIDS\\Normal_Sperm\\aug_Normal_Sperm (346).bmp\n",
      "Saved: C:\\Users\\User\\Documents\\sperm_project\\SMIDS\\Normal_Sperm\\aug_Normal_Sperm (347).bmp\n"
     ]
    },
    {
     "name": "stderr",
     "output_type": "stream",
     "text": [
      "Augmenting Normal_Sperm:  30%|███       | 307/1021 [00:06<00:14, 48.91it/s]"
     ]
    },
    {
     "name": "stdout",
     "output_type": "stream",
     "text": [
      "Saved: C:\\Users\\User\\Documents\\sperm_project\\SMIDS\\Normal_Sperm\\aug_Normal_Sperm (348).bmp\n",
      "Saved: C:\\Users\\User\\Documents\\sperm_project\\SMIDS\\Normal_Sperm\\aug_Normal_Sperm (349).bmp\n",
      "Saved: C:\\Users\\User\\Documents\\sperm_project\\SMIDS\\Normal_Sperm\\aug_Normal_Sperm (35).bmp\n",
      "Saved: C:\\Users\\User\\Documents\\sperm_project\\SMIDS\\Normal_Sperm\\aug_Normal_Sperm (350).bmp\n",
      "Saved: C:\\Users\\User\\Documents\\sperm_project\\SMIDS\\Normal_Sperm\\aug_Normal_Sperm (351).bmp\n",
      "Saved: C:\\Users\\User\\Documents\\sperm_project\\SMIDS\\Normal_Sperm\\aug_Normal_Sperm (352).bmp\n",
      "Saved: C:\\Users\\User\\Documents\\sperm_project\\SMIDS\\Normal_Sperm\\aug_Normal_Sperm (353).bmp\n",
      "Saved: C:\\Users\\User\\Documents\\sperm_project\\SMIDS\\Normal_Sperm\\aug_Normal_Sperm (354).bmp\n",
      "Saved: C:\\Users\\User\\Documents\\sperm_project\\SMIDS\\Normal_Sperm\\aug_Normal_Sperm (355).bmp\n",
      "Saved: C:\\Users\\User\\Documents\\sperm_project\\SMIDS\\Normal_Sperm\\aug_Normal_Sperm (356).bmp\n"
     ]
    },
    {
     "name": "stderr",
     "output_type": "stream",
     "text": [
      "Augmenting Normal_Sperm:  31%|███       | 317/1021 [00:06<00:15, 46.49it/s]"
     ]
    },
    {
     "name": "stdout",
     "output_type": "stream",
     "text": [
      "Saved: C:\\Users\\User\\Documents\\sperm_project\\SMIDS\\Normal_Sperm\\aug_Normal_Sperm (357).bmp\n",
      "Saved: C:\\Users\\User\\Documents\\sperm_project\\SMIDS\\Normal_Sperm\\aug_Normal_Sperm (358).bmp\n",
      "Saved: C:\\Users\\User\\Documents\\sperm_project\\SMIDS\\Normal_Sperm\\aug_Normal_Sperm (359).bmp\n",
      "Saved: C:\\Users\\User\\Documents\\sperm_project\\SMIDS\\Normal_Sperm\\aug_Normal_Sperm (36).bmp\n",
      "Saved: C:\\Users\\User\\Documents\\sperm_project\\SMIDS\\Normal_Sperm\\aug_Normal_Sperm (360).bmp\n",
      "Saved: C:\\Users\\User\\Documents\\sperm_project\\SMIDS\\Normal_Sperm\\aug_Normal_Sperm (361).bmp\n",
      "Saved: C:\\Users\\User\\Documents\\sperm_project\\SMIDS\\Normal_Sperm\\aug_Normal_Sperm (362).bmp\n",
      "Saved: C:\\Users\\User\\Documents\\sperm_project\\SMIDS\\Normal_Sperm\\aug_Normal_Sperm (363).bmp\n",
      "Saved: C:\\Users\\User\\Documents\\sperm_project\\SMIDS\\Normal_Sperm\\aug_Normal_Sperm (364).bmp\n"
     ]
    },
    {
     "name": "stderr",
     "output_type": "stream",
     "text": [
      "Augmenting Normal_Sperm:  32%|███▏      | 323/1021 [00:06<00:14, 48.16it/s]"
     ]
    },
    {
     "name": "stdout",
     "output_type": "stream",
     "text": [
      "Saved: C:\\Users\\User\\Documents\\sperm_project\\SMIDS\\Normal_Sperm\\aug_Normal_Sperm (365).bmp\n",
      "Saved: C:\\Users\\User\\Documents\\sperm_project\\SMIDS\\Normal_Sperm\\aug_Normal_Sperm (366).bmp\n",
      "Saved: C:\\Users\\User\\Documents\\sperm_project\\SMIDS\\Normal_Sperm\\aug_Normal_Sperm (367).bmp\n",
      "Saved: C:\\Users\\User\\Documents\\sperm_project\\SMIDS\\Normal_Sperm\\aug_Normal_Sperm (368).bmp\n",
      "Saved: C:\\Users\\User\\Documents\\sperm_project\\SMIDS\\Normal_Sperm\\aug_Normal_Sperm (369).bmp\n",
      "Saved: C:\\Users\\User\\Documents\\sperm_project\\SMIDS\\Normal_Sperm\\aug_Normal_Sperm (37).bmp\n",
      "Saved: C:\\Users\\User\\Documents\\sperm_project\\SMIDS\\Normal_Sperm\\aug_Normal_Sperm (370).bmp\n",
      "Saved: C:\\Users\\User\\Documents\\sperm_project\\SMIDS\\Normal_Sperm\\aug_Normal_Sperm (371).bmp\n",
      "Saved: C:\\Users\\User\\Documents\\sperm_project\\SMIDS\\Normal_Sperm\\aug_Normal_Sperm (372).bmp\n",
      "Saved: C:\\Users\\User\\Documents\\sperm_project\\SMIDS\\Normal_Sperm\\aug_Normal_Sperm (373).bmp\n"
     ]
    },
    {
     "name": "stderr",
     "output_type": "stream",
     "text": [
      "Augmenting Normal_Sperm:  33%|███▎      | 334/1021 [00:06<00:13, 49.94it/s]"
     ]
    },
    {
     "name": "stdout",
     "output_type": "stream",
     "text": [
      "Saved: C:\\Users\\User\\Documents\\sperm_project\\SMIDS\\Normal_Sperm\\aug_Normal_Sperm (374).bmp\n",
      "Saved: C:\\Users\\User\\Documents\\sperm_project\\SMIDS\\Normal_Sperm\\aug_Normal_Sperm (375).bmp\n",
      "Saved: C:\\Users\\User\\Documents\\sperm_project\\SMIDS\\Normal_Sperm\\aug_Normal_Sperm (376).bmp\n",
      "Saved: C:\\Users\\User\\Documents\\sperm_project\\SMIDS\\Normal_Sperm\\aug_Normal_Sperm (377).bmp\n",
      "Saved: C:\\Users\\User\\Documents\\sperm_project\\SMIDS\\Normal_Sperm\\aug_Normal_Sperm (378).bmp\n",
      "Saved: C:\\Users\\User\\Documents\\sperm_project\\SMIDS\\Normal_Sperm\\aug_Normal_Sperm (379).bmp\n",
      "Saved: C:\\Users\\User\\Documents\\sperm_project\\SMIDS\\Normal_Sperm\\aug_Normal_Sperm (38).bmp\n",
      "Saved: C:\\Users\\User\\Documents\\sperm_project\\SMIDS\\Normal_Sperm\\aug_Normal_Sperm (380).bmp\n",
      "Saved: C:\\Users\\User\\Documents\\sperm_project\\SMIDS\\Normal_Sperm\\aug_Normal_Sperm (381).bmp\n",
      "Saved: C:\\Users\\User\\Documents\\sperm_project\\SMIDS\\Normal_Sperm\\aug_Normal_Sperm (382).bmp\n"
     ]
    },
    {
     "name": "stderr",
     "output_type": "stream",
     "text": [
      "Augmenting Normal_Sperm:  34%|███▍      | 345/1021 [00:07<00:14, 45.08it/s]"
     ]
    },
    {
     "name": "stdout",
     "output_type": "stream",
     "text": [
      "Saved: C:\\Users\\User\\Documents\\sperm_project\\SMIDS\\Normal_Sperm\\aug_Normal_Sperm (383).bmp\n",
      "Saved: C:\\Users\\User\\Documents\\sperm_project\\SMIDS\\Normal_Sperm\\aug_Normal_Sperm (384).bmp\n",
      "Saved: C:\\Users\\User\\Documents\\sperm_project\\SMIDS\\Normal_Sperm\\aug_Normal_Sperm (385).bmp\n",
      "Saved: C:\\Users\\User\\Documents\\sperm_project\\SMIDS\\Normal_Sperm\\aug_Normal_Sperm (386).bmp\n",
      "Saved: C:\\Users\\User\\Documents\\sperm_project\\SMIDS\\Normal_Sperm\\aug_Normal_Sperm (387).bmp\n",
      "Saved: C:\\Users\\User\\Documents\\sperm_project\\SMIDS\\Normal_Sperm\\aug_Normal_Sperm (388).bmp\n",
      "Saved: C:\\Users\\User\\Documents\\sperm_project\\SMIDS\\Normal_Sperm\\aug_Normal_Sperm (389).bmp\n",
      "Saved: C:\\Users\\User\\Documents\\sperm_project\\SMIDS\\Normal_Sperm\\aug_Normal_Sperm (39).bmp\n",
      "Saved: C:\\Users\\User\\Documents\\sperm_project\\SMIDS\\Normal_Sperm\\aug_Normal_Sperm (390).bmp\n",
      "Saved: C:\\Users\\User\\Documents\\sperm_project\\SMIDS\\Normal_Sperm\\aug_Normal_Sperm (391).bmp\n"
     ]
    },
    {
     "name": "stderr",
     "output_type": "stream",
     "text": [
      "Augmenting Normal_Sperm:  35%|███▍      | 355/1021 [00:07<00:14, 45.27it/s]"
     ]
    },
    {
     "name": "stdout",
     "output_type": "stream",
     "text": [
      "Saved: C:\\Users\\User\\Documents\\sperm_project\\SMIDS\\Normal_Sperm\\aug_Normal_Sperm (392).bmp\n",
      "Saved: C:\\Users\\User\\Documents\\sperm_project\\SMIDS\\Normal_Sperm\\aug_Normal_Sperm (393).bmp\n",
      "Saved: C:\\Users\\User\\Documents\\sperm_project\\SMIDS\\Normal_Sperm\\aug_Normal_Sperm (394).bmp\n",
      "Saved: C:\\Users\\User\\Documents\\sperm_project\\SMIDS\\Normal_Sperm\\aug_Normal_Sperm (395).bmp\n",
      "Saved: C:\\Users\\User\\Documents\\sperm_project\\SMIDS\\Normal_Sperm\\aug_Normal_Sperm (396).bmp\n",
      "Saved: C:\\Users\\User\\Documents\\sperm_project\\SMIDS\\Normal_Sperm\\aug_Normal_Sperm (397).bmp\n",
      "Saved: C:\\Users\\User\\Documents\\sperm_project\\SMIDS\\Normal_Sperm\\aug_Normal_Sperm (398).bmp\n",
      "Saved: C:\\Users\\User\\Documents\\sperm_project\\SMIDS\\Normal_Sperm\\aug_Normal_Sperm (399).bmp\n",
      "Saved: C:\\Users\\User\\Documents\\sperm_project\\SMIDS\\Normal_Sperm\\aug_Normal_Sperm (4).bmp\n",
      "Saved: C:\\Users\\User\\Documents\\sperm_project\\SMIDS\\Normal_Sperm\\aug_Normal_Sperm (40).bmp\n"
     ]
    },
    {
     "name": "stderr",
     "output_type": "stream",
     "text": [
      "Augmenting Normal_Sperm:  36%|███▌      | 365/1021 [00:07<00:14, 45.79it/s]"
     ]
    },
    {
     "name": "stdout",
     "output_type": "stream",
     "text": [
      "Saved: C:\\Users\\User\\Documents\\sperm_project\\SMIDS\\Normal_Sperm\\aug_Normal_Sperm (400).bmp\n",
      "Saved: C:\\Users\\User\\Documents\\sperm_project\\SMIDS\\Normal_Sperm\\aug_Normal_Sperm (401).bmp\n",
      "Saved: C:\\Users\\User\\Documents\\sperm_project\\SMIDS\\Normal_Sperm\\aug_Normal_Sperm (402).bmp\n",
      "Saved: C:\\Users\\User\\Documents\\sperm_project\\SMIDS\\Normal_Sperm\\aug_Normal_Sperm (403).bmp\n",
      "Saved: C:\\Users\\User\\Documents\\sperm_project\\SMIDS\\Normal_Sperm\\aug_Normal_Sperm (404).bmp\n",
      "Saved: C:\\Users\\User\\Documents\\sperm_project\\SMIDS\\Normal_Sperm\\aug_Normal_Sperm (405).bmp\n",
      "Saved: C:\\Users\\User\\Documents\\sperm_project\\SMIDS\\Normal_Sperm\\aug_Normal_Sperm (406).bmp\n",
      "Saved: C:\\Users\\User\\Documents\\sperm_project\\SMIDS\\Normal_Sperm\\aug_Normal_Sperm (407).bmp\n",
      "Saved: C:\\Users\\User\\Documents\\sperm_project\\SMIDS\\Normal_Sperm\\aug_Normal_Sperm (408).bmp\n",
      "Saved: C:\\Users\\User\\Documents\\sperm_project\\SMIDS\\Normal_Sperm\\aug_Normal_Sperm (409).bmp\n"
     ]
    },
    {
     "name": "stderr",
     "output_type": "stream",
     "text": [
      "Augmenting Normal_Sperm:  37%|███▋      | 376/1021 [00:07<00:13, 48.88it/s]"
     ]
    },
    {
     "name": "stdout",
     "output_type": "stream",
     "text": [
      "Saved: C:\\Users\\User\\Documents\\sperm_project\\SMIDS\\Normal_Sperm\\aug_Normal_Sperm (41).bmp\n",
      "Saved: C:\\Users\\User\\Documents\\sperm_project\\SMIDS\\Normal_Sperm\\aug_Normal_Sperm (410).bmp\n",
      "Saved: C:\\Users\\User\\Documents\\sperm_project\\SMIDS\\Normal_Sperm\\aug_Normal_Sperm (411).bmp\n",
      "Saved: C:\\Users\\User\\Documents\\sperm_project\\SMIDS\\Normal_Sperm\\aug_Normal_Sperm (412).bmp\n",
      "Saved: C:\\Users\\User\\Documents\\sperm_project\\SMIDS\\Normal_Sperm\\aug_Normal_Sperm (413).bmp\n",
      "Saved: C:\\Users\\User\\Documents\\sperm_project\\SMIDS\\Normal_Sperm\\aug_Normal_Sperm (414).bmp\n",
      "Saved: C:\\Users\\User\\Documents\\sperm_project\\SMIDS\\Normal_Sperm\\aug_Normal_Sperm (415).bmp\n",
      "Saved: C:\\Users\\User\\Documents\\sperm_project\\SMIDS\\Normal_Sperm\\aug_Normal_Sperm (416).bmp\n",
      "Saved: C:\\Users\\User\\Documents\\sperm_project\\SMIDS\\Normal_Sperm\\aug_Normal_Sperm (417).bmp\n",
      "Saved: C:\\Users\\User\\Documents\\sperm_project\\SMIDS\\Normal_Sperm\\aug_Normal_Sperm (418).bmp\n",
      "Saved: C:\\Users\\User\\Documents\\sperm_project\\SMIDS\\Normal_Sperm\\aug_Normal_Sperm (419).bmp\n"
     ]
    },
    {
     "name": "stderr",
     "output_type": "stream",
     "text": [
      "Augmenting Normal_Sperm:  38%|███▊      | 387/1021 [00:08<00:12, 49.43it/s]"
     ]
    },
    {
     "name": "stdout",
     "output_type": "stream",
     "text": [
      "Saved: C:\\Users\\User\\Documents\\sperm_project\\SMIDS\\Normal_Sperm\\aug_Normal_Sperm (42).bmp\n",
      "Saved: C:\\Users\\User\\Documents\\sperm_project\\SMIDS\\Normal_Sperm\\aug_Normal_Sperm (420).bmp\n",
      "Saved: C:\\Users\\User\\Documents\\sperm_project\\SMIDS\\Normal_Sperm\\aug_Normal_Sperm (421).bmp\n",
      "Saved: C:\\Users\\User\\Documents\\sperm_project\\SMIDS\\Normal_Sperm\\aug_Normal_Sperm (422).bmp\n",
      "Saved: C:\\Users\\User\\Documents\\sperm_project\\SMIDS\\Normal_Sperm\\aug_Normal_Sperm (423).bmp\n",
      "Saved: C:\\Users\\User\\Documents\\sperm_project\\SMIDS\\Normal_Sperm\\aug_Normal_Sperm (424).bmp\n",
      "Saved: C:\\Users\\User\\Documents\\sperm_project\\SMIDS\\Normal_Sperm\\aug_Normal_Sperm (425).bmp\n",
      "Saved: C:\\Users\\User\\Documents\\sperm_project\\SMIDS\\Normal_Sperm\\aug_Normal_Sperm (426).bmp\n",
      "Saved: C:\\Users\\User\\Documents\\sperm_project\\SMIDS\\Normal_Sperm\\aug_Normal_Sperm (427).bmp\n",
      "Saved: C:\\Users\\User\\Documents\\sperm_project\\SMIDS\\Normal_Sperm\\aug_Normal_Sperm (428).bmp\n"
     ]
    },
    {
     "name": "stderr",
     "output_type": "stream",
     "text": [
      "Augmenting Normal_Sperm:  39%|███▉      | 398/1021 [00:08<00:12, 50.03it/s]"
     ]
    },
    {
     "name": "stdout",
     "output_type": "stream",
     "text": [
      "Saved: C:\\Users\\User\\Documents\\sperm_project\\SMIDS\\Normal_Sperm\\aug_Normal_Sperm (429).bmp\n",
      "Saved: C:\\Users\\User\\Documents\\sperm_project\\SMIDS\\Normal_Sperm\\aug_Normal_Sperm (43).bmp\n",
      "Saved: C:\\Users\\User\\Documents\\sperm_project\\SMIDS\\Normal_Sperm\\aug_Normal_Sperm (430).bmp\n",
      "Saved: C:\\Users\\User\\Documents\\sperm_project\\SMIDS\\Normal_Sperm\\aug_Normal_Sperm (431).bmp\n",
      "Saved: C:\\Users\\User\\Documents\\sperm_project\\SMIDS\\Normal_Sperm\\aug_Normal_Sperm (432).bmp\n",
      "Saved: C:\\Users\\User\\Documents\\sperm_project\\SMIDS\\Normal_Sperm\\aug_Normal_Sperm (433).bmp\n",
      "Saved: C:\\Users\\User\\Documents\\sperm_project\\SMIDS\\Normal_Sperm\\aug_Normal_Sperm (434).bmp\n",
      "Saved: C:\\Users\\User\\Documents\\sperm_project\\SMIDS\\Normal_Sperm\\aug_Normal_Sperm (435).bmp\n",
      "Saved: C:\\Users\\User\\Documents\\sperm_project\\SMIDS\\Normal_Sperm\\aug_Normal_Sperm (436).bmp\n",
      "Saved: C:\\Users\\User\\Documents\\sperm_project\\SMIDS\\Normal_Sperm\\aug_Normal_Sperm (437).bmp\n",
      "Saved: C:\\Users\\User\\Documents\\sperm_project\\SMIDS\\Normal_Sperm\\aug_Normal_Sperm (438).bmp\n",
      "Saved: C:\\Users\\User\\Documents\\sperm_project\\SMIDS\\Normal_Sperm\\aug_Normal_Sperm (439).bmp\n"
     ]
    },
    {
     "name": "stderr",
     "output_type": "stream",
     "text": [
      "Augmenting Normal_Sperm:  40%|███▉      | 405/1021 [00:08<00:11, 54.08it/s]"
     ]
    },
    {
     "name": "stdout",
     "output_type": "stream",
     "text": [
      "Saved: C:\\Users\\User\\Documents\\sperm_project\\SMIDS\\Normal_Sperm\\aug_Normal_Sperm (44).bmp\n",
      "Saved: C:\\Users\\User\\Documents\\sperm_project\\SMIDS\\Normal_Sperm\\aug_Normal_Sperm (440).bmp\n",
      "Saved: C:\\Users\\User\\Documents\\sperm_project\\SMIDS\\Normal_Sperm\\aug_Normal_Sperm (441).bmp\n",
      "Saved: C:\\Users\\User\\Documents\\sperm_project\\SMIDS\\Normal_Sperm\\aug_Normal_Sperm (442).bmp\n",
      "Saved: C:\\Users\\User\\Documents\\sperm_project\\SMIDS\\Normal_Sperm\\aug_Normal_Sperm (443).bmp\n",
      "Saved: C:\\Users\\User\\Documents\\sperm_project\\SMIDS\\Normal_Sperm\\aug_Normal_Sperm (444).bmp\n",
      "Saved: C:\\Users\\User\\Documents\\sperm_project\\SMIDS\\Normal_Sperm\\aug_Normal_Sperm (445).bmp\n",
      "Saved: C:\\Users\\User\\Documents\\sperm_project\\SMIDS\\Normal_Sperm\\aug_Normal_Sperm (446).bmp\n",
      "Saved: C:\\Users\\User\\Documents\\sperm_project\\SMIDS\\Normal_Sperm\\aug_Normal_Sperm (447).bmp\n",
      "Saved: C:\\Users\\User\\Documents\\sperm_project\\SMIDS\\Normal_Sperm\\aug_Normal_Sperm (448).bmp\n",
      "Saved: C:\\Users\\User\\Documents\\sperm_project\\SMIDS\\Normal_Sperm\\aug_Normal_Sperm (449).bmp\n",
      "Saved: C:\\Users\\User\\Documents\\sperm_project\\SMIDS\\Normal_Sperm\\aug_Normal_Sperm (45).bmp\n"
     ]
    },
    {
     "name": "stderr",
     "output_type": "stream",
     "text": [
      "Augmenting Normal_Sperm:  41%|████      | 418/1021 [00:08<00:11, 53.31it/s]"
     ]
    },
    {
     "name": "stdout",
     "output_type": "stream",
     "text": [
      "Saved: C:\\Users\\User\\Documents\\sperm_project\\SMIDS\\Normal_Sperm\\aug_Normal_Sperm (450).bmp\n",
      "Saved: C:\\Users\\User\\Documents\\sperm_project\\SMIDS\\Normal_Sperm\\aug_Normal_Sperm (451).bmp\n",
      "Saved: C:\\Users\\User\\Documents\\sperm_project\\SMIDS\\Normal_Sperm\\aug_Normal_Sperm (452).bmp\n",
      "Saved: C:\\Users\\User\\Documents\\sperm_project\\SMIDS\\Normal_Sperm\\aug_Normal_Sperm (453).bmp\n",
      "Saved: C:\\Users\\User\\Documents\\sperm_project\\SMIDS\\Normal_Sperm\\aug_Normal_Sperm (454).bmp\n",
      "Saved: C:\\Users\\User\\Documents\\sperm_project\\SMIDS\\Normal_Sperm\\aug_Normal_Sperm (455).bmp\n",
      "Saved: C:\\Users\\User\\Documents\\sperm_project\\SMIDS\\Normal_Sperm\\aug_Normal_Sperm (456).bmp\n",
      "Saved: C:\\Users\\User\\Documents\\sperm_project\\SMIDS\\Normal_Sperm\\aug_Normal_Sperm (457).bmp\n",
      "Saved: C:\\Users\\User\\Documents\\sperm_project\\SMIDS\\Normal_Sperm\\aug_Normal_Sperm (458).bmp\n",
      "Saved: C:\\Users\\User\\Documents\\sperm_project\\SMIDS\\Normal_Sperm\\aug_Normal_Sperm (459).bmp\n"
     ]
    },
    {
     "name": "stderr",
     "output_type": "stream",
     "text": [
      "Augmenting Normal_Sperm:  42%|████▏     | 430/1021 [00:08<00:11, 52.97it/s]"
     ]
    },
    {
     "name": "stdout",
     "output_type": "stream",
     "text": [
      "Saved: C:\\Users\\User\\Documents\\sperm_project\\SMIDS\\Normal_Sperm\\aug_Normal_Sperm (46).bmp\n",
      "Saved: C:\\Users\\User\\Documents\\sperm_project\\SMIDS\\Normal_Sperm\\aug_Normal_Sperm (460).bmp\n",
      "Saved: C:\\Users\\User\\Documents\\sperm_project\\SMIDS\\Normal_Sperm\\aug_Normal_Sperm (461).bmp\n",
      "Saved: C:\\Users\\User\\Documents\\sperm_project\\SMIDS\\Normal_Sperm\\aug_Normal_Sperm (462).bmp\n",
      "Saved: C:\\Users\\User\\Documents\\sperm_project\\SMIDS\\Normal_Sperm\\aug_Normal_Sperm (463).bmp\n",
      "Saved: C:\\Users\\User\\Documents\\sperm_project\\SMIDS\\Normal_Sperm\\aug_Normal_Sperm (464).bmp\n",
      "Saved: C:\\Users\\User\\Documents\\sperm_project\\SMIDS\\Normal_Sperm\\aug_Normal_Sperm (465).bmp\n",
      "Saved: C:\\Users\\User\\Documents\\sperm_project\\SMIDS\\Normal_Sperm\\aug_Normal_Sperm (466).bmp\n",
      "Saved: C:\\Users\\User\\Documents\\sperm_project\\SMIDS\\Normal_Sperm\\aug_Normal_Sperm (467).bmp\n",
      "Saved: C:\\Users\\User\\Documents\\sperm_project\\SMIDS\\Normal_Sperm\\aug_Normal_Sperm (468).bmp\n",
      "Saved: C:\\Users\\User\\Documents\\sperm_project\\SMIDS\\Normal_Sperm\\aug_Normal_Sperm (469).bmp\n"
     ]
    },
    {
     "name": "stderr",
     "output_type": "stream",
     "text": [
      "Augmenting Normal_Sperm:  43%|████▎     | 442/1021 [00:09<00:11, 51.90it/s]"
     ]
    },
    {
     "name": "stdout",
     "output_type": "stream",
     "text": [
      "Saved: C:\\Users\\User\\Documents\\sperm_project\\SMIDS\\Normal_Sperm\\aug_Normal_Sperm (47).bmp\n",
      "Saved: C:\\Users\\User\\Documents\\sperm_project\\SMIDS\\Normal_Sperm\\aug_Normal_Sperm (470).bmp\n",
      "Saved: C:\\Users\\User\\Documents\\sperm_project\\SMIDS\\Normal_Sperm\\aug_Normal_Sperm (471).bmp\n",
      "Saved: C:\\Users\\User\\Documents\\sperm_project\\SMIDS\\Normal_Sperm\\aug_Normal_Sperm (472).bmp\n",
      "Saved: C:\\Users\\User\\Documents\\sperm_project\\SMIDS\\Normal_Sperm\\aug_Normal_Sperm (473).bmp\n",
      "Saved: C:\\Users\\User\\Documents\\sperm_project\\SMIDS\\Normal_Sperm\\aug_Normal_Sperm (474).bmp\n",
      "Saved: C:\\Users\\User\\Documents\\sperm_project\\SMIDS\\Normal_Sperm\\aug_Normal_Sperm (475).bmp\n",
      "Saved: C:\\Users\\User\\Documents\\sperm_project\\SMIDS\\Normal_Sperm\\aug_Normal_Sperm (476).bmp\n",
      "Saved: C:\\Users\\User\\Documents\\sperm_project\\SMIDS\\Normal_Sperm\\aug_Normal_Sperm (477).bmp\n",
      "Saved: C:\\Users\\User\\Documents\\sperm_project\\SMIDS\\Normal_Sperm\\aug_Normal_Sperm (478).bmp\n",
      "Saved: C:\\Users\\User\\Documents\\sperm_project\\SMIDS\\Normal_Sperm\\aug_Normal_Sperm (479).bmp\n"
     ]
    },
    {
     "name": "stderr",
     "output_type": "stream",
     "text": [
      "Augmenting Normal_Sperm:  44%|████▍     | 448/1021 [00:09<00:11, 49.81it/s]"
     ]
    },
    {
     "name": "stdout",
     "output_type": "stream",
     "text": [
      "Saved: C:\\Users\\User\\Documents\\sperm_project\\SMIDS\\Normal_Sperm\\aug_Normal_Sperm (48).bmp\n",
      "Saved: C:\\Users\\User\\Documents\\sperm_project\\SMIDS\\Normal_Sperm\\aug_Normal_Sperm (480).bmp\n",
      "Saved: C:\\Users\\User\\Documents\\sperm_project\\SMIDS\\Normal_Sperm\\aug_Normal_Sperm (481).bmp\n",
      "Saved: C:\\Users\\User\\Documents\\sperm_project\\SMIDS\\Normal_Sperm\\aug_Normal_Sperm (482).bmp\n",
      "Saved: C:\\Users\\User\\Documents\\sperm_project\\SMIDS\\Normal_Sperm\\aug_Normal_Sperm (483).bmp\n",
      "Saved: C:\\Users\\User\\Documents\\sperm_project\\SMIDS\\Normal_Sperm\\aug_Normal_Sperm (484).bmp\n",
      "Saved: C:\\Users\\User\\Documents\\sperm_project\\SMIDS\\Normal_Sperm\\aug_Normal_Sperm (485).bmp\n",
      "Saved: C:\\Users\\User\\Documents\\sperm_project\\SMIDS\\Normal_Sperm\\aug_Normal_Sperm (486).bmp\n",
      "Saved: C:\\Users\\User\\Documents\\sperm_project\\SMIDS\\Normal_Sperm\\aug_Normal_Sperm (487).bmp\n",
      "Saved: C:\\Users\\User\\Documents\\sperm_project\\SMIDS\\Normal_Sperm\\aug_Normal_Sperm (488).bmp\n"
     ]
    },
    {
     "name": "stderr",
     "output_type": "stream",
     "text": [
      "Augmenting Normal_Sperm:  45%|████▍     | 459/1021 [00:09<00:12, 46.56it/s]"
     ]
    },
    {
     "name": "stdout",
     "output_type": "stream",
     "text": [
      "Saved: C:\\Users\\User\\Documents\\sperm_project\\SMIDS\\Normal_Sperm\\aug_Normal_Sperm (489).bmp\n",
      "Saved: C:\\Users\\User\\Documents\\sperm_project\\SMIDS\\Normal_Sperm\\aug_Normal_Sperm (49).bmp\n",
      "Saved: C:\\Users\\User\\Documents\\sperm_project\\SMIDS\\Normal_Sperm\\aug_Normal_Sperm (490).bmp\n",
      "Saved: C:\\Users\\User\\Documents\\sperm_project\\SMIDS\\Normal_Sperm\\aug_Normal_Sperm (491).bmp\n",
      "Saved: C:\\Users\\User\\Documents\\sperm_project\\SMIDS\\Normal_Sperm\\aug_Normal_Sperm (492).bmp\n",
      "Saved: C:\\Users\\User\\Documents\\sperm_project\\SMIDS\\Normal_Sperm\\aug_Normal_Sperm (493).bmp\n",
      "Saved: C:\\Users\\User\\Documents\\sperm_project\\SMIDS\\Normal_Sperm\\aug_Normal_Sperm (494).bmp\n",
      "Saved: C:\\Users\\User\\Documents\\sperm_project\\SMIDS\\Normal_Sperm\\aug_Normal_Sperm (495).bmp\n",
      "Saved: C:\\Users\\User\\Documents\\sperm_project\\SMIDS\\Normal_Sperm\\aug_Normal_Sperm (496).bmp\n",
      "Saved: C:\\Users\\User\\Documents\\sperm_project\\SMIDS\\Normal_Sperm\\aug_Normal_Sperm (497).bmp\n"
     ]
    },
    {
     "name": "stderr",
     "output_type": "stream",
     "text": [
      "Augmenting Normal_Sperm:  46%|████▌     | 470/1021 [00:09<00:11, 47.96it/s]"
     ]
    },
    {
     "name": "stdout",
     "output_type": "stream",
     "text": [
      "Saved: C:\\Users\\User\\Documents\\sperm_project\\SMIDS\\Normal_Sperm\\aug_Normal_Sperm (498).bmp\n",
      "Saved: C:\\Users\\User\\Documents\\sperm_project\\SMIDS\\Normal_Sperm\\aug_Normal_Sperm (499).bmp\n",
      "Saved: C:\\Users\\User\\Documents\\sperm_project\\SMIDS\\Normal_Sperm\\aug_Normal_Sperm (5).bmp\n",
      "Saved: C:\\Users\\User\\Documents\\sperm_project\\SMIDS\\Normal_Sperm\\aug_Normal_Sperm (50).bmp\n",
      "Saved: C:\\Users\\User\\Documents\\sperm_project\\SMIDS\\Normal_Sperm\\aug_Normal_Sperm (500).bmp\n",
      "Saved: C:\\Users\\User\\Documents\\sperm_project\\SMIDS\\Normal_Sperm\\aug_Normal_Sperm (501).bmp\n",
      "Saved: C:\\Users\\User\\Documents\\sperm_project\\SMIDS\\Normal_Sperm\\aug_Normal_Sperm (502).bmp\n",
      "Saved: C:\\Users\\User\\Documents\\sperm_project\\SMIDS\\Normal_Sperm\\aug_Normal_Sperm (503).bmp\n",
      "Saved: C:\\Users\\User\\Documents\\sperm_project\\SMIDS\\Normal_Sperm\\aug_Normal_Sperm (504).bmp\n"
     ]
    },
    {
     "name": "stderr",
     "output_type": "stream",
     "text": [
      "Augmenting Normal_Sperm:  47%|████▋     | 481/1021 [00:09<00:10, 49.13it/s]"
     ]
    },
    {
     "name": "stdout",
     "output_type": "stream",
     "text": [
      "Saved: C:\\Users\\User\\Documents\\sperm_project\\SMIDS\\Normal_Sperm\\aug_Normal_Sperm (505).bmp\n",
      "Saved: C:\\Users\\User\\Documents\\sperm_project\\SMIDS\\Normal_Sperm\\aug_Normal_Sperm (506).bmp\n",
      "Saved: C:\\Users\\User\\Documents\\sperm_project\\SMIDS\\Normal_Sperm\\aug_Normal_Sperm (507).bmp\n",
      "Saved: C:\\Users\\User\\Documents\\sperm_project\\SMIDS\\Normal_Sperm\\aug_Normal_Sperm (508).bmp\n",
      "Saved: C:\\Users\\User\\Documents\\sperm_project\\SMIDS\\Normal_Sperm\\aug_Normal_Sperm (509).bmp\n",
      "Saved: C:\\Users\\User\\Documents\\sperm_project\\SMIDS\\Normal_Sperm\\aug_Normal_Sperm (51).bmp\n",
      "Saved: C:\\Users\\User\\Documents\\sperm_project\\SMIDS\\Normal_Sperm\\aug_Normal_Sperm (510).bmp\n",
      "Saved: C:\\Users\\User\\Documents\\sperm_project\\SMIDS\\Normal_Sperm\\aug_Normal_Sperm (511).bmp\n",
      "Saved: C:\\Users\\User\\Documents\\sperm_project\\SMIDS\\Normal_Sperm\\aug_Normal_Sperm (512).bmp\n",
      "Saved: C:\\Users\\User\\Documents\\sperm_project\\SMIDS\\Normal_Sperm\\aug_Normal_Sperm (513).bmp\n",
      "Saved: C:\\Users\\User\\Documents\\sperm_project\\SMIDS\\Normal_Sperm\\aug_Normal_Sperm (514).bmp\n"
     ]
    },
    {
     "name": "stderr",
     "output_type": "stream",
     "text": [
      "Augmenting Normal_Sperm:  48%|████▊     | 491/1021 [00:10<00:11, 46.19it/s]"
     ]
    },
    {
     "name": "stdout",
     "output_type": "stream",
     "text": [
      "Saved: C:\\Users\\User\\Documents\\sperm_project\\SMIDS\\Normal_Sperm\\aug_Normal_Sperm (515).bmp\n",
      "Saved: C:\\Users\\User\\Documents\\sperm_project\\SMIDS\\Normal_Sperm\\aug_Normal_Sperm (516).bmp\n",
      "Saved: C:\\Users\\User\\Documents\\sperm_project\\SMIDS\\Normal_Sperm\\aug_Normal_Sperm (517).bmp\n",
      "Saved: C:\\Users\\User\\Documents\\sperm_project\\SMIDS\\Normal_Sperm\\aug_Normal_Sperm (518).bmp\n",
      "Saved: C:\\Users\\User\\Documents\\sperm_project\\SMIDS\\Normal_Sperm\\aug_Normal_Sperm (519).bmp\n",
      "Saved: C:\\Users\\User\\Documents\\sperm_project\\SMIDS\\Normal_Sperm\\aug_Normal_Sperm (52).bmp\n",
      "Saved: C:\\Users\\User\\Documents\\sperm_project\\SMIDS\\Normal_Sperm\\aug_Normal_Sperm (520).bmp\n",
      "Saved: C:\\Users\\User\\Documents\\sperm_project\\SMIDS\\Normal_Sperm\\aug_Normal_Sperm (521).bmp\n",
      "Saved: C:\\Users\\User\\Documents\\sperm_project\\SMIDS\\Normal_Sperm\\aug_Normal_Sperm (522).bmp\n",
      "Saved: C:\\Users\\User\\Documents\\sperm_project\\SMIDS\\Normal_Sperm\\aug_Normal_Sperm (523).bmp\n"
     ]
    },
    {
     "name": "stderr",
     "output_type": "stream",
     "text": [
      "Augmenting Normal_Sperm:  49%|████▉     | 503/1021 [00:10<00:10, 49.51it/s]"
     ]
    },
    {
     "name": "stdout",
     "output_type": "stream",
     "text": [
      "Saved: C:\\Users\\User\\Documents\\sperm_project\\SMIDS\\Normal_Sperm\\aug_Normal_Sperm (524).bmp\n",
      "Saved: C:\\Users\\User\\Documents\\sperm_project\\SMIDS\\Normal_Sperm\\aug_Normal_Sperm (525).bmp\n",
      "Saved: C:\\Users\\User\\Documents\\sperm_project\\SMIDS\\Normal_Sperm\\aug_Normal_Sperm (526).bmp\n",
      "Saved: C:\\Users\\User\\Documents\\sperm_project\\SMIDS\\Normal_Sperm\\aug_Normal_Sperm (527).bmp\n",
      "Saved: C:\\Users\\User\\Documents\\sperm_project\\SMIDS\\Normal_Sperm\\aug_Normal_Sperm (528).bmp\n",
      "Saved: C:\\Users\\User\\Documents\\sperm_project\\SMIDS\\Normal_Sperm\\aug_Normal_Sperm (529).bmp\n",
      "Saved: C:\\Users\\User\\Documents\\sperm_project\\SMIDS\\Normal_Sperm\\aug_Normal_Sperm (53).bmp\n",
      "Saved: C:\\Users\\User\\Documents\\sperm_project\\SMIDS\\Normal_Sperm\\aug_Normal_Sperm (530).bmp\n",
      "Saved: C:\\Users\\User\\Documents\\sperm_project\\SMIDS\\Normal_Sperm\\aug_Normal_Sperm (531).bmp\n",
      "Saved: C:\\Users\\User\\Documents\\sperm_project\\SMIDS\\Normal_Sperm\\aug_Normal_Sperm (532).bmp\n",
      "Saved: C:\\Users\\User\\Documents\\sperm_project\\SMIDS\\Normal_Sperm\\aug_Normal_Sperm (533).bmp\n"
     ]
    },
    {
     "name": "stderr",
     "output_type": "stream",
     "text": [
      "Augmenting Normal_Sperm:  50%|█████     | 515/1021 [00:10<00:09, 50.77it/s]"
     ]
    },
    {
     "name": "stdout",
     "output_type": "stream",
     "text": [
      "Saved: C:\\Users\\User\\Documents\\sperm_project\\SMIDS\\Normal_Sperm\\aug_Normal_Sperm (534).bmp\n",
      "Saved: C:\\Users\\User\\Documents\\sperm_project\\SMIDS\\Normal_Sperm\\aug_Normal_Sperm (535).bmp\n",
      "Saved: C:\\Users\\User\\Documents\\sperm_project\\SMIDS\\Normal_Sperm\\aug_Normal_Sperm (536).bmp\n",
      "Saved: C:\\Users\\User\\Documents\\sperm_project\\SMIDS\\Normal_Sperm\\aug_Normal_Sperm (537).bmp\n",
      "Saved: C:\\Users\\User\\Documents\\sperm_project\\SMIDS\\Normal_Sperm\\aug_Normal_Sperm (538).bmp\n",
      "Saved: C:\\Users\\User\\Documents\\sperm_project\\SMIDS\\Normal_Sperm\\aug_Normal_Sperm (539).bmp\n",
      "Saved: C:\\Users\\User\\Documents\\sperm_project\\SMIDS\\Normal_Sperm\\aug_Normal_Sperm (54).bmp\n",
      "Saved: C:\\Users\\User\\Documents\\sperm_project\\SMIDS\\Normal_Sperm\\aug_Normal_Sperm (540).bmp\n",
      "Saved: C:\\Users\\User\\Documents\\sperm_project\\SMIDS\\Normal_Sperm\\aug_Normal_Sperm (541).bmp\n",
      "Saved: C:\\Users\\User\\Documents\\sperm_project\\SMIDS\\Normal_Sperm\\aug_Normal_Sperm (542).bmp\n"
     ]
    },
    {
     "name": "stderr",
     "output_type": "stream",
     "text": [
      "Augmenting Normal_Sperm:  51%|█████     | 521/1021 [00:10<00:09, 51.12it/s]"
     ]
    },
    {
     "name": "stdout",
     "output_type": "stream",
     "text": [
      "Saved: C:\\Users\\User\\Documents\\sperm_project\\SMIDS\\Normal_Sperm\\aug_Normal_Sperm (543).bmp\n",
      "Saved: C:\\Users\\User\\Documents\\sperm_project\\SMIDS\\Normal_Sperm\\aug_Normal_Sperm (544).bmp\n",
      "Saved: C:\\Users\\User\\Documents\\sperm_project\\SMIDS\\Normal_Sperm\\aug_Normal_Sperm (545).bmp\n",
      "Saved: C:\\Users\\User\\Documents\\sperm_project\\SMIDS\\Normal_Sperm\\aug_Normal_Sperm (546).bmp\n",
      "Saved: C:\\Users\\User\\Documents\\sperm_project\\SMIDS\\Normal_Sperm\\aug_Normal_Sperm (547).bmp\n",
      "Saved: C:\\Users\\User\\Documents\\sperm_project\\SMIDS\\Normal_Sperm\\aug_Normal_Sperm (548).bmp\n",
      "Saved: C:\\Users\\User\\Documents\\sperm_project\\SMIDS\\Normal_Sperm\\aug_Normal_Sperm (549).bmp\n",
      "Saved: C:\\Users\\User\\Documents\\sperm_project\\SMIDS\\Normal_Sperm\\aug_Normal_Sperm (55).bmp\n",
      "Saved: C:\\Users\\User\\Documents\\sperm_project\\SMIDS\\Normal_Sperm\\aug_Normal_Sperm (550).bmp\n",
      "Saved: C:\\Users\\User\\Documents\\sperm_project\\SMIDS\\Normal_Sperm\\aug_Normal_Sperm (551).bmp\n",
      "Saved: C:\\Users\\User\\Documents\\sperm_project\\SMIDS\\Normal_Sperm\\aug_Normal_Sperm (552).bmp\n",
      "Saved: C:\\Users\\User\\Documents\\sperm_project\\SMIDS\\Normal_Sperm\\aug_Normal_Sperm (553).bmp\n"
     ]
    },
    {
     "name": "stderr",
     "output_type": "stream",
     "text": [
      "Augmenting Normal_Sperm:  52%|█████▏    | 533/1021 [00:10<00:09, 53.26it/s]"
     ]
    },
    {
     "name": "stdout",
     "output_type": "stream",
     "text": [
      "Saved: C:\\Users\\User\\Documents\\sperm_project\\SMIDS\\Normal_Sperm\\aug_Normal_Sperm (554).bmp\n",
      "Saved: C:\\Users\\User\\Documents\\sperm_project\\SMIDS\\Normal_Sperm\\aug_Normal_Sperm (555).bmp\n",
      "Saved: C:\\Users\\User\\Documents\\sperm_project\\SMIDS\\Normal_Sperm\\aug_Normal_Sperm (556).bmp\n",
      "Saved: C:\\Users\\User\\Documents\\sperm_project\\SMIDS\\Normal_Sperm\\aug_Normal_Sperm (557).bmp\n",
      "Saved: C:\\Users\\User\\Documents\\sperm_project\\SMIDS\\Normal_Sperm\\aug_Normal_Sperm (558).bmp\n",
      "Saved: C:\\Users\\User\\Documents\\sperm_project\\SMIDS\\Normal_Sperm\\aug_Normal_Sperm (559).bmp\n",
      "Saved: C:\\Users\\User\\Documents\\sperm_project\\SMIDS\\Normal_Sperm\\aug_Normal_Sperm (56).bmp\n",
      "Saved: C:\\Users\\User\\Documents\\sperm_project\\SMIDS\\Normal_Sperm\\aug_Normal_Sperm (560).bmp\n",
      "Saved: C:\\Users\\User\\Documents\\sperm_project\\SMIDS\\Normal_Sperm\\aug_Normal_Sperm (561).bmp\n",
      "Saved: C:\\Users\\User\\Documents\\sperm_project\\SMIDS\\Normal_Sperm\\aug_Normal_Sperm (562).bmp\n"
     ]
    },
    {
     "name": "stderr",
     "output_type": "stream",
     "text": [
      "Augmenting Normal_Sperm:  53%|█████▎    | 545/1021 [00:11<00:09, 50.07it/s]"
     ]
    },
    {
     "name": "stdout",
     "output_type": "stream",
     "text": [
      "Saved: C:\\Users\\User\\Documents\\sperm_project\\SMIDS\\Normal_Sperm\\aug_Normal_Sperm (563).bmp\n",
      "Saved: C:\\Users\\User\\Documents\\sperm_project\\SMIDS\\Normal_Sperm\\aug_Normal_Sperm (564).bmp\n",
      "Saved: C:\\Users\\User\\Documents\\sperm_project\\SMIDS\\Normal_Sperm\\aug_Normal_Sperm (565).bmp\n",
      "Saved: C:\\Users\\User\\Documents\\sperm_project\\SMIDS\\Normal_Sperm\\aug_Normal_Sperm (566).bmp\n",
      "Saved: C:\\Users\\User\\Documents\\sperm_project\\SMIDS\\Normal_Sperm\\aug_Normal_Sperm (567).bmp\n",
      "Saved: C:\\Users\\User\\Documents\\sperm_project\\SMIDS\\Normal_Sperm\\aug_Normal_Sperm (568).bmp\n",
      "Saved: C:\\Users\\User\\Documents\\sperm_project\\SMIDS\\Normal_Sperm\\aug_Normal_Sperm (569).bmp\n",
      "Saved: C:\\Users\\User\\Documents\\sperm_project\\SMIDS\\Normal_Sperm\\aug_Normal_Sperm (57).bmp\n",
      "Saved: C:\\Users\\User\\Documents\\sperm_project\\SMIDS\\Normal_Sperm\\aug_Normal_Sperm (570).bmp\n",
      "Saved: C:\\Users\\User\\Documents\\sperm_project\\SMIDS\\Normal_Sperm\\aug_Normal_Sperm (571).bmp\n"
     ]
    },
    {
     "name": "stderr",
     "output_type": "stream",
     "text": [
      "Augmenting Normal_Sperm:  54%|█████▍    | 556/1021 [00:11<00:09, 47.18it/s]"
     ]
    },
    {
     "name": "stdout",
     "output_type": "stream",
     "text": [
      "Saved: C:\\Users\\User\\Documents\\sperm_project\\SMIDS\\Normal_Sperm\\aug_Normal_Sperm (572).bmp\n",
      "Saved: C:\\Users\\User\\Documents\\sperm_project\\SMIDS\\Normal_Sperm\\aug_Normal_Sperm (573).bmp\n",
      "Saved: C:\\Users\\User\\Documents\\sperm_project\\SMIDS\\Normal_Sperm\\aug_Normal_Sperm (574).bmp\n",
      "Saved: C:\\Users\\User\\Documents\\sperm_project\\SMIDS\\Normal_Sperm\\aug_Normal_Sperm (575).bmp\n",
      "Saved: C:\\Users\\User\\Documents\\sperm_project\\SMIDS\\Normal_Sperm\\aug_Normal_Sperm (576).bmp\n",
      "Saved: C:\\Users\\User\\Documents\\sperm_project\\SMIDS\\Normal_Sperm\\aug_Normal_Sperm (577).bmp\n",
      "Saved: C:\\Users\\User\\Documents\\sperm_project\\SMIDS\\Normal_Sperm\\aug_Normal_Sperm (578).bmp\n",
      "Saved: C:\\Users\\User\\Documents\\sperm_project\\SMIDS\\Normal_Sperm\\aug_Normal_Sperm (579).bmp\n",
      "Saved: C:\\Users\\User\\Documents\\sperm_project\\SMIDS\\Normal_Sperm\\aug_Normal_Sperm (58).bmp\n",
      "Saved: C:\\Users\\User\\Documents\\sperm_project\\SMIDS\\Normal_Sperm\\aug_Normal_Sperm (580).bmp\n"
     ]
    },
    {
     "name": "stderr",
     "output_type": "stream",
     "text": [
      "Augmenting Normal_Sperm:  56%|█████▌    | 567/1021 [00:11<00:09, 48.18it/s]"
     ]
    },
    {
     "name": "stdout",
     "output_type": "stream",
     "text": [
      "Saved: C:\\Users\\User\\Documents\\sperm_project\\SMIDS\\Normal_Sperm\\aug_Normal_Sperm (581).bmp\n",
      "Saved: C:\\Users\\User\\Documents\\sperm_project\\SMIDS\\Normal_Sperm\\aug_Normal_Sperm (582).bmp\n",
      "Saved: C:\\Users\\User\\Documents\\sperm_project\\SMIDS\\Normal_Sperm\\aug_Normal_Sperm (583).bmp\n",
      "Saved: C:\\Users\\User\\Documents\\sperm_project\\SMIDS\\Normal_Sperm\\aug_Normal_Sperm (584).bmp\n",
      "Saved: C:\\Users\\User\\Documents\\sperm_project\\SMIDS\\Normal_Sperm\\aug_Normal_Sperm (585).bmp\n",
      "Saved: C:\\Users\\User\\Documents\\sperm_project\\SMIDS\\Normal_Sperm\\aug_Normal_Sperm (586).bmp\n",
      "Saved: C:\\Users\\User\\Documents\\sperm_project\\SMIDS\\Normal_Sperm\\aug_Normal_Sperm (587).bmp\n",
      "Saved: C:\\Users\\User\\Documents\\sperm_project\\SMIDS\\Normal_Sperm\\aug_Normal_Sperm (588).bmp\n",
      "Saved: C:\\Users\\User\\Documents\\sperm_project\\SMIDS\\Normal_Sperm\\aug_Normal_Sperm (589).bmp\n",
      "Saved: C:\\Users\\User\\Documents\\sperm_project\\SMIDS\\Normal_Sperm\\aug_Normal_Sperm (59).bmp\n",
      "Saved: C:\\Users\\User\\Documents\\sperm_project\\SMIDS\\Normal_Sperm\\aug_Normal_Sperm (590).bmp\n"
     ]
    },
    {
     "name": "stderr",
     "output_type": "stream",
     "text": [
      "Augmenting Normal_Sperm:  57%|█████▋    | 579/1021 [00:11<00:08, 52.64it/s]"
     ]
    },
    {
     "name": "stdout",
     "output_type": "stream",
     "text": [
      "Saved: C:\\Users\\User\\Documents\\sperm_project\\SMIDS\\Normal_Sperm\\aug_Normal_Sperm (591).bmp\n",
      "Saved: C:\\Users\\User\\Documents\\sperm_project\\SMIDS\\Normal_Sperm\\aug_Normal_Sperm (592).bmp\n",
      "Saved: C:\\Users\\User\\Documents\\sperm_project\\SMIDS\\Normal_Sperm\\aug_Normal_Sperm (593).bmp\n",
      "Saved: C:\\Users\\User\\Documents\\sperm_project\\SMIDS\\Normal_Sperm\\aug_Normal_Sperm (594).bmp\n",
      "Saved: C:\\Users\\User\\Documents\\sperm_project\\SMIDS\\Normal_Sperm\\aug_Normal_Sperm (595).bmp\n",
      "Saved: C:\\Users\\User\\Documents\\sperm_project\\SMIDS\\Normal_Sperm\\aug_Normal_Sperm (596).bmp\n",
      "Saved: C:\\Users\\User\\Documents\\sperm_project\\SMIDS\\Normal_Sperm\\aug_Normal_Sperm (597).bmp\n",
      "Saved: C:\\Users\\User\\Documents\\sperm_project\\SMIDS\\Normal_Sperm\\aug_Normal_Sperm (598).bmp\n",
      "Saved: C:\\Users\\User\\Documents\\sperm_project\\SMIDS\\Normal_Sperm\\aug_Normal_Sperm (599).bmp\n",
      "Saved: C:\\Users\\User\\Documents\\sperm_project\\SMIDS\\Normal_Sperm\\aug_Normal_Sperm (6).bmp\n",
      "Saved: C:\\Users\\User\\Documents\\sperm_project\\SMIDS\\Normal_Sperm\\aug_Normal_Sperm (60).bmp\n",
      "Saved: C:\\Users\\User\\Documents\\sperm_project\\SMIDS\\Normal_Sperm\\aug_Normal_Sperm (600).bmp\n"
     ]
    },
    {
     "name": "stderr",
     "output_type": "stream",
     "text": [
      "Augmenting Normal_Sperm:  57%|█████▋    | 585/1021 [00:11<00:08, 52.08it/s]"
     ]
    },
    {
     "name": "stdout",
     "output_type": "stream",
     "text": [
      "Saved: C:\\Users\\User\\Documents\\sperm_project\\SMIDS\\Normal_Sperm\\aug_Normal_Sperm (601).bmp\n",
      "Saved: C:\\Users\\User\\Documents\\sperm_project\\SMIDS\\Normal_Sperm\\aug_Normal_Sperm (602).bmp\n",
      "Saved: C:\\Users\\User\\Documents\\sperm_project\\SMIDS\\Normal_Sperm\\aug_Normal_Sperm (603).bmp\n",
      "Saved: C:\\Users\\User\\Documents\\sperm_project\\SMIDS\\Normal_Sperm\\aug_Normal_Sperm (604).bmp\n",
      "Saved: C:\\Users\\User\\Documents\\sperm_project\\SMIDS\\Normal_Sperm\\aug_Normal_Sperm (605).bmp\n",
      "Saved: C:\\Users\\User\\Documents\\sperm_project\\SMIDS\\Normal_Sperm\\aug_Normal_Sperm (606).bmp\n",
      "Saved: C:\\Users\\User\\Documents\\sperm_project\\SMIDS\\Normal_Sperm\\aug_Normal_Sperm (607).bmp\n",
      "Saved: C:\\Users\\User\\Documents\\sperm_project\\SMIDS\\Normal_Sperm\\aug_Normal_Sperm (608).bmp\n",
      "Saved: C:\\Users\\User\\Documents\\sperm_project\\SMIDS\\Normal_Sperm\\aug_Normal_Sperm (609).bmp\n",
      "Saved: C:\\Users\\User\\Documents\\sperm_project\\SMIDS\\Normal_Sperm\\aug_Normal_Sperm (61).bmp\n"
     ]
    },
    {
     "name": "stderr",
     "output_type": "stream",
     "text": [
      "Augmenting Normal_Sperm:  58%|█████▊    | 596/1021 [00:12<00:08, 47.96it/s]"
     ]
    },
    {
     "name": "stdout",
     "output_type": "stream",
     "text": [
      "Saved: C:\\Users\\User\\Documents\\sperm_project\\SMIDS\\Normal_Sperm\\aug_Normal_Sperm (610).bmp\n",
      "Saved: C:\\Users\\User\\Documents\\sperm_project\\SMIDS\\Normal_Sperm\\aug_Normal_Sperm (611).bmp\n",
      "Saved: C:\\Users\\User\\Documents\\sperm_project\\SMIDS\\Normal_Sperm\\aug_Normal_Sperm (612).bmp\n",
      "Saved: C:\\Users\\User\\Documents\\sperm_project\\SMIDS\\Normal_Sperm\\aug_Normal_Sperm (613).bmp\n",
      "Saved: C:\\Users\\User\\Documents\\sperm_project\\SMIDS\\Normal_Sperm\\aug_Normal_Sperm (614).bmp\n",
      "Saved: C:\\Users\\User\\Documents\\sperm_project\\SMIDS\\Normal_Sperm\\aug_Normal_Sperm (615).bmp\n",
      "Saved: C:\\Users\\User\\Documents\\sperm_project\\SMIDS\\Normal_Sperm\\aug_Normal_Sperm (616).bmp\n",
      "Saved: C:\\Users\\User\\Documents\\sperm_project\\SMIDS\\Normal_Sperm\\aug_Normal_Sperm (617).bmp\n",
      "Saved: C:\\Users\\User\\Documents\\sperm_project\\SMIDS\\Normal_Sperm\\aug_Normal_Sperm (618).bmp\n",
      "Saved: C:\\Users\\User\\Documents\\sperm_project\\SMIDS\\Normal_Sperm\\aug_Normal_Sperm (619).bmp\n",
      "Saved: C:\\Users\\User\\Documents\\sperm_project\\SMIDS\\Normal_Sperm\\aug_Normal_Sperm (62).bmp\n"
     ]
    },
    {
     "name": "stderr",
     "output_type": "stream",
     "text": [
      "Augmenting Normal_Sperm:  60%|█████▉    | 609/1021 [00:12<00:08, 50.36it/s]"
     ]
    },
    {
     "name": "stdout",
     "output_type": "stream",
     "text": [
      "Saved: C:\\Users\\User\\Documents\\sperm_project\\SMIDS\\Normal_Sperm\\aug_Normal_Sperm (620).bmp\n",
      "Saved: C:\\Users\\User\\Documents\\sperm_project\\SMIDS\\Normal_Sperm\\aug_Normal_Sperm (621).bmp\n",
      "Saved: C:\\Users\\User\\Documents\\sperm_project\\SMIDS\\Normal_Sperm\\aug_Normal_Sperm (622).bmp\n",
      "Saved: C:\\Users\\User\\Documents\\sperm_project\\SMIDS\\Normal_Sperm\\aug_Normal_Sperm (623).bmp\n",
      "Saved: C:\\Users\\User\\Documents\\sperm_project\\SMIDS\\Normal_Sperm\\aug_Normal_Sperm (624).bmp\n",
      "Saved: C:\\Users\\User\\Documents\\sperm_project\\SMIDS\\Normal_Sperm\\aug_Normal_Sperm (625).bmp\n",
      "Saved: C:\\Users\\User\\Documents\\sperm_project\\SMIDS\\Normal_Sperm\\aug_Normal_Sperm (626).bmp\n",
      "Saved: C:\\Users\\User\\Documents\\sperm_project\\SMIDS\\Normal_Sperm\\aug_Normal_Sperm (627).bmp\n",
      "Saved: C:\\Users\\User\\Documents\\sperm_project\\SMIDS\\Normal_Sperm\\aug_Normal_Sperm (628).bmp\n",
      "Saved: C:\\Users\\User\\Documents\\sperm_project\\SMIDS\\Normal_Sperm\\aug_Normal_Sperm (629).bmp\n"
     ]
    },
    {
     "name": "stderr",
     "output_type": "stream",
     "text": [
      "Augmenting Normal_Sperm:  61%|██████    | 620/1021 [00:12<00:08, 47.84it/s]"
     ]
    },
    {
     "name": "stdout",
     "output_type": "stream",
     "text": [
      "Saved: C:\\Users\\User\\Documents\\sperm_project\\SMIDS\\Normal_Sperm\\aug_Normal_Sperm (63).bmp\n",
      "Saved: C:\\Users\\User\\Documents\\sperm_project\\SMIDS\\Normal_Sperm\\aug_Normal_Sperm (630).bmp\n",
      "Saved: C:\\Users\\User\\Documents\\sperm_project\\SMIDS\\Normal_Sperm\\aug_Normal_Sperm (631).bmp\n",
      "Saved: C:\\Users\\User\\Documents\\sperm_project\\SMIDS\\Normal_Sperm\\aug_Normal_Sperm (632).bmp\n",
      "Saved: C:\\Users\\User\\Documents\\sperm_project\\SMIDS\\Normal_Sperm\\aug_Normal_Sperm (633).bmp\n",
      "Saved: C:\\Users\\User\\Documents\\sperm_project\\SMIDS\\Normal_Sperm\\aug_Normal_Sperm (634).bmp\n",
      "Saved: C:\\Users\\User\\Documents\\sperm_project\\SMIDS\\Normal_Sperm\\aug_Normal_Sperm (635).bmp\n",
      "Saved: C:\\Users\\User\\Documents\\sperm_project\\SMIDS\\Normal_Sperm\\aug_Normal_Sperm (636).bmp\n",
      "Saved: C:\\Users\\User\\Documents\\sperm_project\\SMIDS\\Normal_Sperm\\aug_Normal_Sperm (637).bmp\n",
      "Saved: C:\\Users\\User\\Documents\\sperm_project\\SMIDS\\Normal_Sperm\\aug_Normal_Sperm (638).bmp\n",
      "Saved: C:\\Users\\User\\Documents\\sperm_project\\SMIDS\\Normal_Sperm\\aug_Normal_Sperm (639).bmp\n"
     ]
    },
    {
     "name": "stderr",
     "output_type": "stream",
     "text": [
      "Augmenting Normal_Sperm:  62%|██████▏   | 632/1021 [00:12<00:07, 50.21it/s]"
     ]
    },
    {
     "name": "stdout",
     "output_type": "stream",
     "text": [
      "Saved: C:\\Users\\User\\Documents\\sperm_project\\SMIDS\\Normal_Sperm\\aug_Normal_Sperm (64).bmp\n",
      "Saved: C:\\Users\\User\\Documents\\sperm_project\\SMIDS\\Normal_Sperm\\aug_Normal_Sperm (640).bmp\n",
      "Saved: C:\\Users\\User\\Documents\\sperm_project\\SMIDS\\Normal_Sperm\\aug_Normal_Sperm (641).bmp\n",
      "Saved: C:\\Users\\User\\Documents\\sperm_project\\SMIDS\\Normal_Sperm\\aug_Normal_Sperm (642).bmp\n",
      "Saved: C:\\Users\\User\\Documents\\sperm_project\\SMIDS\\Normal_Sperm\\aug_Normal_Sperm (643).bmp\n",
      "Saved: C:\\Users\\User\\Documents\\sperm_project\\SMIDS\\Normal_Sperm\\aug_Normal_Sperm (644).bmp\n",
      "Saved: C:\\Users\\User\\Documents\\sperm_project\\SMIDS\\Normal_Sperm\\aug_Normal_Sperm (645).bmp\n",
      "Saved: C:\\Users\\User\\Documents\\sperm_project\\SMIDS\\Normal_Sperm\\aug_Normal_Sperm (646).bmp\n",
      "Saved: C:\\Users\\User\\Documents\\sperm_project\\SMIDS\\Normal_Sperm\\aug_Normal_Sperm (647).bmp\n",
      "Saved: C:\\Users\\User\\Documents\\sperm_project\\SMIDS\\Normal_Sperm\\aug_Normal_Sperm (648).bmp\n",
      "Saved: C:\\Users\\User\\Documents\\sperm_project\\SMIDS\\Normal_Sperm\\aug_Normal_Sperm (649).bmp\n",
      "Saved: C:\\Users\\User\\Documents\\sperm_project\\SMIDS\\Normal_Sperm\\aug_Normal_Sperm (65).bmp\n"
     ]
    },
    {
     "name": "stderr",
     "output_type": "stream",
     "text": [
      "Augmenting Normal_Sperm:  63%|██████▎   | 644/1021 [00:13<00:07, 50.88it/s]"
     ]
    },
    {
     "name": "stdout",
     "output_type": "stream",
     "text": [
      "Saved: C:\\Users\\User\\Documents\\sperm_project\\SMIDS\\Normal_Sperm\\aug_Normal_Sperm (650).bmp\n",
      "Saved: C:\\Users\\User\\Documents\\sperm_project\\SMIDS\\Normal_Sperm\\aug_Normal_Sperm (651).bmp\n",
      "Saved: C:\\Users\\User\\Documents\\sperm_project\\SMIDS\\Normal_Sperm\\aug_Normal_Sperm (652).bmp\n",
      "Saved: C:\\Users\\User\\Documents\\sperm_project\\SMIDS\\Normal_Sperm\\aug_Normal_Sperm (653).bmp\n",
      "Saved: C:\\Users\\User\\Documents\\sperm_project\\SMIDS\\Normal_Sperm\\aug_Normal_Sperm (654).bmp\n",
      "Saved: C:\\Users\\User\\Documents\\sperm_project\\SMIDS\\Normal_Sperm\\aug_Normal_Sperm (655).bmp\n",
      "Saved: C:\\Users\\User\\Documents\\sperm_project\\SMIDS\\Normal_Sperm\\aug_Normal_Sperm (656).bmp\n",
      "Saved: C:\\Users\\User\\Documents\\sperm_project\\SMIDS\\Normal_Sperm\\aug_Normal_Sperm (657).bmp\n",
      "Saved: C:\\Users\\User\\Documents\\sperm_project\\SMIDS\\Normal_Sperm\\aug_Normal_Sperm (658).bmp\n",
      "Saved: C:\\Users\\User\\Documents\\sperm_project\\SMIDS\\Normal_Sperm\\aug_Normal_Sperm (659).bmp\n",
      "Saved: C:\\Users\\User\\Documents\\sperm_project\\SMIDS\\Normal_Sperm\\aug_Normal_Sperm (66).bmp\n"
     ]
    },
    {
     "name": "stderr",
     "output_type": "stream",
     "text": [
      "Augmenting Normal_Sperm:  64%|██████▎   | 650/1021 [00:13<00:07, 50.25it/s]"
     ]
    },
    {
     "name": "stdout",
     "output_type": "stream",
     "text": [
      "Saved: C:\\Users\\User\\Documents\\sperm_project\\SMIDS\\Normal_Sperm\\aug_Normal_Sperm (660).bmp\n",
      "Saved: C:\\Users\\User\\Documents\\sperm_project\\SMIDS\\Normal_Sperm\\aug_Normal_Sperm (661).bmp\n",
      "Saved: C:\\Users\\User\\Documents\\sperm_project\\SMIDS\\Normal_Sperm\\aug_Normal_Sperm (662).bmp\n",
      "Saved: C:\\Users\\User\\Documents\\sperm_project\\SMIDS\\Normal_Sperm\\aug_Normal_Sperm (663).bmp\n",
      "Saved: C:\\Users\\User\\Documents\\sperm_project\\SMIDS\\Normal_Sperm\\aug_Normal_Sperm (664).bmp\n",
      "Saved: C:\\Users\\User\\Documents\\sperm_project\\SMIDS\\Normal_Sperm\\aug_Normal_Sperm (665).bmp\n",
      "Saved: C:\\Users\\User\\Documents\\sperm_project\\SMIDS\\Normal_Sperm\\aug_Normal_Sperm (666).bmp\n",
      "Saved: C:\\Users\\User\\Documents\\sperm_project\\SMIDS\\Normal_Sperm\\aug_Normal_Sperm (667).bmp\n",
      "Saved: C:\\Users\\User\\Documents\\sperm_project\\SMIDS\\Normal_Sperm\\aug_Normal_Sperm (668).bmp\n",
      "Saved: C:\\Users\\User\\Documents\\sperm_project\\SMIDS\\Normal_Sperm\\aug_Normal_Sperm (669).bmp\n",
      "Saved: C:\\Users\\User\\Documents\\sperm_project\\SMIDS\\Normal_Sperm\\aug_Normal_Sperm (67).bmp\n"
     ]
    },
    {
     "name": "stderr",
     "output_type": "stream",
     "text": [
      "Augmenting Normal_Sperm:  65%|██████▍   | 661/1021 [00:13<00:07, 48.45it/s]"
     ]
    },
    {
     "name": "stdout",
     "output_type": "stream",
     "text": [
      "Saved: C:\\Users\\User\\Documents\\sperm_project\\SMIDS\\Normal_Sperm\\aug_Normal_Sperm (670).bmp\n",
      "Saved: C:\\Users\\User\\Documents\\sperm_project\\SMIDS\\Normal_Sperm\\aug_Normal_Sperm (671).bmp\n",
      "Saved: C:\\Users\\User\\Documents\\sperm_project\\SMIDS\\Normal_Sperm\\aug_Normal_Sperm (672).bmp\n",
      "Saved: C:\\Users\\User\\Documents\\sperm_project\\SMIDS\\Normal_Sperm\\aug_Normal_Sperm (673).bmp\n",
      "Saved: C:\\Users\\User\\Documents\\sperm_project\\SMIDS\\Normal_Sperm\\aug_Normal_Sperm (674).bmp\n",
      "Saved: C:\\Users\\User\\Documents\\sperm_project\\SMIDS\\Normal_Sperm\\aug_Normal_Sperm (675).bmp\n",
      "Saved: C:\\Users\\User\\Documents\\sperm_project\\SMIDS\\Normal_Sperm\\aug_Normal_Sperm (676).bmp\n",
      "Saved: C:\\Users\\User\\Documents\\sperm_project\\SMIDS\\Normal_Sperm\\aug_Normal_Sperm (677).bmp\n",
      "Saved: C:\\Users\\User\\Documents\\sperm_project\\SMIDS\\Normal_Sperm\\aug_Normal_Sperm (678).bmp\n"
     ]
    },
    {
     "name": "stderr",
     "output_type": "stream",
     "text": [
      "Augmenting Normal_Sperm:  66%|██████▌   | 672/1021 [00:13<00:07, 48.90it/s]"
     ]
    },
    {
     "name": "stdout",
     "output_type": "stream",
     "text": [
      "Saved: C:\\Users\\User\\Documents\\sperm_project\\SMIDS\\Normal_Sperm\\aug_Normal_Sperm (679).bmp\n",
      "Saved: C:\\Users\\User\\Documents\\sperm_project\\SMIDS\\Normal_Sperm\\aug_Normal_Sperm (68).bmp\n",
      "Saved: C:\\Users\\User\\Documents\\sperm_project\\SMIDS\\Normal_Sperm\\aug_Normal_Sperm (680).bmp\n",
      "Saved: C:\\Users\\User\\Documents\\sperm_project\\SMIDS\\Normal_Sperm\\aug_Normal_Sperm (681).bmp\n",
      "Saved: C:\\Users\\User\\Documents\\sperm_project\\SMIDS\\Normal_Sperm\\aug_Normal_Sperm (682).bmp\n",
      "Saved: C:\\Users\\User\\Documents\\sperm_project\\SMIDS\\Normal_Sperm\\aug_Normal_Sperm (683).bmp\n",
      "Saved: C:\\Users\\User\\Documents\\sperm_project\\SMIDS\\Normal_Sperm\\aug_Normal_Sperm (684).bmp\n",
      "Saved: C:\\Users\\User\\Documents\\sperm_project\\SMIDS\\Normal_Sperm\\aug_Normal_Sperm (685).bmp\n",
      "Saved: C:\\Users\\User\\Documents\\sperm_project\\SMIDS\\Normal_Sperm\\aug_Normal_Sperm (686).bmp\n",
      "Saved: C:\\Users\\User\\Documents\\sperm_project\\SMIDS\\Normal_Sperm\\aug_Normal_Sperm (687).bmp\n",
      "Saved: C:\\Users\\User\\Documents\\sperm_project\\SMIDS\\Normal_Sperm\\aug_Normal_Sperm (688).bmp\n"
     ]
    },
    {
     "name": "stderr",
     "output_type": "stream",
     "text": [
      "Augmenting Normal_Sperm:  67%|██████▋   | 683/1021 [00:13<00:06, 50.57it/s]"
     ]
    },
    {
     "name": "stdout",
     "output_type": "stream",
     "text": [
      "Saved: C:\\Users\\User\\Documents\\sperm_project\\SMIDS\\Normal_Sperm\\aug_Normal_Sperm (689).bmp\n",
      "Saved: C:\\Users\\User\\Documents\\sperm_project\\SMIDS\\Normal_Sperm\\aug_Normal_Sperm (69).bmp\n",
      "Saved: C:\\Users\\User\\Documents\\sperm_project\\SMIDS\\Normal_Sperm\\aug_Normal_Sperm (690).bmp\n",
      "Saved: C:\\Users\\User\\Documents\\sperm_project\\SMIDS\\Normal_Sperm\\aug_Normal_Sperm (691).bmp\n",
      "Saved: C:\\Users\\User\\Documents\\sperm_project\\SMIDS\\Normal_Sperm\\aug_Normal_Sperm (692).bmp\n",
      "Saved: C:\\Users\\User\\Documents\\sperm_project\\SMIDS\\Normal_Sperm\\aug_Normal_Sperm (693).bmp\n",
      "Saved: C:\\Users\\User\\Documents\\sperm_project\\SMIDS\\Normal_Sperm\\aug_Normal_Sperm (694).bmp\n",
      "Saved: C:\\Users\\User\\Documents\\sperm_project\\SMIDS\\Normal_Sperm\\aug_Normal_Sperm (695).bmp\n",
      "Saved: C:\\Users\\User\\Documents\\sperm_project\\SMIDS\\Normal_Sperm\\aug_Normal_Sperm (696).bmp\n",
      "Saved: C:\\Users\\User\\Documents\\sperm_project\\SMIDS\\Normal_Sperm\\aug_Normal_Sperm (697).bmp\n",
      "Saved: C:\\Users\\User\\Documents\\sperm_project\\SMIDS\\Normal_Sperm\\aug_Normal_Sperm (698).bmp\n",
      "Saved: C:\\Users\\User\\Documents\\sperm_project\\SMIDS\\Normal_Sperm\\aug_Normal_Sperm (699).bmp\n"
     ]
    },
    {
     "name": "stderr",
     "output_type": "stream",
     "text": [
      "Augmenting Normal_Sperm:  68%|██████▊   | 695/1021 [00:14<00:06, 48.89it/s]"
     ]
    },
    {
     "name": "stdout",
     "output_type": "stream",
     "text": [
      "Saved: C:\\Users\\User\\Documents\\sperm_project\\SMIDS\\Normal_Sperm\\aug_Normal_Sperm (7).bmp\n",
      "Saved: C:\\Users\\User\\Documents\\sperm_project\\SMIDS\\Normal_Sperm\\aug_Normal_Sperm (70).bmp\n",
      "Saved: C:\\Users\\User\\Documents\\sperm_project\\SMIDS\\Normal_Sperm\\aug_Normal_Sperm (700).bmp\n",
      "Saved: C:\\Users\\User\\Documents\\sperm_project\\SMIDS\\Normal_Sperm\\aug_Normal_Sperm (701).bmp\n",
      "Saved: C:\\Users\\User\\Documents\\sperm_project\\SMIDS\\Normal_Sperm\\aug_Normal_Sperm (702).bmp\n",
      "Saved: C:\\Users\\User\\Documents\\sperm_project\\SMIDS\\Normal_Sperm\\aug_Normal_Sperm (703).bmp\n",
      "Saved: C:\\Users\\User\\Documents\\sperm_project\\SMIDS\\Normal_Sperm\\aug_Normal_Sperm (704).bmp\n",
      "Saved: C:\\Users\\User\\Documents\\sperm_project\\SMIDS\\Normal_Sperm\\aug_Normal_Sperm (705).bmp\n",
      "Saved: C:\\Users\\User\\Documents\\sperm_project\\SMIDS\\Normal_Sperm\\aug_Normal_Sperm (706).bmp\n"
     ]
    },
    {
     "name": "stderr",
     "output_type": "stream",
     "text": [
      "Augmenting Normal_Sperm:  69%|██████▉   | 706/1021 [00:14<00:06, 48.18it/s]"
     ]
    },
    {
     "name": "stdout",
     "output_type": "stream",
     "text": [
      "Saved: C:\\Users\\User\\Documents\\sperm_project\\SMIDS\\Normal_Sperm\\aug_Normal_Sperm (707).bmp\n",
      "Saved: C:\\Users\\User\\Documents\\sperm_project\\SMIDS\\Normal_Sperm\\aug_Normal_Sperm (708).bmp\n",
      "Saved: C:\\Users\\User\\Documents\\sperm_project\\SMIDS\\Normal_Sperm\\aug_Normal_Sperm (709).bmp\n",
      "Saved: C:\\Users\\User\\Documents\\sperm_project\\SMIDS\\Normal_Sperm\\aug_Normal_Sperm (71).bmp\n",
      "Saved: C:\\Users\\User\\Documents\\sperm_project\\SMIDS\\Normal_Sperm\\aug_Normal_Sperm (710).bmp\n",
      "Saved: C:\\Users\\User\\Documents\\sperm_project\\SMIDS\\Normal_Sperm\\aug_Normal_Sperm (711).bmp\n",
      "Saved: C:\\Users\\User\\Documents\\sperm_project\\SMIDS\\Normal_Sperm\\aug_Normal_Sperm (712).bmp\n",
      "Saved: C:\\Users\\User\\Documents\\sperm_project\\SMIDS\\Normal_Sperm\\aug_Normal_Sperm (713).bmp\n",
      "Saved: C:\\Users\\User\\Documents\\sperm_project\\SMIDS\\Normal_Sperm\\aug_Normal_Sperm (714).bmp\n",
      "Saved: C:\\Users\\User\\Documents\\sperm_project\\SMIDS\\Normal_Sperm\\aug_Normal_Sperm (715).bmp\n"
     ]
    },
    {
     "name": "stderr",
     "output_type": "stream",
     "text": [
      "Augmenting Normal_Sperm:  70%|██████▉   | 712/1021 [00:14<00:06, 49.01it/s]"
     ]
    },
    {
     "name": "stdout",
     "output_type": "stream",
     "text": [
      "Saved: C:\\Users\\User\\Documents\\sperm_project\\SMIDS\\Normal_Sperm\\aug_Normal_Sperm (716).bmp\n",
      "Saved: C:\\Users\\User\\Documents\\sperm_project\\SMIDS\\Normal_Sperm\\aug_Normal_Sperm (717).bmp\n",
      "Saved: C:\\Users\\User\\Documents\\sperm_project\\SMIDS\\Normal_Sperm\\aug_Normal_Sperm (718).bmp\n",
      "Saved: C:\\Users\\User\\Documents\\sperm_project\\SMIDS\\Normal_Sperm\\aug_Normal_Sperm (719).bmp\n",
      "Saved: C:\\Users\\User\\Documents\\sperm_project\\SMIDS\\Normal_Sperm\\aug_Normal_Sperm (72).bmp\n",
      "Saved: C:\\Users\\User\\Documents\\sperm_project\\SMIDS\\Normal_Sperm\\aug_Normal_Sperm (720).bmp\n",
      "Saved: C:\\Users\\User\\Documents\\sperm_project\\SMIDS\\Normal_Sperm\\aug_Normal_Sperm (721).bmp\n",
      "Saved: C:\\Users\\User\\Documents\\sperm_project\\SMIDS\\Normal_Sperm\\aug_Normal_Sperm (722).bmp\n",
      "Saved: C:\\Users\\User\\Documents\\sperm_project\\SMIDS\\Normal_Sperm\\aug_Normal_Sperm (723).bmp\n",
      "Saved: C:\\Users\\User\\Documents\\sperm_project\\SMIDS\\Normal_Sperm\\aug_Normal_Sperm (724).bmp\n",
      "Saved: C:\\Users\\User\\Documents\\sperm_project\\SMIDS\\Normal_Sperm\\aug_Normal_Sperm (725).bmp\n"
     ]
    },
    {
     "name": "stderr",
     "output_type": "stream",
     "text": [
      "Augmenting Normal_Sperm:  71%|███████   | 723/1021 [00:14<00:06, 47.32it/s]"
     ]
    },
    {
     "name": "stdout",
     "output_type": "stream",
     "text": [
      "Saved: C:\\Users\\User\\Documents\\sperm_project\\SMIDS\\Normal_Sperm\\aug_Normal_Sperm (726).bmp\n",
      "Saved: C:\\Users\\User\\Documents\\sperm_project\\SMIDS\\Normal_Sperm\\aug_Normal_Sperm (727).bmp\n",
      "Saved: C:\\Users\\User\\Documents\\sperm_project\\SMIDS\\Normal_Sperm\\aug_Normal_Sperm (728).bmp\n",
      "Saved: C:\\Users\\User\\Documents\\sperm_project\\SMIDS\\Normal_Sperm\\aug_Normal_Sperm (729).bmp\n",
      "Saved: C:\\Users\\User\\Documents\\sperm_project\\SMIDS\\Normal_Sperm\\aug_Normal_Sperm (73).bmp\n",
      "Saved: C:\\Users\\User\\Documents\\sperm_project\\SMIDS\\Normal_Sperm\\aug_Normal_Sperm (730).bmp\n",
      "Saved: C:\\Users\\User\\Documents\\sperm_project\\SMIDS\\Normal_Sperm\\aug_Normal_Sperm (731).bmp\n",
      "Saved: C:\\Users\\User\\Documents\\sperm_project\\SMIDS\\Normal_Sperm\\aug_Normal_Sperm (732).bmp\n",
      "Saved: C:\\Users\\User\\Documents\\sperm_project\\SMIDS\\Normal_Sperm\\aug_Normal_Sperm (733).bmp\n",
      "Saved: C:\\Users\\User\\Documents\\sperm_project\\SMIDS\\Normal_Sperm\\aug_Normal_Sperm (734).bmp\n"
     ]
    },
    {
     "name": "stderr",
     "output_type": "stream",
     "text": [
      "Augmenting Normal_Sperm:  72%|███████▏  | 733/1021 [00:15<00:06, 46.39it/s]"
     ]
    },
    {
     "name": "stdout",
     "output_type": "stream",
     "text": [
      "Saved: C:\\Users\\User\\Documents\\sperm_project\\SMIDS\\Normal_Sperm\\aug_Normal_Sperm (735).bmp\n",
      "Saved: C:\\Users\\User\\Documents\\sperm_project\\SMIDS\\Normal_Sperm\\aug_Normal_Sperm (736).bmp\n",
      "Saved: C:\\Users\\User\\Documents\\sperm_project\\SMIDS\\Normal_Sperm\\aug_Normal_Sperm (737).bmp\n",
      "Saved: C:\\Users\\User\\Documents\\sperm_project\\SMIDS\\Normal_Sperm\\aug_Normal_Sperm (738).bmp\n",
      "Saved: C:\\Users\\User\\Documents\\sperm_project\\SMIDS\\Normal_Sperm\\aug_Normal_Sperm (739).bmp\n",
      "Saved: C:\\Users\\User\\Documents\\sperm_project\\SMIDS\\Normal_Sperm\\aug_Normal_Sperm (74).bmp\n",
      "Saved: C:\\Users\\User\\Documents\\sperm_project\\SMIDS\\Normal_Sperm\\aug_Normal_Sperm (740).bmp\n",
      "Saved: C:\\Users\\User\\Documents\\sperm_project\\SMIDS\\Normal_Sperm\\aug_Normal_Sperm (741).bmp\n",
      "Saved: C:\\Users\\User\\Documents\\sperm_project\\SMIDS\\Normal_Sperm\\aug_Normal_Sperm (742).bmp\n"
     ]
    },
    {
     "name": "stderr",
     "output_type": "stream",
     "text": [
      "Augmenting Normal_Sperm:  73%|███████▎  | 744/1021 [00:15<00:05, 49.30it/s]"
     ]
    },
    {
     "name": "stdout",
     "output_type": "stream",
     "text": [
      "Saved: C:\\Users\\User\\Documents\\sperm_project\\SMIDS\\Normal_Sperm\\aug_Normal_Sperm (743).bmp\n",
      "Saved: C:\\Users\\User\\Documents\\sperm_project\\SMIDS\\Normal_Sperm\\aug_Normal_Sperm (744).bmp\n",
      "Saved: C:\\Users\\User\\Documents\\sperm_project\\SMIDS\\Normal_Sperm\\aug_Normal_Sperm (745).bmp\n",
      "Saved: C:\\Users\\User\\Documents\\sperm_project\\SMIDS\\Normal_Sperm\\aug_Normal_Sperm (746).bmp\n",
      "Saved: C:\\Users\\User\\Documents\\sperm_project\\SMIDS\\Normal_Sperm\\aug_Normal_Sperm (747).bmp\n",
      "Saved: C:\\Users\\User\\Documents\\sperm_project\\SMIDS\\Normal_Sperm\\aug_Normal_Sperm (748).bmp\n",
      "Saved: C:\\Users\\User\\Documents\\sperm_project\\SMIDS\\Normal_Sperm\\aug_Normal_Sperm (749).bmp\n",
      "Saved: C:\\Users\\User\\Documents\\sperm_project\\SMIDS\\Normal_Sperm\\aug_Normal_Sperm (75).bmp\n",
      "Saved: C:\\Users\\User\\Documents\\sperm_project\\SMIDS\\Normal_Sperm\\aug_Normal_Sperm (750).bmp\n",
      "Saved: C:\\Users\\User\\Documents\\sperm_project\\SMIDS\\Normal_Sperm\\aug_Normal_Sperm (751).bmp\n",
      "Saved: C:\\Users\\User\\Documents\\sperm_project\\SMIDS\\Normal_Sperm\\aug_Normal_Sperm (752).bmp\n",
      "Saved: C:\\Users\\User\\Documents\\sperm_project\\SMIDS\\Normal_Sperm\\aug_Normal_Sperm (753).bmp\n"
     ]
    },
    {
     "name": "stderr",
     "output_type": "stream",
     "text": [
      "Augmenting Normal_Sperm:  74%|███████▍  | 756/1021 [00:15<00:05, 49.00it/s]"
     ]
    },
    {
     "name": "stdout",
     "output_type": "stream",
     "text": [
      "Saved: C:\\Users\\User\\Documents\\sperm_project\\SMIDS\\Normal_Sperm\\aug_Normal_Sperm (754).bmp\n",
      "Saved: C:\\Users\\User\\Documents\\sperm_project\\SMIDS\\Normal_Sperm\\aug_Normal_Sperm (755).bmp\n",
      "Saved: C:\\Users\\User\\Documents\\sperm_project\\SMIDS\\Normal_Sperm\\aug_Normal_Sperm (756).bmp\n",
      "Saved: C:\\Users\\User\\Documents\\sperm_project\\SMIDS\\Normal_Sperm\\aug_Normal_Sperm (757).bmp\n",
      "Saved: C:\\Users\\User\\Documents\\sperm_project\\SMIDS\\Normal_Sperm\\aug_Normal_Sperm (758).bmp\n",
      "Saved: C:\\Users\\User\\Documents\\sperm_project\\SMIDS\\Normal_Sperm\\aug_Normal_Sperm (759).bmp\n",
      "Saved: C:\\Users\\User\\Documents\\sperm_project\\SMIDS\\Normal_Sperm\\aug_Normal_Sperm (76).bmp\n",
      "Saved: C:\\Users\\User\\Documents\\sperm_project\\SMIDS\\Normal_Sperm\\aug_Normal_Sperm (760).bmp\n",
      "Saved: C:\\Users\\User\\Documents\\sperm_project\\SMIDS\\Normal_Sperm\\aug_Normal_Sperm (761).bmp\n",
      "Saved: C:\\Users\\User\\Documents\\sperm_project\\SMIDS\\Normal_Sperm\\aug_Normal_Sperm (762).bmp\n",
      "Saved: C:\\Users\\User\\Documents\\sperm_project\\SMIDS\\Normal_Sperm\\aug_Normal_Sperm (763).bmp\n"
     ]
    },
    {
     "name": "stderr",
     "output_type": "stream",
     "text": [
      "Augmenting Normal_Sperm:  75%|███████▌  | 767/1021 [00:15<00:05, 49.68it/s]"
     ]
    },
    {
     "name": "stdout",
     "output_type": "stream",
     "text": [
      "Saved: C:\\Users\\User\\Documents\\sperm_project\\SMIDS\\Normal_Sperm\\aug_Normal_Sperm (764).bmp\n",
      "Saved: C:\\Users\\User\\Documents\\sperm_project\\SMIDS\\Normal_Sperm\\aug_Normal_Sperm (765).bmp\n",
      "Saved: C:\\Users\\User\\Documents\\sperm_project\\SMIDS\\Normal_Sperm\\aug_Normal_Sperm (766).bmp\n",
      "Saved: C:\\Users\\User\\Documents\\sperm_project\\SMIDS\\Normal_Sperm\\aug_Normal_Sperm (767).bmp\n",
      "Saved: C:\\Users\\User\\Documents\\sperm_project\\SMIDS\\Normal_Sperm\\aug_Normal_Sperm (768).bmp\n",
      "Saved: C:\\Users\\User\\Documents\\sperm_project\\SMIDS\\Normal_Sperm\\aug_Normal_Sperm (769).bmp\n",
      "Saved: C:\\Users\\User\\Documents\\sperm_project\\SMIDS\\Normal_Sperm\\aug_Normal_Sperm (77).bmp\n",
      "Saved: C:\\Users\\User\\Documents\\sperm_project\\SMIDS\\Normal_Sperm\\aug_Normal_Sperm (770).bmp\n",
      "Saved: C:\\Users\\User\\Documents\\sperm_project\\SMIDS\\Normal_Sperm\\aug_Normal_Sperm (771).bmp\n",
      "Saved: C:\\Users\\User\\Documents\\sperm_project\\SMIDS\\Normal_Sperm\\aug_Normal_Sperm (772).bmp\n"
     ]
    },
    {
     "name": "stderr",
     "output_type": "stream",
     "text": [
      "Augmenting Normal_Sperm:  76%|███████▌  | 778/1021 [00:15<00:04, 50.92it/s]"
     ]
    },
    {
     "name": "stdout",
     "output_type": "stream",
     "text": [
      "Saved: C:\\Users\\User\\Documents\\sperm_project\\SMIDS\\Normal_Sperm\\aug_Normal_Sperm (773).bmp\n",
      "Saved: C:\\Users\\User\\Documents\\sperm_project\\SMIDS\\Normal_Sperm\\aug_Normal_Sperm (774).bmp\n",
      "Saved: C:\\Users\\User\\Documents\\sperm_project\\SMIDS\\Normal_Sperm\\aug_Normal_Sperm (775).bmp\n",
      "Saved: C:\\Users\\User\\Documents\\sperm_project\\SMIDS\\Normal_Sperm\\aug_Normal_Sperm (776).bmp\n",
      "Saved: C:\\Users\\User\\Documents\\sperm_project\\SMIDS\\Normal_Sperm\\aug_Normal_Sperm (777).bmp\n",
      "Saved: C:\\Users\\User\\Documents\\sperm_project\\SMIDS\\Normal_Sperm\\aug_Normal_Sperm (778).bmp\n",
      "Saved: C:\\Users\\User\\Documents\\sperm_project\\SMIDS\\Normal_Sperm\\aug_Normal_Sperm (779).bmp\n",
      "Saved: C:\\Users\\User\\Documents\\sperm_project\\SMIDS\\Normal_Sperm\\aug_Normal_Sperm (78).bmp\n",
      "Saved: C:\\Users\\User\\Documents\\sperm_project\\SMIDS\\Normal_Sperm\\aug_Normal_Sperm (780).bmp\n",
      "Saved: C:\\Users\\User\\Documents\\sperm_project\\SMIDS\\Normal_Sperm\\aug_Normal_Sperm (781).bmp\n",
      "Saved: C:\\Users\\User\\Documents\\sperm_project\\SMIDS\\Normal_Sperm\\aug_Normal_Sperm (782).bmp\n"
     ]
    },
    {
     "name": "stderr",
     "output_type": "stream",
     "text": [
      "Augmenting Normal_Sperm:  77%|███████▋  | 789/1021 [00:16<00:04, 49.51it/s]"
     ]
    },
    {
     "name": "stdout",
     "output_type": "stream",
     "text": [
      "Saved: C:\\Users\\User\\Documents\\sperm_project\\SMIDS\\Normal_Sperm\\aug_Normal_Sperm (783).bmp\n",
      "Saved: C:\\Users\\User\\Documents\\sperm_project\\SMIDS\\Normal_Sperm\\aug_Normal_Sperm (784).bmp\n",
      "Saved: C:\\Users\\User\\Documents\\sperm_project\\SMIDS\\Normal_Sperm\\aug_Normal_Sperm (785).bmp\n",
      "Saved: C:\\Users\\User\\Documents\\sperm_project\\SMIDS\\Normal_Sperm\\aug_Normal_Sperm (786).bmp\n",
      "Saved: C:\\Users\\User\\Documents\\sperm_project\\SMIDS\\Normal_Sperm\\aug_Normal_Sperm (787).bmp\n",
      "Saved: C:\\Users\\User\\Documents\\sperm_project\\SMIDS\\Normal_Sperm\\aug_Normal_Sperm (788).bmp\n",
      "Saved: C:\\Users\\User\\Documents\\sperm_project\\SMIDS\\Normal_Sperm\\aug_Normal_Sperm (789).bmp\n",
      "Saved: C:\\Users\\User\\Documents\\sperm_project\\SMIDS\\Normal_Sperm\\aug_Normal_Sperm (79).bmp\n",
      "Saved: C:\\Users\\User\\Documents\\sperm_project\\SMIDS\\Normal_Sperm\\aug_Normal_Sperm (790).bmp\n",
      "Saved: C:\\Users\\User\\Documents\\sperm_project\\SMIDS\\Normal_Sperm\\aug_Normal_Sperm (791).bmp\n",
      "Saved: C:\\Users\\User\\Documents\\sperm_project\\SMIDS\\Normal_Sperm\\aug_Normal_Sperm (792).bmp\n"
     ]
    },
    {
     "name": "stderr",
     "output_type": "stream",
     "text": [
      "Augmenting Normal_Sperm:  78%|███████▊  | 801/1021 [00:16<00:04, 50.08it/s]"
     ]
    },
    {
     "name": "stdout",
     "output_type": "stream",
     "text": [
      "Saved: C:\\Users\\User\\Documents\\sperm_project\\SMIDS\\Normal_Sperm\\aug_Normal_Sperm (793).bmp\n",
      "Saved: C:\\Users\\User\\Documents\\sperm_project\\SMIDS\\Normal_Sperm\\aug_Normal_Sperm (794).bmp\n",
      "Saved: C:\\Users\\User\\Documents\\sperm_project\\SMIDS\\Normal_Sperm\\aug_Normal_Sperm (795).bmp\n",
      "Saved: C:\\Users\\User\\Documents\\sperm_project\\SMIDS\\Normal_Sperm\\aug_Normal_Sperm (796).bmp\n",
      "Saved: C:\\Users\\User\\Documents\\sperm_project\\SMIDS\\Normal_Sperm\\aug_Normal_Sperm (797).bmp\n",
      "Saved: C:\\Users\\User\\Documents\\sperm_project\\SMIDS\\Normal_Sperm\\aug_Normal_Sperm (798).bmp\n",
      "Saved: C:\\Users\\User\\Documents\\sperm_project\\SMIDS\\Normal_Sperm\\aug_Normal_Sperm (799).bmp\n",
      "Saved: C:\\Users\\User\\Documents\\sperm_project\\SMIDS\\Normal_Sperm\\aug_Normal_Sperm (8).bmp\n",
      "Saved: C:\\Users\\User\\Documents\\sperm_project\\SMIDS\\Normal_Sperm\\aug_Normal_Sperm (80).bmp\n",
      "Saved: C:\\Users\\User\\Documents\\sperm_project\\SMIDS\\Normal_Sperm\\aug_Normal_Sperm (800).bmp\n",
      "Saved: C:\\Users\\User\\Documents\\sperm_project\\SMIDS\\Normal_Sperm\\aug_Normal_Sperm (801).bmp\n"
     ]
    },
    {
     "name": "stderr",
     "output_type": "stream",
     "text": [
      "Augmenting Normal_Sperm:  80%|███████▉  | 813/1021 [00:16<00:04, 49.81it/s]"
     ]
    },
    {
     "name": "stdout",
     "output_type": "stream",
     "text": [
      "Saved: C:\\Users\\User\\Documents\\sperm_project\\SMIDS\\Normal_Sperm\\aug_Normal_Sperm (802).bmp\n",
      "Saved: C:\\Users\\User\\Documents\\sperm_project\\SMIDS\\Normal_Sperm\\aug_Normal_Sperm (803).bmp\n",
      "Saved: C:\\Users\\User\\Documents\\sperm_project\\SMIDS\\Normal_Sperm\\aug_Normal_Sperm (804).bmp\n",
      "Saved: C:\\Users\\User\\Documents\\sperm_project\\SMIDS\\Normal_Sperm\\aug_Normal_Sperm (805).bmp\n",
      "Saved: C:\\Users\\User\\Documents\\sperm_project\\SMIDS\\Normal_Sperm\\aug_Normal_Sperm (806).bmp\n",
      "Saved: C:\\Users\\User\\Documents\\sperm_project\\SMIDS\\Normal_Sperm\\aug_Normal_Sperm (807).bmp\n",
      "Saved: C:\\Users\\User\\Documents\\sperm_project\\SMIDS\\Normal_Sperm\\aug_Normal_Sperm (808).bmp\n",
      "Saved: C:\\Users\\User\\Documents\\sperm_project\\SMIDS\\Normal_Sperm\\aug_Normal_Sperm (809).bmp\n",
      "Saved: C:\\Users\\User\\Documents\\sperm_project\\SMIDS\\Normal_Sperm\\aug_Normal_Sperm (81).bmp\n",
      "Saved: C:\\Users\\User\\Documents\\sperm_project\\SMIDS\\Normal_Sperm\\aug_Normal_Sperm (810).bmp\n",
      "Saved: C:\\Users\\User\\Documents\\sperm_project\\SMIDS\\Normal_Sperm\\aug_Normal_Sperm (811).bmp\n"
     ]
    },
    {
     "name": "stderr",
     "output_type": "stream",
     "text": [
      "Augmenting Normal_Sperm:  80%|████████  | 818/1021 [00:16<00:04, 49.34it/s]"
     ]
    },
    {
     "name": "stdout",
     "output_type": "stream",
     "text": [
      "Saved: C:\\Users\\User\\Documents\\sperm_project\\SMIDS\\Normal_Sperm\\aug_Normal_Sperm (812).bmp\n",
      "Saved: C:\\Users\\User\\Documents\\sperm_project\\SMIDS\\Normal_Sperm\\aug_Normal_Sperm (813).bmp\n",
      "Saved: C:\\Users\\User\\Documents\\sperm_project\\SMIDS\\Normal_Sperm\\aug_Normal_Sperm (814).bmp\n",
      "Saved: C:\\Users\\User\\Documents\\sperm_project\\SMIDS\\Normal_Sperm\\aug_Normal_Sperm (815).bmp\n",
      "Saved: C:\\Users\\User\\Documents\\sperm_project\\SMIDS\\Normal_Sperm\\aug_Normal_Sperm (816).bmp\n",
      "Saved: C:\\Users\\User\\Documents\\sperm_project\\SMIDS\\Normal_Sperm\\aug_Normal_Sperm (817).bmp\n",
      "Saved: C:\\Users\\User\\Documents\\sperm_project\\SMIDS\\Normal_Sperm\\aug_Normal_Sperm (818).bmp\n",
      "Saved: C:\\Users\\User\\Documents\\sperm_project\\SMIDS\\Normal_Sperm\\aug_Normal_Sperm (819).bmp\n",
      "Saved: C:\\Users\\User\\Documents\\sperm_project\\SMIDS\\Normal_Sperm\\aug_Normal_Sperm (82).bmp\n"
     ]
    },
    {
     "name": "stderr",
     "output_type": "stream",
     "text": [
      "Augmenting Normal_Sperm:  81%|████████  | 829/1021 [00:16<00:03, 48.30it/s]"
     ]
    },
    {
     "name": "stdout",
     "output_type": "stream",
     "text": [
      "Saved: C:\\Users\\User\\Documents\\sperm_project\\SMIDS\\Normal_Sperm\\aug_Normal_Sperm (820).bmp\n",
      "Saved: C:\\Users\\User\\Documents\\sperm_project\\SMIDS\\Normal_Sperm\\aug_Normal_Sperm (821).bmp\n",
      "Saved: C:\\Users\\User\\Documents\\sperm_project\\SMIDS\\Normal_Sperm\\aug_Normal_Sperm (822).bmp\n",
      "Saved: C:\\Users\\User\\Documents\\sperm_project\\SMIDS\\Normal_Sperm\\aug_Normal_Sperm (823).bmp\n",
      "Saved: C:\\Users\\User\\Documents\\sperm_project\\SMIDS\\Normal_Sperm\\aug_Normal_Sperm (824).bmp\n",
      "Saved: C:\\Users\\User\\Documents\\sperm_project\\SMIDS\\Normal_Sperm\\aug_Normal_Sperm (825).bmp\n",
      "Saved: C:\\Users\\User\\Documents\\sperm_project\\SMIDS\\Normal_Sperm\\aug_Normal_Sperm (826).bmp\n",
      "Saved: C:\\Users\\User\\Documents\\sperm_project\\SMIDS\\Normal_Sperm\\aug_Normal_Sperm (827).bmp\n",
      "Saved: C:\\Users\\User\\Documents\\sperm_project\\SMIDS\\Normal_Sperm\\aug_Normal_Sperm (828).bmp\n",
      "Saved: C:\\Users\\User\\Documents\\sperm_project\\SMIDS\\Normal_Sperm\\aug_Normal_Sperm (829).bmp\n",
      "Saved: C:\\Users\\User\\Documents\\sperm_project\\SMIDS\\Normal_Sperm\\aug_Normal_Sperm (83).bmp\n",
      "Saved: C:\\Users\\User\\Documents\\sperm_project\\SMIDS\\Normal_Sperm\\aug_Normal_Sperm (830).bmp\n"
     ]
    },
    {
     "name": "stderr",
     "output_type": "stream",
     "text": [
      "Augmenting Normal_Sperm:  82%|████████▏ | 842/1021 [00:17<00:03, 50.46it/s]"
     ]
    },
    {
     "name": "stdout",
     "output_type": "stream",
     "text": [
      "Saved: C:\\Users\\User\\Documents\\sperm_project\\SMIDS\\Normal_Sperm\\aug_Normal_Sperm (831).bmp\n",
      "Saved: C:\\Users\\User\\Documents\\sperm_project\\SMIDS\\Normal_Sperm\\aug_Normal_Sperm (832).bmp\n",
      "Saved: C:\\Users\\User\\Documents\\sperm_project\\SMIDS\\Normal_Sperm\\aug_Normal_Sperm (833).bmp\n",
      "Saved: C:\\Users\\User\\Documents\\sperm_project\\SMIDS\\Normal_Sperm\\aug_Normal_Sperm (834).bmp\n",
      "Saved: C:\\Users\\User\\Documents\\sperm_project\\SMIDS\\Normal_Sperm\\aug_Normal_Sperm (835).bmp\n",
      "Saved: C:\\Users\\User\\Documents\\sperm_project\\SMIDS\\Normal_Sperm\\aug_Normal_Sperm (836).bmp\n",
      "Saved: C:\\Users\\User\\Documents\\sperm_project\\SMIDS\\Normal_Sperm\\aug_Normal_Sperm (837).bmp\n",
      "Saved: C:\\Users\\User\\Documents\\sperm_project\\SMIDS\\Normal_Sperm\\aug_Normal_Sperm (838).bmp\n",
      "Saved: C:\\Users\\User\\Documents\\sperm_project\\SMIDS\\Normal_Sperm\\aug_Normal_Sperm (839).bmp\n",
      "Saved: C:\\Users\\User\\Documents\\sperm_project\\SMIDS\\Normal_Sperm\\aug_Normal_Sperm (84).bmp\n"
     ]
    },
    {
     "name": "stderr",
     "output_type": "stream",
     "text": [
      "Augmenting Normal_Sperm:  84%|████████▎ | 854/1021 [00:17<00:03, 50.06it/s]"
     ]
    },
    {
     "name": "stdout",
     "output_type": "stream",
     "text": [
      "Saved: C:\\Users\\User\\Documents\\sperm_project\\SMIDS\\Normal_Sperm\\aug_Normal_Sperm (840).bmp\n",
      "Saved: C:\\Users\\User\\Documents\\sperm_project\\SMIDS\\Normal_Sperm\\aug_Normal_Sperm (841).bmp\n",
      "Saved: C:\\Users\\User\\Documents\\sperm_project\\SMIDS\\Normal_Sperm\\aug_Normal_Sperm (842).bmp\n",
      "Saved: C:\\Users\\User\\Documents\\sperm_project\\SMIDS\\Normal_Sperm\\aug_Normal_Sperm (843).bmp\n",
      "Saved: C:\\Users\\User\\Documents\\sperm_project\\SMIDS\\Normal_Sperm\\aug_Normal_Sperm (844).bmp\n",
      "Saved: C:\\Users\\User\\Documents\\sperm_project\\SMIDS\\Normal_Sperm\\aug_Normal_Sperm (845).bmp\n",
      "Saved: C:\\Users\\User\\Documents\\sperm_project\\SMIDS\\Normal_Sperm\\aug_Normal_Sperm (846).bmp\n",
      "Saved: C:\\Users\\User\\Documents\\sperm_project\\SMIDS\\Normal_Sperm\\aug_Normal_Sperm (847).bmp\n",
      "Saved: C:\\Users\\User\\Documents\\sperm_project\\SMIDS\\Normal_Sperm\\aug_Normal_Sperm (848).bmp\n",
      "Saved: C:\\Users\\User\\Documents\\sperm_project\\SMIDS\\Normal_Sperm\\aug_Normal_Sperm (849).bmp\n",
      "Saved: C:\\Users\\User\\Documents\\sperm_project\\SMIDS\\Normal_Sperm\\aug_Normal_Sperm (85).bmp\n"
     ]
    },
    {
     "name": "stderr",
     "output_type": "stream",
     "text": [
      "Augmenting Normal_Sperm:  84%|████████▍ | 860/1021 [00:17<00:03, 48.87it/s]"
     ]
    },
    {
     "name": "stdout",
     "output_type": "stream",
     "text": [
      "Saved: C:\\Users\\User\\Documents\\sperm_project\\SMIDS\\Normal_Sperm\\aug_Normal_Sperm (850).bmp\n",
      "Saved: C:\\Users\\User\\Documents\\sperm_project\\SMIDS\\Normal_Sperm\\aug_Normal_Sperm (851).bmp\n",
      "Saved: C:\\Users\\User\\Documents\\sperm_project\\SMIDS\\Normal_Sperm\\aug_Normal_Sperm (852).bmp\n",
      "Saved: C:\\Users\\User\\Documents\\sperm_project\\SMIDS\\Normal_Sperm\\aug_Normal_Sperm (853).bmp\n",
      "Saved: C:\\Users\\User\\Documents\\sperm_project\\SMIDS\\Normal_Sperm\\aug_Normal_Sperm (854).bmp\n",
      "Saved: C:\\Users\\User\\Documents\\sperm_project\\SMIDS\\Normal_Sperm\\aug_Normal_Sperm (855).bmp\n",
      "Saved: C:\\Users\\User\\Documents\\sperm_project\\SMIDS\\Normal_Sperm\\aug_Normal_Sperm (856).bmp\n",
      "Saved: C:\\Users\\User\\Documents\\sperm_project\\SMIDS\\Normal_Sperm\\aug_Normal_Sperm (857).bmp\n",
      "Saved: C:\\Users\\User\\Documents\\sperm_project\\SMIDS\\Normal_Sperm\\aug_Normal_Sperm (858).bmp\n"
     ]
    },
    {
     "name": "stderr",
     "output_type": "stream",
     "text": [
      "Augmenting Normal_Sperm:  85%|████████▌ | 870/1021 [00:17<00:03, 46.34it/s]"
     ]
    },
    {
     "name": "stdout",
     "output_type": "stream",
     "text": [
      "Saved: C:\\Users\\User\\Documents\\sperm_project\\SMIDS\\Normal_Sperm\\aug_Normal_Sperm (859).bmp\n",
      "Saved: C:\\Users\\User\\Documents\\sperm_project\\SMIDS\\Normal_Sperm\\aug_Normal_Sperm (86).bmp\n",
      "Saved: C:\\Users\\User\\Documents\\sperm_project\\SMIDS\\Normal_Sperm\\aug_Normal_Sperm (860).bmp\n",
      "Saved: C:\\Users\\User\\Documents\\sperm_project\\SMIDS\\Normal_Sperm\\aug_Normal_Sperm (861).bmp\n",
      "Saved: C:\\Users\\User\\Documents\\sperm_project\\SMIDS\\Normal_Sperm\\aug_Normal_Sperm (862).bmp\n",
      "Saved: C:\\Users\\User\\Documents\\sperm_project\\SMIDS\\Normal_Sperm\\aug_Normal_Sperm (863).bmp\n",
      "Saved: C:\\Users\\User\\Documents\\sperm_project\\SMIDS\\Normal_Sperm\\aug_Normal_Sperm (864).bmp\n",
      "Saved: C:\\Users\\User\\Documents\\sperm_project\\SMIDS\\Normal_Sperm\\aug_Normal_Sperm (865).bmp\n",
      "Saved: C:\\Users\\User\\Documents\\sperm_project\\SMIDS\\Normal_Sperm\\aug_Normal_Sperm (866).bmp\n"
     ]
    },
    {
     "name": "stderr",
     "output_type": "stream",
     "text": [
      "Augmenting Normal_Sperm:  86%|████████▋ | 881/1021 [00:18<00:02, 48.37it/s]"
     ]
    },
    {
     "name": "stdout",
     "output_type": "stream",
     "text": [
      "Saved: C:\\Users\\User\\Documents\\sperm_project\\SMIDS\\Normal_Sperm\\aug_Normal_Sperm (867).bmp\n",
      "Saved: C:\\Users\\User\\Documents\\sperm_project\\SMIDS\\Normal_Sperm\\aug_Normal_Sperm (868).bmp\n",
      "Saved: C:\\Users\\User\\Documents\\sperm_project\\SMIDS\\Normal_Sperm\\aug_Normal_Sperm (869).bmp\n",
      "Saved: C:\\Users\\User\\Documents\\sperm_project\\SMIDS\\Normal_Sperm\\aug_Normal_Sperm (87).bmp\n",
      "Saved: C:\\Users\\User\\Documents\\sperm_project\\SMIDS\\Normal_Sperm\\aug_Normal_Sperm (870).bmp\n",
      "Saved: C:\\Users\\User\\Documents\\sperm_project\\SMIDS\\Normal_Sperm\\aug_Normal_Sperm (871).bmp\n",
      "Saved: C:\\Users\\User\\Documents\\sperm_project\\SMIDS\\Normal_Sperm\\aug_Normal_Sperm (872).bmp\n",
      "Saved: C:\\Users\\User\\Documents\\sperm_project\\SMIDS\\Normal_Sperm\\aug_Normal_Sperm (873).bmp\n",
      "Saved: C:\\Users\\User\\Documents\\sperm_project\\SMIDS\\Normal_Sperm\\aug_Normal_Sperm (874).bmp\n",
      "Saved: C:\\Users\\User\\Documents\\sperm_project\\SMIDS\\Normal_Sperm\\aug_Normal_Sperm (875).bmp\n"
     ]
    },
    {
     "name": "stderr",
     "output_type": "stream",
     "text": [
      "Augmenting Normal_Sperm:  87%|████████▋ | 892/1021 [00:18<00:02, 49.53it/s]"
     ]
    },
    {
     "name": "stdout",
     "output_type": "stream",
     "text": [
      "Saved: C:\\Users\\User\\Documents\\sperm_project\\SMIDS\\Normal_Sperm\\aug_Normal_Sperm (876).bmp\n",
      "Saved: C:\\Users\\User\\Documents\\sperm_project\\SMIDS\\Normal_Sperm\\aug_Normal_Sperm (877).bmp\n",
      "Saved: C:\\Users\\User\\Documents\\sperm_project\\SMIDS\\Normal_Sperm\\aug_Normal_Sperm (878).bmp\n",
      "Saved: C:\\Users\\User\\Documents\\sperm_project\\SMIDS\\Normal_Sperm\\aug_Normal_Sperm (879).bmp\n",
      "Saved: C:\\Users\\User\\Documents\\sperm_project\\SMIDS\\Normal_Sperm\\aug_Normal_Sperm (88).bmp\n",
      "Saved: C:\\Users\\User\\Documents\\sperm_project\\SMIDS\\Normal_Sperm\\aug_Normal_Sperm (880).bmp\n",
      "Saved: C:\\Users\\User\\Documents\\sperm_project\\SMIDS\\Normal_Sperm\\aug_Normal_Sperm (881).bmp\n",
      "Saved: C:\\Users\\User\\Documents\\sperm_project\\SMIDS\\Normal_Sperm\\aug_Normal_Sperm (882).bmp\n",
      "Saved: C:\\Users\\User\\Documents\\sperm_project\\SMIDS\\Normal_Sperm\\aug_Normal_Sperm (883).bmp\n",
      "Saved: C:\\Users\\User\\Documents\\sperm_project\\SMIDS\\Normal_Sperm\\aug_Normal_Sperm (884).bmp\n",
      "Saved: C:\\Users\\User\\Documents\\sperm_project\\SMIDS\\Normal_Sperm\\aug_Normal_Sperm (885).bmp\n",
      "Saved: C:\\Users\\User\\Documents\\sperm_project\\SMIDS\\Normal_Sperm\\aug_Normal_Sperm (886).bmp\n"
     ]
    },
    {
     "name": "stderr",
     "output_type": "stream",
     "text": [
      "Augmenting Normal_Sperm:  89%|████████▊ | 905/1021 [00:18<00:02, 54.98it/s]"
     ]
    },
    {
     "name": "stdout",
     "output_type": "stream",
     "text": [
      "Saved: C:\\Users\\User\\Documents\\sperm_project\\SMIDS\\Normal_Sperm\\aug_Normal_Sperm (887).bmp\n",
      "Saved: C:\\Users\\User\\Documents\\sperm_project\\SMIDS\\Normal_Sperm\\aug_Normal_Sperm (888).bmp\n",
      "Saved: C:\\Users\\User\\Documents\\sperm_project\\SMIDS\\Normal_Sperm\\aug_Normal_Sperm (889).bmp\n",
      "Saved: C:\\Users\\User\\Documents\\sperm_project\\SMIDS\\Normal_Sperm\\aug_Normal_Sperm (89).bmp\n",
      "Saved: C:\\Users\\User\\Documents\\sperm_project\\SMIDS\\Normal_Sperm\\aug_Normal_Sperm (890).bmp\n",
      "Saved: C:\\Users\\User\\Documents\\sperm_project\\SMIDS\\Normal_Sperm\\aug_Normal_Sperm (891).bmp\n",
      "Saved: C:\\Users\\User\\Documents\\sperm_project\\SMIDS\\Normal_Sperm\\aug_Normal_Sperm (892).bmp\n",
      "Saved: C:\\Users\\User\\Documents\\sperm_project\\SMIDS\\Normal_Sperm\\aug_Normal_Sperm (893).bmp\n",
      "Saved: C:\\Users\\User\\Documents\\sperm_project\\SMIDS\\Normal_Sperm\\aug_Normal_Sperm (894).bmp\n",
      "Saved: C:\\Users\\User\\Documents\\sperm_project\\SMIDS\\Normal_Sperm\\aug_Normal_Sperm (895).bmp\n",
      "Saved: C:\\Users\\User\\Documents\\sperm_project\\SMIDS\\Normal_Sperm\\aug_Normal_Sperm (896).bmp\n",
      "Saved: C:\\Users\\User\\Documents\\sperm_project\\SMIDS\\Normal_Sperm\\aug_Normal_Sperm (897).bmp\n",
      "Saved: C:\\Users\\User\\Documents\\sperm_project\\SMIDS\\Normal_Sperm\\aug_Normal_Sperm (898).bmp\n"
     ]
    },
    {
     "name": "stderr",
     "output_type": "stream",
     "text": [
      "Augmenting Normal_Sperm:  90%|█████████ | 919/1021 [00:18<00:01, 59.03it/s]"
     ]
    },
    {
     "name": "stdout",
     "output_type": "stream",
     "text": [
      "Saved: C:\\Users\\User\\Documents\\sperm_project\\SMIDS\\Normal_Sperm\\aug_Normal_Sperm (899).bmp\n",
      "Saved: C:\\Users\\User\\Documents\\sperm_project\\SMIDS\\Normal_Sperm\\aug_Normal_Sperm (9).bmp\n",
      "Saved: C:\\Users\\User\\Documents\\sperm_project\\SMIDS\\Normal_Sperm\\aug_Normal_Sperm (90).bmp\n",
      "Saved: C:\\Users\\User\\Documents\\sperm_project\\SMIDS\\Normal_Sperm\\aug_Normal_Sperm (900).bmp\n",
      "Saved: C:\\Users\\User\\Documents\\sperm_project\\SMIDS\\Normal_Sperm\\aug_Normal_Sperm (901).bmp\n",
      "Saved: C:\\Users\\User\\Documents\\sperm_project\\SMIDS\\Normal_Sperm\\aug_Normal_Sperm (902).bmp\n",
      "Saved: C:\\Users\\User\\Documents\\sperm_project\\SMIDS\\Normal_Sperm\\aug_Normal_Sperm (903).bmp\n",
      "Saved: C:\\Users\\User\\Documents\\sperm_project\\SMIDS\\Normal_Sperm\\aug_Normal_Sperm (904).bmp\n",
      "Saved: C:\\Users\\User\\Documents\\sperm_project\\SMIDS\\Normal_Sperm\\aug_Normal_Sperm (905).bmp\n",
      "Saved: C:\\Users\\User\\Documents\\sperm_project\\SMIDS\\Normal_Sperm\\aug_Normal_Sperm (906).bmp\n",
      "Saved: C:\\Users\\User\\Documents\\sperm_project\\SMIDS\\Normal_Sperm\\aug_Normal_Sperm (907).bmp\n",
      "Saved: C:\\Users\\User\\Documents\\sperm_project\\SMIDS\\Normal_Sperm\\aug_Normal_Sperm (908).bmp\n",
      "Saved: C:\\Users\\User\\Documents\\sperm_project\\SMIDS\\Normal_Sperm\\aug_Normal_Sperm (909).bmp\n"
     ]
    },
    {
     "name": "stderr",
     "output_type": "stream",
     "text": [
      "Augmenting Normal_Sperm:  91%|█████████▏| 934/1021 [00:18<00:01, 62.93it/s]"
     ]
    },
    {
     "name": "stdout",
     "output_type": "stream",
     "text": [
      "Saved: C:\\Users\\User\\Documents\\sperm_project\\SMIDS\\Normal_Sperm\\aug_Normal_Sperm (91).bmp\n",
      "Saved: C:\\Users\\User\\Documents\\sperm_project\\SMIDS\\Normal_Sperm\\aug_Normal_Sperm (910).bmp\n",
      "Saved: C:\\Users\\User\\Documents\\sperm_project\\SMIDS\\Normal_Sperm\\aug_Normal_Sperm (911).bmp\n",
      "Saved: C:\\Users\\User\\Documents\\sperm_project\\SMIDS\\Normal_Sperm\\aug_Normal_Sperm (912).bmp\n",
      "Saved: C:\\Users\\User\\Documents\\sperm_project\\SMIDS\\Normal_Sperm\\aug_Normal_Sperm (913).bmp\n",
      "Saved: C:\\Users\\User\\Documents\\sperm_project\\SMIDS\\Normal_Sperm\\aug_Normal_Sperm (914).bmp\n",
      "Saved: C:\\Users\\User\\Documents\\sperm_project\\SMIDS\\Normal_Sperm\\aug_Normal_Sperm (915).bmp\n",
      "Saved: C:\\Users\\User\\Documents\\sperm_project\\SMIDS\\Normal_Sperm\\aug_Normal_Sperm (916).bmp\n",
      "Saved: C:\\Users\\User\\Documents\\sperm_project\\SMIDS\\Normal_Sperm\\aug_Normal_Sperm (917).bmp\n",
      "Saved: C:\\Users\\User\\Documents\\sperm_project\\SMIDS\\Normal_Sperm\\aug_Normal_Sperm (918).bmp\n",
      "Saved: C:\\Users\\User\\Documents\\sperm_project\\SMIDS\\Normal_Sperm\\aug_Normal_Sperm (919).bmp\n",
      "Saved: C:\\Users\\User\\Documents\\sperm_project\\SMIDS\\Normal_Sperm\\aug_Normal_Sperm (92).bmp\n",
      "Saved: C:\\Users\\User\\Documents\\sperm_project\\SMIDS\\Normal_Sperm\\aug_Normal_Sperm (920).bmp\n",
      "Saved: C:\\Users\\User\\Documents\\sperm_project\\SMIDS\\Normal_Sperm\\aug_Normal_Sperm (921).bmp\n",
      "Saved: C:\\Users\\User\\Documents\\sperm_project\\SMIDS\\Normal_Sperm\\aug_Normal_Sperm (922).bmp\n"
     ]
    },
    {
     "name": "stderr",
     "output_type": "stream",
     "text": [
      "Augmenting Normal_Sperm:  93%|█████████▎| 949/1021 [00:19<00:01, 67.05it/s]"
     ]
    },
    {
     "name": "stdout",
     "output_type": "stream",
     "text": [
      "Saved: C:\\Users\\User\\Documents\\sperm_project\\SMIDS\\Normal_Sperm\\aug_Normal_Sperm (923).bmp\n",
      "Saved: C:\\Users\\User\\Documents\\sperm_project\\SMIDS\\Normal_Sperm\\aug_Normal_Sperm (924).bmp\n",
      "Saved: C:\\Users\\User\\Documents\\sperm_project\\SMIDS\\Normal_Sperm\\aug_Normal_Sperm (925).bmp\n",
      "Saved: C:\\Users\\User\\Documents\\sperm_project\\SMIDS\\Normal_Sperm\\aug_Normal_Sperm (926).bmp\n",
      "Saved: C:\\Users\\User\\Documents\\sperm_project\\SMIDS\\Normal_Sperm\\aug_Normal_Sperm (927).bmp\n",
      "Saved: C:\\Users\\User\\Documents\\sperm_project\\SMIDS\\Normal_Sperm\\aug_Normal_Sperm (928).bmp\n",
      "Saved: C:\\Users\\User\\Documents\\sperm_project\\SMIDS\\Normal_Sperm\\aug_Normal_Sperm (929).bmp\n",
      "Saved: C:\\Users\\User\\Documents\\sperm_project\\SMIDS\\Normal_Sperm\\aug_Normal_Sperm (93).bmp\n",
      "Saved: C:\\Users\\User\\Documents\\sperm_project\\SMIDS\\Normal_Sperm\\aug_Normal_Sperm (930).bmp\n",
      "Saved: C:\\Users\\User\\Documents\\sperm_project\\SMIDS\\Normal_Sperm\\aug_Normal_Sperm (931).bmp\n",
      "Saved: C:\\Users\\User\\Documents\\sperm_project\\SMIDS\\Normal_Sperm\\aug_Normal_Sperm (932).bmp\n",
      "Saved: C:\\Users\\User\\Documents\\sperm_project\\SMIDS\\Normal_Sperm\\aug_Normal_Sperm (933).bmp\n",
      "Saved: C:\\Users\\User\\Documents\\sperm_project\\SMIDS\\Normal_Sperm\\aug_Normal_Sperm (934).bmp\n",
      "Saved: C:\\Users\\User\\Documents\\sperm_project\\SMIDS\\Normal_Sperm\\aug_Normal_Sperm (935).bmp\n"
     ]
    },
    {
     "name": "stderr",
     "output_type": "stream",
     "text": [
      "Augmenting Normal_Sperm:  95%|█████████▍| 968/1021 [00:19<00:00, 79.16it/s]"
     ]
    },
    {
     "name": "stdout",
     "output_type": "stream",
     "text": [
      "Saved: C:\\Users\\User\\Documents\\sperm_project\\SMIDS\\Normal_Sperm\\aug_Normal_Sperm (936).bmp\n",
      "Saved: C:\\Users\\User\\Documents\\sperm_project\\SMIDS\\Normal_Sperm\\aug_Normal_Sperm (937).bmp\n",
      "Saved: C:\\Users\\User\\Documents\\sperm_project\\SMIDS\\Normal_Sperm\\aug_Normal_Sperm (938).bmp\n",
      "Saved: C:\\Users\\User\\Documents\\sperm_project\\SMIDS\\Normal_Sperm\\aug_Normal_Sperm (939).bmp\n",
      "Saved: C:\\Users\\User\\Documents\\sperm_project\\SMIDS\\Normal_Sperm\\aug_Normal_Sperm (94).bmp\n",
      "Saved: C:\\Users\\User\\Documents\\sperm_project\\SMIDS\\Normal_Sperm\\aug_Normal_Sperm (940).bmp\n",
      "Saved: C:\\Users\\User\\Documents\\sperm_project\\SMIDS\\Normal_Sperm\\aug_Normal_Sperm (941).bmp\n",
      "Saved: C:\\Users\\User\\Documents\\sperm_project\\SMIDS\\Normal_Sperm\\aug_Normal_Sperm (942).bmp\n",
      "Saved: C:\\Users\\User\\Documents\\sperm_project\\SMIDS\\Normal_Sperm\\aug_Normal_Sperm (943).bmp\n",
      "Saved: C:\\Users\\User\\Documents\\sperm_project\\SMIDS\\Normal_Sperm\\aug_Normal_Sperm (944).bmp\n",
      "Saved: C:\\Users\\User\\Documents\\sperm_project\\SMIDS\\Normal_Sperm\\aug_Normal_Sperm (945).bmp\n",
      "Saved: C:\\Users\\User\\Documents\\sperm_project\\SMIDS\\Normal_Sperm\\aug_Normal_Sperm (946).bmp\n",
      "Saved: C:\\Users\\User\\Documents\\sperm_project\\SMIDS\\Normal_Sperm\\aug_Normal_Sperm (947).bmp\n",
      "Saved: C:\\Users\\User\\Documents\\sperm_project\\SMIDS\\Normal_Sperm\\aug_Normal_Sperm (948).bmp\n",
      "Saved: C:\\Users\\User\\Documents\\sperm_project\\SMIDS\\Normal_Sperm\\aug_Normal_Sperm (949).bmp\n",
      "Saved: C:\\Users\\User\\Documents\\sperm_project\\SMIDS\\Normal_Sperm\\aug_Normal_Sperm (95).bmp\n",
      "Saved: C:\\Users\\User\\Documents\\sperm_project\\SMIDS\\Normal_Sperm\\aug_Normal_Sperm (950).bmp\n",
      "Saved: C:\\Users\\User\\Documents\\sperm_project\\SMIDS\\Normal_Sperm\\aug_Normal_Sperm (951).bmp\n",
      "Saved: C:\\Users\\User\\Documents\\sperm_project\\SMIDS\\Normal_Sperm\\aug_Normal_Sperm (952).bmp\n",
      "Saved: C:\\Users\\User\\Documents\\sperm_project\\SMIDS\\Normal_Sperm\\aug_Normal_Sperm (953).bmp\n",
      "Saved: C:\\Users\\User\\Documents\\sperm_project\\SMIDS\\Normal_Sperm\\aug_Normal_Sperm (954).bmp\n"
     ]
    },
    {
     "name": "stderr",
     "output_type": "stream",
     "text": [
      "Augmenting Normal_Sperm:  96%|█████████▌| 982/1021 [00:19<00:00, 94.51it/s]"
     ]
    },
    {
     "name": "stdout",
     "output_type": "stream",
     "text": [
      "Saved: C:\\Users\\User\\Documents\\sperm_project\\SMIDS\\Normal_Sperm\\aug_Normal_Sperm (955).bmp\n",
      "Saved: C:\\Users\\User\\Documents\\sperm_project\\SMIDS\\Normal_Sperm\\aug_Normal_Sperm (956).bmp\n",
      "Saved: C:\\Users\\User\\Documents\\sperm_project\\SMIDS\\Normal_Sperm\\aug_Normal_Sperm (957).bmp\n",
      "Saved: C:\\Users\\User\\Documents\\sperm_project\\SMIDS\\Normal_Sperm\\aug_Normal_Sperm (958).bmp\n",
      "Saved: C:\\Users\\User\\Documents\\sperm_project\\SMIDS\\Normal_Sperm\\aug_Normal_Sperm (959).bmp\n",
      "Saved: C:\\Users\\User\\Documents\\sperm_project\\SMIDS\\Normal_Sperm\\aug_Normal_Sperm (96).bmp\n",
      "Saved: C:\\Users\\User\\Documents\\sperm_project\\SMIDS\\Normal_Sperm\\aug_Normal_Sperm (960).bmp\n",
      "Saved: C:\\Users\\User\\Documents\\sperm_project\\SMIDS\\Normal_Sperm\\aug_Normal_Sperm (961).bmp\n",
      "Saved: C:\\Users\\User\\Documents\\sperm_project\\SMIDS\\Normal_Sperm\\aug_Normal_Sperm (962).bmp\n",
      "Saved: C:\\Users\\User\\Documents\\sperm_project\\SMIDS\\Normal_Sperm\\aug_Normal_Sperm (963).bmp\n",
      "Saved: C:\\Users\\User\\Documents\\sperm_project\\SMIDS\\Normal_Sperm\\aug_Normal_Sperm (964).bmp\n",
      "Saved: C:\\Users\\User\\Documents\\sperm_project\\SMIDS\\Normal_Sperm\\aug_Normal_Sperm (965).bmp\n",
      "Saved: C:\\Users\\User\\Documents\\sperm_project\\SMIDS\\Normal_Sperm\\aug_Normal_Sperm (966).bmp\n",
      "Saved: C:\\Users\\User\\Documents\\sperm_project\\SMIDS\\Normal_Sperm\\aug_Normal_Sperm (967).bmp\n",
      "Saved: C:\\Users\\User\\Documents\\sperm_project\\SMIDS\\Normal_Sperm\\aug_Normal_Sperm (968).bmp\n",
      "Saved: C:\\Users\\User\\Documents\\sperm_project\\SMIDS\\Normal_Sperm\\aug_Normal_Sperm (969).bmp\n",
      "Saved: C:\\Users\\User\\Documents\\sperm_project\\SMIDS\\Normal_Sperm\\aug_Normal_Sperm (97).bmp\n",
      "Saved: C:\\Users\\User\\Documents\\sperm_project\\SMIDS\\Normal_Sperm\\aug_Normal_Sperm (970).bmp\n",
      "Saved: C:\\Users\\User\\Documents\\sperm_project\\SMIDS\\Normal_Sperm\\aug_Normal_Sperm (971).bmp\n",
      "Saved: C:\\Users\\User\\Documents\\sperm_project\\SMIDS\\Normal_Sperm\\aug_Normal_Sperm (972).bmp\n",
      "Saved: C:\\Users\\User\\Documents\\sperm_project\\SMIDS\\Normal_Sperm\\aug_Normal_Sperm (973).bmp\n",
      "Saved: C:\\Users\\User\\Documents\\sperm_project\\SMIDS\\Normal_Sperm\\aug_Normal_Sperm (974).bmp\n",
      "Saved: C:\\Users\\User\\Documents\\sperm_project\\SMIDS\\Normal_Sperm\\aug_Normal_Sperm (975).bmp\n"
     ]
    },
    {
     "name": "stderr",
     "output_type": "stream",
     "text": [
      "Augmenting Normal_Sperm: 100%|█████████▉| 1019/1021 [00:19<00:00, 110.76it/s]"
     ]
    },
    {
     "name": "stdout",
     "output_type": "stream",
     "text": [
      "Saved: C:\\Users\\User\\Documents\\sperm_project\\SMIDS\\Normal_Sperm\\aug_Normal_Sperm (976).bmp\n",
      "Saved: C:\\Users\\User\\Documents\\sperm_project\\SMIDS\\Normal_Sperm\\aug_Normal_Sperm (977).bmp\n",
      "Saved: C:\\Users\\User\\Documents\\sperm_project\\SMIDS\\Normal_Sperm\\aug_Normal_Sperm (978).bmp\n",
      "Saved: C:\\Users\\User\\Documents\\sperm_project\\SMIDS\\Normal_Sperm\\aug_Normal_Sperm (979).bmp\n",
      "Saved: C:\\Users\\User\\Documents\\sperm_project\\SMIDS\\Normal_Sperm\\aug_Normal_Sperm (98).bmp\n",
      "Saved: C:\\Users\\User\\Documents\\sperm_project\\SMIDS\\Normal_Sperm\\aug_Normal_Sperm (980).bmp\n",
      "Saved: C:\\Users\\User\\Documents\\sperm_project\\SMIDS\\Normal_Sperm\\aug_Normal_Sperm (981).bmp\n",
      "Saved: C:\\Users\\User\\Documents\\sperm_project\\SMIDS\\Normal_Sperm\\aug_Normal_Sperm (982).bmp\n",
      "Saved: C:\\Users\\User\\Documents\\sperm_project\\SMIDS\\Normal_Sperm\\aug_Normal_Sperm (983).bmp\n",
      "Saved: C:\\Users\\User\\Documents\\sperm_project\\SMIDS\\Normal_Sperm\\aug_Normal_Sperm (984).bmp\n",
      "Saved: C:\\Users\\User\\Documents\\sperm_project\\SMIDS\\Normal_Sperm\\aug_Normal_Sperm (985).bmp\n",
      "Saved: C:\\Users\\User\\Documents\\sperm_project\\SMIDS\\Normal_Sperm\\aug_Normal_Sperm (986).bmp\n",
      "Saved: C:\\Users\\User\\Documents\\sperm_project\\SMIDS\\Normal_Sperm\\aug_Normal_Sperm (987).bmp\n",
      "Saved: C:\\Users\\User\\Documents\\sperm_project\\SMIDS\\Normal_Sperm\\aug_Normal_Sperm (988).bmp\n",
      "Saved: C:\\Users\\User\\Documents\\sperm_project\\SMIDS\\Normal_Sperm\\aug_Normal_Sperm (989).bmp\n",
      "Saved: C:\\Users\\User\\Documents\\sperm_project\\SMIDS\\Normal_Sperm\\aug_Normal_Sperm (99).bmp\n",
      "Saved: C:\\Users\\User\\Documents\\sperm_project\\SMIDS\\Normal_Sperm\\aug_Normal_Sperm (990).bmp\n",
      "Saved: C:\\Users\\User\\Documents\\sperm_project\\SMIDS\\Normal_Sperm\\aug_Normal_Sperm (991).bmp\n",
      "Saved: C:\\Users\\User\\Documents\\sperm_project\\SMIDS\\Normal_Sperm\\aug_Normal_Sperm (992).bmp\n",
      "Saved: C:\\Users\\User\\Documents\\sperm_project\\SMIDS\\Normal_Sperm\\aug_Normal_Sperm (993).bmp\n",
      "Saved: C:\\Users\\User\\Documents\\sperm_project\\SMIDS\\Normal_Sperm\\aug_Normal_Sperm (994).bmp\n",
      "Saved: C:\\Users\\User\\Documents\\sperm_project\\SMIDS\\Normal_Sperm\\aug_Normal_Sperm (995).bmp\n",
      "Saved: C:\\Users\\User\\Documents\\sperm_project\\SMIDS\\Normal_Sperm\\aug_Normal_Sperm (996).bmp\n",
      "Saved: C:\\Users\\User\\Documents\\sperm_project\\SMIDS\\Normal_Sperm\\aug_Normal_Sperm (997).bmp\n"
     ]
    },
    {
     "name": "stderr",
     "output_type": "stream",
     "text": [
      "Augmenting Normal_Sperm: 100%|██████████| 1021/1021 [00:19<00:00, 51.61it/s] "
     ]
    },
    {
     "name": "stdout",
     "output_type": "stream",
     "text": [
      "Saved: C:\\Users\\User\\Documents\\sperm_project\\SMIDS\\Normal_Sperm\\aug_Normal_Sperm (998).bmp\n",
      "Saved: C:\\Users\\User\\Documents\\sperm_project\\SMIDS\\Normal_Sperm\\aug_Normal_Sperm (999).bmp\n",
      "Augmentation completed.\n"
     ]
    },
    {
     "name": "stderr",
     "output_type": "stream",
     "text": [
      "\n"
     ]
    }
   ],
   "source": [
    "import os\n",
    "import cv2\n",
    "import numpy as np\n",
    "import albumentations as A\n",
    "from tqdm import tqdm\n",
    "\n",
    "# Define augmentation pipeline\n",
    "augmentations = A.Compose([\n",
    "    A.HorizontalFlip(p=0.5),\n",
    "    A.RandomBrightnessContrast(p=0.5),\n",
    "    A.ShiftScaleRotate(shift_limit=0.1, scale_limit=0.1, rotate_limit=15, p=0.5),\n",
    "    A.GaussianBlur(p=0.3),\n",
    "    A.GaussNoise(p=0.3)\n",
    "])\n",
    "\n",
    "# Dataset paths\n",
    "dataset_path = r\"C:\\Users\\User\\Documents\\sperm_project\\SMIDS\"\n",
    "categories = [\"Abnormal_Sperm\", \"Non-Sperm\", \"Normal_Sperm\"]\n",
    "\n",
    "for category in categories:\n",
    "    category_path = os.path.join(dataset_path, category)\n",
    "    if not os.path.exists(category_path):\n",
    "        print(f\"Error: {category_path} does not exist!\")\n",
    "        continue\n",
    "    \n",
    "    images = [f for f in os.listdir(category_path) if f.lower().endswith(('.jpg', '.png', '.jpeg', '.bmp', '.tiff'))]\n",
    "    \n",
    "    if not images:\n",
    "        print(f\"No images found in {category_path}\")\n",
    "        continue\n",
    "    \n",
    "    print(f\"Processing {len(images)} images in {category_path}...\")\n",
    "\n",
    "    for img_name in tqdm(images, desc=f\"Augmenting {category}\"):\n",
    "        img_path = os.path.join(category_path, img_name)\n",
    "        \n",
    "        try:\n",
    "            # Load image\n",
    "            img = cv2.imread(img_path)\n",
    "            if img is None:\n",
    "                print(f\"Warning: Could not load {img_name}\")\n",
    "                continue\n",
    "            \n",
    "            img = cv2.cvtColor(img, cv2.COLOR_BGR2RGB)\n",
    "            \n",
    "            # Apply augmentation\n",
    "            augmented = augmentations(image=img)[\"image\"]\n",
    "            \n",
    "            # Save augmented image\n",
    "            save_name = f\"aug_{img_name}\"\n",
    "            save_path = os.path.join(category_path, save_name)\n",
    "            cv2.imwrite(save_path, cv2.cvtColor(augmented, cv2.COLOR_RGB2BGR))\n",
    "            \n",
    "            print(f\"Saved: {save_path}\")\n",
    "\n",
    "        except Exception as e:..\n",
    "            print(f\"Error processing {img_name}: {e}\")\n",
    "\n",
    "print(\"Augmentation completed.\")\n"
   ]
  },
  {
   "cell_type": "code",
   "execution_count": null,
   "metadata": {},
   "outputs": [],
   "source": [
    "# Applies data augmentation (flipping, brightness/contrast, rotation, blur, noise) to images\n",
    "# for each category in the dataset: Abnormal_Sperm, Non-Sperm, Normal_Sperm.\n",
    "# Augmented images are saved with a new name in the same folder."
   ]
  },
  {
   "cell_type": "markdown",
   "metadata": {},
   "source": [
    "**Image Preprocessing**"
   ]
  },
  {
   "cell_type": "code",
   "execution_count": 9,
   "metadata": {},
   "outputs": [
    {
     "name": "stdout",
     "output_type": "stream",
     "text": [
      "Processing 2010 images in Abnormal_Sperm...\n",
      "Preprocessing completed for Abnormal_Sperm.\n",
      "Processing 1948 images in Non-Sperm...\n",
      "Preprocessing completed for Non-Sperm.\n",
      "Processing 2042 images in Normal_Sperm...\n",
      "Preprocessing completed for Normal_Sperm.\n",
      "All images preprocessed successfully!\n"
     ]
    }
   ],
   "source": [
    "import os\n",
    "import cv2\n",
    "import numpy as np\n",
    "\n",
    "# Dataset path\n",
    "dataset_path = r\"C:\\Users\\User\\Documents\\sperm_project\\SMIDS\"\n",
    "\n",
    "# Class folders\n",
    "classes = [\"Abnormal_Sperm\", \"Non-Sperm\", \"Normal_Sperm\"]\n",
    "\n",
    "# Target image size\n",
    "IMG_SIZE = (256, 256)\n",
    "\n",
    "def preprocess_image(img_path):\n",
    "    \"\"\"Load, resize, normalize, and convert BMP images to JPG if needed.\"\"\"\n",
    "    try:\n",
    "        img = cv2.imread(img_path)\n",
    "\n",
    "        if img is None:\n",
    "            print(f\"Skipping corrupted file: {img_path}\")\n",
    "            return False  # Skip unreadable images\n",
    "\n",
    "        # Resize image\n",
    "        img = cv2.resize(img, IMG_SIZE)\n",
    "\n",
    "        # Normalize pixel values (0 to 1)\n",
    "        img = img / 255.0\n",
    "\n",
    "        # Convert back for saving (0-255)\n",
    "        img = (img * 255).astype(np.uint8)\n",
    "\n",
    "        # Change file format if BMP (convert to JPG)\n",
    "        if img_path.lower().endswith('.bmp'):\n",
    "            new_path = img_path.replace('.bmp', '.jpg')\n",
    "        else:\n",
    "            new_path = img_path  # Keep original format\n",
    "\n",
    "        cv2.imwrite(new_path, img)\n",
    "\n",
    "        # Remove BMP file after conversion\n",
    "        if img_path.lower().endswith('.bmp'):\n",
    "            os.remove(img_path)\n",
    "\n",
    "        return True  # Success\n",
    "    except Exception as e:\n",
    "        print(f\"Error processing {img_path}: {e}\")\n",
    "        return False\n",
    "\n",
    "def preprocess_all_images():\n",
    "    \"\"\"Process all images in each class folder.\"\"\"\n",
    "    for class_name in classes:\n",
    "        class_path = os.path.join(dataset_path, class_name)\n",
    "\n",
    "        if not os.path.exists(class_path):\n",
    "            print(f\"Folder not found: {class_path}\")\n",
    "            continue\n",
    "\n",
    "        # Get all image files (including BMP)\n",
    "        images = [f for f in os.listdir(class_path) if f.lower().endswith(('.png', '.jpg', '.jpeg', '.bmp'))]\n",
    "\n",
    "        if not images:\n",
    "            print(f\"No images found in {class_path}!\")\n",
    "            continue\n",
    "\n",
    "        print(f\"Processing {len(images)} images in {class_name}...\")\n",
    "\n",
    "        for img_name in images:\n",
    "            img_path = os.path.join(class_path, img_name)\n",
    "            preprocess_image(img_path)  # Overwrites the original file or converts BMP to JPG\n",
    "\n",
    "        print(f\"Preprocessing completed for {class_name}.\")\n",
    "\n",
    "    print(\"All images preprocessed successfully!\")\n",
    "\n",
    "# Run preprocessing\n",
    "preprocess_all_images()\n"
   ]
  },
  {
   "cell_type": "code",
   "execution_count": null,
   "metadata": {},
   "outputs": [],
   "source": [
    "# Preprocesses all images in the dataset:\n",
    "# - Resizes to 256x256\n",
    "# - Normalizes pixel values\n",
    "# - Converts BMP files to JPG (and deletes original BMPs)"
   ]
  },
  {
   "cell_type": "markdown",
   "metadata": {},
   "source": [
    "**Train-Test Split**"
   ]
  },
  {
   "cell_type": "code",
   "execution_count": 10,
   "metadata": {},
   "outputs": [
    {
     "name": "stdout",
     "output_type": "stream",
     "text": [
      "🔄 Splitting 2010 images from Abnormal_Sperm -> 1608 train / 402 test\n",
      "🔄 Splitting 1948 images from Non-Sperm -> 1558 train / 390 test\n",
      "🔄 Splitting 2042 images from Normal_Sperm -> 1633 train / 409 test\n",
      "✅ Train-Test split completed successfully!\n"
     ]
    }
   ],
   "source": [
    "import os\n",
    "import shutil\n",
    "import random\n",
    "\n",
    "# Dataset path\n",
    "dataset_path = r\"C:\\Users\\User\\Documents\\sperm_project\\SMIDS\"\n",
    "\n",
    "# Paths for train and test sets\n",
    "train_path = os.path.join(dataset_path, \"train\")\n",
    "test_path = os.path.join(dataset_path, \"test\")\n",
    "\n",
    "# Class folders\n",
    "classes = [\"Abnormal_Sperm\", \"Non-Sperm\", \"Normal_Sperm\"]\n",
    "\n",
    "# Train-Test split ratio\n",
    "TRAIN_RATIO = 0.8  # 80% train, 20% test\n",
    "\n",
    "# Create train and test folders\n",
    "for split_path in [train_path, test_path]:\n",
    "    for class_name in classes:\n",
    "        os.makedirs(os.path.join(split_path, class_name), exist_ok=True)\n",
    "\n",
    "def split_data():\n",
    "    \"\"\"Splits dataset into train and test sets.\"\"\"\n",
    "    for class_name in classes:\n",
    "        class_dir = os.path.join(dataset_path, class_name)\n",
    "        images = [f for f in os.listdir(class_dir) if f.lower().endswith(('.jpg', '.jpeg', '.png'))]\n",
    "\n",
    "        random.shuffle(images)\n",
    "\n",
    "        split_idx = int(len(images) * TRAIN_RATIO)\n",
    "        train_images = images[:split_idx]\n",
    "        test_images = images[split_idx:]\n",
    "\n",
    "        print(f\"🔄 Splitting {len(images)} images from {class_name} -> {len(train_images)} train / {len(test_images)} test\")\n",
    "\n",
    "        # Move images to train and test folders\n",
    "        for img_name in train_images:\n",
    "            shutil.move(os.path.join(class_dir, img_name), os.path.join(train_path, class_name, img_name))\n",
    "\n",
    "        for img_name in test_images:\n",
    "            shutil.move(os.path.join(class_dir, img_name), os.path.join(test_path, class_name, img_name))\n",
    "\n",
    "    print(\"✅ Train-Test split completed successfully!\")\n",
    "\n",
    "# Run train-test split\n",
    "split_data()\n"
   ]
  },
  {
   "cell_type": "code",
   "execution_count": null,
   "metadata": {},
   "outputs": [],
   "source": [
    "# Splits the dataset into training and testing sets (80/20 ratio) for each class.\n",
    "# Organizes the dataset into separate folders: /train/class_name/ and /test/class_name/.\n"
   ]
  },
  {
   "cell_type": "markdown",
   "metadata": {},
   "source": [
    "**Model Training**"
   ]
  },
  {
   "cell_type": "code",
   "execution_count": 7,
   "metadata": {},
   "outputs": [
    {
     "name": "stdout",
     "output_type": "stream",
     "text": [
      "Found 4321 images belonging to 3 classes.\n",
      "Found 478 images belonging to 3 classes.\n",
      "Found 1201 images belonging to 3 classes.\n",
      "\n",
      "🔹 Class Weights: {0: 0.9947053406998159, 1: 1.0266096459966738, 2: 0.9798185941043084}\n"
     ]
    },
    {
     "name": "stderr",
     "output_type": "stream",
     "text": [
      "c:\\Users\\User\\AppData\\Local\\Programs\\Python\\Python312\\Lib\\site-packages\\keras\\src\\layers\\convolutional\\base_conv.py:107: UserWarning: Do not pass an `input_shape`/`input_dim` argument to a layer. When using Sequential models, prefer using an `Input(shape)` object as the first layer in the model instead.\n",
      "  super().__init__(activity_regularizer=activity_regularizer, **kwargs)\n",
      "c:\\Users\\User\\AppData\\Local\\Programs\\Python\\Python312\\Lib\\site-packages\\keras\\src\\trainers\\data_adapters\\py_dataset_adapter.py:121: UserWarning: Your `PyDataset` class should call `super().__init__(**kwargs)` in its constructor. `**kwargs` can include `workers`, `use_multiprocessing`, `max_queue_size`. Do not pass these arguments to `fit()`, as they will be ignored.\n",
      "  self._warn_if_super_not_called()\n"
     ]
    },
    {
     "name": "stdout",
     "output_type": "stream",
     "text": [
      "Epoch 1/50\n",
      "\u001b[1m136/136\u001b[0m \u001b[32m━━━━━━━━━━━━━━━━━━━━\u001b[0m\u001b[37m\u001b[0m \u001b[1m234s\u001b[0m 2s/step - accuracy: 0.3781 - loss: 4.4270 - val_accuracy: 0.3410 - val_loss: 5.5281 - learning_rate: 1.0000e-04\n",
      "Epoch 2/50\n",
      "\u001b[1m136/136\u001b[0m \u001b[32m━━━━━━━━━━━━━━━━━━━━\u001b[0m\u001b[37m\u001b[0m \u001b[1m188s\u001b[0m 1s/step - accuracy: 0.4563 - loss: 2.3632 - val_accuracy: 0.3431 - val_loss: 5.1245 - learning_rate: 1.0000e-04\n",
      "Epoch 3/50\n",
      "\u001b[1m136/136\u001b[0m \u001b[32m━━━━━━━━━━━━━━━━━━━━\u001b[0m\u001b[37m\u001b[0m \u001b[1m188s\u001b[0m 1s/step - accuracy: 0.4771 - loss: 2.2735 - val_accuracy: 0.3891 - val_loss: 3.3884 - learning_rate: 1.0000e-04\n",
      "Epoch 4/50\n",
      "\u001b[1m136/136\u001b[0m \u001b[32m━━━━━━━━━━━━━━━━━━━━\u001b[0m\u001b[37m\u001b[0m \u001b[1m193s\u001b[0m 1s/step - accuracy: 0.5019 - loss: 2.2270 - val_accuracy: 0.5983 - val_loss: 2.0662 - learning_rate: 1.0000e-04\n",
      "Epoch 5/50\n",
      "\u001b[1m136/136\u001b[0m \u001b[32m━━━━━━━━━━━━━━━━━━━━\u001b[0m\u001b[37m\u001b[0m \u001b[1m196s\u001b[0m 1s/step - accuracy: 0.5223 - loss: 2.1747 - val_accuracy: 0.5460 - val_loss: 2.0763 - learning_rate: 1.0000e-04\n",
      "Epoch 6/50\n",
      "\u001b[1m136/136\u001b[0m \u001b[32m━━━━━━━━━━━━━━━━━━━━\u001b[0m\u001b[37m\u001b[0m \u001b[1m198s\u001b[0m 1s/step - accuracy: 0.5085 - loss: 2.1776 - val_accuracy: 0.5921 - val_loss: 2.0143 - learning_rate: 1.0000e-04\n",
      "Epoch 7/50\n",
      "\u001b[1m136/136\u001b[0m \u001b[32m━━━━━━━━━━━━━━━━━━━━\u001b[0m\u001b[37m\u001b[0m \u001b[1m198s\u001b[0m 1s/step - accuracy: 0.5163 - loss: 2.1279 - val_accuracy: 0.5397 - val_loss: 2.0273 - learning_rate: 1.0000e-04\n",
      "Epoch 8/50\n",
      "\u001b[1m136/136\u001b[0m \u001b[32m━━━━━━━━━━━━━━━━━━━━\u001b[0m\u001b[37m\u001b[0m \u001b[1m199s\u001b[0m 1s/step - accuracy: 0.5540 - loss: 2.0829 - val_accuracy: 0.6046 - val_loss: 1.9817 - learning_rate: 1.0000e-04\n",
      "Epoch 9/50\n",
      "\u001b[1m136/136\u001b[0m \u001b[32m━━━━━━━━━━━━━━━━━━━━\u001b[0m\u001b[37m\u001b[0m \u001b[1m197s\u001b[0m 1s/step - accuracy: 0.5475 - loss: 2.0636 - val_accuracy: 0.5962 - val_loss: 1.9011 - learning_rate: 1.0000e-04\n",
      "Epoch 10/50\n",
      "\u001b[1m136/136\u001b[0m \u001b[32m━━━━━━━━━━━━━━━━━━━━\u001b[0m\u001b[37m\u001b[0m \u001b[1m196s\u001b[0m 1s/step - accuracy: 0.5392 - loss: 2.0394 - val_accuracy: 0.6088 - val_loss: 1.8975 - learning_rate: 1.0000e-04\n",
      "Epoch 11/50\n",
      "\u001b[1m136/136\u001b[0m \u001b[32m━━━━━━━━━━━━━━━━━━━━\u001b[0m\u001b[37m\u001b[0m \u001b[1m195s\u001b[0m 1s/step - accuracy: 0.5543 - loss: 1.9982 - val_accuracy: 0.6172 - val_loss: 1.8453 - learning_rate: 1.0000e-04\n",
      "Epoch 12/50\n",
      "\u001b[1m136/136\u001b[0m \u001b[32m━━━━━━━━━━━━━━━━━━━━\u001b[0m\u001b[37m\u001b[0m \u001b[1m193s\u001b[0m 1s/step - accuracy: 0.5504 - loss: 1.9957 - val_accuracy: 0.5921 - val_loss: 2.1178 - learning_rate: 1.0000e-04\n",
      "Epoch 13/50\n",
      "\u001b[1m136/136\u001b[0m \u001b[32m━━━━━━━━━━━━━━━━━━━━\u001b[0m\u001b[37m\u001b[0m \u001b[1m196s\u001b[0m 1s/step - accuracy: 0.5532 - loss: 1.9347 - val_accuracy: 0.5921 - val_loss: 1.7955 - learning_rate: 1.0000e-04\n",
      "Epoch 14/50\n",
      "\u001b[1m136/136\u001b[0m \u001b[32m━━━━━━━━━━━━━━━━━━━━\u001b[0m\u001b[37m\u001b[0m \u001b[1m183s\u001b[0m 1s/step - accuracy: 0.5519 - loss: 1.9093 - val_accuracy: 0.5879 - val_loss: 1.7816 - learning_rate: 1.0000e-04\n",
      "Epoch 15/50\n",
      "\u001b[1m136/136\u001b[0m \u001b[32m━━━━━━━━━━━━━━━━━━━━\u001b[0m\u001b[37m\u001b[0m \u001b[1m183s\u001b[0m 1s/step - accuracy: 0.5602 - loss: 1.8894 - val_accuracy: 0.6192 - val_loss: 1.7558 - learning_rate: 1.0000e-04\n",
      "Epoch 16/50\n",
      "\u001b[1m136/136\u001b[0m \u001b[32m━━━━━━━━━━━━━━━━━━━━\u001b[0m\u001b[37m\u001b[0m \u001b[1m183s\u001b[0m 1s/step - accuracy: 0.5759 - loss: 1.8491 - val_accuracy: 0.5983 - val_loss: 1.7459 - learning_rate: 1.0000e-04\n",
      "Epoch 17/50\n",
      "\u001b[1m136/136\u001b[0m \u001b[32m━━━━━━━━━━━━━━━━━━━━\u001b[0m\u001b[37m\u001b[0m \u001b[1m183s\u001b[0m 1s/step - accuracy: 0.5661 - loss: 1.8179 - val_accuracy: 0.5983 - val_loss: 1.8069 - learning_rate: 1.0000e-04\n",
      "Epoch 18/50\n",
      "\u001b[1m136/136\u001b[0m \u001b[32m━━━━━━━━━━━━━━━━━━━━\u001b[0m\u001b[37m\u001b[0m \u001b[1m182s\u001b[0m 1s/step - accuracy: 0.5816 - loss: 1.7637 - val_accuracy: 0.6402 - val_loss: 1.6472 - learning_rate: 1.0000e-04\n",
      "Epoch 19/50\n",
      "\u001b[1m136/136\u001b[0m \u001b[32m━━━━━━━━━━━━━━━━━━━━\u001b[0m\u001b[37m\u001b[0m \u001b[1m182s\u001b[0m 1s/step - accuracy: 0.5701 - loss: 1.7628 - val_accuracy: 0.5816 - val_loss: 1.7123 - learning_rate: 1.0000e-04\n",
      "Epoch 20/50\n",
      "\u001b[1m136/136\u001b[0m \u001b[32m━━━━━━━━━━━━━━━━━━━━\u001b[0m\u001b[37m\u001b[0m \u001b[1m183s\u001b[0m 1s/step - accuracy: 0.5899 - loss: 1.7044 - val_accuracy: 0.6402 - val_loss: 1.6052 - learning_rate: 1.0000e-04\n",
      "Epoch 21/50\n",
      "\u001b[1m136/136\u001b[0m \u001b[32m━━━━━━━━━━━━━━━━━━━━\u001b[0m\u001b[37m\u001b[0m \u001b[1m183s\u001b[0m 1s/step - accuracy: 0.5879 - loss: 1.6763 - val_accuracy: 0.6548 - val_loss: 1.5906 - learning_rate: 1.0000e-04\n",
      "Epoch 22/50\n",
      "\u001b[1m136/136\u001b[0m \u001b[32m━━━━━━━━━━━━━━━━━━━━\u001b[0m\u001b[37m\u001b[0m \u001b[1m182s\u001b[0m 1s/step - accuracy: 0.5942 - loss: 1.6409 - val_accuracy: 0.6130 - val_loss: 1.6477 - learning_rate: 1.0000e-04\n",
      "Epoch 23/50\n",
      "\u001b[1m136/136\u001b[0m \u001b[32m━━━━━━━━━━━━━━━━━━━━\u001b[0m\u001b[37m\u001b[0m \u001b[1m182s\u001b[0m 1s/step - accuracy: 0.5812 - loss: 1.6056 - val_accuracy: 0.5879 - val_loss: 1.6139 - learning_rate: 1.0000e-04\n",
      "Epoch 24/50\n",
      "\u001b[1m136/136\u001b[0m \u001b[32m━━━━━━━━━━━━━━━━━━━━\u001b[0m\u001b[37m\u001b[0m \u001b[1m182s\u001b[0m 1s/step - accuracy: 0.6091 - loss: 1.5552 - val_accuracy: 0.6067 - val_loss: 1.5275 - learning_rate: 1.0000e-04\n",
      "Epoch 25/50\n",
      "\u001b[1m136/136\u001b[0m \u001b[32m━━━━━━━━━━━━━━━━━━━━\u001b[0m\u001b[37m\u001b[0m \u001b[1m183s\u001b[0m 1s/step - accuracy: 0.6136 - loss: 1.5367 - val_accuracy: 0.6339 - val_loss: 1.3984 - learning_rate: 1.0000e-04\n",
      "Epoch 26/50\n",
      "\u001b[1m136/136\u001b[0m \u001b[32m━━━━━━━━━━━━━━━━━━━━\u001b[0m\u001b[37m\u001b[0m \u001b[1m182s\u001b[0m 1s/step - accuracy: 0.6131 - loss: 1.4897 - val_accuracy: 0.6841 - val_loss: 1.3731 - learning_rate: 1.0000e-04\n",
      "Epoch 27/50\n",
      "\u001b[1m136/136\u001b[0m \u001b[32m━━━━━━━━━━━━━━━━━━━━\u001b[0m\u001b[37m\u001b[0m \u001b[1m183s\u001b[0m 1s/step - accuracy: 0.6180 - loss: 1.4793 - val_accuracy: 0.6883 - val_loss: 1.3665 - learning_rate: 1.0000e-04\n",
      "Epoch 28/50\n",
      "\u001b[1m136/136\u001b[0m \u001b[32m━━━━━━━━━━━━━━━━━━━━\u001b[0m\u001b[37m\u001b[0m \u001b[1m183s\u001b[0m 1s/step - accuracy: 0.6138 - loss: 1.4468 - val_accuracy: 0.7155 - val_loss: 1.3138 - learning_rate: 1.0000e-04\n",
      "Epoch 29/50\n",
      "\u001b[1m136/136\u001b[0m \u001b[32m━━━━━━━━━━━━━━━━━━━━\u001b[0m\u001b[37m\u001b[0m \u001b[1m183s\u001b[0m 1s/step - accuracy: 0.6173 - loss: 1.4152 - val_accuracy: 0.7134 - val_loss: 1.3424 - learning_rate: 1.0000e-04\n",
      "Epoch 30/50\n",
      "\u001b[1m136/136\u001b[0m \u001b[32m━━━━━━━━━━━━━━━━━━━━\u001b[0m\u001b[37m\u001b[0m \u001b[1m183s\u001b[0m 1s/step - accuracy: 0.6429 - loss: 1.3593 - val_accuracy: 0.7029 - val_loss: 1.2531 - learning_rate: 1.0000e-04\n",
      "Epoch 31/50\n",
      "\u001b[1m136/136\u001b[0m \u001b[32m━━━━━━━━━━━━━━━━━━━━\u001b[0m\u001b[37m\u001b[0m \u001b[1m182s\u001b[0m 1s/step - accuracy: 0.6444 - loss: 1.3434 - val_accuracy: 0.6569 - val_loss: 1.2924 - learning_rate: 1.0000e-04\n",
      "Epoch 32/50\n",
      "\u001b[1m136/136\u001b[0m \u001b[32m━━━━━━━━━━━━━━━━━━━━\u001b[0m\u001b[37m\u001b[0m \u001b[1m182s\u001b[0m 1s/step - accuracy: 0.6481 - loss: 1.3146 - val_accuracy: 0.7280 - val_loss: 1.1495 - learning_rate: 1.0000e-04\n",
      "Epoch 33/50\n",
      "\u001b[1m136/136\u001b[0m \u001b[32m━━━━━━━━━━━━━━━━━━━━\u001b[0m\u001b[37m\u001b[0m \u001b[1m182s\u001b[0m 1s/step - accuracy: 0.6624 - loss: 1.2643 - val_accuracy: 0.7197 - val_loss: 1.1713 - learning_rate: 1.0000e-04\n",
      "Epoch 34/50\n",
      "\u001b[1m136/136\u001b[0m \u001b[32m━━━━━━━━━━━━━━━━━━━━\u001b[0m\u001b[37m\u001b[0m \u001b[1m182s\u001b[0m 1s/step - accuracy: 0.6701 - loss: 1.2242 - val_accuracy: 0.7259 - val_loss: 1.1271 - learning_rate: 1.0000e-04\n",
      "Epoch 35/50\n",
      "\u001b[1m136/136\u001b[0m \u001b[32m━━━━━━━━━━━━━━━━━━━━\u001b[0m\u001b[37m\u001b[0m \u001b[1m184s\u001b[0m 1s/step - accuracy: 0.6676 - loss: 1.2092 - val_accuracy: 0.7531 - val_loss: 1.0937 - learning_rate: 1.0000e-04\n",
      "Epoch 36/50\n",
      "\u001b[1m136/136\u001b[0m \u001b[32m━━━━━━━━━━━━━━━━━━━━\u001b[0m\u001b[37m\u001b[0m \u001b[1m187s\u001b[0m 1s/step - accuracy: 0.6750 - loss: 1.1935 - val_accuracy: 0.7531 - val_loss: 1.0835 - learning_rate: 1.0000e-04\n",
      "Epoch 37/50\n",
      "\u001b[1m136/136\u001b[0m \u001b[32m━━━━━━━━━━━━━━━━━━━━\u001b[0m\u001b[37m\u001b[0m \u001b[1m187s\u001b[0m 1s/step - accuracy: 0.6891 - loss: 1.1591 - val_accuracy: 0.7155 - val_loss: 1.1380 - learning_rate: 1.0000e-04\n",
      "Epoch 38/50\n",
      "\u001b[1m136/136\u001b[0m \u001b[32m━━━━━━━━━━━━━━━━━━━━\u001b[0m\u001b[37m\u001b[0m \u001b[1m187s\u001b[0m 1s/step - accuracy: 0.6877 - loss: 1.1304 - val_accuracy: 0.7699 - val_loss: 1.0689 - learning_rate: 1.0000e-04\n",
      "Epoch 39/50\n",
      "\u001b[1m136/136\u001b[0m \u001b[32m━━━━━━━━━━━━━━━━━━━━\u001b[0m\u001b[37m\u001b[0m \u001b[1m186s\u001b[0m 1s/step - accuracy: 0.6999 - loss: 1.1305 - val_accuracy: 0.7992 - val_loss: 0.9800 - learning_rate: 1.0000e-04\n",
      "Epoch 40/50\n",
      "\u001b[1m136/136\u001b[0m \u001b[32m━━━━━━━━━━━━━━━━━━━━\u001b[0m\u001b[37m\u001b[0m \u001b[1m186s\u001b[0m 1s/step - accuracy: 0.7053 - loss: 1.1135 - val_accuracy: 0.7741 - val_loss: 0.9607 - learning_rate: 1.0000e-04\n",
      "Epoch 41/50\n",
      "\u001b[1m136/136\u001b[0m \u001b[32m━━━━━━━━━━━━━━━━━━━━\u001b[0m\u001b[37m\u001b[0m \u001b[1m186s\u001b[0m 1s/step - accuracy: 0.7234 - loss: 1.0535 - val_accuracy: 0.8013 - val_loss: 0.8897 - learning_rate: 1.0000e-04\n",
      "Epoch 42/50\n",
      "\u001b[1m136/136\u001b[0m \u001b[32m━━━━━━━━━━━━━━━━━━━━\u001b[0m\u001b[37m\u001b[0m \u001b[1m187s\u001b[0m 1s/step - accuracy: 0.7167 - loss: 1.0421 - val_accuracy: 0.7866 - val_loss: 0.9303 - learning_rate: 1.0000e-04\n",
      "Epoch 43/50\n",
      "\u001b[1m136/136\u001b[0m \u001b[32m━━━━━━━━━━━━━━━━━━━━\u001b[0m\u001b[37m\u001b[0m \u001b[1m186s\u001b[0m 1s/step - accuracy: 0.7166 - loss: 1.0473 - val_accuracy: 0.8013 - val_loss: 0.9098 - learning_rate: 1.0000e-04\n",
      "Epoch 44/50\n",
      "\u001b[1m136/136\u001b[0m \u001b[32m━━━━━━━━━━━━━━━━━━━━\u001b[0m\u001b[37m\u001b[0m \u001b[1m187s\u001b[0m 1s/step - accuracy: 0.7366 - loss: 0.9979 - val_accuracy: 0.8117 - val_loss: 0.8318 - learning_rate: 1.0000e-04\n",
      "Epoch 45/50\n",
      "\u001b[1m136/136\u001b[0m \u001b[32m━━━━━━━━━━━━━━━━━━━━\u001b[0m\u001b[37m\u001b[0m \u001b[1m186s\u001b[0m 1s/step - accuracy: 0.7410 - loss: 0.9887 - val_accuracy: 0.8054 - val_loss: 0.8521 - learning_rate: 1.0000e-04\n",
      "Epoch 46/50\n",
      "\u001b[1m136/136\u001b[0m \u001b[32m━━━━━━━━━━━━━━━━━━━━\u001b[0m\u001b[37m\u001b[0m \u001b[1m187s\u001b[0m 1s/step - accuracy: 0.7391 - loss: 0.9927 - val_accuracy: 0.8305 - val_loss: 0.8231 - learning_rate: 1.0000e-04\n",
      "Epoch 47/50\n",
      "\u001b[1m136/136\u001b[0m \u001b[32m━━━━━━━━━━━━━━━━━━━━\u001b[0m\u001b[37m\u001b[0m \u001b[1m187s\u001b[0m 1s/step - accuracy: 0.7562 - loss: 0.9369 - val_accuracy: 0.7490 - val_loss: 0.9813 - learning_rate: 1.0000e-04\n",
      "Epoch 48/50\n",
      "\u001b[1m136/136\u001b[0m \u001b[32m━━━━━━━━━━━━━━━━━━━━\u001b[0m\u001b[37m\u001b[0m \u001b[1m186s\u001b[0m 1s/step - accuracy: 0.7529 - loss: 0.9490 - val_accuracy: 0.8033 - val_loss: 0.8079 - learning_rate: 1.0000e-04\n",
      "Epoch 49/50\n",
      "\u001b[1m136/136\u001b[0m \u001b[32m━━━━━━━━━━━━━━━━━━━━\u001b[0m\u001b[37m\u001b[0m \u001b[1m186s\u001b[0m 1s/step - accuracy: 0.7625 - loss: 0.9169 - val_accuracy: 0.6506 - val_loss: 1.0760 - learning_rate: 1.0000e-04\n",
      "Epoch 50/50\n",
      "\u001b[1m136/136\u001b[0m \u001b[32m━━━━━━━━━━━━━━━━━━━━\u001b[0m\u001b[37m\u001b[0m \u001b[1m186s\u001b[0m 1s/step - accuracy: 0.7466 - loss: 0.9222 - val_accuracy: 0.7866 - val_loss: 0.8373 - learning_rate: 1.0000e-04\n",
      "\u001b[1m38/38\u001b[0m \u001b[32m━━━━━━━━━━━━━━━━━━━━\u001b[0m\u001b[37m\u001b[0m \u001b[1m9s\u001b[0m 230ms/step - accuracy: 0.7659 - loss: 0.9485\n",
      "\n",
      "✅ Test Accuracy: 0.7627\n",
      "\n",
      "✅ Model Training Completed and Saved!\n"
     ]
    }
   ],
   "source": [
    "import tensorflow as tf\n",
    "import os\n",
    "from tensorflow.keras.preprocessing.image import ImageDataGenerator\n",
    "from tensorflow.keras.models import Sequential\n",
    "from tensorflow.keras.layers import Conv2D, MaxPooling2D, Flatten, Dense, Dropout, BatchNormalization\n",
    "from tensorflow.keras.optimizers import Adam\n",
    "from sklearn.utils.class_weight import compute_class_weight\n",
    "import numpy as np\n",
    "\n",
    "# Dataset Path\n",
    "dataset_path = r\"C:\\Users\\User\\Documents\\sperm_project\\SMIDS\"\n",
    "\n",
    "# Image size\n",
    "IMG_SIZE = (256, 256)\n",
    "BATCH_SIZE = 32\n",
    "EPOCHS = 50  # Fine-tuning with more epochs\n",
    "LEARNING_RATE = 0.0001  # Lower for better generalization\n",
    "\n",
    "# Define train and test directories\n",
    "train_dir = os.path.join(dataset_path, \"train\")\n",
    "test_dir = os.path.join(dataset_path, \"test\")\n",
    "\n",
    "# Augmented Data Generator (Advanced Augmentations)\n",
    "train_datagen = ImageDataGenerator(\n",
    "    rescale=1.0/255.0,\n",
    "    rotation_range=30,  # More rotation\n",
    "    width_shift_range=0.3,  # Increased shift\n",
    "    height_shift_range=0.3,\n",
    "    zoom_range=0.3,  # More zoom\n",
    "    horizontal_flip=True,\n",
    "    brightness_range=[0.8, 1.2],  # Brightness change\n",
    "    channel_shift_range=50.0,  # Color variation\n",
    "    fill_mode=\"nearest\",\n",
    "    validation_split=0.1  # 10% validation split\n",
    ")\n",
    "\n",
    "test_datagen = ImageDataGenerator(rescale=1.0/255.0)\n",
    "\n",
    "# Load Data\n",
    "train_data = train_datagen.flow_from_directory(\n",
    "    train_dir,\n",
    "    target_size=IMG_SIZE,\n",
    "    batch_size=BATCH_SIZE,\n",
    "    class_mode='categorical',\n",
    "    subset='training'\n",
    ")\n",
    "\n",
    "val_data = train_datagen.flow_from_directory(\n",
    "    train_dir,\n",
    "    target_size=IMG_SIZE,\n",
    "    batch_size=BATCH_SIZE,\n",
    "    class_mode='categorical',\n",
    "    subset='validation'\n",
    ")\n",
    "\n",
    "test_data = test_datagen.flow_from_directory(\n",
    "    test_dir,\n",
    "    target_size=IMG_SIZE,\n",
    "    batch_size=BATCH_SIZE,\n",
    "    class_mode='categorical'\n",
    ")\n",
    "\n",
    "# Compute class weights\n",
    "class_labels = list(train_data.class_indices.keys())\n",
    "num_classes = len(class_labels)\n",
    "y_train_labels = train_data.classes  \n",
    "class_weights = compute_class_weight(\n",
    "    class_weight=\"balanced\",\n",
    "    classes=np.unique(y_train_labels),\n",
    "    y=y_train_labels\n",
    ")\n",
    "class_weights = dict(enumerate(class_weights))\n",
    "print(\"\\n🔹 Class Weights:\", class_weights)\n",
    "\n",
    "# Improved CNN Model\n",
    "model = Sequential([\n",
    "    Conv2D(32, (3,3), activation='relu', padding='same', input_shape=(256, 256, 3), kernel_regularizer=tf.keras.regularizers.l2(0.002)),\n",
    "    BatchNormalization(),\n",
    "    MaxPooling2D(2,2),\n",
    "\n",
    "    Conv2D(64, (3,3), activation='relu', padding='same', kernel_regularizer=tf.keras.regularizers.l2(0.002)),\n",
    "    BatchNormalization(),\n",
    "    MaxPooling2D(2,2),\n",
    "\n",
    "    Conv2D(128, (3,3), activation='relu', padding='same', kernel_regularizer=tf.keras.regularizers.l2(0.002)),\n",
    "    BatchNormalization(),\n",
    "    MaxPooling2D(2,2),\n",
    "\n",
    "    Conv2D(256, (3,3), activation='relu', padding='same', kernel_regularizer=tf.keras.regularizers.l2(0.002)),\n",
    "    BatchNormalization(),\n",
    "    MaxPooling2D(2,2),\n",
    "\n",
    "    Conv2D(512, (3,3), activation='relu', padding='same', kernel_regularizer=tf.keras.regularizers.l2(0.002)),\n",
    "    BatchNormalization(),\n",
    "    MaxPooling2D(2,2),\n",
    "\n",
    "    Flatten(),\n",
    "    Dense(512, activation='relu'),\n",
    "    Dropout(0.6),  # Increased dropout to reduce overfitting\n",
    "    Dense(num_classes, activation='softmax')\n",
    "])\n",
    "\n",
    "# Compile Model\n",
    "model.compile(\n",
    "    optimizer=Adam(learning_rate=LEARNING_RATE),\n",
    "    loss='categorical_crossentropy',\n",
    "    metrics=['accuracy']\n",
    ")\n",
    "\n",
    "# Callbacks\n",
    "lr_scheduler = tf.keras.callbacks.ReduceLROnPlateau(\n",
    "    monitor=\"val_loss\",\n",
    "    patience=3,\n",
    "    factor=0.5,\n",
    "    min_lr=1e-6\n",
    ")\n",
    "early_stopping = tf.keras.callbacks.EarlyStopping(\n",
    "    monitor=\"val_loss\",\n",
    "    patience=5,\n",
    "    restore_best_weights=True\n",
    ")\n",
    "\n",
    "# Train Model with Class Weights\n",
    "history = model.fit(\n",
    "    train_data,\n",
    "    validation_data=val_data,\n",
    "    epochs=EPOCHS,\n",
    "    class_weight=class_weights,\n",
    "    callbacks=[lr_scheduler, early_stopping]\n",
    ")\n",
    "\n",
    "# Evaluate on test set\n",
    "test_loss, test_acc = model.evaluate(test_data)\n",
    "print(f\"\\n✅ Test Accuracy: {test_acc:.4f}\")\n",
    "\n",
    "# Save Model\n",
    "model.save(r\"C:\\Users\\User\\Documents\\sperm_project\\SMIDS\\_sperm_classification_.keras\")\n",
    "\n",
    "print(\"\\n✅ Model Training Completed and Saved!\")\n"
   ]
  },
  {
   "cell_type": "code",
   "execution_count": null,
   "metadata": {},
   "outputs": [],
   "source": [
    "# Loads the training and test images using ImageDataGenerator with augmentation.\n",
    "# Defines a deep CNN model with 5 convolutional layers and dropout.\n",
    "# Compiles and trains the model using class weights to balance class imbalance.\n",
    "# Applies callbacks like ReduceLROnPlateau and EarlyStopping.\n",
    "# Saves the trained model to disk.\n"
   ]
  },
  {
   "cell_type": "markdown",
   "metadata": {},
   "source": [
    "**Image Prediction**"
   ]
  },
  {
   "cell_type": "code",
   "execution_count": 4,
   "metadata": {},
   "outputs": [
    {
     "name": "stdout",
     "output_type": "stream",
     "text": [
      "\u001b[1m1/1\u001b[0m \u001b[32m━━━━━━━━━━━━━━━━━━━━\u001b[0m\u001b[37m\u001b[0m \u001b[1m0s\u001b[0m 214ms/step\n"
     ]
    },
    {
     "data": {
      "image/png": "[encoded data removed]",
      "text/plain": [
       "<Figure size 500x500 with 1 Axes>"
      ]
     },
     "metadata": {},
     "output_type": "display_data"
    },
    {
     "name": "stdout",
     "output_type": "stream",
     "text": [
      "🔹 Predicted Class: Non-Sperm (Confidence: 96.88%)\n",
      "🔹 Raw Output: [0.02556935 0.9688196  0.00561106]\n"
     ]
    }
   ],
   "source": [
    "import tensorflow as tf\n",
    "import numpy as np\n",
    "import cv2\n",
    "import os\n",
    "import matplotlib.pyplot as plt\n",
    "\n",
    "# Load Model\n",
    "model_path = r\"C:\\Users\\User\\Documents\\sperm_project\\SMIDS\\_sperm_classification_.keras\"\n",
    "model = tf.keras.models.load_model(model_path)\n",
    "\n",
    "# Class Labels (Same Order as Training)\n",
    "class_labels = [\"Abnormal_Sperm\", \"Non-Sperm\", \"Normal_Sperm\"]\n",
    "\n",
    "# Image Preprocessing Function\n",
    "def preprocess_image(image_path):\n",
    "    img = cv2.imread(image_path)  # Load image\n",
    "    img = cv2.cvtColor(img, cv2.COLOR_BGR2RGB)  # Convert to RGB\n",
    "    img = cv2.resize(img, (256, 256))  # Resize\n",
    "    img = img / 255.0  # Normalize\n",
    "    img = np.expand_dims(img, axis=0)  # Add batch dimension\n",
    "    return img\n",
    "\n",
    "# Prediction Function\n",
    "def predict_image(image_path):\n",
    "    image = preprocess_image(image_path)\n",
    "    prediction = model.predict(image)[0]  # Get first output\n",
    "    predicted_class = np.argmax(prediction)  # Get class index\n",
    "    confidence = prediction[predicted_class] * 100  # Convert to percentage\n",
    "    \n",
    "    # Display Results\n",
    "    plt.figure(figsize=(5, 5))\n",
    "    img = cv2.imread(image_path)\n",
    "    img = cv2.cvtColor(img, cv2.COLOR_BGR2RGB)\n",
    "    plt.imshow(img)\n",
    "    plt.axis(\"off\")\n",
    "    plt.title(f\"Prediction: {class_labels[predicted_class]}\\nConfidence: {confidence:.2f}%\")\n",
    "    plt.show()\n",
    "    \n",
    "    print(f\"🔹 Predicted Class: {class_labels[predicted_class]} (Confidence: {confidence:.2f}%)\")\n",
    "    print(f\"🔹 Raw Output: {prediction}\")\n",
    "\n",
    "# Test on a Real Image\n",
    "image_path = r\"C:\\Users\\User\\Documents\\sperm_project\\SMIDS\\train\\Non-Sperm\\aug_Non-Sperm (8).jpg\"  # Change to your test image\n",
    "predict_image(image_path)\n"
   ]
  },
  {
   "cell_type": "code",
   "execution_count": null,
   "metadata": {},
   "outputs": [],
   "source": [
    "# Loads the saved model.\n",
    "# Defines preprocessing and prediction functions for a new image.\n",
    "# Makes prediction on a given image and visualizes the result with confidence.\n"
   ]
  },
  {
   "cell_type": "code",
   "execution_count": 20,
   "metadata": {},
   "outputs": [
    {
     "name": "stdout",
     "output_type": "stream",
     "text": [
      "Found 1201 images belonging to 3 classes.\n",
      "Updated Test Data Shape: (256, 256, 3)\n",
      "WARNING:tensorflow:5 out of the last 5 calls to <function TensorFlowTrainer.make_predict_function.<locals>.one_step_on_data_distributed at 0x000002133D088F40> triggered tf.function retracing. Tracing is expensive and the excessive number of tracings could be due to (1) creating @tf.function repeatedly in a loop, (2) passing tensors with different shapes, (3) passing Python objects instead of tensors. For (1), please define your @tf.function outside of the loop. For (2), @tf.function has reduce_retracing=True option that can avoid unnecessary retracing. For (3), please refer to https://www.tensorflow.org/guide/function#controlling_retracing and https://www.tensorflow.org/api_docs/python/tf/function for  more details.\n",
      "\u001b[1m38/38\u001b[0m \u001b[32m━━━━━━━━━━━━━━━━━━━━\u001b[0m\u001b[37m\u001b[0m \u001b[1m13s\u001b[0m 320ms/step\n"
     ]
    },
    {
     "data": {
      "image/png": "[encoded data removed]",
      "text/plain": [
       "<Figure size 600x500 with 2 Axes>"
      ]
     },
     "metadata": {},
     "output_type": "display_data"
    },
    {
     "name": "stdout",
     "output_type": "stream",
     "text": [
      "                precision    recall  f1-score   support\n",
      "\n",
      "Abnormal_Sperm       0.81      0.55      0.66       402\n",
      "     Non-Sperm       0.97      0.79      0.87       390\n",
      "  Normal_Sperm       0.63      0.95      0.76       409\n",
      "\n",
      "      accuracy                           0.76      1201\n",
      "     macro avg       0.80      0.76      0.76      1201\n",
      "  weighted avg       0.80      0.76      0.76      1201\n",
      "\n"
     ]
    }
   ],
   "source": [
    "import numpy as np\n",
    "import matplotlib.pyplot as plt\n",
    "import seaborn as sns\n",
    "from tensorflow.keras.preprocessing.image import ImageDataGenerator\n",
    "from tensorflow.keras.models import load_model\n",
    "from sklearn.metrics import confusion_matrix, classification_report\n",
    "\n",
    "# ✅ Define test directory path\n",
    "test_dir = r\"C:\\Users\\User\\Documents\\sperm_project\\SMIDS\\test\"  # Ensure this path is correct\n",
    "\n",
    "IMG_SIZE = (256, 256)  # Ensure this matches your trained model\n",
    "BATCH_SIZE = 32\n",
    "\n",
    "test_datagen = ImageDataGenerator(rescale=1.0 / 255.0)\n",
    "test_data = test_datagen.flow_from_directory(\n",
    "    test_dir,\n",
    "    target_size=IMG_SIZE,  # Changed from (224, 224) to (256, 256)\n",
    "    batch_size=BATCH_SIZE,\n",
    "    class_mode=\"categorical\",\n",
    "    shuffle=False\n",
    ")\n",
    "\n",
    "# ✅ Recheck input shapes\n",
    "print(\"Updated Test Data Shape:\", test_data.image_shape)  # Should now be (256, 256, 3)\n",
    "\n",
    "# ✅ Load the trained model\n",
    "model_path = r\"C:\\Users\\User\\Documents\\sperm_project\\SMIDS\\_sperm_classification_.keras\"  # Update with correct path\n",
    "model = load_model(model_path)\n",
    "\n",
    "# ✅ Get True Labels & Predictions\n",
    "y_true = test_data.classes  # True labels\n",
    "y_pred_probs = model.predict(test_data)  # Model predictions (probabilities)\n",
    "y_pred = np.argmax(y_pred_probs, axis=1)  # Convert probabilities to class labels\n",
    "\n",
    "# ✅ Compute Confusion Matrix\n",
    "cm = confusion_matrix(y_true, y_pred)\n",
    "\n",
    "# ✅ Plot Confusion Matrix\n",
    "plt.figure(figsize=(6, 5))\n",
    "sns.heatmap(cm, annot=True, fmt=\"d\", cmap=\"Blues\", xticklabels=test_data.class_indices.keys(), yticklabels=test_data.class_indices.keys())\n",
    "plt.xlabel(\"Predicted Labels\")\n",
    "plt.ylabel(\"True Labels\")\n",
    "plt.title(\"Confusion Matrix\")\n",
    "plt.show()\n",
    "\n",
    "# ✅ Print Classification Report\n",
    "print(classification_report(y_true, y_pred, target_names=test_data.class_indices.keys()))\n"
   ]
  },
  {
   "cell_type": "code",
   "execution_count": 22,
   "metadata": {},
   "outputs": [
    {
     "name": "stdout",
     "output_type": "stream",
     "text": [
      "\u001b[1m38/38\u001b[0m \u001b[32m━━━━━━━━━━━━━━━━━━━━\u001b[0m\u001b[37m\u001b[0m \u001b[1m12s\u001b[0m 324ms/step\n",
      "🔹 **Test Accuracy: 0.7627**\n"
     ]
    }
   ],
   "source": [
    "from sklearn.metrics import accuracy_score\n",
    "\n",
    "# ✅ Get True Labels & Predictions\n",
    "y_true = test_data.classes  # True labels\n",
    "y_pred_probs = model.predict(test_data)  # Model predictions (probabilities)\n",
    "y_pred = np.argmax(y_pred_probs, axis=1)  # Convert probabilities to class labels\n",
    "\n",
    "# ✅ Compute Testing Accuracy\n",
    "test_accuracy = accuracy_score(y_true, y_pred)\n",
    "print(f\"🔹 **Test Accuracy: {test_accuracy:.4f}**\")\n"
   ]
  },
  {
   "cell_type": "code",
   "execution_count": 24,
   "metadata": {},
   "outputs": [
    {
     "name": "stdout",
     "output_type": "stream",
     "text": [
      "Found 4799 images belonging to 3 classes.\n"
     ]
    },
    {
     "name": "stderr",
     "output_type": "stream",
     "text": [
      "c:\\Users\\User\\AppData\\Local\\Programs\\Python\\Python312\\Lib\\site-packages\\keras\\src\\trainers\\data_adapters\\py_dataset_adapter.py:121: UserWarning: Your `PyDataset` class should call `super().__init__(**kwargs)` in its constructor. `**kwargs` can include `workers`, `use_multiprocessing`, `max_queue_size`. Do not pass these arguments to `fit()`, as they will be ignored.\n",
      "  self._warn_if_super_not_called()\n"
     ]
    },
    {
     "name": "stdout",
     "output_type": "stream",
     "text": [
      "\u001b[1m150/150\u001b[0m \u001b[32m━━━━━━━━━━━━━━━━━━━━\u001b[0m\u001b[37m\u001b[0m \u001b[1m49s\u001b[0m 324ms/step\n",
      "🔹 **Train Accuracy: 0.7581**\n"
     ]
    }
   ],
   "source": [
    "from tensorflow.keras.preprocessing.image import ImageDataGenerator\n",
    "from sklearn.metrics import accuracy_score\n",
    "\n",
    "# ✅ Define dataset path (update this with your actual train directory)\n",
    "train_dir = r\"C:\\Users\\User\\Documents\\sperm_project\\SMIDS\\train\"  # Ensure correct path\n",
    "\n",
    "# ✅ Load Training Data\n",
    "train_datagen = ImageDataGenerator(rescale=1.0 / 255.0)\n",
    "\n",
    "train_data = train_datagen.flow_from_directory(\n",
    "    train_dir,\n",
    "    target_size=(256, 256),  # Match the model input size\n",
    "    batch_size=32,\n",
    "    class_mode='categorical',\n",
    "    shuffle=False  # Ensure correct label alignment\n",
    ")\n",
    "\n",
    "# ✅ Get True Labels & Predictions for Training Data\n",
    "y_train_true = train_data.classes  # True labels\n",
    "y_train_probs = model.predict(train_data)  # Model predictions (probabilities)\n",
    "y_train_pred = np.argmax(y_train_probs, axis=1)  # Convert probabilities to class labels\n",
    "\n",
    "# ✅ Compute Training Accuracy\n",
    "train_accuracy = accuracy_score(y_train_true, y_train_pred)\n",
    "print(f\"🔹 **Train Accuracy: {train_accuracy:.4f}**\")\n"
   ]
  },
  {
   "cell_type": "code",
   "execution_count": 25,
   "metadata": {},
   "outputs": [
    {
     "name": "stdout",
     "output_type": "stream",
     "text": [
      "🔹 Train Accuracy: 0.7581\n",
      "🔹 Test Accuracy: 0.7627\n"
     ]
    }
   ],
   "source": [
    "print(f\"🔹 Train Accuracy: {train_accuracy:.4f}\")\n",
    "print(f\"🔹 Test Accuracy: {test_accuracy:.4f}\")\n"
   ]
  },
  {
   "cell_type": "markdown",
   "metadata": {},
   "source": [
    "Project Report:"
   ]
  },
  {
   "cell_type": "markdown",
   "metadata": {},
   "source": [
    "Sperm Cell Image Classification Using CNN\n",
    "\n",
    "Abstract\n",
    "\n",
    "This project involves the classification of sperm cell images into categories such as Normal,\n",
    "Abnormal, and Non-Sperm using Convolutional Neural Networks (CNN). The workflow includes data\n",
    "preprocessing, augmentation, model training, evaluation, and prediction on new images.\n",
    "\n",
    "Introduction\n",
    "\n",
    "Accurate classification of sperm cells is vital in fertility analysis and medical diagnostics. This project\n",
    "uses a deep learning approach with CNN to automate the identification and classification of sperm\n",
    "images.\n",
    "\n",
    "Dataset\n",
    "\n",
    "The dataset comprises three classes of sperm-related images: Abnormal_Sperm, Normal_Sperm,\n",
    "and Non_Sperm. Images were resized to 256x256 pixels and converted from BMP to JPG where\n",
    "needed.\n",
    "\n",
    "Preprocessing\n",
    "\n",
    "The dataset was augmented using random transformations such as flipping, brightness/contrast\n",
    "adjustments, rotation, Gaussian blur, and noise addition. Augmentation helps the model generalize\n",
    "better to unseen data. The data was then split into 80% training and 20% testing subsets.\n",
    "\n",
    "Model\n",
    "\n",
    "A CNN architecture with five convolutional layers, max pooling, dropout layers, and dense layers\n",
    "was used. The model was compiled with categorical crossentropy and Adam optimizer. Callbacks\n",
    "like ReduceLROnPlateau and EarlyStopping were applied to enhance training efficiency.\n",
    "\n",
    "Training\n",
    "\n",
    "The model was trained using ImageDataGenerator to handle data augmentation during training.\n",
    "Training was conducted with balanced class weights to address class imbalance in the dataset.\n",
    "\n",
    "Results\n",
    "\n",
    "The model achieved high classification accuracy on the test dataset. Performance was evaluated\n",
    "using classification metrics and visualized using prediction confidence.\n",
    "\n",
    "Prediction\n",
    "\n",
    "A function was created to preprocess and predict new images using the trained model. Predicted\n",
    "results were displayed along with the model's confidence score.\n",
    "\n",
    "Conclusion\n",
    "\n",
    "This deep learning approach successfully classifies sperm cell images with good accuracy and\n",
    "generalization. It demonstrates the potential of CNNs in biomedical image classification tasks.\n",
    "\n",
    "Future\n",
    "\n",
    "Future improvements could include hyperparameter tuning, transfer learning with pre-trained\n",
    "models, and deployment as a web application for real-time sperm analysis"
   ]
  }
 ],
 "metadata": {
  "kernelspec": {
   "display_name": "Python 3",
   "language": "python",
   "name": "python3"
  },
  "language_info": {
   "codemirror_mode": {
    "name": "ipython",
    "version": 3
   },
   "file_extension": ".py",
   "mimetype": "text/x-python",
   "name": "python",
   "nbconvert_exporter": "python",
   "pygments_lexer": "ipython3",
   "version": "3.12.4"
  }
 },
 "nbformat": 4,
 "nbformat_minor": 2
}
